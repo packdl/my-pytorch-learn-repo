{
 "cells": [
  {
   "cell_type": "markdown",
   "metadata": {},
   "source": [
    "DNN - Dense layers\n",
    "CNN - Convolutional neural network\n",
    "\n",
    "# 1-1 - \n",
    "## rank of input x from 0 to 2pi. \n",
    "Do not need to set the # of parameters equal, just close.\n",
    "\n",
    "First figure is training loss\n",
    "2nd figure is prediction of each model\n",
    "\n",
    "Import MNIST or CIFAR-10 from Torch vision. Use either CNN or DNN. Show loss and accuracy. Comment on results & show observservations\n",
    "\n",
    "# 1-2\n",
    "- Collect parameters of the models - Grab from every layer - Collect and put into 1 dimensional feaure than reduce to a feature with only 2 numbers\n",
    "- Look up PCA\n",
    "- FIgiure out how to compute second order optimization method ex: Newton's method or Levenberg-Marquardt algorithm"
   ]
  },
  {
   "cell_type": "markdown",
   "metadata": {},
   "source": [
    "# Homework 1-1"
   ]
  },
  {
   "cell_type": "markdown",
   "metadata": {},
   "source": [
    "## 1-1 Training on a function"
   ]
  },
  {
   "cell_type": "code",
   "execution_count": 1,
   "metadata": {},
   "outputs": [],
   "source": [
    "# Imports of Pytorch and matplotlib and other supporting modules\n",
    " \n",
    "import math\n",
    "\n",
    "import matplotlib.pyplot as plt\n",
    "import torch\n",
    "from torch import nn\n",
    "from torch.utils.data import TensorDataset, DataLoader\n"
   ]
  },
  {
   "cell_type": "markdown",
   "metadata": {},
   "source": [
    "### Utility functions"
   ]
  },
  {
   "cell_type": "code",
   "execution_count": 2,
   "metadata": {},
   "outputs": [],
   "source": [
    "# Setting default device\n",
    "\n",
    "if torch.cuda.is_available():\n",
    "    device = 'cuda'\n",
    "elif torch.backends.mps.is_available():\n",
    "    device = 'mps'\n",
    "else:\n",
    "    device = 'cpu'\n",
    "\n",
    "f'{device} is available'\n",
    "\n",
    "dtype = torch.float\n",
    "torch.set_default_device(device)\n",
    "\n",
    "def train_loop(dataloader, model, loss_fn, optimize, epoch):\n",
    "    \"\"\"Training loop funciton for non-linear function\"\"\"\n",
    "    model.train()\n",
    "    training_loss = 0\n",
    "    num_batches = len(dataloader)\n",
    "    for batch, (X, y) in enumerate(dataloader):\n",
    "        y_pred = model(X)\n",
    "        y_pred = y_pred.unsqueeze(1)\n",
    "        loss = loss_fn(y_pred, y)\n",
    "        training_loss+=loss.item()\n",
    "\n",
    "        loss.backward()\n",
    "        optimize.step()\n",
    "        optimize.zero_grad()\n",
    "  \n",
    "    training_loss /= num_batches\n",
    "    return training_loss\n",
    "\n",
    "def val_loop(dataloader, model, loss_fn, epoch):\n",
    "    \"\"\"Eval loop function for non-linear function\"\"\"\n",
    "    model.eval()\n",
    "    size= len(dataloader.dataset)\n",
    "    num_batches = len(dataloader)\n",
    "    test_loss, correct = 0,0\n",
    "\n",
    "    with torch.no_grad():\n",
    "        for X,y in dataloader:\n",
    "            y_pred = model(X)\n",
    "            y_pred = y_pred.unsqueeze(1)\n",
    "            test_loss += loss_fn(y_pred, y).item()\n",
    "            correct +=(y_pred.argmax(1) == y).type(torch.float).sum().item()\n",
    "    \n",
    "    test_loss /= num_batches\n",
    "    correct /=size\n",
    "\n",
    "    #if epoch % 100 == 0:\n",
    "    #    display(f\"Accuracy: {(100*correct)}%, Avg loss: {test_loss}\")\n",
    "\n",
    "    return test_loss\n",
    "\n",
    "def cnt_model_params(model):\n",
    "    \"\"\"Count model parameters\"\"\"\n",
    "    count = 0\n",
    "    with torch.no_grad():\n",
    "        for param in model.parameters():\n",
    "            count+=param.numel()\n",
    "    return count\n",
    "\n",
    "def display_model_info(model_name, model):\n",
    "    \"\"\" Display model information\"\"\"\n",
    "    count = 0\n",
    "    for module in model.modules():\n",
    "        if isinstance(module, nn.Module):\n",
    "            count+=1\n",
    "    display(model)\n",
    "    display(f\"{model_name}. parameters: {cnt_model_params(model)}\")"
   ]
  },
  {
   "cell_type": "markdown",
   "metadata": {},
   "source": [
    "### Creating models"
   ]
  },
  {
   "cell_type": "code",
   "execution_count": 3,
   "metadata": {},
   "outputs": [
    {
     "data": {
      "text/plain": [
       "CosNetwork(\n",
       "  (flatten): Flatten(start_dim=1, end_dim=-1)\n",
       "  (linear_relu_stack): Sequential(\n",
       "    (0): Linear(in_features=1, out_features=128, bias=True)\n",
       "    (1): ReLU()\n",
       "    (2): Linear(in_features=128, out_features=12, bias=True)\n",
       "    (3): ReLU()\n",
       "    (4): Linear(in_features=12, out_features=1, bias=True)\n",
       "    (5): Flatten(start_dim=0, end_dim=1)\n",
       "  )\n",
       ")"
      ]
     },
     "metadata": {},
     "output_type": "display_data"
    },
    {
     "data": {
      "text/plain": [
       "'cos_model1. parameters: 1817'"
      ]
     },
     "metadata": {},
     "output_type": "display_data"
    },
    {
     "data": {
      "text/plain": [
       "CosNetwork2(\n",
       "  (flatten): Flatten(start_dim=1, end_dim=-1)\n",
       "  (linear_relu_stack): Sequential(\n",
       "    (0): Linear(in_features=1, out_features=453, bias=True)\n",
       "    (1): ReLU()\n",
       "    (2): Linear(in_features=453, out_features=2, bias=True)\n",
       "    (3): ReLU()\n",
       "    (4): Linear(in_features=2, out_features=1, bias=True)\n",
       "    (5): Flatten(start_dim=0, end_dim=1)\n",
       "  )\n",
       ")"
      ]
     },
     "metadata": {},
     "output_type": "display_data"
    },
    {
     "data": {
      "text/plain": [
       "'cos_model2. parameters: 1817'"
      ]
     },
     "metadata": {},
     "output_type": "display_data"
    },
    {
     "data": {
      "text/plain": [
       "CosNetwork3(\n",
       "  (flatten): Flatten(start_dim=1, end_dim=-1)\n",
       "  (linear_relu_stack): Sequential(\n",
       "    (0): Linear(in_features=1, out_features=20, bias=True)\n",
       "    (1): ReLU()\n",
       "    (2): Linear(in_features=20, out_features=20, bias=True)\n",
       "    (3): ReLU()\n",
       "    (4): Linear(in_features=20, out_features=20, bias=True)\n",
       "    (5): ReLU()\n",
       "    (6): Linear(in_features=20, out_features=14, bias=True)\n",
       "    (7): ReLU()\n",
       "    (8): Linear(in_features=14, out_features=12, bias=True)\n",
       "    (9): ReLU()\n",
       "    (10): Linear(in_features=12, out_features=10, bias=True)\n",
       "    (11): ReLU()\n",
       "    (12): Linear(in_features=10, out_features=10, bias=True)\n",
       "    (13): ReLU()\n",
       "    (14): Linear(in_features=10, out_features=10, bias=True)\n",
       "    (15): ReLU()\n",
       "    (16): Linear(in_features=10, out_features=9, bias=True)\n",
       "    (17): ReLU()\n",
       "    (18): Linear(in_features=9, out_features=1, bias=True)\n",
       "    (19): ReLU()\n",
       "    (20): Linear(in_features=1, out_features=1, bias=True)\n",
       "    (21): Flatten(start_dim=0, end_dim=1)\n",
       "  )\n",
       ")"
      ]
     },
     "metadata": {},
     "output_type": "display_data"
    },
    {
     "data": {
      "text/plain": [
       "'cos_model3. parameters: 1815'"
      ]
     },
     "metadata": {},
     "output_type": "display_data"
    }
   ],
   "source": [
    "class CosNetwork(nn.Module):\n",
    "        \"\"\"First DNN for Cosine function\"\"\"\n",
    "        def __init__(self):\n",
    "            super().__init__()\n",
    "            self.flatten = nn.Flatten()\n",
    "            self.linear_relu_stack = nn.Sequential(\n",
    "                nn.Linear(1, 128),\n",
    "                nn.ReLU(),\n",
    "                nn.Linear(128, 12),\n",
    "                nn.ReLU(),\n",
    "                nn.Linear(12, 1),\n",
    "                torch.nn.Flatten(0,1)\n",
    "            )\n",
    "        \n",
    "        def forward(self, x):\n",
    "              logits = self.linear_relu_stack(x)\n",
    "              return logits\n",
    "        \n",
    "class CosNetwork2(nn.Module):\n",
    "        \"\"\"second DNN for Cosine function\"\"\"\n",
    "        def __init__(self):\n",
    "            super().__init__()\n",
    "            self.flatten = nn.Flatten()\n",
    "            self.linear_relu_stack = nn.Sequential(\n",
    "                nn.Linear(1, 453),\n",
    "                nn.ReLU(),\n",
    "                nn.Linear(453, 2),\n",
    "                nn.ReLU(),\n",
    "                nn.Linear(2,1),\n",
    "                torch.nn.Flatten(0,1)\n",
    "            )\n",
    "        \n",
    "        def forward(self, x):\n",
    "              #x=self.flatten(x)\n",
    "              logits = self.linear_relu_stack(x)\n",
    "              return logits\n",
    "\n",
    "class CosNetwork3(nn.Module):\n",
    "        \"\"\"Third DNN for Cosine function\"\"\"\n",
    "        def __init__(self):\n",
    "            super().__init__()\n",
    "            self.flatten = nn.Flatten()\n",
    "            self.linear_relu_stack = nn.Sequential(\n",
    "                nn.Linear(1, 20),\n",
    "                nn.ReLU(),\n",
    "                nn.Linear(20, 20),\n",
    "                nn.ReLU(),\n",
    "                nn.Linear(20, 20),\n",
    "                nn.ReLU(),\n",
    "                nn.Linear(20, 14),\n",
    "                nn.ReLU(),\n",
    "                nn.Linear(14, 12),\n",
    "                nn.ReLU(),\n",
    "                nn.Linear(12, 10),\n",
    "                nn.ReLU(),\n",
    "                nn.Linear(10, 10),\n",
    "                nn.ReLU(),\n",
    "                nn.Linear(10,10),\n",
    "                nn.ReLU(),\n",
    "                nn.Linear(10, 9),\n",
    "                nn.ReLU(),\n",
    "                nn.Linear(9, 1),\n",
    "                nn.ReLU(),\n",
    "                nn.Linear(1,1),\n",
    "                torch.nn.Flatten(0,1)\n",
    "            )\n",
    "        \n",
    "        def forward(self, x):\n",
    "              logits = self.linear_relu_stack(x)\n",
    "              return logits\n",
    "        \n",
    "\n",
    "cos_model1, cos_model2, cos_model3 = CosNetwork(), CosNetwork2(), CosNetwork3()\n",
    "\n",
    "display_model_info(\"cos_model1\", cos_model1)\n",
    "display_model_info(\"cos_model2\", cos_model2)\n",
    "display_model_info(\"cos_model3\", cos_model3)\n"
   ]
  },
  {
   "cell_type": "markdown",
   "metadata": {},
   "source": [
    "### Training & Testing Loop"
   ]
  },
  {
   "cell_type": "code",
   "execution_count": 4,
   "metadata": {},
   "outputs": [
    {
     "data": {
      "text/plain": [
       "'Training & eval: cos1 model'"
      ]
     },
     "metadata": {},
     "output_type": "display_data"
    },
    {
     "data": {
      "text/plain": [
       "'Epoch 0. Train loss: 0.6311407109722496. Test loss: 0.5652262927033007.'"
      ]
     },
     "metadata": {},
     "output_type": "display_data"
    },
    {
     "data": {
      "text/plain": [
       "'Epoch 10. Train loss: 0.3483307351823896. Test loss: 0.3359779455699027.'"
      ]
     },
     "metadata": {},
     "output_type": "display_data"
    },
    {
     "data": {
      "text/plain": [
       "'Epoch 20. Train loss: 0.20718436692841352. Test loss: 0.19710376348812134.'"
      ]
     },
     "metadata": {},
     "output_type": "display_data"
    },
    {
     "data": {
      "text/plain": [
       "'Epoch 30. Train loss: 0.09531569802202285. Test loss: 0.08964844719739631.'"
      ]
     },
     "metadata": {},
     "output_type": "display_data"
    },
    {
     "data": {
      "text/plain": [
       "'Epoch 40. Train loss: 0.03651435566134751. Test loss: 0.034175001020776107.'"
      ]
     },
     "metadata": {},
     "output_type": "display_data"
    },
    {
     "data": {
      "text/plain": [
       "'Epoch 50. Train loss: 0.014764486672356724. Test loss: 0.013697452141786925.'"
      ]
     },
     "metadata": {},
     "output_type": "display_data"
    },
    {
     "data": {
      "text/plain": [
       "'Epoch 60. Train loss: 0.00835490394529188. Test loss: 0.007606790516365436.'"
      ]
     },
     "metadata": {},
     "output_type": "display_data"
    },
    {
     "data": {
      "text/plain": [
       "'Epoch 70. Train loss: 0.006337022194566088. Test loss: 0.0056728099607425975.'"
      ]
     },
     "metadata": {},
     "output_type": "display_data"
    },
    {
     "data": {
      "text/plain": [
       "'Epoch 80. Train loss: 0.005500994532121694. Test loss: 0.004872382261964958.'"
      ]
     },
     "metadata": {},
     "output_type": "display_data"
    },
    {
     "data": {
      "text/plain": [
       "'Epoch 90. Train loss: 0.005036678825126728. Test loss: 0.0044284976393100806.'"
      ]
     },
     "metadata": {},
     "output_type": "display_data"
    },
    {
     "data": {
      "text/plain": [
       "'Epoch 100. Train loss: 0.004713657021056861. Test loss: 0.004122032201485127.'"
      ]
     },
     "metadata": {},
     "output_type": "display_data"
    },
    {
     "data": {
      "text/plain": [
       "'Epoch 110. Train loss: 0.004462904516913113. Test loss: 0.003886892539594555.'"
      ]
     },
     "metadata": {},
     "output_type": "display_data"
    },
    {
     "data": {
      "text/plain": [
       "'Epoch 120. Train loss: 0.004259427966098883. Test loss: 0.0036979079797674784.'"
      ]
     },
     "metadata": {},
     "output_type": "display_data"
    },
    {
     "data": {
      "text/plain": [
       "'Epoch 130. Train loss: 0.004090766563786019. Test loss: 0.003542471648324863.'"
      ]
     },
     "metadata": {},
     "output_type": "display_data"
    },
    {
     "data": {
      "text/plain": [
       "'Epoch 140. Train loss: 0.003949419877608306. Test loss: 0.003412935648520943.'"
      ]
     },
     "metadata": {},
     "output_type": "display_data"
    },
    {
     "data": {
      "text/plain": [
       "'Epoch 150. Train loss: 0.003829569054687454. Test loss: 0.003303697567025665.'"
      ]
     },
     "metadata": {},
     "output_type": "display_data"
    },
    {
     "data": {
      "text/plain": [
       "'Epoch 160. Train loss: 0.0037266574561726886. Test loss: 0.0032104096592775024.'"
      ]
     },
     "metadata": {},
     "output_type": "display_data"
    },
    {
     "data": {
      "text/plain": [
       "'Epoch 170. Train loss: 0.003637383086424961. Test loss: 0.0031299015377953764.'"
      ]
     },
     "metadata": {},
     "output_type": "display_data"
    },
    {
     "data": {
      "text/plain": [
       "'Epoch 180. Train loss: 0.0035591629471582566. Test loss: 0.0030597147241678614.'"
      ]
     },
     "metadata": {},
     "output_type": "display_data"
    },
    {
     "data": {
      "text/plain": [
       "'Epoch 190. Train loss: 0.0034899852602393367. Test loss: 0.0029979371282934154.'"
      ]
     },
     "metadata": {},
     "output_type": "display_data"
    },
    {
     "data": {
      "text/plain": [
       "'Epoch 200. Train loss: 0.0034281121285857806. Test loss: 0.00294293681417912.'"
      ]
     },
     "metadata": {},
     "output_type": "display_data"
    },
    {
     "data": {
      "text/plain": [
       "'Epoch 210. Train loss: 0.00337257850928836. Test loss: 0.002893776828159389.'"
      ]
     },
     "metadata": {},
     "output_type": "display_data"
    },
    {
     "data": {
      "text/plain": [
       "'Epoch 220. Train loss: 0.003322511050282628. Test loss: 0.0028496269390416275.'"
      ]
     },
     "metadata": {},
     "output_type": "display_data"
    },
    {
     "data": {
      "text/plain": [
       "'Epoch 230. Train loss: 0.0032766696052931366. Test loss: 0.00280936660833504.'"
      ]
     },
     "metadata": {},
     "output_type": "display_data"
    },
    {
     "data": {
      "text/plain": [
       "'Epoch 240. Train loss: 0.003234412263145714. Test loss: 0.0027723953789973166.'"
      ]
     },
     "metadata": {},
     "output_type": "display_data"
    },
    {
     "data": {
      "text/plain": [
       "'Epoch 250. Train loss: 0.003195229681841738. Test loss: 0.002738235688002533.'"
      ]
     },
     "metadata": {},
     "output_type": "display_data"
    },
    {
     "data": {
      "text/plain": [
       "'Epoch 260. Train loss: 0.003158699883169902. Test loss: 0.0027064930411597743.'"
      ]
     },
     "metadata": {},
     "output_type": "display_data"
    },
    {
     "data": {
      "text/plain": [
       "'Epoch 270. Train loss: 0.003124453556847584. Test loss: 0.0026768229874505776.'"
      ]
     },
     "metadata": {},
     "output_type": "display_data"
    },
    {
     "data": {
      "text/plain": [
       "'Epoch 280. Train loss: 0.0030921813903660223. Test loss: 0.0026489415366995673.'"
      ]
     },
     "metadata": {},
     "output_type": "display_data"
    },
    {
     "data": {
      "text/plain": [
       "'Epoch 290. Train loss: 0.003061605316815985. Test loss: 0.0026226060037515707.'"
      ]
     },
     "metadata": {},
     "output_type": "display_data"
    },
    {
     "data": {
      "text/plain": [
       "'Epoch 300. Train loss: 0.003032569624883763. Test loss: 0.0025976508426538204.'"
      ]
     },
     "metadata": {},
     "output_type": "display_data"
    },
    {
     "data": {
      "text/plain": [
       "'Epoch 310. Train loss: 0.003004823946048418. Test loss: 0.002573863201723725.'"
      ]
     },
     "metadata": {},
     "output_type": "display_data"
    },
    {
     "data": {
      "text/plain": [
       "'Epoch 320. Train loss: 0.0029782104036712555. Test loss: 0.002551106780083501.'"
      ]
     },
     "metadata": {},
     "output_type": "display_data"
    },
    {
     "data": {
      "text/plain": [
       "'Epoch 330. Train loss: 0.002952609435578779. Test loss: 0.0025292616970091332.'"
      ]
     },
     "metadata": {},
     "output_type": "display_data"
    },
    {
     "data": {
      "text/plain": [
       "'Epoch 340. Train loss: 0.002927875768409649. Test loss: 0.002508209230563807.'"
      ]
     },
     "metadata": {},
     "output_type": "display_data"
    },
    {
     "data": {
      "text/plain": [
       "'Epoch 350. Train loss: 0.002903961806532607. Test loss: 0.0024878899430405.'"
      ]
     },
     "metadata": {},
     "output_type": "display_data"
    },
    {
     "data": {
      "text/plain": [
       "'Epoch 360. Train loss: 0.0028807553830120015. Test loss: 0.0024682124465016386.'"
      ]
     },
     "metadata": {},
     "output_type": "display_data"
    },
    {
     "data": {
      "text/plain": [
       "'Epoch 370. Train loss: 0.0028582630958226217. Test loss: 0.002449151399468974.'"
      ]
     },
     "metadata": {},
     "output_type": "display_data"
    },
    {
     "data": {
      "text/plain": [
       "'Epoch 380. Train loss: 0.002836444742661115. Test loss: 0.0024306638299549377.'"
      ]
     },
     "metadata": {},
     "output_type": "display_data"
    },
    {
     "data": {
      "text/plain": [
       "'Epoch 390. Train loss: 0.002815238164021139. Test loss: 0.002412686193565605.'"
      ]
     },
     "metadata": {},
     "output_type": "display_data"
    },
    {
     "data": {
      "text/plain": [
       "'Epoch 400. Train loss: 0.002794594850638532. Test loss: 0.00239519041724634.'"
      ]
     },
     "metadata": {},
     "output_type": "display_data"
    },
    {
     "data": {
      "text/plain": [
       "'Epoch 410. Train loss: 0.0027744825440095154. Test loss: 0.0023781412701737283.'"
      ]
     },
     "metadata": {},
     "output_type": "display_data"
    },
    {
     "data": {
      "text/plain": [
       "'Epoch 420. Train loss: 0.0027548559324714005. Test loss: 0.0023614944117980484.'"
      ]
     },
     "metadata": {},
     "output_type": "display_data"
    },
    {
     "data": {
      "text/plain": [
       "'Epoch 430. Train loss: 0.0027356958219570517. Test loss: 0.002345245273659202.'"
      ]
     },
     "metadata": {},
     "output_type": "display_data"
    },
    {
     "data": {
      "text/plain": [
       "'Epoch 440. Train loss: 0.0027169665620021986. Test loss: 0.0023293545039450693.'"
      ]
     },
     "metadata": {},
     "output_type": "display_data"
    },
    {
     "data": {
      "text/plain": [
       "'Epoch 450. Train loss: 0.0026986199849034164. Test loss: 0.0023137824689001716.'"
      ]
     },
     "metadata": {},
     "output_type": "display_data"
    },
    {
     "data": {
      "text/plain": [
       "'Epoch 460. Train loss: 0.002680660543273916. Test loss: 0.0022985386770415063.'"
      ]
     },
     "metadata": {},
     "output_type": "display_data"
    },
    {
     "data": {
      "text/plain": [
       "'Epoch 470. Train loss: 0.002663067295225119. Test loss: 0.002283603225737352.'"
      ]
     },
     "metadata": {},
     "output_type": "display_data"
    },
    {
     "data": {
      "text/plain": [
       "'Epoch 480. Train loss: 0.002645813589606405. Test loss: 0.0022689431320713992.'"
      ]
     },
     "metadata": {},
     "output_type": "display_data"
    },
    {
     "data": {
      "text/plain": [
       "'Epoch 490. Train loss: 0.002628889776383403. Test loss: 0.002254558457525491.'"
      ]
     },
     "metadata": {},
     "output_type": "display_data"
    },
    {
     "data": {
      "text/plain": [
       "'Epoch 500. Train loss: 0.0026122661077124577. Test loss: 0.002240433159749955.'"
      ]
     },
     "metadata": {},
     "output_type": "display_data"
    },
    {
     "data": {
      "text/plain": [
       "'Epoch 510. Train loss: 0.002595951827652243. Test loss: 0.002226556366031218.'"
      ]
     },
     "metadata": {},
     "output_type": "display_data"
    },
    {
     "data": {
      "text/plain": [
       "'Epoch 520. Train loss: 0.002579916258355297. Test loss: 0.0022129177154965873.'"
      ]
     },
     "metadata": {},
     "output_type": "display_data"
    },
    {
     "data": {
      "text/plain": [
       "'Epoch 530. Train loss: 0.002564150027183132. Test loss: 0.0021995012037905326.'"
      ]
     },
     "metadata": {},
     "output_type": "display_data"
    },
    {
     "data": {
      "text/plain": [
       "'Epoch 540. Train loss: 0.0025486443819772832. Test loss: 0.002186304320639465.'"
      ]
     },
     "metadata": {},
     "output_type": "display_data"
    },
    {
     "data": {
      "text/plain": [
       "'Epoch 550. Train loss: 0.0025333920885714178. Test loss: 0.0021733192932515523.'"
      ]
     },
     "metadata": {},
     "output_type": "display_data"
    },
    {
     "data": {
      "text/plain": [
       "'Epoch 560. Train loss: 0.0025183850507346506. Test loss: 0.00216053890017065.'"
      ]
     },
     "metadata": {},
     "output_type": "display_data"
    },
    {
     "data": {
      "text/plain": [
       "'Epoch 570. Train loss: 0.002503606215759646. Test loss: 0.002147950898779527.'"
      ]
     },
     "metadata": {},
     "output_type": "display_data"
    },
    {
     "data": {
      "text/plain": [
       "'Epoch 580. Train loss: 0.0024890584432341713. Test loss: 0.0021355546259201217.'"
      ]
     },
     "metadata": {},
     "output_type": "display_data"
    },
    {
     "data": {
      "text/plain": [
       "'Epoch 590. Train loss: 0.0024747217260028265. Test loss: 0.002123338321871415.'"
      ]
     },
     "metadata": {},
     "output_type": "display_data"
    },
    {
     "data": {
      "text/plain": [
       "'Epoch 600. Train loss: 0.0024605999746199815. Test loss: 0.0021112990451456425.'"
      ]
     },
     "metadata": {},
     "output_type": "display_data"
    },
    {
     "data": {
      "text/plain": [
       "'Epoch 610. Train loss: 0.0024466825683703065. Test loss: 0.0020994319813326.'"
      ]
     },
     "metadata": {},
     "output_type": "display_data"
    },
    {
     "data": {
      "text/plain": [
       "'Epoch 620. Train loss: 0.002432956663596997. Test loss: 0.0020877295676655196.'"
      ]
     },
     "metadata": {},
     "output_type": "display_data"
    },
    {
     "data": {
      "text/plain": [
       "'Epoch 630. Train loss: 0.0024194299045120714. Test loss: 0.002076191801825189.'"
      ]
     },
     "metadata": {},
     "output_type": "display_data"
    },
    {
     "data": {
      "text/plain": [
       "'Epoch 640. Train loss: 0.0024060863928752952. Test loss: 0.0020648072992571543.'"
      ]
     },
     "metadata": {},
     "output_type": "display_data"
    },
    {
     "data": {
      "text/plain": [
       "'Epoch 650. Train loss: 0.0023929249783122943. Test loss: 0.002053574847559503.'"
      ]
     },
     "metadata": {},
     "output_type": "display_data"
    },
    {
     "data": {
      "text/plain": [
       "'Epoch 660. Train loss: 0.0023799237135335716. Test loss: 0.0020424861626452185.'"
      ]
     },
     "metadata": {},
     "output_type": "display_data"
    },
    {
     "data": {
      "text/plain": [
       "'Epoch 670. Train loss: 0.0023671042824389586. Test loss: 0.002031541652104352.'"
      ]
     },
     "metadata": {},
     "output_type": "display_data"
    },
    {
     "data": {
      "text/plain": [
       "'Epoch 680. Train loss: 0.0023544411452803616. Test loss: 0.002020735607629831.'"
      ]
     },
     "metadata": {},
     "output_type": "display_data"
    },
    {
     "data": {
      "text/plain": [
       "'Epoch 690. Train loss: 0.0023419420601385353. Test loss: 0.0020100647780054715.'"
      ]
     },
     "metadata": {},
     "output_type": "display_data"
    },
    {
     "data": {
      "text/plain": [
       "'Epoch 700. Train loss: 0.002329594828825066. Test loss: 0.001999518715956583.'"
      ]
     },
     "metadata": {},
     "output_type": "display_data"
    },
    {
     "data": {
      "text/plain": [
       "'Epoch 710. Train loss: 0.002317403167944576. Test loss: 0.001989103766027256.'"
      ]
     },
     "metadata": {},
     "output_type": "display_data"
    },
    {
     "data": {
      "text/plain": [
       "'Epoch 720. Train loss: 0.0023053445919231307. Test loss: 0.001978812760398796.'"
      ]
     },
     "metadata": {},
     "output_type": "display_data"
    },
    {
     "data": {
      "text/plain": [
       "'Epoch 730. Train loss: 0.0022934300238375725. Test loss: 0.001968637076788582.'"
      ]
     },
     "metadata": {},
     "output_type": "display_data"
    },
    {
     "data": {
      "text/plain": [
       "'Epoch 740. Train loss: 0.0022816651224729866. Test loss: 0.001958582163160827.'"
      ]
     },
     "metadata": {},
     "output_type": "display_data"
    },
    {
     "data": {
      "text/plain": [
       "'Epoch 750. Train loss: 0.0022700254577557645. Test loss: 0.0019486390235215368.'"
      ]
     },
     "metadata": {},
     "output_type": "display_data"
    },
    {
     "data": {
      "text/plain": [
       "'Epoch 760. Train loss: 0.0022585255219837565. Test loss: 0.001938812984553806.'"
      ]
     },
     "metadata": {},
     "output_type": "display_data"
    },
    {
     "data": {
      "text/plain": [
       "'Epoch 770. Train loss: 0.0022471421988939254. Test loss: 0.0019290915794954345.'"
      ]
     },
     "metadata": {},
     "output_type": "display_data"
    },
    {
     "data": {
      "text/plain": [
       "'Epoch 780. Train loss: 0.002235888741506642. Test loss: 0.0019194740393686516.'"
      ]
     },
     "metadata": {},
     "output_type": "display_data"
    },
    {
     "data": {
      "text/plain": [
       "'Epoch 790. Train loss: 0.0022247652279929753. Test loss: 0.0019099643997833482.'"
      ]
     },
     "metadata": {},
     "output_type": "display_data"
    },
    {
     "data": {
      "text/plain": [
       "'Epoch 800. Train loss: 0.002213741579771522. Test loss: 0.0019005479390443725.'"
      ]
     },
     "metadata": {},
     "output_type": "display_data"
    },
    {
     "data": {
      "text/plain": [
       "'Epoch 810. Train loss: 0.0022028401304851285. Test loss: 0.0018912335837285355.'"
      ]
     },
     "metadata": {},
     "output_type": "display_data"
    },
    {
     "data": {
      "text/plain": [
       "'Epoch 820. Train loss: 0.002192055215596156. Test loss: 0.0018820100145603646.'"
      ]
     },
     "metadata": {},
     "output_type": "display_data"
    },
    {
     "data": {
      "text/plain": [
       "'Epoch 830. Train loss: 0.00218137008728263. Test loss: 0.0018728804991724247.'"
      ]
     },
     "metadata": {},
     "output_type": "display_data"
    },
    {
     "data": {
      "text/plain": [
       "'Epoch 840. Train loss: 0.0021707944819354453. Test loss: 0.001863837307155336.'"
      ]
     },
     "metadata": {},
     "output_type": "display_data"
    },
    {
     "data": {
      "text/plain": [
       "'Epoch 850. Train loss: 0.0021603116611004225. Test loss: 0.0018548800626831507.'"
      ]
     },
     "metadata": {},
     "output_type": "display_data"
    },
    {
     "data": {
      "text/plain": [
       "'Epoch 860. Train loss: 0.002149938638740423. Test loss: 0.0018460101635355386.'"
      ]
     },
     "metadata": {},
     "output_type": "display_data"
    },
    {
     "data": {
      "text/plain": [
       "'Epoch 870. Train loss: 0.002139663743787423. Test loss: 0.0018372196636164517.'"
      ]
     },
     "metadata": {},
     "output_type": "display_data"
    },
    {
     "data": {
      "text/plain": [
       "'Epoch 880. Train loss: 0.002129481475026296. Test loss: 0.0018285142414697475.'"
      ]
     },
     "metadata": {},
     "output_type": "display_data"
    },
    {
     "data": {
      "text/plain": [
       "'Epoch 890. Train loss: 0.0021193962393567744. Test loss: 0.001819891493914838.'"
      ]
     },
     "metadata": {},
     "output_type": "display_data"
    },
    {
     "data": {
      "text/plain": [
       "'Epoch 900. Train loss: 0.00210940238407602. Test loss: 0.0018113376305791463.'"
      ]
     },
     "metadata": {},
     "output_type": "display_data"
    },
    {
     "data": {
      "text/plain": [
       "'Epoch 910. Train loss: 0.002099494629896981. Test loss: 0.0018028619772167075.'"
      ]
     },
     "metadata": {},
     "output_type": "display_data"
    },
    {
     "data": {
      "text/plain": [
       "'Epoch 920. Train loss: 0.002089670521934295. Test loss: 0.0017944603811884008.'"
      ]
     },
     "metadata": {},
     "output_type": "display_data"
    },
    {
     "data": {
      "text/plain": [
       "'Epoch 930. Train loss: 0.002079942931709411. Test loss: 0.0017861330828850442.'"
      ]
     },
     "metadata": {},
     "output_type": "display_data"
    },
    {
     "data": {
      "text/plain": [
       "'Epoch 940. Train loss: 0.002070291355221343. Test loss: 0.001777875396373929.'"
      ]
     },
     "metadata": {},
     "output_type": "display_data"
    },
    {
     "data": {
      "text/plain": [
       "'Epoch 950. Train loss: 0.002060725810929398. Test loss: 0.0017696898231633895.'"
      ]
     },
     "metadata": {},
     "output_type": "display_data"
    },
    {
     "data": {
      "text/plain": [
       "'Epoch 960. Train loss: 0.0020512395101491164. Test loss: 0.0017615762781588273.'"
      ]
     },
     "metadata": {},
     "output_type": "display_data"
    },
    {
     "data": {
      "text/plain": [
       "'Epoch 970. Train loss: 0.0020418316292989402. Test loss: 0.0017535257279632788.'"
      ]
     },
     "metadata": {},
     "output_type": "display_data"
    },
    {
     "data": {
      "text/plain": [
       "'Epoch 980. Train loss: 0.002032506724765426. Test loss: 0.0017455418617146278.'"
      ]
     },
     "metadata": {},
     "output_type": "display_data"
    },
    {
     "data": {
      "text/plain": [
       "'Epoch 990. Train loss: 0.002023251316279584. Test loss: 0.001737618705578825.'"
      ]
     },
     "metadata": {},
     "output_type": "display_data"
    },
    {
     "data": {
      "text/plain": [
       "'Epoch 1000. Train loss: 0.0020140712740840173. Test loss: 0.001729761726653578.'"
      ]
     },
     "metadata": {},
     "output_type": "display_data"
    },
    {
     "data": {
      "text/plain": [
       "'Epoch 1010. Train loss: 0.0020049618912537427. Test loss: 0.0017219665635423097.'"
      ]
     },
     "metadata": {},
     "output_type": "display_data"
    },
    {
     "data": {
      "text/plain": [
       "'Epoch 1020. Train loss: 0.0019959249902967713. Test loss: 0.0017142317053242095.'"
      ]
     },
     "metadata": {},
     "output_type": "display_data"
    },
    {
     "data": {
      "text/plain": [
       "'Epoch 1030. Train loss: 0.001986966702571635. Test loss: 0.0017065591378582212.'"
      ]
     },
     "metadata": {},
     "output_type": "display_data"
    },
    {
     "data": {
      "text/plain": [
       "'Epoch 1040. Train loss: 0.001978065968410192. Test loss: 0.001698938275802675.'"
      ]
     },
     "metadata": {},
     "output_type": "display_data"
    },
    {
     "data": {
      "text/plain": [
       "'Epoch 1050. Train loss: 0.001969231058137666. Test loss: 0.001691378487669226.'"
      ]
     },
     "metadata": {},
     "output_type": "display_data"
    },
    {
     "data": {
      "text/plain": [
       "'Epoch 1060. Train loss: 0.001960462326860579. Test loss: 0.00168387200707798.'"
      ]
     },
     "metadata": {},
     "output_type": "display_data"
    },
    {
     "data": {
      "text/plain": [
       "'Epoch 1070. Train loss: 0.0019517567593709372. Test loss: 0.0016764203503896625.'"
      ]
     },
     "metadata": {},
     "output_type": "display_data"
    },
    {
     "data": {
      "text/plain": [
       "'Epoch 1080. Train loss: 0.0019431196421123786. Test loss: 0.0016690259140659692.'"
      ]
     },
     "metadata": {},
     "output_type": "display_data"
    },
    {
     "data": {
      "text/plain": [
       "'Epoch 1090. Train loss: 0.001934539289152326. Test loss: 0.0016616827919051502.'"
      ]
     },
     "metadata": {},
     "output_type": "display_data"
    },
    {
     "data": {
      "text/plain": [
       "'Epoch 1100. Train loss: 0.0019260247057388824. Test loss: 0.0016543947816558102.'"
      ]
     },
     "metadata": {},
     "output_type": "display_data"
    },
    {
     "data": {
      "text/plain": [
       "'Epoch 1110. Train loss: 0.0019175739254990276. Test loss: 0.001647152926079798.'"
      ]
     },
     "metadata": {},
     "output_type": "display_data"
    },
    {
     "data": {
      "text/plain": [
       "'Epoch 1120. Train loss: 0.001909178037425363. Test loss: 0.0016399657914973886.'"
      ]
     },
     "metadata": {},
     "output_type": "display_data"
    },
    {
     "data": {
      "text/plain": [
       "'Epoch 1130. Train loss: 0.0019008387328341314. Test loss: 0.00163282781277303.'"
      ]
     },
     "metadata": {},
     "output_type": "display_data"
    },
    {
     "data": {
      "text/plain": [
       "'Epoch 1140. Train loss: 0.001892556188886374. Test loss: 0.001625737711617603.'"
      ]
     },
     "metadata": {},
     "output_type": "display_data"
    },
    {
     "data": {
      "text/plain": [
       "'Epoch 1150. Train loss: 0.0018843275141023242. Test loss: 0.001618694122373654.'"
      ]
     },
     "metadata": {},
     "output_type": "display_data"
    },
    {
     "data": {
      "text/plain": [
       "'Epoch 1160. Train loss: 0.001876157768322173. Test loss: 0.0016117001483451077.'"
      ]
     },
     "metadata": {},
     "output_type": "display_data"
    },
    {
     "data": {
      "text/plain": [
       "'Epoch 1170. Train loss: 0.001868039322698678. Test loss: 0.001604750936110122.'"
      ]
     },
     "metadata": {},
     "output_type": "display_data"
    },
    {
     "data": {
      "text/plain": [
       "'Epoch 1180. Train loss: 0.001859972852963665. Test loss: 0.0015978448445480354.'"
      ]
     },
     "metadata": {},
     "output_type": "display_data"
    },
    {
     "data": {
      "text/plain": [
       "'Epoch 1190. Train loss: 0.0018519592034749622. Test loss: 0.0015909850900868606.'"
      ]
     },
     "metadata": {},
     "output_type": "display_data"
    },
    {
     "data": {
      "text/plain": [
       "'Epoch 1200. Train loss: 0.0018440014407758553. Test loss: 0.0015841743791440877.'"
      ]
     },
     "metadata": {},
     "output_type": "display_data"
    },
    {
     "data": {
      "text/plain": [
       "'Epoch 1210. Train loss: 0.0018360913438982608. Test loss: 0.0015774052541019045.'"
      ]
     },
     "metadata": {},
     "output_type": "display_data"
    },
    {
     "data": {
      "text/plain": [
       "'Epoch 1220. Train loss: 0.0018282360589978452. Test loss: 0.001570679103576822.'"
      ]
     },
     "metadata": {},
     "output_type": "display_data"
    },
    {
     "data": {
      "text/plain": [
       "'Epoch 1230. Train loss: 0.0018204286563445748. Test loss: 0.0015639961764236433.'"
      ]
     },
     "metadata": {},
     "output_type": "display_data"
    },
    {
     "data": {
      "text/plain": [
       "'Epoch 1240. Train loss: 0.0018126676021324784. Test loss: 0.0015573557396066917.'"
      ]
     },
     "metadata": {},
     "output_type": "display_data"
    },
    {
     "data": {
      "text/plain": [
       "'Epoch 1250. Train loss: 0.0018049590141743011. Test loss: 0.0015507568482433954.'"
      ]
     },
     "metadata": {},
     "output_type": "display_data"
    },
    {
     "data": {
      "text/plain": [
       "'Epoch 1260. Train loss: 0.001797294871869326. Test loss: 0.0015441979613513013.'"
      ]
     },
     "metadata": {},
     "output_type": "display_data"
    },
    {
     "data": {
      "text/plain": [
       "'Epoch 1270. Train loss: 0.0017896789989777062. Test loss: 0.0015376761726940912.'"
      ]
     },
     "metadata": {},
     "output_type": "display_data"
    },
    {
     "data": {
      "text/plain": [
       "'Epoch 1280. Train loss: 0.0017821079966893194. Test loss: 0.0015311966306398972.'"
      ]
     },
     "metadata": {},
     "output_type": "display_data"
    },
    {
     "data": {
      "text/plain": [
       "'Epoch 1290. Train loss: 0.001774581821615584. Test loss: 0.0015247555933115108.'"
      ]
     },
     "metadata": {},
     "output_type": "display_data"
    },
    {
     "data": {
      "text/plain": [
       "'Epoch 1300. Train loss: 0.001767098344828355. Test loss: 0.001518350477272179.'"
      ]
     },
     "metadata": {},
     "output_type": "display_data"
    },
    {
     "data": {
      "text/plain": [
       "'Epoch 1310. Train loss: 0.001759664703422459. Test loss: 0.001511987878114951.'"
      ]
     },
     "metadata": {},
     "output_type": "display_data"
    },
    {
     "data": {
      "text/plain": [
       "'Epoch 1320. Train loss: 0.0017522712358015724. Test loss: 0.0015056607881319905.'"
      ]
     },
     "metadata": {},
     "output_type": "display_data"
    },
    {
     "data": {
      "text/plain": [
       "'Epoch 1330. Train loss: 0.001744922888644851. Test loss: 0.0014993732446441754.'"
      ]
     },
     "metadata": {},
     "output_type": "display_data"
    },
    {
     "data": {
      "text/plain": [
       "'Epoch 1340. Train loss: 0.001737615282581828. Test loss: 0.0014931187130457601.'"
      ]
     },
     "metadata": {},
     "output_type": "display_data"
    },
    {
     "data": {
      "text/plain": [
       "'Epoch 1350. Train loss: 0.0017303535048881712. Test loss: 0.0014869041639258285.'"
      ]
     },
     "metadata": {},
     "output_type": "display_data"
    },
    {
     "data": {
      "text/plain": [
       "'Epoch 1360. Train loss: 0.0017231295887029318. Test loss: 0.0014807230342967158.'"
      ]
     },
     "metadata": {},
     "output_type": "display_data"
    },
    {
     "data": {
      "text/plain": [
       "'Epoch 1370. Train loss: 0.0017159509447992605. Test loss: 0.0014745803110827183.'"
      ]
     },
     "metadata": {},
     "output_type": "display_data"
    },
    {
     "data": {
      "text/plain": [
       "'Epoch 1380. Train loss: 0.0017088087231741157. Test loss: 0.0014684705018339628.'"
      ]
     },
     "metadata": {},
     "output_type": "display_data"
    },
    {
     "data": {
      "text/plain": [
       "'Epoch 1390. Train loss: 0.0017017046309263152. Test loss: 0.0014623910727891599.'"
      ]
     },
     "metadata": {},
     "output_type": "display_data"
    },
    {
     "data": {
      "text/plain": [
       "'Epoch 1400. Train loss: 0.0016946459524035617. Test loss: 0.0014563520774515837.'"
      ]
     },
     "metadata": {},
     "output_type": "display_data"
    },
    {
     "data": {
      "text/plain": [
       "'Epoch 1410. Train loss: 0.0016876274507581003. Test loss: 0.0014503469978308203.'"
      ]
     },
     "metadata": {},
     "output_type": "display_data"
    },
    {
     "data": {
      "text/plain": [
       "'Epoch 1420. Train loss: 0.0016806436196247887. Test loss: 0.0014443711122964942.'"
      ]
     },
     "metadata": {},
     "output_type": "display_data"
    },
    {
     "data": {
      "text/plain": [
       "'Epoch 1430. Train loss: 0.0016737030286435584. Test loss: 0.0014384340394599348.'"
      ]
     },
     "metadata": {},
     "output_type": "display_data"
    },
    {
     "data": {
      "text/plain": [
       "'Epoch 1440. Train loss: 0.0016667938689010954. Test loss: 0.0014325254277309796.'"
      ]
     },
     "metadata": {},
     "output_type": "display_data"
    },
    {
     "data": {
      "text/plain": [
       "'Epoch 1450. Train loss: 0.0016599239746142302. Test loss: 0.0014266493814091064.'"
      ]
     },
     "metadata": {},
     "output_type": "display_data"
    },
    {
     "data": {
      "text/plain": [
       "'Epoch 1460. Train loss: 0.0016530939975723414. Test loss: 0.001420806438125055.'"
      ]
     },
     "metadata": {},
     "output_type": "display_data"
    },
    {
     "data": {
      "text/plain": [
       "'Epoch 1470. Train loss: 0.0016462926548001632. Test loss: 0.001414994277462256.'"
      ]
     },
     "metadata": {},
     "output_type": "display_data"
    },
    {
     "data": {
      "text/plain": [
       "'Epoch 1480. Train loss: 0.001639535979836637. Test loss: 0.0014092152323428309.'"
      ]
     },
     "metadata": {},
     "output_type": "display_data"
    },
    {
     "data": {
      "text/plain": [
       "'Epoch 1490. Train loss: 0.001632813270225597. Test loss: 0.0014034663852726225.'"
      ]
     },
     "metadata": {},
     "output_type": "display_data"
    },
    {
     "data": {
      "text/plain": [
       "'Epoch 1500. Train loss: 0.00162612625017573. Test loss: 0.0013977465567336367.'"
      ]
     },
     "metadata": {},
     "output_type": "display_data"
    },
    {
     "data": {
      "text/plain": [
       "'Epoch 1510. Train loss: 0.0016194751600778546. Test loss: 0.0013920594353976413.'"
      ]
     },
     "metadata": {},
     "output_type": "display_data"
    },
    {
     "data": {
      "text/plain": [
       "'Epoch 1520. Train loss: 0.0016128572429806808. Test loss: 0.001386399875866573.'"
      ]
     },
     "metadata": {},
     "output_type": "display_data"
    },
    {
     "data": {
      "text/plain": [
       "'Epoch 1530. Train loss: 0.001606276096822512. Test loss: 0.0013807715126631591.'"
      ]
     },
     "metadata": {},
     "output_type": "display_data"
    },
    {
     "data": {
      "text/plain": [
       "'Epoch 1540. Train loss: 0.0015997261145798802. Test loss: 0.0013751713121223474.'"
      ]
     },
     "metadata": {},
     "output_type": "display_data"
    },
    {
     "data": {
      "text/plain": [
       "'Epoch 1550. Train loss: 0.0015932152578670867. Test loss: 0.0013696024015189324.'"
      ]
     },
     "metadata": {},
     "output_type": "display_data"
    },
    {
     "data": {
      "text/plain": [
       "'Epoch 1560. Train loss: 0.0015867352897430465. Test loss: 0.0013640639301343072.'"
      ]
     },
     "metadata": {},
     "output_type": "display_data"
    },
    {
     "data": {
      "text/plain": [
       "'Epoch 1570. Train loss: 0.0015802871681216857. Test loss: 0.0013585558092700013.'"
      ]
     },
     "metadata": {},
     "output_type": "display_data"
    },
    {
     "data": {
      "text/plain": [
       "'Epoch 1580. Train loss: 0.0015738760656290652. Test loss: 0.0013530759653804126.'"
      ]
     },
     "metadata": {},
     "output_type": "display_data"
    },
    {
     "data": {
      "text/plain": [
       "'Epoch 1590. Train loss: 0.001567494756341148. Test loss: 0.0013476188654294673.'"
      ]
     },
     "metadata": {},
     "output_type": "display_data"
    },
    {
     "data": {
      "text/plain": [
       "'Epoch 1600. Train loss: 0.0015611439922167847. Test loss: 0.0013421912895182687.'"
      ]
     },
     "metadata": {},
     "output_type": "display_data"
    },
    {
     "data": {
      "text/plain": [
       "'Epoch 1610. Train loss: 0.0015548288664490428. Test loss: 0.0013367916993502148.'"
      ]
     },
     "metadata": {},
     "output_type": "display_data"
    },
    {
     "data": {
      "text/plain": [
       "'Epoch 1620. Train loss: 0.001548544339334512. Test loss: 0.0013314204329958556.'"
      ]
     },
     "metadata": {},
     "output_type": "display_data"
    },
    {
     "data": {
      "text/plain": [
       "'Epoch 1630. Train loss: 0.001542297499486267. Test loss: 0.0013260796109989315.'"
      ]
     },
     "metadata": {},
     "output_type": "display_data"
    },
    {
     "data": {
      "text/plain": [
       "'Epoch 1640. Train loss: 0.0015360763968260472. Test loss: 0.0013207650352910604.'"
      ]
     },
     "metadata": {},
     "output_type": "display_data"
    },
    {
     "data": {
      "text/plain": [
       "'Epoch 1650. Train loss: 0.0015298836058263987. Test loss: 0.0013154771739095849.'"
      ]
     },
     "metadata": {},
     "output_type": "display_data"
    },
    {
     "data": {
      "text/plain": [
       "'Epoch 1660. Train loss: 0.0015237207818245223. Test loss: 0.0013102130723268602.'"
      ]
     },
     "metadata": {},
     "output_type": "display_data"
    },
    {
     "data": {
      "text/plain": [
       "'Epoch 1670. Train loss: 0.0015175942278347065. Test loss: 0.0013049767912775678.'"
      ]
     },
     "metadata": {},
     "output_type": "display_data"
    },
    {
     "data": {
      "text/plain": [
       "'Epoch 1680. Train loss: 0.001511495457930323. Test loss: 0.001299764337159104.'"
      ]
     },
     "metadata": {},
     "output_type": "display_data"
    },
    {
     "data": {
      "text/plain": [
       "'Epoch 1690. Train loss: 0.0015054274801514112. Test loss: 0.0012945802877084133.'"
      ]
     },
     "metadata": {},
     "output_type": "display_data"
    },
    {
     "data": {
      "text/plain": [
       "'Epoch 1700. Train loss: 0.001499394663937892. Test loss: 0.0012894240973992054.'"
      ]
     },
     "metadata": {},
     "output_type": "display_data"
    },
    {
     "data": {
      "text/plain": [
       "'Epoch 1710. Train loss: 0.00149339015536043. Test loss: 0.0012842953492850028.'"
      ]
     },
     "metadata": {},
     "output_type": "display_data"
    },
    {
     "data": {
      "text/plain": [
       "'Epoch 1720. Train loss: 0.0014874066263701024. Test loss: 0.00127918900327586.'"
      ]
     },
     "metadata": {},
     "output_type": "display_data"
    },
    {
     "data": {
      "text/plain": [
       "'Epoch 1730. Train loss: 0.0014814567150551738. Test loss: 0.0012741064275587632.'"
      ]
     },
     "metadata": {},
     "output_type": "display_data"
    },
    {
     "data": {
      "text/plain": [
       "'Epoch 1740. Train loss: 0.0014755377771734856. Test loss: 0.0012690497413814228.'"
      ]
     },
     "metadata": {},
     "output_type": "display_data"
    },
    {
     "data": {
      "text/plain": [
       "'Epoch 1750. Train loss: 0.0014696456534920798. Test loss: 0.0012640168893653936.'"
      ]
     },
     "metadata": {},
     "output_type": "display_data"
    },
    {
     "data": {
      "text/plain": [
       "'Epoch 1760. Train loss: 0.001463787659326954. Test loss: 0.0012590109100528934.'"
      ]
     },
     "metadata": {},
     "output_type": "display_data"
    },
    {
     "data": {
      "text/plain": [
       "'Epoch 1770. Train loss: 0.0014579558323021048. Test loss: 0.001254032473218558.'"
      ]
     },
     "metadata": {},
     "output_type": "display_data"
    },
    {
     "data": {
      "text/plain": [
       "'Epoch 1780. Train loss: 0.0014521434533889988. Test loss: 0.00124907385163624.'"
      ]
     },
     "metadata": {},
     "output_type": "display_data"
    },
    {
     "data": {
      "text/plain": [
       "'Epoch 1790. Train loss: 0.0014463634472576814. Test loss: 0.0012441374268178152.'"
      ]
     },
     "metadata": {},
     "output_type": "display_data"
    },
    {
     "data": {
      "text/plain": [
       "'Epoch 1800. Train loss: 0.0014406131090254348. Test loss: 0.0012392266531378482.'"
      ]
     },
     "metadata": {},
     "output_type": "display_data"
    },
    {
     "data": {
      "text/plain": [
       "'Epoch 1810. Train loss: 0.0014348892208545295. Test loss: 0.001234339791039929.'"
      ]
     },
     "metadata": {},
     "output_type": "display_data"
    },
    {
     "data": {
      "text/plain": [
       "'Epoch 1820. Train loss: 0.0014291998647422588. Test loss: 0.0012294805793544583.'"
      ]
     },
     "metadata": {},
     "output_type": "display_data"
    },
    {
     "data": {
      "text/plain": [
       "'Epoch 1830. Train loss: 0.0014235285901804673. Test loss: 0.0012246435414795087.'"
      ]
     },
     "metadata": {},
     "output_type": "display_data"
    },
    {
     "data": {
      "text/plain": [
       "'Epoch 1840. Train loss: 0.0014178854672309172. Test loss: 0.0012198265533470477.'"
      ]
     },
     "metadata": {},
     "output_type": "display_data"
    },
    {
     "data": {
      "text/plain": [
       "'Epoch 1850. Train loss: 0.0014122699912377356. Test loss: 0.0012150327076369649.'"
      ]
     },
     "metadata": {},
     "output_type": "display_data"
    },
    {
     "data": {
      "text/plain": [
       "'Epoch 1860. Train loss: 0.0014066895369296618. Test loss: 0.0012102662549409616.'"
      ]
     },
     "metadata": {},
     "output_type": "display_data"
    },
    {
     "data": {
      "text/plain": [
       "'Epoch 1870. Train loss: 0.001401132844375752. Test loss: 0.0012055245355554688.'"
      ]
     },
     "metadata": {},
     "output_type": "display_data"
    },
    {
     "data": {
      "text/plain": [
       "'Epoch 1880. Train loss: 0.001395600080309123. Test loss: 0.0012008065503437138.'"
      ]
     },
     "metadata": {},
     "output_type": "display_data"
    },
    {
     "data": {
      "text/plain": [
       "'Epoch 1890. Train loss: 0.001390093227178113. Test loss: 0.0011961053987647574.'"
      ]
     },
     "metadata": {},
     "output_type": "display_data"
    },
    {
     "data": {
      "text/plain": [
       "'Epoch 1900. Train loss: 0.0013846099194097406. Test loss: 0.001191425781144062.'"
      ]
     },
     "metadata": {},
     "output_type": "display_data"
    },
    {
     "data": {
      "text/plain": [
       "'Epoch 1910. Train loss: 0.001379159017812981. Test loss: 0.0011867721675571374.'"
      ]
     },
     "metadata": {},
     "output_type": "display_data"
    },
    {
     "data": {
      "text/plain": [
       "'Epoch 1920. Train loss: 0.0013737358235061947. Test loss: 0.0011821452684898758.'"
      ]
     },
     "metadata": {},
     "output_type": "display_data"
    },
    {
     "data": {
      "text/plain": [
       "'Epoch 1930. Train loss: 0.0013683292066048124. Test loss: 0.0011775377006642885.'"
      ]
     },
     "metadata": {},
     "output_type": "display_data"
    },
    {
     "data": {
      "text/plain": [
       "'Epoch 1940. Train loss: 0.0013629480396502914. Test loss: 0.0011729448832738854.'"
      ]
     },
     "metadata": {},
     "output_type": "display_data"
    },
    {
     "data": {
      "text/plain": [
       "'Epoch 1950. Train loss: 0.001357594573892129. Test loss: 0.0011683783676517123.'"
      ]
     },
     "metadata": {},
     "output_type": "display_data"
    },
    {
     "data": {
      "text/plain": [
       "'Epoch 1960. Train loss: 0.0013522559825901227. Test loss: 0.001163825435492072.'"
      ]
     },
     "metadata": {},
     "output_type": "display_data"
    },
    {
     "data": {
      "text/plain": [
       "'Epoch 1970. Train loss: 0.0013469449226136021. Test loss: 0.0011593009785428876.'"
      ]
     },
     "metadata": {},
     "output_type": "display_data"
    },
    {
     "data": {
      "text/plain": [
       "'Epoch 1980. Train loss: 0.0013416531652410413. Test loss: 0.0011547909195087414.'"
      ]
     },
     "metadata": {},
     "output_type": "display_data"
    },
    {
     "data": {
      "text/plain": [
       "'Epoch 1990. Train loss: 0.0013363840812417038. Test loss: 0.0011503013994570211.'"
      ]
     },
     "metadata": {},
     "output_type": "display_data"
    },
    {
     "data": {
      "text/plain": [
       "'Epoch 2000. Train loss: 0.0013311476814806156. Test loss: 0.0011458370157924947.'"
      ]
     },
     "metadata": {},
     "output_type": "display_data"
    },
    {
     "data": {
      "text/plain": [
       "'Epoch 2010. Train loss: 0.0013259329264087682. Test loss: 0.0011413960418622082.'"
      ]
     },
     "metadata": {},
     "output_type": "display_data"
    },
    {
     "data": {
      "text/plain": [
       "'Epoch 2020. Train loss: 0.001320734887076469. Test loss: 0.0011369655326234351.'"
      ]
     },
     "metadata": {},
     "output_type": "display_data"
    },
    {
     "data": {
      "text/plain": [
       "'Epoch 2030. Train loss: 0.0013155695989553351. Test loss: 0.001132563515648144.'"
      ]
     },
     "metadata": {},
     "output_type": "display_data"
    },
    {
     "data": {
      "text/plain": [
       "'Epoch 2040. Train loss: 0.001310433363755692. Test loss: 0.001128187494418853.'"
      ]
     },
     "metadata": {},
     "output_type": "display_data"
    },
    {
     "data": {
      "text/plain": [
       "'Epoch 2050. Train loss: 0.0013053072737648109. Test loss: 0.0011238219548886264.'"
      ]
     },
     "metadata": {},
     "output_type": "display_data"
    },
    {
     "data": {
      "text/plain": [
       "'Epoch 2060. Train loss: 0.0013002131877328793. Test loss: 0.0011194813611155041.'"
      ]
     },
     "metadata": {},
     "output_type": "display_data"
    },
    {
     "data": {
      "text/plain": [
       "'Epoch 2070. Train loss: 0.0012951482702646898. Test loss: 0.0011151659809229386.'"
      ]
     },
     "metadata": {},
     "output_type": "display_data"
    },
    {
     "data": {
      "text/plain": [
       "'Epoch 2080. Train loss: 0.001290099248092247. Test loss: 0.0011108660131412761.'"
      ]
     },
     "metadata": {},
     "output_type": "display_data"
    },
    {
     "data": {
      "text/plain": [
       "'Epoch 2090. Train loss: 0.0012850757846308626. Test loss: 0.001106585770367019.'"
      ]
     },
     "metadata": {},
     "output_type": "display_data"
    },
    {
     "data": {
      "text/plain": [
       "'Epoch 2100. Train loss: 0.001280084313293628. Test loss: 0.0011023325015003139.'"
      ]
     },
     "metadata": {},
     "output_type": "display_data"
    },
    {
     "data": {
      "text/plain": [
       "'Epoch 2110. Train loss: 0.0012751059794595676. Test loss: 0.0010980938130728645.'"
      ]
     },
     "metadata": {},
     "output_type": "display_data"
    },
    {
     "data": {
      "text/plain": [
       "'Epoch 2120. Train loss: 0.0012701515780918272. Test loss: 0.001093873104883869.'"
      ]
     },
     "metadata": {},
     "output_type": "display_data"
    },
    {
     "data": {
      "text/plain": [
       "'Epoch 2130. Train loss: 0.0012652261893890682. Test loss: 0.0010896765305005828.'"
      ]
     },
     "metadata": {},
     "output_type": "display_data"
    },
    {
     "data": {
      "text/plain": [
       "'Epoch 2140. Train loss: 0.001260320604512799. Test loss: 0.0010855002310336203.'"
      ]
     },
     "metadata": {},
     "output_type": "display_data"
    },
    {
     "data": {
      "text/plain": [
       "'Epoch 2150. Train loss: 0.001255432749223928. Test loss: 0.0010813387326493284.'"
      ]
     },
     "metadata": {},
     "output_type": "display_data"
    },
    {
     "data": {
      "text/plain": [
       "'Epoch 2160. Train loss: 0.0012505801145152873. Test loss: 0.0010772046430020054.'"
      ]
     },
     "metadata": {},
     "output_type": "display_data"
    },
    {
     "data": {
      "text/plain": [
       "'Epoch 2170. Train loss: 0.0012457477142447716. Test loss: 0.0010730888048044562.'"
      ]
     },
     "metadata": {},
     "output_type": "display_data"
    },
    {
     "data": {
      "text/plain": [
       "'Epoch 2180. Train loss: 0.0012409322284270274. Test loss: 0.001068987188511983.'"
      ]
     },
     "metadata": {},
     "output_type": "display_data"
    },
    {
     "data": {
      "text/plain": [
       "'Epoch 2190. Train loss: 0.001236146258372628. Test loss: 0.0010649117004277286.'"
      ]
     },
     "metadata": {},
     "output_type": "display_data"
    },
    {
     "data": {
      "text/plain": [
       "'Epoch 2200. Train loss: 0.00123137314798214. Test loss: 0.0010608495072801816.'"
      ]
     },
     "metadata": {},
     "output_type": "display_data"
    },
    {
     "data": {
      "text/plain": [
       "'Epoch 2210. Train loss: 0.0012266244457009635. Test loss: 0.0010568041656597415.'"
      ]
     },
     "metadata": {},
     "output_type": "display_data"
    },
    {
     "data": {
      "text/plain": [
       "'Epoch 2220. Train loss: 0.0012219065652686822. Test loss: 0.0010527850700555064.'"
      ]
     },
     "metadata": {},
     "output_type": "display_data"
    },
    {
     "data": {
      "text/plain": [
       "'Epoch 2230. Train loss: 0.0012171999887812036. Test loss: 0.0010487797369478358.'"
      ]
     },
     "metadata": {},
     "output_type": "display_data"
    },
    {
     "data": {
      "text/plain": [
       "'Epoch 2240. Train loss: 0.0012125147712708894. Test loss: 0.0010447916234284094.'"
      ]
     },
     "metadata": {},
     "output_type": "display_data"
    },
    {
     "data": {
      "text/plain": [
       "'Epoch 2250. Train loss: 0.0012078658475218162. Test loss: 0.0010408319911221042.'"
      ]
     },
     "metadata": {},
     "output_type": "display_data"
    },
    {
     "data": {
      "text/plain": [
       "'Epoch 2260. Train loss: 0.0012032222015363914. Test loss: 0.001036879555624637.'"
      ]
     },
     "metadata": {},
     "output_type": "display_data"
    },
    {
     "data": {
      "text/plain": [
       "'Epoch 2270. Train loss: 0.0011986060392587205. Test loss: 0.0010329486840646497.'"
      ]
     },
     "metadata": {},
     "output_type": "display_data"
    },
    {
     "data": {
      "text/plain": [
       "'Epoch 2280. Train loss: 0.001194016469980852. Test loss: 0.0010290407757565846.'"
      ]
     },
     "metadata": {},
     "output_type": "display_data"
    },
    {
     "data": {
      "text/plain": [
       "'Epoch 2290. Train loss: 0.0011894376927841677. Test loss: 0.0010251438740681352.'"
      ]
     },
     "metadata": {},
     "output_type": "display_data"
    },
    {
     "data": {
      "text/plain": [
       "'Epoch 2300. Train loss: 0.0011848881206674377. Test loss: 0.0010212720631670891.'"
      ]
     },
     "metadata": {},
     "output_type": "display_data"
    },
    {
     "data": {
      "text/plain": [
       "'Epoch 2310. Train loss: 0.001180364103777265. Test loss: 0.0010174225499213208.'"
      ]
     },
     "metadata": {},
     "output_type": "display_data"
    },
    {
     "data": {
      "text/plain": [
       "'Epoch 2320. Train loss: 0.0011758494924720253. Test loss: 0.0010135770126794342.'"
      ]
     },
     "metadata": {},
     "output_type": "display_data"
    },
    {
     "data": {
      "text/plain": [
       "'Epoch 2330. Train loss: 0.0011713654574464273. Test loss: 0.0010097589531710583.'"
      ]
     },
     "metadata": {},
     "output_type": "display_data"
    },
    {
     "data": {
      "text/plain": [
       "'Epoch 2340. Train loss: 0.0011668994957233282. Test loss: 0.0010059611114684231.'"
      ]
     },
     "metadata": {},
     "output_type": "display_data"
    },
    {
     "data": {
      "text/plain": [
       "'Epoch 2350. Train loss: 0.001162449033699886. Test loss: 0.001002172689732106.'"
      ]
     },
     "metadata": {},
     "output_type": "display_data"
    },
    {
     "data": {
      "text/plain": [
       "'Epoch 2360. Train loss: 0.0011580303866935537. Test loss: 0.0009984103732108452.'"
      ]
     },
     "metadata": {},
     "output_type": "display_data"
    },
    {
     "data": {
      "text/plain": [
       "'Epoch 2370. Train loss: 0.0011536252647829314. Test loss: 0.0009946635856010744.'"
      ]
     },
     "metadata": {},
     "output_type": "display_data"
    },
    {
     "data": {
      "text/plain": [
       "'Epoch 2380. Train loss: 0.0011492376705689368. Test loss: 0.0009909292036013539.'"
      ]
     },
     "metadata": {},
     "output_type": "display_data"
    },
    {
     "data": {
      "text/plain": [
       "'Epoch 2390. Train loss: 0.0011448783023752184. Test loss: 0.0009872160577288013.'"
      ]
     },
     "metadata": {},
     "output_type": "display_data"
    },
    {
     "data": {
      "text/plain": [
       "'Epoch 2400. Train loss: 0.0011405277447067875. Test loss: 0.000983517645011034.'"
      ]
     },
     "metadata": {},
     "output_type": "display_data"
    },
    {
     "data": {
      "text/plain": [
       "'Epoch 2410. Train loss: 0.0011362032589147474. Test loss: 0.000979836191817185.'"
      ]
     },
     "metadata": {},
     "output_type": "display_data"
    },
    {
     "data": {
      "text/plain": [
       "'Epoch 2420. Train loss: 0.0011319078786698356. Test loss: 0.0009761821995653008.'"
      ]
     },
     "metadata": {},
     "output_type": "display_data"
    },
    {
     "data": {
      "text/plain": [
       "'Epoch 2430. Train loss: 0.0011276173815872425. Test loss: 0.0009725311166562279.'"
      ]
     },
     "metadata": {},
     "output_type": "display_data"
    },
    {
     "data": {
      "text/plain": [
       "'Epoch 2440. Train loss: 0.0011233553540023421. Test loss: 0.0009689040351759104.'"
      ]
     },
     "metadata": {},
     "output_type": "display_data"
    },
    {
     "data": {
      "text/plain": [
       "'Epoch 2450. Train loss: 0.0011191117504608882. Test loss: 0.0009652938952285694.'"
      ]
     },
     "metadata": {},
     "output_type": "display_data"
    },
    {
     "data": {
      "text/plain": [
       "'Epoch 2460. Train loss: 0.0011148848779043874. Test loss: 0.0009616968896921207.'"
      ]
     },
     "metadata": {},
     "output_type": "display_data"
    },
    {
     "data": {
      "text/plain": [
       "'Epoch 2470. Train loss: 0.0011106826294508209. Test loss: 0.0009581208334338953.'"
      ]
     },
     "metadata": {},
     "output_type": "display_data"
    },
    {
     "data": {
      "text/plain": [
       "'Epoch 2480. Train loss: 0.0011064962618547725. Test loss: 0.0009545615294200615.'"
      ]
     },
     "metadata": {},
     "output_type": "display_data"
    },
    {
     "data": {
      "text/plain": [
       "'Epoch 2490. Train loss: 0.0011023273918681297. Test loss: 0.0009510134506626855.'"
      ]
     },
     "metadata": {},
     "output_type": "display_data"
    },
    {
     "data": {
      "text/plain": [
       "'Epoch 2500. Train loss: 0.001098188354069407. Test loss: 0.000947491439433179.'"
      ]
     },
     "metadata": {},
     "output_type": "display_data"
    },
    {
     "data": {
      "text/plain": [
       "'Epoch 2510. Train loss: 0.0010940563873759856. Test loss: 0.000943977580027422.'"
      ]
     },
     "metadata": {},
     "output_type": "display_data"
    },
    {
     "data": {
      "text/plain": [
       "'Epoch 2520. Train loss: 0.0010899516907443285. Test loss: 0.0009404852582520107.'"
      ]
     },
     "metadata": {},
     "output_type": "display_data"
    },
    {
     "data": {
      "text/plain": [
       "'Epoch 2530. Train loss: 0.0010858651046874001. Test loss: 0.0009370100488922617.'"
      ]
     },
     "metadata": {},
     "output_type": "display_data"
    },
    {
     "data": {
      "text/plain": [
       "'Epoch 2540. Train loss: 0.0010817912871971202. Test loss: 0.0009335449355148739.'"
      ]
     },
     "metadata": {},
     "output_type": "display_data"
    },
    {
     "data": {
      "text/plain": [
       "'Epoch 2550. Train loss: 0.0010777449041256659. Test loss: 0.0009301011467641729.'"
      ]
     },
     "metadata": {},
     "output_type": "display_data"
    },
    {
     "data": {
      "text/plain": [
       "'Epoch 2560. Train loss: 0.0010737094607748076. Test loss: 0.0009266703718594727.'"
      ]
     },
     "metadata": {},
     "output_type": "display_data"
    },
    {
     "data": {
      "text/plain": [
       "'Epoch 2570. Train loss: 0.0010696926880427783. Test loss: 0.0009232541147753181.'"
      ]
     },
     "metadata": {},
     "output_type": "display_data"
    },
    {
     "data": {
      "text/plain": [
       "'Epoch 2580. Train loss: 0.001065701374454875. Test loss: 0.0009198609068334918.'"
      ]
     },
     "metadata": {},
     "output_type": "display_data"
    },
    {
     "data": {
      "text/plain": [
       "'Epoch 2590. Train loss: 0.001061719340145828. Test loss: 0.000916473415747987.'"
      ]
     },
     "metadata": {},
     "output_type": "display_data"
    },
    {
     "data": {
      "text/plain": [
       "'Epoch 2600. Train loss: 0.0010577645345961173. Test loss: 0.0009131084592240768.'"
      ]
     },
     "metadata": {},
     "output_type": "display_data"
    },
    {
     "data": {
      "text/plain": [
       "'Epoch 2610. Train loss: 0.001053826026156912. Test loss: 0.0009097599442497994.'"
      ]
     },
     "metadata": {},
     "output_type": "display_data"
    },
    {
     "data": {
      "text/plain": [
       "'Epoch 2620. Train loss: 0.0010499036878172773. Test loss: 0.0009064245812851369.'"
      ]
     },
     "metadata": {},
     "output_type": "display_data"
    },
    {
     "data": {
      "text/plain": [
       "'Epoch 2630. Train loss: 0.0010460080048005694. Test loss: 0.0009031103566030652.'"
      ]
     },
     "metadata": {},
     "output_type": "display_data"
    },
    {
     "data": {
      "text/plain": [
       "'Epoch 2640. Train loss: 0.0010421174114981114. Test loss: 0.000899802986305076.'"
      ]
     },
     "metadata": {},
     "output_type": "display_data"
    },
    {
     "data": {
      "text/plain": [
       "'Epoch 2650. Train loss: 0.0010382527104411566. Test loss: 0.0008965155319970109.'"
      ]
     },
     "metadata": {},
     "output_type": "display_data"
    },
    {
     "data": {
      "text/plain": [
       "'Epoch 2660. Train loss: 0.001034405230188895. Test loss: 0.0008932454322916783.'"
      ]
     },
     "metadata": {},
     "output_type": "display_data"
    },
    {
     "data": {
      "text/plain": [
       "'Epoch 2670. Train loss: 0.001030570509124118. Test loss: 0.0008899849408862792.'"
      ]
     },
     "metadata": {},
     "output_type": "display_data"
    },
    {
     "data": {
      "text/plain": [
       "'Epoch 2680. Train loss: 0.0010267618884768127. Test loss: 0.0008867441807183241.'"
      ]
     },
     "metadata": {},
     "output_type": "display_data"
    },
    {
     "data": {
      "text/plain": [
       "'Epoch 2690. Train loss: 0.0010229619067558815. Test loss: 0.0008835139656412139.'"
      ]
     },
     "metadata": {},
     "output_type": "display_data"
    },
    {
     "data": {
      "text/plain": [
       "'Epoch 2700. Train loss: 0.0010191840650804807. Test loss: 0.0008803011015288576.'"
      ]
     },
     "metadata": {},
     "output_type": "display_data"
    },
    {
     "data": {
      "text/plain": [
       "'Epoch 2710. Train loss: 0.0010154250278446852. Test loss: 0.0008771063416588732.'"
      ]
     },
     "metadata": {},
     "output_type": "display_data"
    },
    {
     "data": {
      "text/plain": [
       "'Epoch 2720. Train loss: 0.001011677025780955. Test loss: 0.0008739203932918826.'"
      ]
     },
     "metadata": {},
     "output_type": "display_data"
    },
    {
     "data": {
      "text/plain": [
       "'Epoch 2730. Train loss: 0.0010079567246521037. Test loss: 0.0008707556779768311.'"
      ]
     },
     "metadata": {},
     "output_type": "display_data"
    },
    {
     "data": {
      "text/plain": [
       "'Epoch 2740. Train loss: 0.0010042434264732948. Test loss: 0.0008676005123788855.'"
      ]
     },
     "metadata": {},
     "output_type": "display_data"
    },
    {
     "data": {
      "text/plain": [
       "'Epoch 2750. Train loss: 0.001000551696711227. Test loss: 0.000864459619401714.'"
      ]
     },
     "metadata": {},
     "output_type": "display_data"
    },
    {
     "data": {
      "text/plain": [
       "'Epoch 2760. Train loss: 0.0009968796541443225. Test loss: 0.0008613406057747852.'"
      ]
     },
     "metadata": {},
     "output_type": "display_data"
    },
    {
     "data": {
      "text/plain": [
       "'Epoch 2770. Train loss: 0.000993217810355418. Test loss: 0.0008582262595837164.'"
      ]
     },
     "metadata": {},
     "output_type": "display_data"
    },
    {
     "data": {
      "text/plain": [
       "'Epoch 2780. Train loss: 0.0009895808554574615. Test loss: 0.0008551326288170457.'"
      ]
     },
     "metadata": {},
     "output_type": "display_data"
    },
    {
     "data": {
      "text/plain": [
       "'Epoch 2790. Train loss: 0.0009859552801117389. Test loss: 0.0008520517201418443.'"
      ]
     },
     "metadata": {},
     "output_type": "display_data"
    },
    {
     "data": {
      "text/plain": [
       "'Epoch 2800. Train loss: 0.0009823461087307805. Test loss: 0.0008489829157497297.'"
      ]
     },
     "metadata": {},
     "output_type": "display_data"
    },
    {
     "data": {
      "text/plain": [
       "'Epoch 2810. Train loss: 0.0009787576448388791. Test loss: 0.0008459342501964783.'"
      ]
     },
     "metadata": {},
     "output_type": "display_data"
    },
    {
     "data": {
      "text/plain": [
       "'Epoch 2820. Train loss: 0.0009751811436217395. Test loss: 0.0008428927522118101.'"
      ]
     },
     "metadata": {},
     "output_type": "display_data"
    },
    {
     "data": {
      "text/plain": [
       "'Epoch 2830. Train loss: 0.0009716307602730013. Test loss: 0.000839874628832149.'"
      ]
     },
     "metadata": {},
     "output_type": "display_data"
    },
    {
     "data": {
      "text/plain": [
       "'Epoch 2840. Train loss: 0.000968084728674512. Test loss: 0.0008368607322836397.'"
      ]
     },
     "metadata": {},
     "output_type": "display_data"
    },
    {
     "data": {
      "text/plain": [
       "'Epoch 2850. Train loss: 0.000964560043757956. Test loss: 0.0008338652319480388.'"
      ]
     },
     "metadata": {},
     "output_type": "display_data"
    },
    {
     "data": {
      "text/plain": [
       "'Epoch 2860. Train loss: 0.0009610547876263808. Test loss: 0.0008308859402404778.'"
      ]
     },
     "metadata": {},
     "output_type": "display_data"
    },
    {
     "data": {
      "text/plain": [
       "'Epoch 2870. Train loss: 0.00095755804638884. Test loss: 0.0008279135920247427.'"
      ]
     },
     "metadata": {},
     "output_type": "display_data"
    },
    {
     "data": {
      "text/plain": [
       "'Epoch 2880. Train loss: 0.0009540863564325263. Test loss: 0.0008249611916653521.'"
      ]
     },
     "metadata": {},
     "output_type": "display_data"
    },
    {
     "data": {
      "text/plain": [
       "'Epoch 2890. Train loss: 0.0009506198658300491. Test loss: 0.0008220167595709427.'"
      ]
     },
     "metadata": {},
     "output_type": "display_data"
    },
    {
     "data": {
      "text/plain": [
       "'Epoch 2900. Train loss: 0.0009471754508467711. Test loss: 0.0008190900601448448.'"
      ]
     },
     "metadata": {},
     "output_type": "display_data"
    },
    {
     "data": {
      "text/plain": [
       "'Epoch 2910. Train loss: 0.0009437493638870364. Test loss: 0.000816177678962049.'"
      ]
     },
     "metadata": {},
     "output_type": "display_data"
    },
    {
     "data": {
      "text/plain": [
       "'Epoch 2920. Train loss: 0.0009403342007317406. Test loss: 0.0008132747160061627.'"
      ]
     },
     "metadata": {},
     "output_type": "display_data"
    },
    {
     "data": {
      "text/plain": [
       "'Epoch 2930. Train loss: 0.0009369442524985061. Test loss: 0.0008103924603119594.'"
      ]
     },
     "metadata": {},
     "output_type": "display_data"
    },
    {
     "data": {
      "text/plain": [
       "'Epoch 2940. Train loss: 0.0009335566913705407. Test loss: 0.000807516050531376.'"
      ]
     },
     "metadata": {},
     "output_type": "display_data"
    },
    {
     "data": {
      "text/plain": [
       "'Epoch 2950. Train loss: 0.0009301942887304903. Test loss: 0.0008046568995723647.'"
      ]
     },
     "metadata": {},
     "output_type": "display_data"
    },
    {
     "data": {
      "text/plain": [
       "'Epoch 2960. Train loss: 0.0009268443542623572. Test loss: 0.000801810588995977.'"
      ]
     },
     "metadata": {},
     "output_type": "display_data"
    },
    {
     "data": {
      "text/plain": [
       "'Epoch 2970. Train loss: 0.0009235094959876733. Test loss: 0.0007989746360635763.'"
      ]
     },
     "metadata": {},
     "output_type": "display_data"
    },
    {
     "data": {
      "text/plain": [
       "'Epoch 2980. Train loss: 0.0009201935615919865. Test loss: 0.0007961599831560306.'"
      ]
     },
     "metadata": {},
     "output_type": "display_data"
    },
    {
     "data": {
      "text/plain": [
       "'Epoch 2990. Train loss: 0.0009168869868972252. Test loss: 0.0007933488697517532.'"
      ]
     },
     "metadata": {},
     "output_type": "display_data"
    },
    {
     "data": {
      "text/plain": [
       "'Epoch 3000. Train loss: 0.0009136050420465835. Test loss: 0.0007905578775535104.'"
      ]
     },
     "metadata": {},
     "output_type": "display_data"
    },
    {
     "data": {
      "text/plain": [
       "'Epoch 3010. Train loss: 0.0009103281267471175. Test loss: 0.0007877753238972219.'"
      ]
     },
     "metadata": {},
     "output_type": "display_data"
    },
    {
     "data": {
      "text/plain": [
       "'Epoch 3020. Train loss: 0.0009070697524975913. Test loss: 0.0007850053792708422.'"
      ]
     },
     "metadata": {},
     "output_type": "display_data"
    },
    {
     "data": {
      "text/plain": [
       "'Epoch 3030. Train loss: 0.0009038304343448545. Test loss: 0.0007822512938219006.'"
      ]
     },
     "metadata": {},
     "output_type": "display_data"
    },
    {
     "data": {
      "text/plain": [
       "'Epoch 3040. Train loss: 0.0009005973783132504. Test loss: 0.0007795049520836983.'"
      ]
     },
     "metadata": {},
     "output_type": "display_data"
    },
    {
     "data": {
      "text/plain": [
       "'Epoch 3050. Train loss: 0.0008973890714742083. Test loss: 0.0007767787966713513.'"
      ]
     },
     "metadata": {},
     "output_type": "display_data"
    },
    {
     "data": {
      "text/plain": [
       "'Epoch 3060. Train loss: 0.0008941855879811555. Test loss: 0.0007740575976868058.'"
      ]
     },
     "metadata": {},
     "output_type": "display_data"
    },
    {
     "data": {
      "text/plain": [
       "'Epoch 3070. Train loss: 0.0008910040502314587. Test loss: 0.0007713523553320556.'"
      ]
     },
     "metadata": {},
     "output_type": "display_data"
    },
    {
     "data": {
      "text/plain": [
       "'Epoch 3080. Train loss: 0.0008878356771219841. Test loss: 0.0007686601552450156.'"
      ]
     },
     "metadata": {},
     "output_type": "display_data"
    },
    {
     "data": {
      "text/plain": [
       "'Epoch 3090. Train loss: 0.0008846781058764464. Test loss: 0.0007659783283997968.'"
      ]
     },
     "metadata": {},
     "output_type": "display_data"
    },
    {
     "data": {
      "text/plain": [
       "'Epoch 3100. Train loss: 0.0008815420858127254. Test loss: 0.0007633128297584336.'"
      ]
     },
     "metadata": {},
     "output_type": "display_data"
    },
    {
     "data": {
      "text/plain": [
       "'Epoch 3110. Train loss: 0.000878412542215301. Test loss: 0.0007606530936072886.'"
      ]
     },
     "metadata": {},
     "output_type": "display_data"
    },
    {
     "data": {
      "text/plain": [
       "'Epoch 3120. Train loss: 0.0008753080007181779. Test loss: 0.0007580136934848269.'"
      ]
     },
     "metadata": {},
     "output_type": "display_data"
    },
    {
     "data": {
      "text/plain": [
       "'Epoch 3130. Train loss: 0.0008722067425878776. Test loss: 0.0007553809293085578.'"
      ]
     },
     "metadata": {},
     "output_type": "display_data"
    },
    {
     "data": {
      "text/plain": [
       "'Epoch 3140. Train loss: 0.0008691256384736334. Test loss: 0.000752762704360066.'"
      ]
     },
     "metadata": {},
     "output_type": "display_data"
    },
    {
     "data": {
      "text/plain": [
       "'Epoch 3150. Train loss: 0.0008660569620587921. Test loss: 0.0007501554648797537.'"
      ]
     },
     "metadata": {},
     "output_type": "display_data"
    },
    {
     "data": {
      "text/plain": [
       "'Epoch 3160. Train loss: 0.0008630011884633859. Test loss: 0.0007475581646531282.'"
      ]
     },
     "metadata": {},
     "output_type": "display_data"
    },
    {
     "data": {
      "text/plain": [
       "'Epoch 3170. Train loss: 0.0008599636912776987. Test loss: 0.0007449775811437575.'"
      ]
     },
     "metadata": {},
     "output_type": "display_data"
    },
    {
     "data": {
      "text/plain": [
       "'Epoch 3180. Train loss: 0.0008569342803866675. Test loss: 0.0007424031622122129.'"
      ]
     },
     "metadata": {},
     "output_type": "display_data"
    },
    {
     "data": {
      "text/plain": [
       "'Epoch 3190. Train loss: 0.0008539259755934836. Test loss: 0.0007398464587140552.'"
      ]
     },
     "metadata": {},
     "output_type": "display_data"
    },
    {
     "data": {
      "text/plain": [
       "'Epoch 3200. Train loss: 0.0008509228522370904. Test loss: 0.0007372959904614618.'"
      ]
     },
     "metadata": {},
     "output_type": "display_data"
    },
    {
     "data": {
      "text/plain": [
       "'Epoch 3210. Train loss: 0.0008479378363972501. Test loss: 0.0007347592594896923.'"
      ]
     },
     "metadata": {},
     "output_type": "display_data"
    },
    {
     "data": {
      "text/plain": [
       "'Epoch 3220. Train loss: 0.000844967662601448. Test loss: 0.0007322357619614194.'"
      ]
     },
     "metadata": {},
     "output_type": "display_data"
    },
    {
     "data": {
      "text/plain": [
       "'Epoch 3230. Train loss: 0.0008420078050448865. Test loss: 0.0007297213543552061.'"
      ]
     },
     "metadata": {},
     "output_type": "display_data"
    },
    {
     "data": {
      "text/plain": [
       "'Epoch 3240. Train loss: 0.0008390670430799219. Test loss: 0.0007272245558851865.'"
      ]
     },
     "metadata": {},
     "output_type": "display_data"
    },
    {
     "data": {
      "text/plain": [
       "'Epoch 3250. Train loss: 0.0008361352020074264. Test loss: 0.0007247314204278154.'"
      ]
     },
     "metadata": {},
     "output_type": "display_data"
    },
    {
     "data": {
      "text/plain": [
       "'Epoch 3260. Train loss: 0.0008332227646860701. Test loss: 0.0007222584519240627.'"
      ]
     },
     "metadata": {},
     "output_type": "display_data"
    },
    {
     "data": {
      "text/plain": [
       "'Epoch 3270. Train loss: 0.0008303171403440501. Test loss: 0.0007197892130534455.'"
      ]
     },
     "metadata": {},
     "output_type": "display_data"
    },
    {
     "data": {
      "text/plain": [
       "'Epoch 3280. Train loss: 0.0008274297053276313. Test loss: 0.0007173357961619331.'"
      ]
     },
     "metadata": {},
     "output_type": "display_data"
    },
    {
     "data": {
      "text/plain": [
       "'Epoch 3290. Train loss: 0.0008245530151725688. Test loss: 0.0007148925448291265.'"
      ]
     },
     "metadata": {},
     "output_type": "display_data"
    },
    {
     "data": {
      "text/plain": [
       "'Epoch 3300. Train loss: 0.0008216886693617198. Test loss: 0.0007124572306111077.'"
      ]
     },
     "metadata": {},
     "output_type": "display_data"
    },
    {
     "data": {
      "text/plain": [
       "'Epoch 3310. Train loss: 0.000818842445687551. Test loss: 0.0007100393103883107.'"
      ]
     },
     "metadata": {},
     "output_type": "display_data"
    },
    {
     "data": {
      "text/plain": [
       "'Epoch 3320. Train loss: 0.0008160017452382817. Test loss: 0.0007076258655160927.'"
      ]
     },
     "metadata": {},
     "output_type": "display_data"
    },
    {
     "data": {
      "text/plain": [
       "'Epoch 3330. Train loss: 0.0008131820416110713. Test loss: 0.000705230209223373.'"
      ]
     },
     "metadata": {},
     "output_type": "display_data"
    },
    {
     "data": {
      "text/plain": [
       "'Epoch 3340. Train loss: 0.0008103667619025146. Test loss: 0.0007028389881270414.'"
      ]
     },
     "metadata": {},
     "output_type": "display_data"
    },
    {
     "data": {
      "text/plain": [
       "'Epoch 3350. Train loss: 0.0008075721722207163. Test loss: 0.0007004610224385033.'"
      ]
     },
     "metadata": {},
     "output_type": "display_data"
    },
    {
     "data": {
      "text/plain": [
       "'Epoch 3360. Train loss: 0.0008047840475228441. Test loss: 0.0006980954807659145.'"
      ]
     },
     "metadata": {},
     "output_type": "display_data"
    },
    {
     "data": {
      "text/plain": [
       "'Epoch 3370. Train loss: 0.000802012765757354. Test loss: 0.0006957383804547135.'"
      ]
     },
     "metadata": {},
     "output_type": "display_data"
    },
    {
     "data": {
      "text/plain": [
       "'Epoch 3380. Train loss: 0.0007992520638936184. Test loss: 0.0006933953402722181.'"
      ]
     },
     "metadata": {},
     "output_type": "display_data"
    },
    {
     "data": {
      "text/plain": [
       "'Epoch 3390. Train loss: 0.0007965046111166885. Test loss: 0.0006910590631832747.'"
      ]
     },
     "metadata": {},
     "output_type": "display_data"
    },
    {
     "data": {
      "text/plain": [
       "'Epoch 3400. Train loss: 0.0007937736780149862. Test loss: 0.0006887399330480548.'"
      ]
     },
     "metadata": {},
     "output_type": "display_data"
    },
    {
     "data": {
      "text/plain": [
       "'Epoch 3410. Train loss: 0.0007910490882295562. Test loss: 0.0006864241498760748.'"
      ]
     },
     "metadata": {},
     "output_type": "display_data"
    },
    {
     "data": {
      "text/plain": [
       "'Epoch 3420. Train loss: 0.0007883427445676717. Test loss: 0.0006841236080390445.'"
      ]
     },
     "metadata": {},
     "output_type": "display_data"
    },
    {
     "data": {
      "text/plain": [
       "'Epoch 3430. Train loss: 0.0007856417526227233. Test loss: 0.000681830524263205.'"
      ]
     },
     "metadata": {},
     "output_type": "display_data"
    },
    {
     "data": {
      "text/plain": [
       "'Epoch 3440. Train loss: 0.0007829603535356. Test loss: 0.0006795512842245443.'"
      ]
     },
     "metadata": {},
     "output_type": "display_data"
    },
    {
     "data": {
      "text/plain": [
       "'Epoch 3450. Train loss: 0.0007802858456670946. Test loss: 0.0006772786073270254.'"
      ]
     },
     "metadata": {},
     "output_type": "display_data"
    },
    {
     "data": {
      "text/plain": [
       "'Epoch 3460. Train loss: 0.0007776248163736454. Test loss: 0.0006750170538452948.'"
      ]
     },
     "metadata": {},
     "output_type": "display_data"
    },
    {
     "data": {
      "text/plain": [
       "'Epoch 3470. Train loss: 0.0007749759270154755. Test loss: 0.00067276811641932.'"
      ]
     },
     "metadata": {},
     "output_type": "display_data"
    },
    {
     "data": {
      "text/plain": [
       "'Epoch 3480. Train loss: 0.0007723395610582884. Test loss: 0.0006705270481688786.'"
      ]
     },
     "metadata": {},
     "output_type": "display_data"
    },
    {
     "data": {
      "text/plain": [
       "'Epoch 3490. Train loss: 0.0007697173351289166. Test loss: 0.000668299930930516.'"
      ]
     },
     "metadata": {},
     "output_type": "display_data"
    },
    {
     "data": {
      "text/plain": [
       "'Epoch 3500. Train loss: 0.0007671001546214029. Test loss: 0.0006660754124368396.'"
      ]
     },
     "metadata": {},
     "output_type": "display_data"
    },
    {
     "data": {
      "text/plain": [
       "'Epoch 3510. Train loss: 0.0007645032571417687. Test loss: 0.0006638680159312571.'"
      ]
     },
     "metadata": {},
     "output_type": "display_data"
    },
    {
     "data": {
      "text/plain": [
       "'Epoch 3520. Train loss: 0.0007619093611538119. Test loss: 0.0006616638760533533.'"
      ]
     },
     "metadata": {},
     "output_type": "display_data"
    },
    {
     "data": {
      "text/plain": [
       "'Epoch 3530. Train loss: 0.0007593374220050464. Test loss: 0.0006594773501092277.'"
      ]
     },
     "metadata": {},
     "output_type": "display_data"
    },
    {
     "data": {
      "text/plain": [
       "'Epoch 3540. Train loss: 0.0007567679511794268. Test loss: 0.0006572969293756614.'"
      ]
     },
     "metadata": {},
     "output_type": "display_data"
    },
    {
     "data": {
      "text/plain": [
       "'Epoch 3550. Train loss: 0.0007542171700606559. Test loss: 0.0006551283076078107.'"
      ]
     },
     "metadata": {},
     "output_type": "display_data"
    },
    {
     "data": {
      "text/plain": [
       "'Epoch 3560. Train loss: 0.0007516758259953349. Test loss: 0.000652969203383691.'"
      ]
     },
     "metadata": {},
     "output_type": "display_data"
    },
    {
     "data": {
      "text/plain": [
       "'Epoch 3570. Train loss: 0.0007491469442356902. Test loss: 0.0006508193449008103.'"
      ]
     },
     "metadata": {},
     "output_type": "display_data"
    },
    {
     "data": {
      "text/plain": [
       "'Epoch 3580. Train loss: 0.0007466310219797379. Test loss: 0.0006486814937488816.'"
      ]
     },
     "metadata": {},
     "output_type": "display_data"
    },
    {
     "data": {
      "text/plain": [
       "'Epoch 3590. Train loss: 0.0007441235577516636. Test loss: 0.0006465500482136122.'"
      ]
     },
     "metadata": {},
     "output_type": "display_data"
    },
    {
     "data": {
      "text/plain": [
       "'Epoch 3600. Train loss: 0.0007416323349389131. Test loss: 0.0006444328992529335.'"
      ]
     },
     "metadata": {},
     "output_type": "display_data"
    },
    {
     "data": {
      "text/plain": [
       "'Epoch 3610. Train loss: 0.0007391444814402349. Test loss: 0.0006423195558227235.'"
      ]
     },
     "metadata": {},
     "output_type": "display_data"
    },
    {
     "data": {
      "text/plain": [
       "'Epoch 3620. Train loss: 0.0007366769115151328. Test loss: 0.0006402192509085581.'"
      ]
     },
     "metadata": {},
     "output_type": "display_data"
    },
    {
     "data": {
      "text/plain": [
       "'Epoch 3630. Train loss: 0.000734212784709598. Test loss: 0.0006381263511912039.'"
      ]
     },
     "metadata": {},
     "output_type": "display_data"
    },
    {
     "data": {
      "text/plain": [
       "'Epoch 3640. Train loss: 0.0007317653292147952. Test loss: 0.0006360461759868485.'"
      ]
     },
     "metadata": {},
     "output_type": "display_data"
    },
    {
     "data": {
      "text/plain": [
       "'Epoch 3650. Train loss: 0.0007293268244211504. Test loss: 0.0006339729422734308.'"
      ]
     },
     "metadata": {},
     "output_type": "display_data"
    },
    {
     "data": {
      "text/plain": [
       "'Epoch 3660. Train loss: 0.0007268982000141477. Test loss: 0.0006319086082839931.'"
      ]
     },
     "metadata": {},
     "output_type": "display_data"
    },
    {
     "data": {
      "text/plain": [
       "'Epoch 3670. Train loss: 0.0007244840043313161. Test loss: 0.0006298579083932054.'"
      ]
     },
     "metadata": {},
     "output_type": "display_data"
    },
    {
     "data": {
      "text/plain": [
       "'Epoch 3680. Train loss: 0.0007220779419640167. Test loss: 0.0006278109048480473.'"
      ]
     },
     "metadata": {},
     "output_type": "display_data"
    },
    {
     "data": {
      "text/plain": [
       "'Epoch 3690. Train loss: 0.0007196864105935674. Test loss: 0.000625778310836722.'"
      ]
     },
     "metadata": {},
     "output_type": "display_data"
    },
    {
     "data": {
      "text/plain": [
       "'Epoch 3700. Train loss: 0.0007172974048671677. Test loss: 0.0006237483706399872.'"
      ]
     },
     "metadata": {},
     "output_type": "display_data"
    },
    {
     "data": {
      "text/plain": [
       "'Epoch 3710. Train loss: 0.0007149287859192554. Test loss: 0.0006217329586206688.'"
      ]
     },
     "metadata": {},
     "output_type": "display_data"
    },
    {
     "data": {
      "text/plain": [
       "'Epoch 3720. Train loss: 0.0007125631113467535. Test loss: 0.0006197238100185132.'"
      ]
     },
     "metadata": {},
     "output_type": "display_data"
    },
    {
     "data": {
      "text/plain": [
       "'Epoch 3730. Train loss: 0.0007102137759375182. Test loss: 0.0006177256331056924.'"
      ]
     },
     "metadata": {},
     "output_type": "display_data"
    },
    {
     "data": {
      "text/plain": [
       "'Epoch 3740. Train loss: 0.00070787255713185. Test loss: 0.0006157342843835067.'"
      ]
     },
     "metadata": {},
     "output_type": "display_data"
    },
    {
     "data": {
      "text/plain": [
       "'Epoch 3750. Train loss: 0.0007055435947222577. Test loss: 0.0006137529666375485.'"
      ]
     },
     "metadata": {},
     "output_type": "display_data"
    },
    {
     "data": {
      "text/plain": [
       "'Epoch 3760. Train loss: 0.0007032234178723229. Test loss: 0.0006117827334946923.'"
      ]
     },
     "metadata": {},
     "output_type": "display_data"
    },
    {
     "data": {
      "text/plain": [
       "'Epoch 3770. Train loss: 0.0007009133052861216. Test loss: 0.0006098168240896484.'"
      ]
     },
     "metadata": {},
     "output_type": "display_data"
    },
    {
     "data": {
      "text/plain": [
       "'Epoch 3780. Train loss: 0.0006986183447679651. Test loss: 0.0006078660029970706.'"
      ]
     },
     "metadata": {},
     "output_type": "display_data"
    },
    {
     "data": {
      "text/plain": [
       "'Epoch 3790. Train loss: 0.0006963259896338059. Test loss: 0.0006059183251181822.'"
      ]
     },
     "metadata": {},
     "output_type": "display_data"
    },
    {
     "data": {
      "text/plain": [
       "'Epoch 3800. Train loss: 0.0006940529814301044. Test loss: 0.0006039844995711974.'"
      ]
     },
     "metadata": {},
     "output_type": "display_data"
    },
    {
     "data": {
      "text/plain": [
       "'Epoch 3810. Train loss: 0.0006917825070331673. Test loss: 0.000602052587100843.'"
      ]
     },
     "metadata": {},
     "output_type": "display_data"
    },
    {
     "data": {
      "text/plain": [
       "'Epoch 3820. Train loss: 0.0006895300621636124. Test loss: 0.0006001353742703941.'"
      ]
     },
     "metadata": {},
     "output_type": "display_data"
    },
    {
     "data": {
      "text/plain": [
       "'Epoch 3830. Train loss: 0.0006872792372860203. Test loss: 0.0005982219620136675.'"
      ]
     },
     "metadata": {},
     "output_type": "display_data"
    },
    {
     "data": {
      "text/plain": [
       "'Epoch 3840. Train loss: 0.0006850439538084174. Test loss: 0.0005963215904785102.'"
      ]
     },
     "metadata": {},
     "output_type": "display_data"
    },
    {
     "data": {
      "text/plain": [
       "'Epoch 3850. Train loss: 0.0006828182536537497. Test loss: 0.0005944280935636925.'"
      ]
     },
     "metadata": {},
     "output_type": "display_data"
    },
    {
     "data": {
      "text/plain": [
       "'Epoch 3860. Train loss: 0.0006806014531548499. Test loss: 0.0005925415765432263.'"
      ]
     },
     "metadata": {},
     "output_type": "display_data"
    },
    {
     "data": {
      "text/plain": [
       "'Epoch 3870. Train loss: 0.0006783958379855904. Test loss: 0.0005906666456212406.'"
      ]
     },
     "metadata": {},
     "output_type": "display_data"
    },
    {
     "data": {
      "text/plain": [
       "'Epoch 3880. Train loss: 0.0006762001779861748. Test loss: 0.0005887975640007425.'"
      ]
     },
     "metadata": {},
     "output_type": "display_data"
    },
    {
     "data": {
      "text/plain": [
       "'Epoch 3890. Train loss: 0.0006740180880115077. Test loss: 0.0005869419614100479.'"
      ]
     },
     "metadata": {},
     "output_type": "display_data"
    },
    {
     "data": {
      "text/plain": [
       "'Epoch 3900. Train loss: 0.0006718398723478458. Test loss: 0.0005850893302294935.'"
      ]
     },
     "metadata": {},
     "output_type": "display_data"
    },
    {
     "data": {
      "text/plain": [
       "'Epoch 3910. Train loss: 0.0006696784041650972. Test loss: 0.00058325050035819.'"
      ]
     },
     "metadata": {},
     "output_type": "display_data"
    },
    {
     "data": {
      "text/plain": [
       "'Epoch 3920. Train loss: 0.0006675202157111926. Test loss: 0.0005814137527295315.'"
      ]
     },
     "metadata": {},
     "output_type": "display_data"
    },
    {
     "data": {
      "text/plain": [
       "'Epoch 3930. Train loss: 0.000665378944540862. Test loss: 0.0005795905398144896.'"
      ]
     },
     "metadata": {},
     "output_type": "display_data"
    },
    {
     "data": {
      "text/plain": [
       "'Epoch 3940. Train loss: 0.0006632376539073448. Test loss: 0.0005777709026460798.'"
      ]
     },
     "metadata": {},
     "output_type": "display_data"
    },
    {
     "data": {
      "text/plain": [
       "'Epoch 3950. Train loss: 0.0006611144459157004. Test loss: 0.0005759633880870751.'"
      ]
     },
     "metadata": {},
     "output_type": "display_data"
    },
    {
     "data": {
      "text/plain": [
       "'Epoch 3960. Train loss: 0.0006589943914150354. Test loss: 0.0005741605052435262.'"
      ]
     },
     "metadata": {},
     "output_type": "display_data"
    },
    {
     "data": {
      "text/plain": [
       "'Epoch 3970. Train loss: 0.0006568891381903086. Test loss: 0.0005723677269998007.'"
      ]
     },
     "metadata": {},
     "output_type": "display_data"
    },
    {
     "data": {
      "text/plain": [
       "'Epoch 3980. Train loss: 0.0006547896078245685. Test loss: 0.0005705824319875319.'"
      ]
     },
     "metadata": {},
     "output_type": "display_data"
    },
    {
     "data": {
      "text/plain": [
       "'Epoch 3990. Train loss: 0.0006527015497795219. Test loss: 0.0005688042136625882.'"
      ]
     },
     "metadata": {},
     "output_type": "display_data"
    },
    {
     "data": {
      "text/plain": [
       "'Done'"
      ]
     },
     "metadata": {},
     "output_type": "display_data"
    },
    {
     "data": {
      "text/plain": [
       "'Training & eval: cos2 model'"
      ]
     },
     "metadata": {},
     "output_type": "display_data"
    },
    {
     "data": {
      "text/plain": [
       "'Epoch 0. Train loss: 0.37733716163784264. Test loss: 0.4038410576642491.'"
      ]
     },
     "metadata": {},
     "output_type": "display_data"
    },
    {
     "data": {
      "text/plain": [
       "'Epoch 10. Train loss: 0.20537942363880574. Test loss: 0.19653548542701174.'"
      ]
     },
     "metadata": {},
     "output_type": "display_data"
    },
    {
     "data": {
      "text/plain": [
       "'Epoch 20. Train loss: 0.13331731936486904. Test loss: 0.1287623948941473.'"
      ]
     },
     "metadata": {},
     "output_type": "display_data"
    },
    {
     "data": {
      "text/plain": [
       "'Epoch 30. Train loss: 0.09502098424127325. Test loss: 0.09210789870121516.'"
      ]
     },
     "metadata": {},
     "output_type": "display_data"
    },
    {
     "data": {
      "text/plain": [
       "'Epoch 40. Train loss: 0.07026297760312446. Test loss: 0.06843055987264961.'"
      ]
     },
     "metadata": {},
     "output_type": "display_data"
    },
    {
     "data": {
      "text/plain": [
       "'Epoch 50. Train loss: 0.05351881331880577. Test loss: 0.052386805013520645.'"
      ]
     },
     "metadata": {},
     "output_type": "display_data"
    },
    {
     "data": {
      "text/plain": [
       "'Epoch 60. Train loss: 0.04188780970871449. Test loss: 0.04120457785320468.'"
      ]
     },
     "metadata": {},
     "output_type": "display_data"
    },
    {
     "data": {
      "text/plain": [
       "'Epoch 70. Train loss: 0.0337123483826872. Test loss: 0.033285443513887.'"
      ]
     },
     "metadata": {},
     "output_type": "display_data"
    },
    {
     "data": {
      "text/plain": [
       "'Epoch 80. Train loss: 0.027850685091107153. Test loss: 0.027562087506521494.'"
      ]
     },
     "metadata": {},
     "output_type": "display_data"
    },
    {
     "data": {
      "text/plain": [
       "'Epoch 90. Train loss: 0.023555236350512133. Test loss: 0.023334467818494888.'"
      ]
     },
     "metadata": {},
     "output_type": "display_data"
    },
    {
     "data": {
      "text/plain": [
       "'Epoch 100. Train loss: 0.02033373717276845. Test loss: 0.02014075525221415.'"
      ]
     },
     "metadata": {},
     "output_type": "display_data"
    },
    {
     "data": {
      "text/plain": [
       "'Epoch 110. Train loss: 0.017858238892222288. Test loss: 0.01767177240399178.'"
      ]
     },
     "metadata": {},
     "output_type": "display_data"
    },
    {
     "data": {
      "text/plain": [
       "'Epoch 120. Train loss: 0.015908045950345694. Test loss: 0.01571968992066104.'"
      ]
     },
     "metadata": {},
     "output_type": "display_data"
    },
    {
     "data": {
      "text/plain": [
       "'Epoch 130. Train loss: 0.014339897409081459. Test loss: 0.014143429600517265.'"
      ]
     },
     "metadata": {},
     "output_type": "display_data"
    },
    {
     "data": {
      "text/plain": [
       "'Epoch 140. Train loss: 0.013053460384253413. Test loss: 0.012846255162730812.'"
      ]
     },
     "metadata": {},
     "output_type": "display_data"
    },
    {
     "data": {
      "text/plain": [
       "'Epoch 150. Train loss: 0.011979739619710017. Test loss: 0.011761192002450117.'"
      ]
     },
     "metadata": {},
     "output_type": "display_data"
    },
    {
     "data": {
      "text/plain": [
       "'Epoch 160. Train loss: 0.011070757679408415. Test loss: 0.010841178623377346.'"
      ]
     },
     "metadata": {},
     "output_type": "display_data"
    },
    {
     "data": {
      "text/plain": [
       "'Epoch 170. Train loss: 0.010292169042804744. Test loss: 0.010052297083893791.'"
      ]
     },
     "metadata": {},
     "output_type": "display_data"
    },
    {
     "data": {
      "text/plain": [
       "'Epoch 180. Train loss: 0.00961904512369074. Test loss: 0.009369704747223295.'"
      ]
     },
     "metadata": {},
     "output_type": "display_data"
    },
    {
     "data": {
      "text/plain": [
       "'Epoch 190. Train loss: 0.009032717830268665. Test loss: 0.008774651159910718.'"
      ]
     },
     "metadata": {},
     "output_type": "display_data"
    },
    {
     "data": {
      "text/plain": [
       "'Epoch 200. Train loss: 0.008518821765756001. Test loss: 0.008252715272828937.'"
      ]
     },
     "metadata": {},
     "output_type": "display_data"
    },
    {
     "data": {
      "text/plain": [
       "'Epoch 210. Train loss: 0.008066201815381646. Test loss: 0.007792611849072273.'"
      ]
     },
     "metadata": {},
     "output_type": "display_data"
    },
    {
     "data": {
      "text/plain": [
       "'Epoch 220. Train loss: 0.007665819975954946. Test loss: 0.007385251781670377.'"
      ]
     },
     "metadata": {},
     "output_type": "display_data"
    },
    {
     "data": {
      "text/plain": [
       "'Epoch 230. Train loss: 0.007310404958843719. Test loss: 0.007023248046971275.'"
      ]
     },
     "metadata": {},
     "output_type": "display_data"
    },
    {
     "data": {
      "text/plain": [
       "'Epoch 240. Train loss: 0.0069938930737407645. Test loss: 0.0067004595861362756.'"
      ]
     },
     "metadata": {},
     "output_type": "display_data"
    },
    {
     "data": {
      "text/plain": [
       "'Epoch 250. Train loss: 0.0067111822419974486. Test loss: 0.006411756113448064.'"
      ]
     },
     "metadata": {},
     "output_type": "display_data"
    },
    {
     "data": {
      "text/plain": [
       "'Epoch 260. Train loss: 0.006458016864780802. Test loss: 0.006152829719576402.'"
      ]
     },
     "metadata": {},
     "output_type": "display_data"
    },
    {
     "data": {
      "text/plain": [
       "'Epoch 270. Train loss: 0.0062307611791766245. Test loss: 0.005920014031289611.'"
      ]
     },
     "metadata": {},
     "output_type": "display_data"
    },
    {
     "data": {
      "text/plain": [
       "'Epoch 280. Train loss: 0.006026268521236488. Test loss: 0.005710163947514957.'"
      ]
     },
     "metadata": {},
     "output_type": "display_data"
    },
    {
     "data": {
      "text/plain": [
       "'Epoch 290. Train loss: 0.005841876783233601. Test loss: 0.0055205860306159595.'"
      ]
     },
     "metadata": {},
     "output_type": "display_data"
    },
    {
     "data": {
      "text/plain": [
       "'Epoch 300. Train loss: 0.005675221420824527. Test loss: 0.005348929164028959.'"
      ]
     },
     "metadata": {},
     "output_type": "display_data"
    },
    {
     "data": {
      "text/plain": [
       "'Epoch 310. Train loss: 0.00552429173476412. Test loss: 0.0051931556954514235.'"
      ]
     },
     "metadata": {},
     "output_type": "display_data"
    },
    {
     "data": {
      "text/plain": [
       "'Epoch 320. Train loss: 0.005387303829775192. Test loss: 0.005051482749695424.'"
      ]
     },
     "metadata": {},
     "output_type": "display_data"
    },
    {
     "data": {
      "text/plain": [
       "'Epoch 330. Train loss: 0.005262687731737969. Test loss: 0.004922372124565299.'"
      ]
     },
     "metadata": {},
     "output_type": "display_data"
    },
    {
     "data": {
      "text/plain": [
       "'Epoch 340. Train loss: 0.0051491500184056346. Test loss: 0.0048044759154436175.'"
      ]
     },
     "metadata": {},
     "output_type": "display_data"
    },
    {
     "data": {
      "text/plain": [
       "'Epoch 350. Train loss: 0.005045440935646184. Test loss: 0.004696593983680941.'"
      ]
     },
     "metadata": {},
     "output_type": "display_data"
    },
    {
     "data": {
      "text/plain": [
       "'Epoch 360. Train loss: 0.004950540422578342. Test loss: 0.004597675136028556.'"
      ]
     },
     "metadata": {},
     "output_type": "display_data"
    },
    {
     "data": {
      "text/plain": [
       "'Epoch 370. Train loss: 0.00486356355904718. Test loss: 0.0045068251085467635.'"
      ]
     },
     "metadata": {},
     "output_type": "display_data"
    },
    {
     "data": {
      "text/plain": [
       "'Epoch 380. Train loss: 0.004783627453434747. Test loss: 0.00442317813722184.'"
      ]
     },
     "metadata": {},
     "output_type": "display_data"
    },
    {
     "data": {
      "text/plain": [
       "'Epoch 390. Train loss: 0.0047100434909225445. Test loss: 0.004346040062955581.'"
      ]
     },
     "metadata": {},
     "output_type": "display_data"
    },
    {
     "data": {
      "text/plain": [
       "'Epoch 400. Train loss: 0.004642179304210003. Test loss: 0.0042747515130031385.'"
      ]
     },
     "metadata": {},
     "output_type": "display_data"
    },
    {
     "data": {
      "text/plain": [
       "'Epoch 410. Train loss: 0.0045794275007210675. Test loss: 0.00420874823757913.'"
      ]
     },
     "metadata": {},
     "output_type": "display_data"
    },
    {
     "data": {
      "text/plain": [
       "'Epoch 420. Train loss: 0.004521296516759321. Test loss: 0.0041475186590105295.'"
      ]
     },
     "metadata": {},
     "output_type": "display_data"
    },
    {
     "data": {
      "text/plain": [
       "'Epoch 430. Train loss: 0.004467362357536331. Test loss: 0.0040906005393480886.'"
      ]
     },
     "metadata": {},
     "output_type": "display_data"
    },
    {
     "data": {
      "text/plain": [
       "'Epoch 440. Train loss: 0.00441718778165523. Test loss: 0.004037591270753182.'"
      ]
     },
     "metadata": {},
     "output_type": "display_data"
    },
    {
     "data": {
      "text/plain": [
       "'Epoch 450. Train loss: 0.004370418448525015. Test loss: 0.003988122291048057.'"
      ]
     },
     "metadata": {},
     "output_type": "display_data"
    },
    {
     "data": {
      "text/plain": [
       "'Epoch 460. Train loss: 0.004326716945797671. Test loss: 0.003941861643397715.'"
      ]
     },
     "metadata": {},
     "output_type": "display_data"
    },
    {
     "data": {
      "text/plain": [
       "'Epoch 470. Train loss: 0.004285826609702781. Test loss: 0.003898531920276582.'"
      ]
     },
     "metadata": {},
     "output_type": "display_data"
    },
    {
     "data": {
      "text/plain": [
       "'Epoch 480. Train loss: 0.004247450936236419. Test loss: 0.003857856028480455.'"
      ]
     },
     "metadata": {},
     "output_type": "display_data"
    },
    {
     "data": {
      "text/plain": [
       "'Epoch 490. Train loss: 0.00421140304824803. Test loss: 0.003819603155716322.'"
      ]
     },
     "metadata": {},
     "output_type": "display_data"
    },
    {
     "data": {
      "text/plain": [
       "'Epoch 500. Train loss: 0.004177444169181399. Test loss: 0.0037835630384506656.'"
      ]
     },
     "metadata": {},
     "output_type": "display_data"
    },
    {
     "data": {
      "text/plain": [
       "'Epoch 510. Train loss: 0.00414535569580039. Test loss: 0.0037495154771022498.'"
      ]
     },
     "metadata": {},
     "output_type": "display_data"
    },
    {
     "data": {
      "text/plain": [
       "'Epoch 520. Train loss: 0.004115034046117216. Test loss: 0.0037173110380535946.'"
      ]
     },
     "metadata": {},
     "output_type": "display_data"
    },
    {
     "data": {
      "text/plain": [
       "'Epoch 530. Train loss: 0.004086272881249897. Test loss: 0.003686797161935829.'"
      ]
     },
     "metadata": {},
     "output_type": "display_data"
    },
    {
     "data": {
      "text/plain": [
       "'Epoch 540. Train loss: 0.0040589401134639045. Test loss: 0.0036578051614924332.'"
      ]
     },
     "metadata": {},
     "output_type": "display_data"
    },
    {
     "data": {
      "text/plain": [
       "'Epoch 550. Train loss: 0.0040329408860998225. Test loss: 0.003630219475599006.'"
      ]
     },
     "metadata": {},
     "output_type": "display_data"
    },
    {
     "data": {
      "text/plain": [
       "'Epoch 560. Train loss: 0.004008098869235255. Test loss: 0.003603924396156799.'"
      ]
     },
     "metadata": {},
     "output_type": "display_data"
    },
    {
     "data": {
      "text/plain": [
       "'Epoch 570. Train loss: 0.003984363659401424. Test loss: 0.003578805750294123.'"
      ]
     },
     "metadata": {},
     "output_type": "display_data"
    },
    {
     "data": {
      "text/plain": [
       "'Epoch 580. Train loss: 0.0039616310576093385. Test loss: 0.0035547673411201685.'"
      ]
     },
     "metadata": {},
     "output_type": "display_data"
    },
    {
     "data": {
      "text/plain": [
       "'Epoch 590. Train loss: 0.003939741841168143. Test loss: 0.0035317239045980385.'"
      ]
     },
     "metadata": {},
     "output_type": "display_data"
    },
    {
     "data": {
      "text/plain": [
       "'Epoch 600. Train loss: 0.003918814765347634. Test loss: 0.003509604283317458.'"
      ]
     },
     "metadata": {},
     "output_type": "display_data"
    },
    {
     "data": {
      "text/plain": [
       "'Epoch 610. Train loss: 0.0038985441395197997. Test loss: 0.003488309092062991.'"
      ]
     },
     "metadata": {},
     "output_type": "display_data"
    },
    {
     "data": {
      "text/plain": [
       "'Epoch 620. Train loss: 0.003878991112287622. Test loss: 0.003467783337691799.'"
      ]
     },
     "metadata": {},
     "output_type": "display_data"
    },
    {
     "data": {
      "text/plain": [
       "'Epoch 630. Train loss: 0.0038601361666223966. Test loss: 0.0034479943889891727.'"
      ]
     },
     "metadata": {},
     "output_type": "display_data"
    },
    {
     "data": {
      "text/plain": [
       "'Epoch 640. Train loss: 0.003841797988570761. Test loss: 0.00342884397105081.'"
      ]
     },
     "metadata": {},
     "output_type": "display_data"
    },
    {
     "data": {
      "text/plain": [
       "'Epoch 650. Train loss: 0.0038240229201619512. Test loss: 0.0034103005309589207.'"
      ]
     },
     "metadata": {},
     "output_type": "display_data"
    },
    {
     "data": {
      "text/plain": [
       "'Epoch 660. Train loss: 0.00380678987421561. Test loss: 0.0033923308044904845.'"
      ]
     },
     "metadata": {},
     "output_type": "display_data"
    },
    {
     "data": {
      "text/plain": [
       "'Epoch 670. Train loss: 0.0037899493079748938. Test loss: 0.003374879249895457.'"
      ]
     },
     "metadata": {},
     "output_type": "display_data"
    },
    {
     "data": {
      "text/plain": [
       "'Epoch 680. Train loss: 0.003773492787149735. Test loss: 0.003357881325064227.'"
      ]
     },
     "metadata": {},
     "output_type": "display_data"
    },
    {
     "data": {
      "text/plain": [
       "'Epoch 690. Train loss: 0.0037575856084004046. Test loss: 0.003341370313137304.'"
      ]
     },
     "metadata": {},
     "output_type": "display_data"
    },
    {
     "data": {
      "text/plain": [
       "'Epoch 700. Train loss: 0.0037419319662149063. Test loss: 0.0033252644236199556.'"
      ]
     },
     "metadata": {},
     "output_type": "display_data"
    },
    {
     "data": {
      "text/plain": [
       "'Epoch 710. Train loss: 0.0037265647246385925. Test loss: 0.0033095161808887495.'"
      ]
     },
     "metadata": {},
     "output_type": "display_data"
    },
    {
     "data": {
      "text/plain": [
       "'Epoch 720. Train loss: 0.003711635603394825. Test loss: 0.0032941501500317826.'"
      ]
     },
     "metadata": {},
     "output_type": "display_data"
    },
    {
     "data": {
      "text/plain": [
       "'Epoch 730. Train loss: 0.003696898960333783. Test loss: 0.0032791006990009917.'"
      ]
     },
     "metadata": {},
     "output_type": "display_data"
    },
    {
     "data": {
      "text/plain": [
       "'Epoch 740. Train loss: 0.003682373304036446. Test loss: 0.003264347245567478.'"
      ]
     },
     "metadata": {},
     "output_type": "display_data"
    },
    {
     "data": {
      "text/plain": [
       "'Epoch 750. Train loss: 0.0036682095495052637. Test loss: 0.0032499034467036838.'"
      ]
     },
     "metadata": {},
     "output_type": "display_data"
    },
    {
     "data": {
      "text/plain": [
       "'Epoch 760. Train loss: 0.0036542061337968335. Test loss: 0.0032357079020584934.'"
      ]
     },
     "metadata": {},
     "output_type": "display_data"
    },
    {
     "data": {
      "text/plain": [
       "'Epoch 770. Train loss: 0.003640364555758424. Test loss: 0.003221762232715264.'"
      ]
     },
     "metadata": {},
     "output_type": "display_data"
    },
    {
     "data": {
      "text/plain": [
       "'Epoch 780. Train loss: 0.0036268456402467563. Test loss: 0.0032080751872854306.'"
      ]
     },
     "metadata": {},
     "output_type": "display_data"
    },
    {
     "data": {
      "text/plain": [
       "'Epoch 790. Train loss: 0.0036133961417363024. Test loss: 0.003194577699468937.'"
      ]
     },
     "metadata": {},
     "output_type": "display_data"
    },
    {
     "data": {
      "text/plain": [
       "'Epoch 800. Train loss: 0.0036001004627905786. Test loss: 0.003181290016800631.'"
      ]
     },
     "metadata": {},
     "output_type": "display_data"
    },
    {
     "data": {
      "text/plain": [
       "'Epoch 810. Train loss: 0.003587072278605774. Test loss: 0.0031682030268711968.'"
      ]
     },
     "metadata": {},
     "output_type": "display_data"
    },
    {
     "data": {
      "text/plain": [
       "'Epoch 820. Train loss: 0.0035741039770073257. Test loss: 0.0031552954504149968.'"
      ]
     },
     "metadata": {},
     "output_type": "display_data"
    },
    {
     "data": {
      "text/plain": [
       "'Epoch 830. Train loss: 0.003561284320312552. Test loss: 0.003142538445536047.'"
      ]
     },
     "metadata": {},
     "output_type": "display_data"
    },
    {
     "data": {
      "text/plain": [
       "'Epoch 840. Train loss: 0.003548631128796842. Test loss: 0.003129975628689863.'"
      ]
     },
     "metadata": {},
     "output_type": "display_data"
    },
    {
     "data": {
      "text/plain": [
       "'Epoch 850. Train loss: 0.0035360040623345413. Test loss: 0.003117527419817634.'"
      ]
     },
     "metadata": {},
     "output_type": "display_data"
    },
    {
     "data": {
      "text/plain": [
       "'Epoch 860. Train loss: 0.0035236132243881. Test loss: 0.0031052590216859243.'"
      ]
     },
     "metadata": {},
     "output_type": "display_data"
    },
    {
     "data": {
      "text/plain": [
       "'Epoch 870. Train loss: 0.0035112411846057513. Test loss: 0.0030930948385503145.'"
      ]
     },
     "metadata": {},
     "output_type": "display_data"
    },
    {
     "data": {
      "text/plain": [
       "'Epoch 880. Train loss: 0.0034990179468877614. Test loss: 0.0030810518001089804.'"
      ]
     },
     "metadata": {},
     "output_type": "display_data"
    },
    {
     "data": {
      "text/plain": [
       "'Epoch 890. Train loss: 0.003486854798393324. Test loss: 0.0030691484018461777.'"
      ]
     },
     "metadata": {},
     "output_type": "display_data"
    },
    {
     "data": {
      "text/plain": [
       "'Epoch 900. Train loss: 0.0034748179532471113. Test loss: 0.003057356372301001.'"
      ]
     },
     "metadata": {},
     "output_type": "display_data"
    },
    {
     "data": {
      "text/plain": [
       "'Epoch 910. Train loss: 0.0034628236666321755. Test loss: 0.003045668700360693.'"
      ]
     },
     "metadata": {},
     "output_type": "display_data"
    },
    {
     "data": {
      "text/plain": [
       "'Epoch 920. Train loss: 0.0034509103599702938. Test loss: 0.003034060380014125.'"
      ]
     },
     "metadata": {},
     "output_type": "display_data"
    },
    {
     "data": {
      "text/plain": [
       "'Epoch 930. Train loss: 0.0034390930450172164. Test loss: 0.0030225821596104653.'"
      ]
     },
     "metadata": {},
     "output_type": "display_data"
    },
    {
     "data": {
      "text/plain": [
       "'Epoch 940. Train loss: 0.0034273308207048102. Test loss: 0.003011176665313542.'"
      ]
     },
     "metadata": {},
     "output_type": "display_data"
    },
    {
     "data": {
      "text/plain": [
       "'Epoch 950. Train loss: 0.0034156539288233033. Test loss: 0.002999884028395172.'"
      ]
     },
     "metadata": {},
     "output_type": "display_data"
    },
    {
     "data": {
      "text/plain": [
       "'Epoch 960. Train loss: 0.0034040388010907916. Test loss: 0.002988655342778657.'"
      ]
     },
     "metadata": {},
     "output_type": "display_data"
    },
    {
     "data": {
      "text/plain": [
       "'Epoch 970. Train loss: 0.0033924794435733928. Test loss: 0.002977525844471529.'"
      ]
     },
     "metadata": {},
     "output_type": "display_data"
    },
    {
     "data": {
      "text/plain": [
       "'Epoch 980. Train loss: 0.0033809965490945613. Test loss: 0.002966464096971322.'"
      ]
     },
     "metadata": {},
     "output_type": "display_data"
    },
    {
     "data": {
      "text/plain": [
       "'Epoch 990. Train loss: 0.003369523368019145. Test loss: 0.0029554764565546065.'"
      ]
     },
     "metadata": {},
     "output_type": "display_data"
    },
    {
     "data": {
      "text/plain": [
       "'Epoch 1000. Train loss: 0.0033581706331460735. Test loss: 0.002944568733801134.'"
      ]
     },
     "metadata": {},
     "output_type": "display_data"
    },
    {
     "data": {
      "text/plain": [
       "'Epoch 1010. Train loss: 0.0033467944973381235. Test loss: 0.0029337270883843304.'"
      ]
     },
     "metadata": {},
     "output_type": "display_data"
    },
    {
     "data": {
      "text/plain": [
       "'Epoch 1020. Train loss: 0.0033355590814608147. Test loss: 0.0029229552324977703.'"
      ]
     },
     "metadata": {},
     "output_type": "display_data"
    },
    {
     "data": {
      "text/plain": [
       "'Epoch 1030. Train loss: 0.003324327561131213. Test loss: 0.002912237209966406.'"
      ]
     },
     "metadata": {},
     "output_type": "display_data"
    },
    {
     "data": {
      "text/plain": [
       "'Epoch 1040. Train loss: 0.003313124667329248. Test loss: 0.002901598306198139.'"
      ]
     },
     "metadata": {},
     "output_type": "display_data"
    },
    {
     "data": {
      "text/plain": [
       "'Epoch 1050. Train loss: 0.0033020179835148156. Test loss: 0.0028910101886140183.'"
      ]
     },
     "metadata": {},
     "output_type": "display_data"
    },
    {
     "data": {
      "text/plain": [
       "'Epoch 1060. Train loss: 0.0032908617329667324. Test loss: 0.002880474188714288.'"
      ]
     },
     "metadata": {},
     "output_type": "display_data"
    },
    {
     "data": {
      "text/plain": [
       "'Epoch 1070. Train loss: 0.003279853172716685. Test loss: 0.002870009334583301.'"
      ]
     },
     "metadata": {},
     "output_type": "display_data"
    },
    {
     "data": {
      "text/plain": [
       "'Epoch 1080. Train loss: 0.0032688632971257904. Test loss: 0.002859591784363147.'"
      ]
     },
     "metadata": {},
     "output_type": "display_data"
    },
    {
     "data": {
      "text/plain": [
       "'Epoch 1090. Train loss: 0.003257838102581445. Test loss: 0.0028492277808254583.'"
      ]
     },
     "metadata": {},
     "output_type": "display_data"
    },
    {
     "data": {
      "text/plain": [
       "'Epoch 1100. Train loss: 0.0032469470243086107. Test loss: 0.0028389200029778293.'"
      ]
     },
     "metadata": {},
     "output_type": "display_data"
    },
    {
     "data": {
      "text/plain": [
       "'Epoch 1110. Train loss: 0.0032360811295802706. Test loss: 0.0028286588509217835.'"
      ]
     },
     "metadata": {},
     "output_type": "display_data"
    },
    {
     "data": {
      "text/plain": [
       "'Epoch 1120. Train loss: 0.0032252355726086535. Test loss: 0.0028184413371491247.'"
      ]
     },
     "metadata": {},
     "output_type": "display_data"
    },
    {
     "data": {
      "text/plain": [
       "'Epoch 1130. Train loss: 0.0032143958946107888. Test loss: 0.002808288631786127.'"
      ]
     },
     "metadata": {},
     "output_type": "display_data"
    },
    {
     "data": {
      "text/plain": [
       "'Epoch 1140. Train loss: 0.003203649164061062. Test loss: 0.0027981787963653913.'"
      ]
     },
     "metadata": {},
     "output_type": "display_data"
    },
    {
     "data": {
      "text/plain": [
       "'Epoch 1150. Train loss: 0.0031929317716276272. Test loss: 0.002788115423754789.'"
      ]
     },
     "metadata": {},
     "output_type": "display_data"
    },
    {
     "data": {
      "text/plain": [
       "'Epoch 1160. Train loss: 0.0031822426186408847. Test loss: 0.002778095540998038.'"
      ]
     },
     "metadata": {},
     "output_type": "display_data"
    },
    {
     "data": {
      "text/plain": [
       "'Epoch 1170. Train loss: 0.003171531383122783. Test loss: 0.0027681145336828196.'"
      ]
     },
     "metadata": {},
     "output_type": "display_data"
    },
    {
     "data": {
      "text/plain": [
       "'Epoch 1180. Train loss: 0.003160954492341261. Test loss: 0.002758200190146454.'"
      ]
     },
     "metadata": {},
     "output_type": "display_data"
    },
    {
     "data": {
      "text/plain": [
       "'Epoch 1190. Train loss: 0.0031503922160482033. Test loss: 0.002748328886809759.'"
      ]
     },
     "metadata": {},
     "output_type": "display_data"
    },
    {
     "data": {
      "text/plain": [
       "'Epoch 1200. Train loss: 0.0031398459599586205. Test loss: 0.0027384867818909695.'"
      ]
     },
     "metadata": {},
     "output_type": "display_data"
    },
    {
     "data": {
      "text/plain": [
       "'Epoch 1210. Train loss: 0.0031292770385334735. Test loss: 0.002728696916165063.'"
      ]
     },
     "metadata": {},
     "output_type": "display_data"
    },
    {
     "data": {
      "text/plain": [
       "'Epoch 1220. Train loss: 0.00311882677488029. Test loss: 0.002718949150585104.'"
      ]
     },
     "metadata": {},
     "output_type": "display_data"
    },
    {
     "data": {
      "text/plain": [
       "'Epoch 1230. Train loss: 0.003108399795019068. Test loss: 0.0027092401942354627.'"
      ]
     },
     "metadata": {},
     "output_type": "display_data"
    },
    {
     "data": {
      "text/plain": [
       "'Epoch 1240. Train loss: 0.003098001721809851. Test loss: 0.002699571788252797.'"
      ]
     },
     "metadata": {},
     "output_type": "display_data"
    },
    {
     "data": {
      "text/plain": [
       "'Epoch 1250. Train loss: 0.0030876320532115644. Test loss: 0.002689940062555252.'"
      ]
     },
     "metadata": {},
     "output_type": "display_data"
    },
    {
     "data": {
      "text/plain": [
       "'Epoch 1260. Train loss: 0.003077282046433538. Test loss: 0.0026803404100064652.'"
      ]
     },
     "metadata": {},
     "output_type": "display_data"
    },
    {
     "data": {
      "text/plain": [
       "'Epoch 1270. Train loss: 0.0030669992542243564. Test loss: 0.002670802171633113.'"
      ]
     },
     "metadata": {},
     "output_type": "display_data"
    },
    {
     "data": {
      "text/plain": [
       "'Epoch 1280. Train loss: 0.003056680836016312. Test loss: 0.0026613033951434772.'"
      ]
     },
     "metadata": {},
     "output_type": "display_data"
    },
    {
     "data": {
      "text/plain": [
       "'Epoch 1290. Train loss: 0.003046462054771837. Test loss: 0.002651839193276828.'"
      ]
     },
     "metadata": {},
     "output_type": "display_data"
    },
    {
     "data": {
      "text/plain": [
       "'Epoch 1300. Train loss: 0.003036275405611377. Test loss: 0.002642410184489563.'"
      ]
     },
     "metadata": {},
     "output_type": "display_data"
    },
    {
     "data": {
      "text/plain": [
       "'Epoch 1310. Train loss: 0.00302611201259424. Test loss: 0.0026330158252676483.'"
      ]
     },
     "metadata": {},
     "output_type": "display_data"
    },
    {
     "data": {
      "text/plain": [
       "'Epoch 1320. Train loss: 0.0030159802816342564. Test loss: 0.002623663475969806.'"
      ]
     },
     "metadata": {},
     "output_type": "display_data"
    },
    {
     "data": {
      "text/plain": [
       "'Epoch 1330. Train loss: 0.0030058830881898755. Test loss: 0.002614343200548319.'"
      ]
     },
     "metadata": {},
     "output_type": "display_data"
    },
    {
     "data": {
      "text/plain": [
       "'Epoch 1340. Train loss: 0.002995817879855167. Test loss: 0.0026050670989206993.'"
      ]
     },
     "metadata": {},
     "output_type": "display_data"
    },
    {
     "data": {
      "text/plain": [
       "'Epoch 1350. Train loss: 0.0029857813264243306. Test loss: 0.002595816060056677.'"
      ]
     },
     "metadata": {},
     "output_type": "display_data"
    },
    {
     "data": {
      "text/plain": [
       "'Epoch 1360. Train loss: 0.002975806159520289. Test loss: 0.002586622162925778.'"
      ]
     },
     "metadata": {},
     "output_type": "display_data"
    },
    {
     "data": {
      "text/plain": [
       "'Epoch 1370. Train loss: 0.0029658550076419486. Test loss: 0.0025774609865038657.'"
      ]
     },
     "metadata": {},
     "output_type": "display_data"
    },
    {
     "data": {
      "text/plain": [
       "'Epoch 1380. Train loss: 0.0029559250317106487. Test loss: 0.0025683320258394816.'"
      ]
     },
     "metadata": {},
     "output_type": "display_data"
    },
    {
     "data": {
      "text/plain": [
       "'Epoch 1390. Train loss: 0.002946029932354577. Test loss: 0.002559236009255983.'"
      ]
     },
     "metadata": {},
     "output_type": "display_data"
    },
    {
     "data": {
      "text/plain": [
       "'Epoch 1400. Train loss: 0.002936153599148383. Test loss: 0.0025501725627691484.'"
      ]
     },
     "metadata": {},
     "output_type": "display_data"
    },
    {
     "data": {
      "text/plain": [
       "'Epoch 1410. Train loss: 0.0029263808974064887. Test loss: 0.0025411442016775253.'"
      ]
     },
     "metadata": {},
     "output_type": "display_data"
    },
    {
     "data": {
      "text/plain": [
       "'Epoch 1420. Train loss: 0.0029165854830353055. Test loss: 0.0025321567656646947.'"
      ]
     },
     "metadata": {},
     "output_type": "display_data"
    },
    {
     "data": {
      "text/plain": [
       "'Epoch 1430. Train loss: 0.0029068125993944706. Test loss: 0.002523201776784845.'"
      ]
     },
     "metadata": {},
     "output_type": "display_data"
    },
    {
     "data": {
      "text/plain": [
       "'Epoch 1440. Train loss: 0.002897068319725804. Test loss: 0.0025142757629510017.'"
      ]
     },
     "metadata": {},
     "output_type": "display_data"
    },
    {
     "data": {
      "text/plain": [
       "'Epoch 1450. Train loss: 0.002887361578177661. Test loss: 0.002505389844009187.'"
      ]
     },
     "metadata": {},
     "output_type": "display_data"
    },
    {
     "data": {
      "text/plain": [
       "'Epoch 1460. Train loss: 0.0028776660619769245. Test loss: 0.0024965265693026595.'"
      ]
     },
     "metadata": {},
     "output_type": "display_data"
    },
    {
     "data": {
      "text/plain": [
       "'Epoch 1470. Train loss: 0.0028680281138804276. Test loss: 0.002487719123746501.'"
      ]
     },
     "metadata": {},
     "output_type": "display_data"
    },
    {
     "data": {
      "text/plain": [
       "'Epoch 1480. Train loss: 0.002858419448602945. Test loss: 0.0024789434362901376.'"
      ]
     },
     "metadata": {},
     "output_type": "display_data"
    },
    {
     "data": {
      "text/plain": [
       "'Epoch 1490. Train loss: 0.0028489177937444767. Test loss: 0.002470201055984944.'"
      ]
     },
     "metadata": {},
     "output_type": "display_data"
    },
    {
     "data": {
      "text/plain": [
       "'Epoch 1500. Train loss: 0.002839370464789681. Test loss: 0.002461486734682694.'"
      ]
     },
     "metadata": {},
     "output_type": "display_data"
    },
    {
     "data": {
      "text/plain": [
       "'Epoch 1510. Train loss: 0.0028298525576246902. Test loss: 0.002452809186797822.'"
      ]
     },
     "metadata": {},
     "output_type": "display_data"
    },
    {
     "data": {
      "text/plain": [
       "'Epoch 1520. Train loss: 0.0028203607485920656. Test loss: 0.0024441594614472706.'"
      ]
     },
     "metadata": {},
     "output_type": "display_data"
    },
    {
     "data": {
      "text/plain": [
       "'Epoch 1530. Train loss: 0.002810901345947059. Test loss: 0.002435545240587089.'"
      ]
     },
     "metadata": {},
     "output_type": "display_data"
    },
    {
     "data": {
      "text/plain": [
       "'Epoch 1540. Train loss: 0.0028015480158501303. Test loss: 0.0024269670888315887.'"
      ]
     },
     "metadata": {},
     "output_type": "display_data"
    },
    {
     "data": {
      "text/plain": [
       "'Epoch 1550. Train loss: 0.002792161206889432. Test loss: 0.0024184230467653835.'"
      ]
     },
     "metadata": {},
     "output_type": "display_data"
    },
    {
     "data": {
      "text/plain": [
       "'Epoch 1560. Train loss: 0.002782805034075864. Test loss: 0.0024099117603327614.'"
      ]
     },
     "metadata": {},
     "output_type": "display_data"
    },
    {
     "data": {
      "text/plain": [
       "'Epoch 1570. Train loss: 0.0027734736526326743. Test loss: 0.002401434869534569.'"
      ]
     },
     "metadata": {},
     "output_type": "display_data"
    },
    {
     "data": {
      "text/plain": [
       "'Epoch 1580. Train loss: 0.0027642433560686186. Test loss: 0.0023929917617351746.'"
      ]
     },
     "metadata": {},
     "output_type": "display_data"
    },
    {
     "data": {
      "text/plain": [
       "'Epoch 1590. Train loss: 0.0027549901817110365. Test loss: 0.0023845803370932117.'"
      ]
     },
     "metadata": {},
     "output_type": "display_data"
    },
    {
     "data": {
      "text/plain": [
       "'Epoch 1600. Train loss: 0.0027457612784928644. Test loss: 0.002376206641929457.'"
      ]
     },
     "metadata": {},
     "output_type": "display_data"
    },
    {
     "data": {
      "text/plain": [
       "'Epoch 1610. Train loss: 0.002736552091664635. Test loss: 0.0023678631161601514.'"
      ]
     },
     "metadata": {},
     "output_type": "display_data"
    },
    {
     "data": {
      "text/plain": [
       "'Epoch 1620. Train loss: 0.002727456253342098. Test loss: 0.0023595575687068047.'"
      ]
     },
     "metadata": {},
     "output_type": "display_data"
    },
    {
     "data": {
      "text/plain": [
       "'Epoch 1630. Train loss: 0.0027183294499991463. Test loss: 0.002351286532211816.'"
      ]
     },
     "metadata": {},
     "output_type": "display_data"
    },
    {
     "data": {
      "text/plain": [
       "'Epoch 1640. Train loss: 0.0027092394419014456. Test loss: 0.002343048022885341.'"
      ]
     },
     "metadata": {},
     "output_type": "display_data"
    },
    {
     "data": {
      "text/plain": [
       "'Epoch 1650. Train loss: 0.002700240074045723. Test loss: 0.0023348424612777306.'"
      ]
     },
     "metadata": {},
     "output_type": "display_data"
    },
    {
     "data": {
      "text/plain": [
       "'Epoch 1660. Train loss: 0.002691222741123056. Test loss: 0.0023266800541023257.'"
      ]
     },
     "metadata": {},
     "output_type": "display_data"
    },
    {
     "data": {
      "text/plain": [
       "'Epoch 1670. Train loss: 0.002682233080122387. Test loss: 0.0023185457230283646.'"
      ]
     },
     "metadata": {},
     "output_type": "display_data"
    },
    {
     "data": {
      "text/plain": [
       "'Epoch 1680. Train loss: 0.0026733319864433724. Test loss: 0.0023104447205696487.'"
      ]
     },
     "metadata": {},
     "output_type": "display_data"
    },
    {
     "data": {
      "text/plain": [
       "'Epoch 1690. Train loss: 0.002664418656786438. Test loss: 0.0023023814686894185.'"
      ]
     },
     "metadata": {},
     "output_type": "display_data"
    },
    {
     "data": {
      "text/plain": [
       "'Epoch 1700. Train loss: 0.0026555379234196154. Test loss: 0.002294352961325785.'"
      ]
     },
     "metadata": {},
     "output_type": "display_data"
    },
    {
     "data": {
      "text/plain": [
       "'Epoch 1710. Train loss: 0.002646741231001215. Test loss: 0.002286357338380185.'"
      ]
     },
     "metadata": {},
     "output_type": "display_data"
    },
    {
     "data": {
      "text/plain": [
       "'Epoch 1720. Train loss: 0.0026379335540696047. Test loss: 0.00227839959479752.'"
      ]
     },
     "metadata": {},
     "output_type": "display_data"
    },
    {
     "data": {
      "text/plain": [
       "'Epoch 1730. Train loss: 0.002629153972520726. Test loss: 0.002270471377778449.'"
      ]
     },
     "metadata": {},
     "output_type": "display_data"
    },
    {
     "data": {
      "text/plain": [
       "'Epoch 1740. Train loss: 0.0026204661928204585. Test loss: 0.002262580400565639.'"
      ]
     },
     "metadata": {},
     "output_type": "display_data"
    },
    {
     "data": {
      "text/plain": [
       "'Epoch 1750. Train loss: 0.002611766441259533. Test loss: 0.0022547292301169364.'"
      ]
     },
     "metadata": {},
     "output_type": "display_data"
    },
    {
     "data": {
      "text/plain": [
       "'Epoch 1760. Train loss: 0.002603093544166768. Test loss: 0.0022469067054771584.'"
      ]
     },
     "metadata": {},
     "output_type": "display_data"
    },
    {
     "data": {
      "text/plain": [
       "'Epoch 1770. Train loss: 0.0025945171910279896. Test loss: 0.0022391253733076155.'"
      ]
     },
     "metadata": {},
     "output_type": "display_data"
    },
    {
     "data": {
      "text/plain": [
       "'Epoch 1780. Train loss: 0.0025859282715828156. Test loss: 0.0022313781983029912.'"
      ]
     },
     "metadata": {},
     "output_type": "display_data"
    },
    {
     "data": {
      "text/plain": [
       "'Epoch 1790. Train loss: 0.002577424440096365. Test loss: 0.002223662382675684.'"
      ]
     },
     "metadata": {},
     "output_type": "display_data"
    },
    {
     "data": {
      "text/plain": [
       "'Epoch 1800. Train loss: 0.0025688986377645053. Test loss: 0.0022159836367791285.'"
      ]
     },
     "metadata": {},
     "output_type": "display_data"
    },
    {
     "data": {
      "text/plain": [
       "'Epoch 1810. Train loss: 0.0025604099719203077. Test loss: 0.0022083373296482023.'"
      ]
     },
     "metadata": {},
     "output_type": "display_data"
    },
    {
     "data": {
      "text/plain": [
       "'Epoch 1820. Train loss: 0.002552018021015101. Test loss: 0.002200732940218586.'"
      ]
     },
     "metadata": {},
     "output_type": "display_data"
    },
    {
     "data": {
      "text/plain": [
       "'Epoch 1830. Train loss: 0.002543586061801761. Test loss: 0.002193142535543302.'"
      ]
     },
     "metadata": {},
     "output_type": "display_data"
    },
    {
     "data": {
      "text/plain": [
       "'Epoch 1840. Train loss: 0.0025352436266985025. Test loss: 0.0021855935503481303.'"
      ]
     },
     "metadata": {},
     "output_type": "display_data"
    },
    {
     "data": {
      "text/plain": [
       "'Epoch 1850. Train loss: 0.002526901761666522. Test loss: 0.002178080191151821.'"
      ]
     },
     "metadata": {},
     "output_type": "display_data"
    },
    {
     "data": {
      "text/plain": [
       "'Epoch 1860. Train loss: 0.0025186454920913095. Test loss: 0.002170605777791934.'"
      ]
     },
     "metadata": {},
     "output_type": "display_data"
    },
    {
     "data": {
      "text/plain": [
       "'Epoch 1870. Train loss: 0.0025103760872298153. Test loss: 0.002163165099409525.'"
      ]
     },
     "metadata": {},
     "output_type": "display_data"
    },
    {
     "data": {
      "text/plain": [
       "'Epoch 1880. Train loss: 0.002502191043458879. Test loss: 0.002155758505978156.'"
      ]
     },
     "metadata": {},
     "output_type": "display_data"
    },
    {
     "data": {
      "text/plain": [
       "'Epoch 1890. Train loss: 0.0024939999351772713. Test loss: 0.002148389433932607.'"
      ]
     },
     "metadata": {},
     "output_type": "display_data"
    },
    {
     "data": {
      "text/plain": [
       "'Epoch 1900. Train loss: 0.0024858855133061296. Test loss: 0.002141054890671512.'"
      ]
     },
     "metadata": {},
     "output_type": "display_data"
    },
    {
     "data": {
      "text/plain": [
       "'Epoch 1910. Train loss: 0.0024777677761449015. Test loss: 0.002133752259032917.'"
      ]
     },
     "metadata": {},
     "output_type": "display_data"
    },
    {
     "data": {
      "text/plain": [
       "'Epoch 1920. Train loss: 0.0024697341657883955. Test loss: 0.002126492262868851.'"
      ]
     },
     "metadata": {},
     "output_type": "display_data"
    },
    {
     "data": {
      "text/plain": [
       "'Epoch 1930. Train loss: 0.0024616663347842406. Test loss: 0.0021192452713876264.'"
      ]
     },
     "metadata": {},
     "output_type": "display_data"
    },
    {
     "data": {
      "text/plain": [
       "'Epoch 1940. Train loss: 0.0024536825436371145. Test loss: 0.002112031782598933.'"
      ]
     },
     "metadata": {},
     "output_type": "display_data"
    },
    {
     "data": {
      "text/plain": [
       "'Epoch 1950. Train loss: 0.002445688855368644. Test loss: 0.002104857193262433.'"
      ]
     },
     "metadata": {},
     "output_type": "display_data"
    },
    {
     "data": {
      "text/plain": [
       "'Epoch 1960. Train loss: 0.0024377864705456887. Test loss: 0.0020977213936930637.'"
      ]
     },
     "metadata": {},
     "output_type": "display_data"
    },
    {
     "data": {
      "text/plain": [
       "'Epoch 1970. Train loss: 0.0024298756776261143. Test loss: 0.002090619836781116.'"
      ]
     },
     "metadata": {},
     "output_type": "display_data"
    },
    {
     "data": {
      "text/plain": [
       "'Epoch 1980. Train loss: 0.002422055069109774. Test loss: 0.002083555959507066.'"
      ]
     },
     "metadata": {},
     "output_type": "display_data"
    },
    {
     "data": {
      "text/plain": [
       "'Epoch 1990. Train loss: 0.0024142829861375503. Test loss: 0.002076543382827367.'"
      ]
     },
     "metadata": {},
     "output_type": "display_data"
    },
    {
     "data": {
      "text/plain": [
       "'Epoch 2000. Train loss: 0.002406467730543227. Test loss: 0.0020695351864560506.'"
      ]
     },
     "metadata": {},
     "output_type": "display_data"
    },
    {
     "data": {
      "text/plain": [
       "'Epoch 2010. Train loss: 0.002398728255502647. Test loss: 0.002062559107071138.'"
      ]
     },
     "metadata": {},
     "output_type": "display_data"
    },
    {
     "data": {
      "text/plain": [
       "'Epoch 2020. Train loss: 0.0023910025534860323. Test loss: 0.0020556280823257112.'"
      ]
     },
     "metadata": {},
     "output_type": "display_data"
    },
    {
     "data": {
      "text/plain": [
       "'Epoch 2030. Train loss: 0.0023833508756069934. Test loss: 0.0020487308993324405.'"
      ]
     },
     "metadata": {},
     "output_type": "display_data"
    },
    {
     "data": {
      "text/plain": [
       "'Epoch 2040. Train loss: 0.0023757025024679023. Test loss: 0.0020418764578607807.'"
      ]
     },
     "metadata": {},
     "output_type": "display_data"
    },
    {
     "data": {
      "text/plain": [
       "'Epoch 2050. Train loss: 0.0023681427492192597. Test loss: 0.002035058708406723.'"
      ]
     },
     "metadata": {},
     "output_type": "display_data"
    },
    {
     "data": {
      "text/plain": [
       "'Epoch 2060. Train loss: 0.002360577442959766. Test loss: 0.002028274335498281.'"
      ]
     },
     "metadata": {},
     "output_type": "display_data"
    },
    {
     "data": {
      "text/plain": [
       "'Epoch 2070. Train loss: 0.0023530708149337443. Test loss: 0.0020215115270730164.'"
      ]
     },
     "metadata": {},
     "output_type": "display_data"
    },
    {
     "data": {
      "text/plain": [
       "'Epoch 2080. Train loss: 0.0023455926226233713. Test loss: 0.002014779524961341.'"
      ]
     },
     "metadata": {},
     "output_type": "display_data"
    },
    {
     "data": {
      "text/plain": [
       "'Epoch 2090. Train loss: 0.002338129881536588. Test loss: 0.002008091270818113.'"
      ]
     },
     "metadata": {},
     "output_type": "display_data"
    },
    {
     "data": {
      "text/plain": [
       "'Epoch 2100. Train loss: 0.0023307482289965263. Test loss: 0.0020014405969959624.'"
      ]
     },
     "metadata": {},
     "output_type": "display_data"
    },
    {
     "data": {
      "text/plain": [
       "'Epoch 2110. Train loss: 0.002323381256428547. Test loss: 0.001994840294446476.'"
      ]
     },
     "metadata": {},
     "output_type": "display_data"
    },
    {
     "data": {
      "text/plain": [
       "'Epoch 2120. Train loss: 0.0023160570748586907. Test loss: 0.0019882449551005266.'"
      ]
     },
     "metadata": {},
     "output_type": "display_data"
    },
    {
     "data": {
      "text/plain": [
       "'Epoch 2130. Train loss: 0.002308731267112307. Test loss: 0.0019816886720946058.'"
      ]
     },
     "metadata": {},
     "output_type": "display_data"
    },
    {
     "data": {
      "text/plain": [
       "'Epoch 2140. Train loss: 0.002301496012842108. Test loss: 0.0019751787747736673.'"
      ]
     },
     "metadata": {},
     "output_type": "display_data"
    },
    {
     "data": {
      "text/plain": [
       "'Epoch 2150. Train loss: 0.002294300761423074. Test loss: 0.0019686968089445145.'"
      ]
     },
     "metadata": {},
     "output_type": "display_data"
    },
    {
     "data": {
      "text/plain": [
       "'Epoch 2160. Train loss: 0.0022871301112900254. Test loss: 0.001962272362288786.'"
      ]
     },
     "metadata": {},
     "output_type": "display_data"
    },
    {
     "data": {
      "text/plain": [
       "'Epoch 2170. Train loss: 0.0022799874261181683. Test loss: 0.0019558498775950283.'"
      ]
     },
     "metadata": {},
     "output_type": "display_data"
    },
    {
     "data": {
      "text/plain": [
       "'Epoch 2180. Train loss: 0.0022728610932972516. Test loss: 0.0019494711982588342.'"
      ]
     },
     "metadata": {},
     "output_type": "display_data"
    },
    {
     "data": {
      "text/plain": [
       "'Epoch 2190. Train loss: 0.00226581265724235. Test loss: 0.0019431266119681822.'"
      ]
     },
     "metadata": {},
     "output_type": "display_data"
    },
    {
     "data": {
      "text/plain": [
       "'Epoch 2200. Train loss: 0.002258769638319791. Test loss: 0.0019368228133316734.'"
      ]
     },
     "metadata": {},
     "output_type": "display_data"
    },
    {
     "data": {
      "text/plain": [
       "'Epoch 2210. Train loss: 0.002251821896788897. Test loss: 0.0019305675215946394.'"
      ]
     },
     "metadata": {},
     "output_type": "display_data"
    },
    {
     "data": {
      "text/plain": [
       "'Epoch 2220. Train loss: 0.002244834018347319. Test loss: 0.0019243172770075033.'"
      ]
     },
     "metadata": {},
     "output_type": "display_data"
    },
    {
     "data": {
      "text/plain": [
       "'Epoch 2230. Train loss: 0.0022379340491170295. Test loss: 0.0019181110388672095.'"
      ]
     },
     "metadata": {},
     "output_type": "display_data"
    },
    {
     "data": {
      "text/plain": [
       "'Epoch 2240. Train loss: 0.002231038584068301. Test loss: 0.001911941359321645.'"
      ]
     },
     "metadata": {},
     "output_type": "display_data"
    },
    {
     "data": {
      "text/plain": [
       "'Epoch 2250. Train loss: 0.002224228062550537. Test loss: 0.0019058247005887096.'"
      ]
     },
     "metadata": {},
     "output_type": "display_data"
    },
    {
     "data": {
      "text/plain": [
       "'Epoch 2260. Train loss: 0.0022174536956299563. Test loss: 0.0018997174402102246.'"
      ]
     },
     "metadata": {},
     "output_type": "display_data"
    },
    {
     "data": {
      "text/plain": [
       "'Epoch 2270. Train loss: 0.0022106725125922823. Test loss: 0.0018936441152618499.'"
      ]
     },
     "metadata": {},
     "output_type": "display_data"
    },
    {
     "data": {
      "text/plain": [
       "'Epoch 2280. Train loss: 0.002203961502527818. Test loss: 0.0018876114560043788.'"
      ]
     },
     "metadata": {},
     "output_type": "display_data"
    },
    {
     "data": {
      "text/plain": [
       "'Epoch 2290. Train loss: 0.0021972693986754164. Test loss: 0.0018816196408351971.'"
      ]
     },
     "metadata": {},
     "output_type": "display_data"
    },
    {
     "data": {
      "text/plain": [
       "'Epoch 2300. Train loss: 0.0021906600253714715. Test loss: 0.0018756682696221105.'"
      ]
     },
     "metadata": {},
     "output_type": "display_data"
    },
    {
     "data": {
      "text/plain": [
       "'Epoch 2310. Train loss: 0.0021840297244125396. Test loss: 0.0018697347515626462.'"
      ]
     },
     "metadata": {},
     "output_type": "display_data"
    },
    {
     "data": {
      "text/plain": [
       "'Epoch 2320. Train loss: 0.002177475603093626. Test loss: 0.0018638414949236903.'"
      ]
     },
     "metadata": {},
     "output_type": "display_data"
    },
    {
     "data": {
      "text/plain": [
       "'Epoch 2330. Train loss: 0.002170936709444504. Test loss: 0.001857986913773857.'"
      ]
     },
     "metadata": {},
     "output_type": "display_data"
    },
    {
     "data": {
      "text/plain": [
       "'Epoch 2340. Train loss: 0.0021644785556418356. Test loss: 0.0018521721467550378.'"
      ]
     },
     "metadata": {},
     "output_type": "display_data"
    },
    {
     "data": {
      "text/plain": [
       "'Epoch 2350. Train loss: 0.002157999719202053. Test loss: 0.001846373961870995.'"
      ]
     },
     "metadata": {},
     "output_type": "display_data"
    },
    {
     "data": {
      "text/plain": [
       "'Epoch 2360. Train loss: 0.002151566332031507. Test loss: 0.001840614861703216.'"
      ]
     },
     "metadata": {},
     "output_type": "display_data"
    },
    {
     "data": {
      "text/plain": [
       "'Epoch 2370. Train loss: 0.002145212243340211. Test loss: 0.0018348927933402592.'"
      ]
     },
     "metadata": {},
     "output_type": "display_data"
    },
    {
     "data": {
      "text/plain": [
       "'Epoch 2380. Train loss: 0.002138875019227271. Test loss: 0.001829217369459002.'"
      ]
     },
     "metadata": {},
     "output_type": "display_data"
    },
    {
     "data": {
      "text/plain": [
       "'Epoch 2390. Train loss: 0.0021325787383830175. Test loss: 0.0018235548959637526.'"
      ]
     },
     "metadata": {},
     "output_type": "display_data"
    },
    {
     "data": {
      "text/plain": [
       "'Epoch 2400. Train loss: 0.0021263065771563562. Test loss: 0.0018179354073708965.'"
      ]
     },
     "metadata": {},
     "output_type": "display_data"
    },
    {
     "data": {
      "text/plain": [
       "'Epoch 2410. Train loss: 0.0021201034750447435. Test loss: 0.0018123646198546339.'"
      ]
     },
     "metadata": {},
     "output_type": "display_data"
    },
    {
     "data": {
      "text/plain": [
       "'Epoch 2420. Train loss: 0.0021139239463082047. Test loss: 0.0018068087952997302.'"
      ]
     },
     "metadata": {},
     "output_type": "display_data"
    },
    {
     "data": {
      "text/plain": [
       "'Epoch 2430. Train loss: 0.002107784182408068. Test loss: 0.0018012806615843146.'"
      ]
     },
     "metadata": {},
     "output_type": "display_data"
    },
    {
     "data": {
      "text/plain": [
       "'Epoch 2440. Train loss: 0.0021016661723479045. Test loss: 0.001795796344140399.'"
      ]
     },
     "metadata": {},
     "output_type": "display_data"
    },
    {
     "data": {
      "text/plain": [
       "'Epoch 2450. Train loss: 0.0020956019970071794. Test loss: 0.0017903539249800814.'"
      ]
     },
     "metadata": {},
     "output_type": "display_data"
    },
    {
     "data": {
      "text/plain": [
       "'Epoch 2460. Train loss: 0.0020895714726066215. Test loss: 0.0017849214173565997.'"
      ]
     },
     "metadata": {},
     "output_type": "display_data"
    },
    {
     "data": {
      "text/plain": [
       "'Epoch 2470. Train loss: 0.002083555173703644. Test loss: 0.0017795271343857167.'"
      ]
     },
     "metadata": {},
     "output_type": "display_data"
    },
    {
     "data": {
      "text/plain": [
       "'Epoch 2480. Train loss: 0.0020776091316292876. Test loss: 0.0017741723864673985.'"
      ]
     },
     "metadata": {},
     "output_type": "display_data"
    },
    {
     "data": {
      "text/plain": [
       "'Epoch 2490. Train loss: 0.002071691945093335. Test loss: 0.0017688579473542632.'"
      ]
     },
     "metadata": {},
     "output_type": "display_data"
    },
    {
     "data": {
      "text/plain": [
       "'Epoch 2500. Train loss: 0.002065801773460407. Test loss: 0.0017635533744396526.'"
      ]
     },
     "metadata": {},
     "output_type": "display_data"
    },
    {
     "data": {
      "text/plain": [
       "'Epoch 2510. Train loss: 0.0020599378553015414. Test loss: 0.0017582890878657053.'"
      ]
     },
     "metadata": {},
     "output_type": "display_data"
    },
    {
     "data": {
      "text/plain": [
       "'Epoch 2520. Train loss: 0.002054126252733113. Test loss: 0.0017530726169752598.'"
      ]
     },
     "metadata": {},
     "output_type": "display_data"
    },
    {
     "data": {
      "text/plain": [
       "'Epoch 2530. Train loss: 0.002048349773031077. Test loss: 0.0017478573595326452.'"
      ]
     },
     "metadata": {},
     "output_type": "display_data"
    },
    {
     "data": {
      "text/plain": [
       "'Epoch 2540. Train loss: 0.002042582576541463. Test loss: 0.0017426805609829898.'"
      ]
     },
     "metadata": {},
     "output_type": "display_data"
    },
    {
     "data": {
      "text/plain": [
       "'Epoch 2550. Train loss: 0.0020368810328363907. Test loss: 0.0017375380175508326.'"
      ]
     },
     "metadata": {},
     "output_type": "display_data"
    },
    {
     "data": {
      "text/plain": [
       "'Epoch 2560. Train loss: 0.002031209050255711. Test loss: 0.001732438731505681.'"
      ]
     },
     "metadata": {},
     "output_type": "display_data"
    },
    {
     "data": {
      "text/plain": [
       "'Epoch 2570. Train loss: 0.0020255614093002807. Test loss: 0.0017273500928240537.'"
      ]
     },
     "metadata": {},
     "output_type": "display_data"
    },
    {
     "data": {
      "text/plain": [
       "'Epoch 2580. Train loss: 0.002019941885919252. Test loss: 0.0017222958551428747.'"
      ]
     },
     "metadata": {},
     "output_type": "display_data"
    },
    {
     "data": {
      "text/plain": [
       "'Epoch 2590. Train loss: 0.0020143762336374492. Test loss: 0.0017172907746498822.'"
      ]
     },
     "metadata": {},
     "output_type": "display_data"
    },
    {
     "data": {
      "text/plain": [
       "'Epoch 2600. Train loss: 0.0020088257118914044. Test loss: 0.0017122890554674085.'"
      ]
     },
     "metadata": {},
     "output_type": "display_data"
    },
    {
     "data": {
      "text/plain": [
       "'Epoch 2610. Train loss: 0.002003305942798761. Test loss: 0.0017073223212719312.'"
      ]
     },
     "metadata": {},
     "output_type": "display_data"
    },
    {
     "data": {
      "text/plain": [
       "'Epoch 2620. Train loss: 0.00199782084009712. Test loss: 0.0017024055606270848.'"
      ]
     },
     "metadata": {},
     "output_type": "display_data"
    },
    {
     "data": {
      "text/plain": [
       "'Epoch 2630. Train loss: 0.001992402362793655. Test loss: 0.0016974954080069438.'"
      ]
     },
     "metadata": {},
     "output_type": "display_data"
    },
    {
     "data": {
      "text/plain": [
       "'Epoch 2640. Train loss: 0.0019869695959641833. Test loss: 0.001692611245016451.'"
      ]
     },
     "metadata": {},
     "output_type": "display_data"
    },
    {
     "data": {
      "text/plain": [
       "'Epoch 2650. Train loss: 0.0019815806213046017. Test loss: 0.001687764025064098.'"
      ]
     },
     "metadata": {},
     "output_type": "display_data"
    },
    {
     "data": {
      "text/plain": [
       "'Epoch 2660. Train loss: 0.0019762571210776513. Test loss: 0.001682953708586865.'"
      ]
     },
     "metadata": {},
     "output_type": "display_data"
    },
    {
     "data": {
      "text/plain": [
       "'Epoch 2670. Train loss: 0.0019709257386239186. Test loss: 0.0016781531516244287.'"
      ]
     },
     "metadata": {},
     "output_type": "display_data"
    },
    {
     "data": {
      "text/plain": [
       "'Epoch 2680. Train loss: 0.001965614838354668. Test loss: 0.0016733881484469748.'"
      ]
     },
     "metadata": {},
     "output_type": "display_data"
    },
    {
     "data": {
      "text/plain": [
       "'Epoch 2690. Train loss: 0.001960360520570248. Test loss: 0.0016686622071574674.'"
      ]
     },
     "metadata": {},
     "output_type": "display_data"
    },
    {
     "data": {
      "text/plain": [
       "'Epoch 2700. Train loss: 0.0019551013324417. Test loss: 0.0016639452599520154.'"
      ]
     },
     "metadata": {},
     "output_type": "display_data"
    },
    {
     "data": {
      "text/plain": [
       "'Epoch 2710. Train loss: 0.0019498902686791552. Test loss: 0.0016592614282672003.'"
      ]
     },
     "metadata": {},
     "output_type": "display_data"
    },
    {
     "data": {
      "text/plain": [
       "'Epoch 2720. Train loss: 0.0019447338350801146. Test loss: 0.0016546217681025154.'"
      ]
     },
     "metadata": {},
     "output_type": "display_data"
    },
    {
     "data": {
      "text/plain": [
       "'Epoch 2730. Train loss: 0.0019395750077819685. Test loss: 0.0016499866306730836.'"
      ]
     },
     "metadata": {},
     "output_type": "display_data"
    },
    {
     "data": {
      "text/plain": [
       "'Epoch 2740. Train loss: 0.0019344595822985867. Test loss: 0.0016453886539238738.'"
      ]
     },
     "metadata": {},
     "output_type": "display_data"
    },
    {
     "data": {
      "text/plain": [
       "'Epoch 2750. Train loss: 0.0019294036405881343. Test loss: 0.0016408337221037073.'"
      ]
     },
     "metadata": {},
     "output_type": "display_data"
    },
    {
     "data": {
      "text/plain": [
       "'Epoch 2760. Train loss: 0.0019243446964537724. Test loss: 0.0016362798016416491.'"
      ]
     },
     "metadata": {},
     "output_type": "display_data"
    },
    {
     "data": {
      "text/plain": [
       "'Epoch 2770. Train loss: 0.0019193257236111093. Test loss: 0.0016317560832249001.'"
      ]
     },
     "metadata": {},
     "output_type": "display_data"
    },
    {
     "data": {
      "text/plain": [
       "'Epoch 2780. Train loss: 0.0019143649691613974. Test loss: 0.0016272839703560748.'"
      ]
     },
     "metadata": {},
     "output_type": "display_data"
    },
    {
     "data": {
      "text/plain": [
       "'Epoch 2790. Train loss: 0.0019093886136943184. Test loss: 0.0016228059746026702.'"
      ]
     },
     "metadata": {},
     "output_type": "display_data"
    },
    {
     "data": {
      "text/plain": [
       "'Epoch 2800. Train loss: 0.0019044582672904653. Test loss: 0.0016183624122277252.'"
      ]
     },
     "metadata": {},
     "output_type": "display_data"
    },
    {
     "data": {
      "text/plain": [
       "'Epoch 2810. Train loss: 0.0018995911666934262. Test loss: 0.001613964355783537.'"
      ]
     },
     "metadata": {},
     "output_type": "display_data"
    },
    {
     "data": {
      "text/plain": [
       "'Epoch 2820. Train loss: 0.0018947115562696127. Test loss: 0.0016095663504529512.'"
      ]
     },
     "metadata": {},
     "output_type": "display_data"
    },
    {
     "data": {
      "text/plain": [
       "'Epoch 2830. Train loss: 0.0018898678355981247. Test loss: 0.001605195251886471.'"
      ]
     },
     "metadata": {},
     "output_type": "display_data"
    },
    {
     "data": {
      "text/plain": [
       "'Epoch 2840. Train loss: 0.0018850786898838123. Test loss: 0.0016008717251679628.'"
      ]
     },
     "metadata": {},
     "output_type": "display_data"
    },
    {
     "data": {
      "text/plain": [
       "'Epoch 2850. Train loss: 0.0018802812144713243. Test loss: 0.0015965463222528341.'"
      ]
     },
     "metadata": {},
     "output_type": "display_data"
    },
    {
     "data": {
      "text/plain": [
       "'Epoch 2860. Train loss: 0.0018755304994556355. Test loss: 0.0015922506327115116.'"
      ]
     },
     "metadata": {},
     "output_type": "display_data"
    },
    {
     "data": {
      "text/plain": [
       "'Epoch 2870. Train loss: 0.0018708336509007494. Test loss: 0.0015880004062637453.'"
      ]
     },
     "metadata": {},
     "output_type": "display_data"
    },
    {
     "data": {
      "text/plain": [
       "'Epoch 2880. Train loss: 0.001866119820078893. Test loss: 0.0015837434853892773.'"
      ]
     },
     "metadata": {},
     "output_type": "display_data"
    },
    {
     "data": {
      "text/plain": [
       "'Epoch 2890. Train loss: 0.0018614440621604444. Test loss: 0.0015795177412655903.'"
      ]
     },
     "metadata": {},
     "output_type": "display_data"
    },
    {
     "data": {
      "text/plain": [
       "'Epoch 2900. Train loss: 0.0018568220892120734. Test loss: 0.0015753375639178558.'"
      ]
     },
     "metadata": {},
     "output_type": "display_data"
    },
    {
     "data": {
      "text/plain": [
       "'Epoch 2910. Train loss: 0.001852191163925454. Test loss: 0.0015711549145635217.'"
      ]
     },
     "metadata": {},
     "output_type": "display_data"
    },
    {
     "data": {
      "text/plain": [
       "'Epoch 2920. Train loss: 0.0018476008452125825. Test loss: 0.0015669995576899965.'"
      ]
     },
     "metadata": {},
     "output_type": "display_data"
    },
    {
     "data": {
      "text/plain": [
       "'Epoch 2930. Train loss: 0.0018430590062052943. Test loss: 0.0015628847551852232.'"
      ]
     },
     "metadata": {},
     "output_type": "display_data"
    },
    {
     "data": {
      "text/plain": [
       "'Epoch 2940. Train loss: 0.0018385066388873384. Test loss: 0.001558768564427737.'"
      ]
     },
     "metadata": {},
     "output_type": "display_data"
    },
    {
     "data": {
      "text/plain": [
       "'Epoch 2950. Train loss: 0.001833999844166101. Test loss: 0.001554684063376044.'"
      ]
     },
     "metadata": {},
     "output_type": "display_data"
    },
    {
     "data": {
      "text/plain": [
       "'Epoch 2960. Train loss: 0.0018295288788067409. Test loss: 0.0015506341518630507.'"
      ]
     },
     "metadata": {},
     "output_type": "display_data"
    },
    {
     "data": {
      "text/plain": [
       "'Epoch 2970. Train loss: 0.0018250599900056842. Test loss: 0.0015465852226043352.'"
      ]
     },
     "metadata": {},
     "output_type": "display_data"
    },
    {
     "data": {
      "text/plain": [
       "'Epoch 2980. Train loss: 0.0018206233366072412. Test loss: 0.0015425665351358475.'"
      ]
     },
     "metadata": {},
     "output_type": "display_data"
    },
    {
     "data": {
      "text/plain": [
       "'Epoch 2990. Train loss: 0.001816225401853444. Test loss: 0.0015385779450298287.'"
      ]
     },
     "metadata": {},
     "output_type": "display_data"
    },
    {
     "data": {
      "text/plain": [
       "'Epoch 3000. Train loss: 0.0018118268711987185. Test loss: 0.001534596536475874.'"
      ]
     },
     "metadata": {},
     "output_type": "display_data"
    },
    {
     "data": {
      "text/plain": [
       "'Epoch 3010. Train loss: 0.0018074651268761954. Test loss: 0.0015306523280742112.'"
      ]
     },
     "metadata": {},
     "output_type": "display_data"
    },
    {
     "data": {
      "text/plain": [
       "'Epoch 3020. Train loss: 0.0018031356823485112. Test loss: 0.0015267098817275837.'"
      ]
     },
     "metadata": {},
     "output_type": "display_data"
    },
    {
     "data": {
      "text/plain": [
       "'Epoch 3030. Train loss: 0.0017988088917263666. Test loss: 0.0015227875794153079.'"
      ]
     },
     "metadata": {},
     "output_type": "display_data"
    },
    {
     "data": {
      "text/plain": [
       "'Epoch 3040. Train loss: 0.0017945347372005926. Test loss: 0.0015189105313766049.'"
      ]
     },
     "metadata": {},
     "output_type": "display_data"
    },
    {
     "data": {
      "text/plain": [
       "'Epoch 3050. Train loss: 0.001790246415657748. Test loss: 0.0015150229584833142.'"
      ]
     },
     "metadata": {},
     "output_type": "display_data"
    },
    {
     "data": {
      "text/plain": [
       "'Epoch 3060. Train loss: 0.001785991522774566. Test loss: 0.0015111617824004498.'"
      ]
     },
     "metadata": {},
     "output_type": "display_data"
    },
    {
     "data": {
      "text/plain": [
       "'Epoch 3070. Train loss: 0.001781778916483745. Test loss: 0.0015073348724399694.'"
      ]
     },
     "metadata": {},
     "output_type": "display_data"
    },
    {
     "data": {
      "text/plain": [
       "'Epoch 3080. Train loss: 0.0017775557409549947. Test loss: 0.0015035083413749816.'"
      ]
     },
     "metadata": {},
     "output_type": "display_data"
    },
    {
     "data": {
      "text/plain": [
       "'Epoch 3090. Train loss: 0.0017733703181875172. Test loss: 0.0014997054309787926.'"
      ]
     },
     "metadata": {},
     "output_type": "display_data"
    },
    {
     "data": {
      "text/plain": [
       "'Epoch 3100. Train loss: 0.0017692229088424939. Test loss: 0.001495934044214664.'"
      ]
     },
     "metadata": {},
     "output_type": "display_data"
    },
    {
     "data": {
      "text/plain": [
       "'Epoch 3110. Train loss: 0.0017650660054641775. Test loss: 0.001492164586306899.'"
      ]
     },
     "metadata": {},
     "output_type": "display_data"
    },
    {
     "data": {
      "text/plain": [
       "'Epoch 3120. Train loss: 0.0017609405165785574. Test loss: 0.0014884300009725849.'"
      ]
     },
     "metadata": {},
     "output_type": "display_data"
    },
    {
     "data": {
      "text/plain": [
       "'Epoch 3130. Train loss: 0.0017568429680977714. Test loss: 0.0014846940672214259.'"
      ]
     },
     "metadata": {},
     "output_type": "display_data"
    },
    {
     "data": {
      "text/plain": [
       "'Epoch 3140. Train loss: 0.0017527502042867127. Test loss: 0.001480978919971676.'"
      ]
     },
     "metadata": {},
     "output_type": "display_data"
    },
    {
     "data": {
      "text/plain": [
       "'Epoch 3150. Train loss: 0.0017487073397205676. Test loss: 0.0014773023096495308.'"
      ]
     },
     "metadata": {},
     "output_type": "display_data"
    },
    {
     "data": {
      "text/plain": [
       "'Epoch 3160. Train loss: 0.0017446472225856268. Test loss: 0.0014736166553120712.'"
      ]
     },
     "metadata": {},
     "output_type": "display_data"
    },
    {
     "data": {
      "text/plain": [
       "'Epoch 3170. Train loss: 0.001740618600160815. Test loss: 0.0014699576464408891.'"
      ]
     },
     "metadata": {},
     "output_type": "display_data"
    },
    {
     "data": {
      "text/plain": [
       "'Epoch 3180. Train loss: 0.0017366215637593997. Test loss: 0.001466323993190599.'"
      ]
     },
     "metadata": {},
     "output_type": "display_data"
    },
    {
     "data": {
      "text/plain": [
       "'Epoch 3190. Train loss: 0.0017326239561953117. Test loss: 0.0014626952437538422.'"
      ]
     },
     "metadata": {},
     "output_type": "display_data"
    },
    {
     "data": {
      "text/plain": [
       "'Epoch 3200. Train loss: 0.0017286461115872953. Test loss: 0.0014590970960853156.'"
      ]
     },
     "metadata": {},
     "output_type": "display_data"
    },
    {
     "data": {
      "text/plain": [
       "'Epoch 3210. Train loss: 0.0017246994504603208. Test loss: 0.00145549804874463.'"
      ]
     },
     "metadata": {},
     "output_type": "display_data"
    },
    {
     "data": {
      "text/plain": [
       "'Epoch 3220. Train loss: 0.0017207596054504392. Test loss: 0.0014519199728965759.'"
      ]
     },
     "metadata": {},
     "output_type": "display_data"
    },
    {
     "data": {
      "text/plain": [
       "'Epoch 3230. Train loss: 0.00171686279354617. Test loss: 0.0014483731822110713.'"
      ]
     },
     "metadata": {},
     "output_type": "display_data"
    },
    {
     "data": {
      "text/plain": [
       "'Epoch 3240. Train loss: 0.001712949021384702. Test loss: 0.0014448204761720262.'"
      ]
     },
     "metadata": {},
     "output_type": "display_data"
    },
    {
     "data": {
      "text/plain": [
       "'Epoch 3250. Train loss: 0.0017090638240915724. Test loss: 0.0014412912729312665.'"
      ]
     },
     "metadata": {},
     "output_type": "display_data"
    },
    {
     "data": {
      "text/plain": [
       "'Epoch 3260. Train loss: 0.0017052091105142608. Test loss: 0.0014377871062606572.'"
      ]
     },
     "metadata": {},
     "output_type": "display_data"
    },
    {
     "data": {
      "text/plain": [
       "'Epoch 3270. Train loss: 0.0017013535456499086. Test loss: 0.0014342828646476847.'"
      ]
     },
     "metadata": {},
     "output_type": "display_data"
    },
    {
     "data": {
      "text/plain": [
       "'Epoch 3280. Train loss: 0.001697540197710623. Test loss: 0.0014308167810668238.'"
      ]
     },
     "metadata": {},
     "output_type": "display_data"
    },
    {
     "data": {
      "text/plain": [
       "'Epoch 3290. Train loss: 0.001693708102175151. Test loss: 0.0014273396307544317.'"
      ]
     },
     "metadata": {},
     "output_type": "display_data"
    },
    {
     "data": {
      "text/plain": [
       "'Epoch 3300. Train loss: 0.0016899058769922703. Test loss: 0.001423884272298892.'"
      ]
     },
     "metadata": {},
     "output_type": "display_data"
    },
    {
     "data": {
      "text/plain": [
       "'Epoch 3310. Train loss: 0.0016861383726791245. Test loss: 0.0014204559876816348.'"
      ]
     },
     "metadata": {},
     "output_type": "display_data"
    },
    {
     "data": {
      "text/plain": [
       "'Epoch 3320. Train loss: 0.0016823569698317443. Test loss: 0.0014170228994771605.'"
      ]
     },
     "metadata": {},
     "output_type": "display_data"
    },
    {
     "data": {
      "text/plain": [
       "'Epoch 3330. Train loss: 0.001678615834316588. Test loss: 0.0014136288034933386.'"
      ]
     },
     "metadata": {},
     "output_type": "display_data"
    },
    {
     "data": {
      "text/plain": [
       "'Epoch 3340. Train loss: 0.0016748647238273406. Test loss: 0.001410221398327849.'"
      ]
     },
     "metadata": {},
     "output_type": "display_data"
    },
    {
     "data": {
      "text/plain": [
       "'Epoch 3350. Train loss: 0.001671136446748278. Test loss: 0.001406835359375691.'"
      ]
     },
     "metadata": {},
     "output_type": "display_data"
    },
    {
     "data": {
      "text/plain": [
       "'Epoch 3360. Train loss: 0.0016674431913997977. Test loss: 0.0014034763036761433.'"
      ]
     },
     "metadata": {},
     "output_type": "display_data"
    },
    {
     "data": {
      "text/plain": [
       "'Epoch 3370. Train loss: 0.0016637381722830469. Test loss: 0.0014001171326526673.'"
      ]
     },
     "metadata": {},
     "output_type": "display_data"
    },
    {
     "data": {
      "text/plain": [
       "'Epoch 3380. Train loss: 0.001660080700094113. Test loss: 0.001396788804413518.'"
      ]
     },
     "metadata": {},
     "output_type": "display_data"
    },
    {
     "data": {
      "text/plain": [
       "'Epoch 3390. Train loss: 0.0016564033907343402. Test loss: 0.001393451371768606.'"
      ]
     },
     "metadata": {},
     "output_type": "display_data"
    },
    {
     "data": {
      "text/plain": [
       "'Epoch 3400. Train loss: 0.0016527460516954306. Test loss: 0.00139013508487551.'"
      ]
     },
     "metadata": {},
     "output_type": "display_data"
    },
    {
     "data": {
      "text/plain": [
       "'Epoch 3410. Train loss: 0.0016491271140694152. Test loss: 0.0013868444730178453.'"
      ]
     },
     "metadata": {},
     "output_type": "display_data"
    },
    {
     "data": {
      "text/plain": [
       "'Epoch 3420. Train loss: 0.0016454991840873846. Test loss: 0.0013835513858794003.'"
      ]
     },
     "metadata": {},
     "output_type": "display_data"
    },
    {
     "data": {
      "text/plain": [
       "'Epoch 3430. Train loss: 0.001641912131162826. Test loss: 0.0013802905752527295.'"
      ]
     },
     "metadata": {},
     "output_type": "display_data"
    },
    {
     "data": {
      "text/plain": [
       "'Epoch 3440. Train loss: 0.0016383020949433558. Test loss: 0.0013770158882834948.'"
      ]
     },
     "metadata": {},
     "output_type": "display_data"
    },
    {
     "data": {
      "text/plain": [
       "'Epoch 3450. Train loss: 0.0016347127191693289. Test loss: 0.0013737651108385763.'"
      ]
     },
     "metadata": {},
     "output_type": "display_data"
    },
    {
     "data": {
      "text/plain": [
       "'Epoch 3460. Train loss: 0.0016311613071593456. Test loss: 0.0013705328205105617.'"
      ]
     },
     "metadata": {},
     "output_type": "display_data"
    },
    {
     "data": {
      "text/plain": [
       "'Epoch 3470. Train loss: 0.0016276034381007775. Test loss: 0.0013673032146471087.'"
      ]
     },
     "metadata": {},
     "output_type": "display_data"
    },
    {
     "data": {
      "text/plain": [
       "'Epoch 3480. Train loss: 0.001624083093338413. Test loss: 0.0013641040939546655.'"
      ]
     },
     "metadata": {},
     "output_type": "display_data"
    },
    {
     "data": {
      "text/plain": [
       "'Epoch 3490. Train loss: 0.0016205392737902002. Test loss: 0.0013608928806206678.'"
      ]
     },
     "metadata": {},
     "output_type": "display_data"
    },
    {
     "data": {
      "text/plain": [
       "'Epoch 3500. Train loss: 0.0016170167069503804. Test loss: 0.001357714280311484.'"
      ]
     },
     "metadata": {},
     "output_type": "display_data"
    },
    {
     "data": {
      "text/plain": [
       "'Epoch 3510. Train loss: 0.0016135217025293968. Test loss: 0.0013545312871428906.'"
      ]
     },
     "metadata": {},
     "output_type": "display_data"
    },
    {
     "data": {
      "text/plain": [
       "'Epoch 3520. Train loss: 0.0016100305649160874. Test loss: 0.0013513601141312392.'"
      ]
     },
     "metadata": {},
     "output_type": "display_data"
    },
    {
     "data": {
      "text/plain": [
       "'Epoch 3530. Train loss: 0.0016065665528003591. Test loss: 0.0013482143029250437.'"
      ]
     },
     "metadata": {},
     "output_type": "display_data"
    },
    {
     "data": {
      "text/plain": [
       "'Epoch 3540. Train loss: 0.0016030837345169858. Test loss: 0.001345063890767051.'"
      ]
     },
     "metadata": {},
     "output_type": "display_data"
    },
    {
     "data": {
      "text/plain": [
       "'Epoch 3550. Train loss: 0.0015996516463928855. Test loss: 0.001341944875093759.'"
      ]
     },
     "metadata": {},
     "output_type": "display_data"
    },
    {
     "data": {
      "text/plain": [
       "'Epoch 3560. Train loss: 0.0015961958386469632. Test loss: 0.0013388141131144948.'"
      ]
     },
     "metadata": {},
     "output_type": "display_data"
    },
    {
     "data": {
      "text/plain": [
       "'Epoch 3570. Train loss: 0.0015927592776279198. Test loss: 0.0013357021736737807.'"
      ]
     },
     "metadata": {},
     "output_type": "display_data"
    },
    {
     "data": {
      "text/plain": [
       "'Epoch 3580. Train loss: 0.001589347688786802. Test loss: 0.0013326077994861407.'"
      ]
     },
     "metadata": {},
     "output_type": "display_data"
    },
    {
     "data": {
      "text/plain": [
       "'Epoch 3590. Train loss: 0.001585932574380422. Test loss: 0.0013295146040036344.'"
      ]
     },
     "metadata": {},
     "output_type": "display_data"
    },
    {
     "data": {
      "text/plain": [
       "'Epoch 3600. Train loss: 0.001582551521642017. Test loss: 0.0013264475299365585.'"
      ]
     },
     "metadata": {},
     "output_type": "display_data"
    },
    {
     "data": {
      "text/plain": [
       "'Epoch 3610. Train loss: 0.0015791506462846882. Test loss: 0.0013233705481979995.'"
      ]
     },
     "metadata": {},
     "output_type": "display_data"
    },
    {
     "data": {
      "text/plain": [
       "'Epoch 3620. Train loss: 0.0015757973258587298. Test loss: 0.0013203290767705767.'"
      ]
     },
     "metadata": {},
     "output_type": "display_data"
    },
    {
     "data": {
      "text/plain": [
       "'Epoch 3630. Train loss: 0.0015724211734777782. Test loss: 0.00131727088628395.'"
      ]
     },
     "metadata": {},
     "output_type": "display_data"
    },
    {
     "data": {
      "text/plain": [
       "'Epoch 3640. Train loss: 0.001569058435416082. Test loss: 0.0013142314932338196.'"
      ]
     },
     "metadata": {},
     "output_type": "display_data"
    },
    {
     "data": {
      "text/plain": [
       "'Epoch 3650. Train loss: 0.0015657295312848873. Test loss: 0.0013112114214891336.'"
      ]
     },
     "metadata": {},
     "output_type": "display_data"
    },
    {
     "data": {
      "text/plain": [
       "'Epoch 3660. Train loss: 0.001562390849721851. Test loss: 0.0013081897814117838.'"
      ]
     },
     "metadata": {},
     "output_type": "display_data"
    },
    {
     "data": {
      "text/plain": [
       "'Epoch 3670. Train loss: 0.0015590818777127425. Test loss: 0.0013051914207608205.'"
      ]
     },
     "metadata": {},
     "output_type": "display_data"
    },
    {
     "data": {
      "text/plain": [
       "'Epoch 3680. Train loss: 0.0015557540573354345. Test loss: 0.0013021846822084625.'"
      ]
     },
     "metadata": {},
     "output_type": "display_data"
    },
    {
     "data": {
      "text/plain": [
       "'Epoch 3690. Train loss: 0.00155247147740738. Test loss: 0.00129921032130369.'"
      ]
     },
     "metadata": {},
     "output_type": "display_data"
    },
    {
     "data": {
      "text/plain": [
       "'Epoch 3700. Train loss: 0.001549156002874952. Test loss: 0.0012962199281901122.'"
      ]
     },
     "metadata": {},
     "output_type": "display_data"
    },
    {
     "data": {
      "text/plain": [
       "'Epoch 3710. Train loss: 0.0015458721751201664. Test loss: 0.001293246102432022.'"
      ]
     },
     "metadata": {},
     "output_type": "display_data"
    },
    {
     "data": {
      "text/plain": [
       "'Epoch 3720. Train loss: 0.0015426067293446977. Test loss: 0.001290291808982147.'"
      ]
     },
     "metadata": {},
     "output_type": "display_data"
    },
    {
     "data": {
      "text/plain": [
       "'Epoch 3730. Train loss: 0.0015393302408483577. Test loss: 0.0012873341620434076.'"
      ]
     },
     "metadata": {},
     "output_type": "display_data"
    },
    {
     "data": {
      "text/plain": [
       "'Epoch 3740. Train loss: 0.0015360919285740237. Test loss: 0.0012844014574511676.'"
      ]
     },
     "metadata": {},
     "output_type": "display_data"
    },
    {
     "data": {
      "text/plain": [
       "'Epoch 3750. Train loss: 0.0015328322540881345. Test loss: 0.0012814600177080138.'"
      ]
     },
     "metadata": {},
     "output_type": "display_data"
    },
    {
     "data": {
      "text/plain": [
       "'Epoch 3760. Train loss: 0.0015296106816094835. Test loss: 0.0012785462855390505.'"
      ]
     },
     "metadata": {},
     "output_type": "display_data"
    },
    {
     "data": {
      "text/plain": [
       "'Epoch 3770. Train loss: 0.0015263675362803043. Test loss: 0.001275618635918363.'"
      ]
     },
     "metadata": {},
     "output_type": "display_data"
    },
    {
     "data": {
      "text/plain": [
       "'Epoch 3780. Train loss: 0.001523138769698562. Test loss: 0.0012727202029054752.'"
      ]
     },
     "metadata": {},
     "output_type": "display_data"
    },
    {
     "data": {
      "text/plain": [
       "'Epoch 3790. Train loss: 0.0015199408560874871. Test loss: 0.001269814990882878.'"
      ]
     },
     "metadata": {},
     "output_type": "display_data"
    },
    {
     "data": {
      "text/plain": [
       "'Epoch 3800. Train loss: 0.0015167375615419588. Test loss: 0.0012669199113588547.'"
      ]
     },
     "metadata": {},
     "output_type": "display_data"
    },
    {
     "data": {
      "text/plain": [
       "'Epoch 3810. Train loss: 0.001513545844500186. Test loss: 0.0012640432109037648.'"
      ]
     },
     "metadata": {},
     "output_type": "display_data"
    },
    {
     "data": {
      "text/plain": [
       "'Epoch 3820. Train loss: 0.0015103538862604182. Test loss: 0.0012611615671630715.'"
      ]
     },
     "metadata": {},
     "output_type": "display_data"
    },
    {
     "data": {
      "text/plain": [
       "'Epoch 3830. Train loss: 0.001507180346379755. Test loss: 0.001258300372865051.'"
      ]
     },
     "metadata": {},
     "output_type": "display_data"
    },
    {
     "data": {
      "text/plain": [
       "'Epoch 3840. Train loss: 0.001504002155343187. Test loss: 0.0012554335575259757.'"
      ]
     },
     "metadata": {},
     "output_type": "display_data"
    },
    {
     "data": {
      "text/plain": [
       "'Epoch 3850. Train loss: 0.001500860603482579. Test loss: 0.0012525955604360205.'"
      ]
     },
     "metadata": {},
     "output_type": "display_data"
    },
    {
     "data": {
      "text/plain": [
       "'Epoch 3860. Train loss: 0.0014976943977671909. Test loss: 0.0012497431689553196.'"
      ]
     },
     "metadata": {},
     "output_type": "display_data"
    },
    {
     "data": {
      "text/plain": [
       "'Epoch 3870. Train loss: 0.0014945473907573615. Test loss: 0.0012469179891922977.'"
      ]
     },
     "metadata": {},
     "output_type": "display_data"
    },
    {
     "data": {
      "text/plain": [
       "'Epoch 3880. Train loss: 0.0014914131032128352. Test loss: 0.0012440830581908814.'"
      ]
     },
     "metadata": {},
     "output_type": "display_data"
    },
    {
     "data": {
      "text/plain": [
       "'Epoch 3890. Train loss: 0.0014882817118632373. Test loss: 0.0012412582993420074.'"
      ]
     },
     "metadata": {},
     "output_type": "display_data"
    },
    {
     "data": {
      "text/plain": [
       "'Epoch 3900. Train loss: 0.0014851646788883953. Test loss: 0.0012384523481159704.'"
      ]
     },
     "metadata": {},
     "output_type": "display_data"
    },
    {
     "data": {
      "text/plain": [
       "'Epoch 3910. Train loss: 0.001482050495906151. Test loss: 0.0012356435545370914.'"
      ]
     },
     "metadata": {},
     "output_type": "display_data"
    },
    {
     "data": {
      "text/plain": [
       "'Epoch 3920. Train loss: 0.0014789450018724893. Test loss: 0.0012328513483225833.'"
      ]
     },
     "metadata": {},
     "output_type": "display_data"
    },
    {
     "data": {
      "text/plain": [
       "'Epoch 3930. Train loss: 0.0014758429446374067. Test loss: 0.0012300552589294966.'"
      ]
     },
     "metadata": {},
     "output_type": "display_data"
    },
    {
     "data": {
      "text/plain": [
       "'Epoch 3940. Train loss: 0.0014727617064636434. Test loss: 0.0012272816406039056.'"
      ]
     },
     "metadata": {},
     "output_type": "display_data"
    },
    {
     "data": {
      "text/plain": [
       "'Epoch 3950. Train loss: 0.0014696655092848233. Test loss: 0.0012244981848198223.'"
      ]
     },
     "metadata": {},
     "output_type": "display_data"
    },
    {
     "data": {
      "text/plain": [
       "'Epoch 3960. Train loss: 0.001466603483640938. Test loss: 0.0012217384315590606.'"
      ]
     },
     "metadata": {},
     "output_type": "display_data"
    },
    {
     "data": {
      "text/plain": [
       "'Epoch 3970. Train loss: 0.0014635185187216848. Test loss: 0.0012189688390208176.'"
      ]
     },
     "metadata": {},
     "output_type": "display_data"
    },
    {
     "data": {
      "text/plain": [
       "'Epoch 3980. Train loss: 0.001460473725819611. Test loss: 0.0012162249291577608.'"
      ]
     },
     "metadata": {},
     "output_type": "display_data"
    },
    {
     "data": {
      "text/plain": [
       "'Epoch 3990. Train loss: 0.0014574013872334034. Test loss: 0.0012134669199440396.'"
      ]
     },
     "metadata": {},
     "output_type": "display_data"
    },
    {
     "data": {
      "text/plain": [
       "'Done'"
      ]
     },
     "metadata": {},
     "output_type": "display_data"
    },
    {
     "data": {
      "text/plain": [
       "'Training & eval: cos3 model'"
      ]
     },
     "metadata": {},
     "output_type": "display_data"
    },
    {
     "data": {
      "text/plain": [
       "'Epoch 0. Train loss: 1.321857509703841. Test loss: 1.2874004252022133.'"
      ]
     },
     "metadata": {},
     "output_type": "display_data"
    },
    {
     "data": {
      "text/plain": [
       "'Epoch 10. Train loss: 0.8757761671440676. Test loss: 0.859769809897989.'"
      ]
     },
     "metadata": {},
     "output_type": "display_data"
    },
    {
     "data": {
      "text/plain": [
       "'Epoch 20. Train loss: 0.6754393516108393. Test loss: 0.6677128229290247.'"
      ]
     },
     "metadata": {},
     "output_type": "display_data"
    },
    {
     "data": {
      "text/plain": [
       "'Epoch 30. Train loss: 0.5854541866108776. Test loss: 0.5814424044452607.'"
      ]
     },
     "metadata": {},
     "output_type": "display_data"
    },
    {
     "data": {
      "text/plain": [
       "'Epoch 40. Train loss: 0.545026755798608. Test loss: 0.5426810746546835.'"
      ]
     },
     "metadata": {},
     "output_type": "display_data"
    },
    {
     "data": {
      "text/plain": [
       "'Epoch 50. Train loss: 0.5268580796662719. Test loss: 0.5252592777833343.'"
      ]
     },
     "metadata": {},
     "output_type": "display_data"
    },
    {
     "data": {
      "text/plain": [
       "'Epoch 60. Train loss: 0.5186888059601188. Test loss: 0.5174245541915298.'"
      ]
     },
     "metadata": {},
     "output_type": "display_data"
    },
    {
     "data": {
      "text/plain": [
       "'Epoch 70. Train loss: 0.51501299967058. Test loss: 0.5138984030112624.'"
      ]
     },
     "metadata": {},
     "output_type": "display_data"
    },
    {
     "data": {
      "text/plain": [
       "'Epoch 80. Train loss: 0.5133572419174015. Test loss: 0.5123094733804464.'"
      ]
     },
     "metadata": {},
     "output_type": "display_data"
    },
    {
     "data": {
      "text/plain": [
       "'Epoch 90. Train loss: 0.5126102247741073. Test loss: 0.5115922402590514.'"
      ]
     },
     "metadata": {},
     "output_type": "display_data"
    },
    {
     "data": {
      "text/plain": [
       "'Epoch 100. Train loss: 0.5122724285349249. Test loss: 0.5112676175776869.'"
      ]
     },
     "metadata": {},
     "output_type": "display_data"
    },
    {
     "data": {
      "text/plain": [
       "'Epoch 110. Train loss: 0.5121191027574241. Test loss: 0.511120155453682.'"
      ]
     },
     "metadata": {},
     "output_type": "display_data"
    },
    {
     "data": {
      "text/plain": [
       "'Epoch 120. Train loss: 0.5120491916313767. Test loss: 0.5110527815297246.'"
      ]
     },
     "metadata": {},
     "output_type": "display_data"
    },
    {
     "data": {
      "text/plain": [
       "'Epoch 130. Train loss: 0.5120170555077493. Test loss: 0.5110217534005642.'"
      ]
     },
     "metadata": {},
     "output_type": "display_data"
    },
    {
     "data": {
      "text/plain": [
       "'Epoch 140. Train loss: 0.5120021518785507. Test loss: 0.5110073057003319.'"
      ]
     },
     "metadata": {},
     "output_type": "display_data"
    },
    {
     "data": {
      "text/plain": [
       "'Epoch 150. Train loss: 0.5119951250962913. Test loss: 0.5110004499088973.'"
      ]
     },
     "metadata": {},
     "output_type": "display_data"
    },
    {
     "data": {
      "text/plain": [
       "'Epoch 160. Train loss: 0.5119917526841163. Test loss: 0.5109971690922975.'"
      ]
     },
     "metadata": {},
     "output_type": "display_data"
    },
    {
     "data": {
      "text/plain": [
       "'Epoch 170. Train loss: 0.511990079190582. Test loss: 0.5109955129679292.'"
      ]
     },
     "metadata": {},
     "output_type": "display_data"
    },
    {
     "data": {
      "text/plain": [
       "'Epoch 180. Train loss: 0.5119892484508455. Test loss: 0.5109946813434363.'"
      ]
     },
     "metadata": {},
     "output_type": "display_data"
    },
    {
     "data": {
      "text/plain": [
       "'Epoch 190. Train loss: 0.5119887984357774. Test loss: 0.5109942277893424.'"
      ]
     },
     "metadata": {},
     "output_type": "display_data"
    },
    {
     "data": {
      "text/plain": [
       "'Epoch 200. Train loss: 0.5119885642081499. Test loss: 0.5109939781948925.'"
      ]
     },
     "metadata": {},
     "output_type": "display_data"
    },
    {
     "data": {
      "text/plain": [
       "'Epoch 210. Train loss: 0.5119884141720832. Test loss: 0.5109938298352062.'"
      ]
     },
     "metadata": {},
     "output_type": "display_data"
    },
    {
     "data": {
      "text/plain": [
       "'Epoch 220. Train loss: 0.5119883271865546. Test loss: 0.5109937435481697.'"
      ]
     },
     "metadata": {},
     "output_type": "display_data"
    },
    {
     "data": {
      "text/plain": [
       "'Epoch 230. Train loss: 0.5119882842060178. Test loss: 0.5109936937689781.'"
      ]
     },
     "metadata": {},
     "output_type": "display_data"
    },
    {
     "data": {
      "text/plain": [
       "'Epoch 240. Train loss: 0.5119882425293326. Test loss: 0.5109936631284654.'"
      ]
     },
     "metadata": {},
     "output_type": "display_data"
    },
    {
     "data": {
      "text/plain": [
       "'Epoch 250. Train loss: 0.5119882172904908. Test loss: 0.5109936371445656.'"
      ]
     },
     "metadata": {},
     "output_type": "display_data"
    },
    {
     "data": {
      "text/plain": [
       "'Epoch 260. Train loss: 0.5119882290251553. Test loss: 0.5109936275519431.'"
      ]
     },
     "metadata": {},
     "output_type": "display_data"
    },
    {
     "data": {
      "text/plain": [
       "'Epoch 270. Train loss: 0.511988198524341. Test loss: 0.5109936266206205.'"
      ]
     },
     "metadata": {},
     "output_type": "display_data"
    },
    {
     "data": {
      "text/plain": [
       "'Epoch 280. Train loss: 0.5119881954044103. Test loss: 0.5109936151653528.'"
      ]
     },
     "metadata": {},
     "output_type": "display_data"
    },
    {
     "data": {
      "text/plain": [
       "'Epoch 290. Train loss: 0.5119881953112781. Test loss: 0.5109936158172786.'"
      ]
     },
     "metadata": {},
     "output_type": "display_data"
    },
    {
     "data": {
      "text/plain": [
       "'Epoch 300. Train loss: 0.5119881987571716. Test loss: 0.5109935984946787.'"
      ]
     },
     "metadata": {},
     "output_type": "display_data"
    },
    {
     "data": {
      "text/plain": [
       "'Epoch 310. Train loss: 0.5119881894439459. Test loss: 0.5109936119988561.'"
      ]
     },
     "metadata": {},
     "output_type": "display_data"
    },
    {
     "data": {
      "text/plain": [
       "'Convergence reached at 313'"
      ]
     },
     "metadata": {},
     "output_type": "display_data"
    },
    {
     "data": {
      "text/plain": [
       "'Done'"
      ]
     },
     "metadata": {},
     "output_type": "display_data"
    }
   ],
   "source": [
    "x = torch.linspace(-math.pi, math.pi, 10000, dtype=dtype)\n",
    "x2 = torch.linspace(math.pi, 2 * math.pi, 2000, dtype=dtype)\n",
    "y = torch.cos(x)\n",
    "y2 = torch.cos(x2)\n",
    "\n",
    "lossy1, lossy2, lossy3 = list(), list(), list()\n",
    "epochx1, epochx2, epochx3 = list(), list(), list()\n",
    "\n",
    "loss_fn = torch.nn.MSELoss()\n",
    "epochs = 4000\n",
    "lr = 1e-3\n",
    "batch_size=512\n",
    "optimizer1 = torch.optim.SGD(cos_model1.parameters(), lr=lr)\n",
    "train_dataloader = DataLoader(TensorDataset(x.unsqueeze(1),y.unsqueeze(1)), batch_size=batch_size)\n",
    "val_dataloader = DataLoader(TensorDataset(x.unsqueeze(1),y.unsqueeze(1)), batch_size=batch_size)\n",
    "#val_dataloader = DataLoader(TensorDataset(x2.unsqueeze(1),y2.unsqueeze(1)), batch_size=batch_size)\n",
    "patience = 10\n",
    "best_val_loss = float('inf')\n",
    "epochs_without_improvement = 0\n",
    "\n",
    "display(\"Training & eval: cos1 model\")\n",
    "for epoch in range(epochs):\n",
    "    test_loss = train_loop(train_dataloader, cos_model1, loss_fn, optimizer1, epoch)\n",
    "    val_loss = val_loop(val_dataloader, cos_model1, loss_fn, epoch)\n",
    "\n",
    "    if epoch % 10 == 0:\n",
    "        display(f\"Epoch {epoch}. Train loss: {test_loss}. Test loss: {val_loss}.\")\n",
    "\n",
    "    if epoch%2 == 0:\n",
    "        epochx1.append(epoch)\n",
    "        lossy1.append(test_loss)\n",
    "    \n",
    "    if val_loss < best_val_loss:\n",
    "        best_val_loss = val_loss\n",
    "        epochs_without_improvement = 0\n",
    "    else:\n",
    "        epochs_without_improvement +=1\n",
    "\n",
    "    if epochs_without_improvement >= patience:\n",
    "        display(f'Convergence reached at {epoch}')\n",
    "        if epoch%2 != 0:\n",
    "            epochx1.append(epoch)\n",
    "            lossy1.append(test_loss)\n",
    "        break\n",
    "display(\"Done\")\n",
    "\n",
    "optimizer2 = torch.optim.SGD(cos_model2.parameters(), lr=lr)\n",
    "best_val_loss = float('inf')\n",
    "epochs_without_improvement = 0\n",
    "display(\"Training & eval: cos2 model\")\n",
    "for epoch in range(epochs):\n",
    "    test_loss = train_loop(train_dataloader, cos_model2, loss_fn, optimizer2, epoch)\n",
    "    val_loss = val_loop(val_dataloader, cos_model2, loss_fn, epoch)\n",
    "\n",
    "    if epoch % 10 == 0:\n",
    "        display(f\"Epoch {epoch}. Train loss: {test_loss}. Test loss: {val_loss}.\")\n",
    "\n",
    "    if epoch%2 == 0:\n",
    "        epochx2.append(epoch)\n",
    "        lossy2.append(test_loss)\n",
    "\n",
    "    if val_loss < best_val_loss:\n",
    "        best_val_loss = val_loss\n",
    "        epochs_without_improvement = 0\n",
    "    else:\n",
    "        epochs_without_improvement +=1\n",
    "\n",
    "    if epochs_without_improvement >= patience:\n",
    "        display(f'Convergence reached at {epoch}')\n",
    "        if epoch%2 != 0:\n",
    "            epochx2.append(epoch)\n",
    "            lossy2.append(test_loss)\n",
    "        break\n",
    "display(\"Done\")\n",
    "\n",
    "optimizer3 = torch.optim.SGD(cos_model3.parameters(), lr=lr)\n",
    "best_val_loss = float('inf')\n",
    "epochs_without_improvement = 0\n",
    "display(\"Training & eval: cos3 model\")\n",
    "for epoch in range(epochs):\n",
    "    test_loss = train_loop(train_dataloader, cos_model3, loss_fn, optimizer3, epoch)\n",
    "    val_loss = val_loop(val_dataloader, cos_model3, loss_fn, epoch)\n",
    "\n",
    "    if epoch % 10 == 0:\n",
    "        display(f\"Epoch {epoch}. Train loss: {test_loss}. Test loss: {val_loss}.\")\n",
    "\n",
    "    if epoch%2 == 0:\n",
    "        epochx3.append(epoch)\n",
    "        lossy3.append(test_loss)\n",
    "\n",
    "    if val_loss < best_val_loss:\n",
    "        best_val_loss = val_loss\n",
    "        epochs_without_improvement = 0\n",
    "    else:\n",
    "        epochs_without_improvement +=1\n",
    "\n",
    "    if epochs_without_improvement >= patience:\n",
    "        display(f'Convergence reached at {epoch}')\n",
    "        if epoch%2 != 0:\n",
    "            epochx3.append(epoch)\n",
    "            lossy3.append(test_loss)\n",
    "        break\n",
    "display(\"Done\")"
   ]
  },
  {
   "cell_type": "markdown",
   "metadata": {},
   "source": [
    "### Saving models"
   ]
  },
  {
   "cell_type": "code",
   "execution_count": 5,
   "metadata": {},
   "outputs": [],
   "source": [
    "torch.save(cos_model1.state_dict(), 'cosmodel1_weights.pth')\n",
    "torch.save(cos_model2.state_dict(), 'cosmodel2_weights.pth')\n",
    "torch.save(cos_model3.state_dict(), 'cosmodel3_weights.pth')"
   ]
  },
  {
   "cell_type": "markdown",
   "metadata": {},
   "source": [
    "### Plotting models"
   ]
  },
  {
   "cell_type": "code",
   "execution_count": 6,
   "metadata": {},
   "outputs": [
    {
     "data": {
      "text/plain": [
       "<matplotlib.legend.Legend at 0x177d5fec0>"
      ]
     },
     "execution_count": 6,
     "metadata": {},
     "output_type": "execute_result"
    },
    {
     "data": {
      "image/png": "[encoded data removed]",
      "text/plain": [
       "<Figure size 640x480 with 1 Axes>"
      ]
     },
     "metadata": {},
     "output_type": "display_data"
    },
    {
     "data": {
      "image/png": "[encoded data removed]",
      "text/plain": [
       "<Figure size 640x480 with 1 Axes>"
      ]
     },
     "metadata": {},
     "output_type": "display_data"
    }
   ],
   "source": [
    "# Plotting model loss and ground truth for cosine neural networks\n",
    "fig, ax = plt.subplots()\n",
    "ax.plot(epochx1, lossy1, epochx2, lossy2, epochx3, lossy3)\n",
    "ax.set(xlabel=\"epochs\",ylabel=\"loss\", title=\"Model loss\")\n",
    "ax.legend(labels=['cos_model1','cos_model2','cos_model3'])\n",
    "\n",
    "fig2, ax2 = plt.subplots()\n",
    "x = torch.linspace(-math.pi, math.pi, 5000, dtype=dtype)\n",
    "y = torch.cos(x)\n",
    "\n",
    "with torch.no_grad():\n",
    "    m1_y = cos_model1(x.unsqueeze(1)).cpu().numpy()\n",
    "    m2_y = cos_model2(x.unsqueeze(1)).cpu().numpy()\n",
    "    m3_y = cos_model3(x.unsqueeze(1)).cpu().numpy()\n",
    "    x = x.cpu().numpy()\n",
    "    y = y.cpu().numpy()\n",
    "\n",
    "ax2.plot(x, m1_y, x, m2_y, x, m3_y, x, y)\n",
    "ax2.set(xlabel='x',ylabel='y', title='Ground truth')\n",
    "ax2.legend(labels=['cos_model1', 'cos_model2','cos_model3', 'Ground Truth'])\n"
   ]
  },
  {
   "cell_type": "markdown",
   "metadata": {},
   "source": [
    "## 1-1. Training on actual task"
   ]
  },
  {
   "cell_type": "code",
   "execution_count": 8,
   "metadata": {},
   "outputs": [],
   "source": [
    "from torchvision import datasets\n",
    "from torchvision.transforms import ToTensor\n",
    "training_ds = datasets.MNIST(root=\"data\", train=True, download=True, transform=ToTensor())\n",
    "test_ds = datasets.MNIST(root='data', train=False, download=True, transform=ToTensor())"
   ]
  },
  {
   "cell_type": "markdown",
   "metadata": {},
   "source": [
    "### Creating models"
   ]
  },
  {
   "cell_type": "code",
   "execution_count": 9,
   "metadata": {},
   "outputs": [
    {
     "data": {
      "text/plain": [
       "NMISTNetwork1(\n",
       "  (seq): Sequential(\n",
       "    (0): Conv2d(1, 32, kernel_size=(5, 5), stride=(1, 1))\n",
       "    (1): ReLU()\n",
       "    (2): Flatten(start_dim=1, end_dim=-1)\n",
       "    (3): Linear(in_features=18432, out_features=128, bias=True)\n",
       "    (4): Linear(in_features=128, out_features=10, bias=True)\n",
       "  )\n",
       ")"
      ]
     },
     "metadata": {},
     "output_type": "display_data"
    },
    {
     "data": {
      "text/plain": [
       "'nmist1. parameters: 2361546'"
      ]
     },
     "metadata": {},
     "output_type": "display_data"
    },
    {
     "data": {
      "text/plain": [
       "NMISTNetwork2(\n",
       "  (seq): Sequential(\n",
       "    (0): Conv2d(1, 32, kernel_size=(5, 5), stride=(1, 1))\n",
       "    (1): ReLU()\n",
       "    (2): Conv2d(32, 64, kernel_size=(5, 5), stride=(1, 1))\n",
       "    (3): ReLU()\n",
       "    (4): Flatten(start_dim=1, end_dim=-1)\n",
       "    (5): Linear(in_features=25600, out_features=128, bias=True)\n",
       "    (6): Linear(in_features=128, out_features=10, bias=True)\n",
       "  )\n",
       ")"
      ]
     },
     "metadata": {},
     "output_type": "display_data"
    },
    {
     "data": {
      "text/plain": [
       "'nmist2. parameters: 3330314'"
      ]
     },
     "metadata": {},
     "output_type": "display_data"
    },
    {
     "data": {
      "text/plain": [
       "NMISTNetwork3(\n",
       "  (seq): Sequential(\n",
       "    (0): Conv2d(1, 32, kernel_size=(5, 5), stride=(1, 1))\n",
       "    (1): ReLU()\n",
       "    (2): Conv2d(32, 64, kernel_size=(5, 5), stride=(1, 1))\n",
       "    (3): Dropout(p=0.25, inplace=False)\n",
       "    (4): ReLU()\n",
       "    (5): Conv2d(64, 64, kernel_size=(5, 5), stride=(1, 1))\n",
       "    (6): Flatten(start_dim=1, end_dim=-1)\n",
       "    (7): Linear(in_features=16384, out_features=128, bias=True)\n",
       "    (8): ReLU()\n",
       "    (9): Linear(in_features=128, out_features=10, bias=True)\n",
       "  )\n",
       ")"
      ]
     },
     "metadata": {},
     "output_type": "display_data"
    },
    {
     "data": {
      "text/plain": [
       "'nmist3. parameters: 2253130'"
      ]
     },
     "metadata": {},
     "output_type": "display_data"
    }
   ],
   "source": [
    "class NMISTNetwork1(nn.Module):\n",
    "        \"\"\"First CNN for NMIST\"\"\"\n",
    "        def __init__(self):\n",
    "            super().__init__()\n",
    "            self.seq = nn.Sequential(\n",
    "            nn.Conv2d(1, 32, 5), \n",
    "            nn.ReLU(),\n",
    "            nn.Flatten(1), \n",
    "            nn.Linear(18432, 128),\n",
    "            nn.Linear(128, 10),\n",
    "            )\n",
    "        \n",
    "        def forward(self, x):\n",
    "              output = self.seq(x)\n",
    "              return output\n",
    "        \n",
    "class NMISTNetwork2(nn.Module):\n",
    "        \"\"\"Second CNN for NMIST\"\"\"\n",
    "        def __init__(self):\n",
    "            super().__init__()\n",
    "            self.seq = nn.Sequential(\n",
    "            nn.Conv2d(1, 32, 5), \n",
    "            nn.ReLU(),\n",
    "            nn.Conv2d(32, 64, 5),\n",
    "            nn.ReLU(),\n",
    "            nn.Flatten(1), \n",
    "            nn.Linear(25600, 128),\n",
    "            nn.Linear(128, 10),\n",
    "            )\n",
    "        \n",
    "        def forward(self, x):\n",
    "              output = self.seq(x)\n",
    "              return output\n",
    "        \n",
    "class NMISTNetwork3(nn.Module):\n",
    "        \"\"\"Third CNN for NMIST\"\"\"\n",
    "        def __init__(self):\n",
    "            super().__init__()\n",
    "            self.seq = nn.Sequential(\n",
    "            nn.Conv2d(1, 32, 5), \n",
    "            nn.ReLU(),\n",
    "            nn.Conv2d(32, 64, 5),\n",
    "            nn.Dropout(.25),\n",
    "            nn.ReLU(),\n",
    "            nn.Conv2d(64, 64, 5),\n",
    "            nn.Flatten(1), \n",
    "            nn.Linear(16384, 128),\n",
    "            nn.ReLU(),\n",
    "            nn.Linear(128, 10),\n",
    "            )\n",
    "        \n",
    "        def forward(self, x):\n",
    "              output = self.seq(x)\n",
    "              return output\n",
    "        \n",
    "\n",
    "nmist1, nmist2, nmist3 = NMISTNetwork1(), NMISTNetwork2(), NMISTNetwork3()\n",
    "display_model_info('nmist1', nmist1)\n",
    "display_model_info('nmist2', nmist2)\n",
    "display_model_info('nmist3', nmist3)"
   ]
  },
  {
   "cell_type": "markdown",
   "metadata": {},
   "source": [
    "### Utility functions"
   ]
  },
  {
   "cell_type": "code",
   "execution_count": 10,
   "metadata": {},
   "outputs": [],
   "source": [
    "def nmist_train_loop(dataloader, model, loss_fn, optimize, epoch):\n",
    "    \"\"\"Training loop funciton for non-linear function\"\"\"\n",
    "    model.train()\n",
    "    num_batches = len(dataloader)\n",
    "    train_loss, correct = 0,0\n",
    "    size = len(dataloader.dataset)\n",
    "\n",
    "    for batch, (X, y) in enumerate(dataloader):\n",
    "        X = X.to(device)\n",
    "        optimize.zero_grad()\n",
    "        y_pred = model(X)\n",
    "        loss = loss_fn(y_pred, y)\n",
    "        train_loss += loss.item()\n",
    "        correct += (y_pred.argmax(dim=1) == y).type(torch.float).sum().item()\n",
    "\n",
    "        loss.backward()\n",
    "        optimize.step()\n",
    "    \n",
    "    train_loss /= num_batches\n",
    "    correct /=size\n",
    "\n",
    "    if epoch % 10 == 0:\n",
    "        display(f\"Epoch {epoch}. Accuracy: {(100*correct)}%, Avg loss: {train_loss}\")\n",
    "\n",
    "    return train_loss, correct\n",
    "        \n",
    "def nmist_val_loop(dataloader, model, loss_fn, epoch):\n",
    "    \"\"\"Eval loop function for non-linear function\"\"\"\n",
    "    model.eval()\n",
    "    size= len(dataloader.dataset)\n",
    "    num_batches = len(dataloader)\n",
    "    test_loss, correct = 0,0\n",
    "\n",
    "    with torch.no_grad():\n",
    "        for X,y in dataloader:\n",
    "            X = X.to(device)\n",
    "            y_pred = model(X)\n",
    "            test_loss += loss_fn(y_pred, y).item()\n",
    "            correct += (y_pred.argmax(dim=1) == y).type(torch.float).sum().item()\n",
    "    \n",
    "    test_loss /= num_batches\n",
    "    correct /=size\n",
    "\n",
    "#    if epoch % 10 == 0:\n",
    "#        display(f\"Epoch {epoch}. Accuracy: {(100*correct)}%, Avg loss: {test_loss}\")\n",
    "\n",
    "    return test_loss, correct"
   ]
  },
  {
   "cell_type": "markdown",
   "metadata": {},
   "source": [
    "### Training and Testing Loop"
   ]
  },
  {
   "cell_type": "code",
   "execution_count": 11,
   "metadata": {},
   "outputs": [
    {
     "data": {
      "text/plain": [
       "'Training & eval: nmist1 model'"
      ]
     },
     "metadata": {},
     "output_type": "display_data"
    },
    {
     "data": {
      "text/plain": [
       "'Epoch 0. Accuracy: 84.94333333333334%, Avg loss: 0.6238763699494302'"
      ]
     },
     "metadata": {},
     "output_type": "display_data"
    },
    {
     "data": {
      "text/plain": [
       "'Epoch 10. Accuracy: 96.41666666666666%, Avg loss: 0.1285963900643401'"
      ]
     },
     "metadata": {},
     "output_type": "display_data"
    },
    {
     "data": {
      "text/plain": [
       "'Epoch 20. Accuracy: 98.215%, Avg loss: 0.0639472272573039'"
      ]
     },
     "metadata": {},
     "output_type": "display_data"
    },
    {
     "data": {
      "text/plain": [
       "'Epoch 30. Accuracy: 98.74000000000001%, Avg loss: 0.04507152798003517'"
      ]
     },
     "metadata": {},
     "output_type": "display_data"
    },
    {
     "data": {
      "text/plain": [
       "'Epoch 40. Accuracy: 99.04666666666667%, Avg loss: 0.034809608717332595'"
      ]
     },
     "metadata": {},
     "output_type": "display_data"
    },
    {
     "data": {
      "text/plain": [
       "'Epoch 50. Accuracy: 99.30833333333334%, Avg loss: 0.027821590559906326'"
      ]
     },
     "metadata": {},
     "output_type": "display_data"
    },
    {
     "data": {
      "text/plain": [
       "'Convergence reached at 58'"
      ]
     },
     "metadata": {},
     "output_type": "display_data"
    },
    {
     "data": {
      "text/plain": [
       "'Done'"
      ]
     },
     "metadata": {},
     "output_type": "display_data"
    },
    {
     "data": {
      "text/plain": [
       "'Training & eval: nmist2 model'"
      ]
     },
     "metadata": {},
     "output_type": "display_data"
    },
    {
     "data": {
      "text/plain": [
       "'Epoch 0. Accuracy: 83.89333333333333%, Avg loss: 0.6082359640114009'"
      ]
     },
     "metadata": {},
     "output_type": "display_data"
    },
    {
     "data": {
      "text/plain": [
       "'Epoch 10. Accuracy: 98.37333333333333%, Avg loss: 0.05846752212033607'"
      ]
     },
     "metadata": {},
     "output_type": "display_data"
    },
    {
     "data": {
      "text/plain": [
       "'Convergence reached at 19'"
      ]
     },
     "metadata": {},
     "output_type": "display_data"
    },
    {
     "data": {
      "text/plain": [
       "'Done'"
      ]
     },
     "metadata": {},
     "output_type": "display_data"
    },
    {
     "data": {
      "text/plain": [
       "'Training & eval: nmist3 model'"
      ]
     },
     "metadata": {},
     "output_type": "display_data"
    },
    {
     "data": {
      "text/plain": [
       "'Epoch 0. Accuracy: 78.92166666666667%, Avg loss: 0.6984337988961488'"
      ]
     },
     "metadata": {},
     "output_type": "display_data"
    },
    {
     "data": {
      "text/plain": [
       "'Epoch 10. Accuracy: 98.4%, Avg loss: 0.05141434674704214'"
      ]
     },
     "metadata": {},
     "output_type": "display_data"
    },
    {
     "data": {
      "text/plain": [
       "'Convergence reached at 14'"
      ]
     },
     "metadata": {},
     "output_type": "display_data"
    },
    {
     "data": {
      "text/plain": [
       "'Done'"
      ]
     },
     "metadata": {},
     "output_type": "display_data"
    }
   ],
   "source": [
    "lossy1, lossy2, lossy3 = list(), list(), list()\n",
    "epochx1, epochx2, epochx3 = list(), list(), list()\n",
    "accy1, accy2, accy3 = list(), list(), list()\n",
    "\n",
    "loss_fn = torch.nn.CrossEntropyLoss()\n",
    "epochs = 75\n",
    "lr = 1.5e-2\n",
    "batch_size=150\n",
    "\n",
    "training_dl = DataLoader(training_ds, batch_size=batch_size)\n",
    "test_dl = DataLoader(test_ds, batch_size=batch_size)\n",
    "\n",
    "patience = 5\n",
    "best_val_loss = float('inf')\n",
    "epochs_without_improvement = 0\n",
    "\n",
    "optimizer1 = torch.optim.SGD(nmist1.parameters(), lr=lr)\n",
    "display(\"Training & eval: nmist1 model\")\n",
    "for epoch in range(epochs):\n",
    "    test_loss, correct = nmist_train_loop(training_dl, nmist1, loss_fn, optimizer1, epoch)\n",
    "    val_loss, _ = nmist_val_loop(test_dl, nmist1, loss_fn, epoch)\n",
    "\n",
    "    if epoch%2 == 0:\n",
    "        epochx1.append(epoch)\n",
    "        lossy1.append(test_loss)\n",
    "        accy1.append(correct)\n",
    "    \n",
    "    if val_loss < best_val_loss:\n",
    "        best_val_loss = val_loss\n",
    "        epochs_without_improvement = 0\n",
    "    else:\n",
    "        epochs_without_improvement +=1\n",
    "\n",
    "    if epochs_without_improvement >= patience:\n",
    "        display(f'Convergence reached at {epoch}')\n",
    "        if epoch%2 !=0:\n",
    "            epochx1.append(epoch)\n",
    "            lossy1.append(test_loss)\n",
    "            accy1.append(correct)\n",
    "        break\n",
    "display(\"Done\")\n",
    "\n",
    "optimizer2 = torch.optim.SGD(nmist2.parameters(), lr=lr)\n",
    "best_val_loss = float('inf')\n",
    "epochs_without_improvement = 0\n",
    "display(\"Training & eval: nmist2 model\")\n",
    "for epoch in range(epochs):\n",
    "    test_loss, correct = nmist_train_loop(training_dl, nmist2, loss_fn, optimizer2, epoch)\n",
    "    val_loss, _ = nmist_val_loop(test_dl, nmist2, loss_fn, epoch)\n",
    "\n",
    "    if epoch%2 == 0:\n",
    "        epochx2.append(epoch)\n",
    "        lossy2.append(test_loss)\n",
    "        accy2.append(correct)\n",
    "\n",
    "    if val_loss < best_val_loss:\n",
    "        best_val_loss = test_loss\n",
    "        epochs_without_improvement = 0\n",
    "    else:\n",
    "        epochs_without_improvement +=1\n",
    "\n",
    "    if epochs_without_improvement >= patience:\n",
    "        display(f'Convergence reached at {epoch}')\n",
    "        if epoch%2 != 0:\n",
    "            epochx2.append(epoch)\n",
    "            lossy2.append(test_loss)\n",
    "            accy2.append(correct)\n",
    "        break\n",
    "display(\"Done\")\n",
    "\n",
    "optimizer3 = torch.optim.SGD(nmist3.parameters(), lr=lr)\n",
    "best_val_loss = float('inf')\n",
    "epochs_without_improvement = 0\n",
    "display(\"Training & eval: nmist3 model\")\n",
    "for epoch in range(epochs):\n",
    "    test_loss, correct = nmist_train_loop(training_dl, nmist3, loss_fn, optimizer3, epoch)\n",
    "    val_loss, _ = nmist_val_loop(test_dl, nmist3, loss_fn, epoch)\n",
    "\n",
    "    if epoch%2 == 0:\n",
    "        epochx3.append(epoch)\n",
    "        lossy3.append(test_loss)\n",
    "        accy3.append(correct)\n",
    "\n",
    "    if val_loss < best_val_loss:\n",
    "        best_val_loss = test_loss\n",
    "        epochs_without_improvement = 0\n",
    "    else:\n",
    "        epochs_without_improvement +=1\n",
    "\n",
    "    if epochs_without_improvement >= patience:\n",
    "        display(f'Convergence reached at {epoch}')\n",
    "        if epoch%2 != 0:\n",
    "            epochx3.append(epoch)\n",
    "            lossy3.append(test_loss)\n",
    "            accy3.append(correct)\n",
    "        break\n",
    "display(\"Done\")"
   ]
  },
  {
   "cell_type": "markdown",
   "metadata": {},
   "source": [
    "### Save models"
   ]
  },
  {
   "cell_type": "code",
   "execution_count": 12,
   "metadata": {},
   "outputs": [],
   "source": [
    "torch.save(nmist1.state_dict(), 'nmist1_weights.pth')\n",
    "torch.save(nmist2.state_dict(), 'nmist2_weights.pth')\n",
    "torch.save(nmist3.state_dict(), 'nmist3_weights.pth')"
   ]
  },
  {
   "cell_type": "markdown",
   "metadata": {},
   "source": [
    "### Plotting Models"
   ]
  },
  {
   "cell_type": "code",
   "execution_count": 13,
   "metadata": {},
   "outputs": [
    {
     "data": {
      "text/plain": [
       "<matplotlib.legend.Legend at 0x30af3ba40>"
      ]
     },
     "execution_count": 13,
     "metadata": {},
     "output_type": "execute_result"
    },
    {
     "data": {
      "image/png": "[encoded data removed]",
      "text/plain": [
       "<Figure size 640x480 with 1 Axes>"
      ]
     },
     "metadata": {},
     "output_type": "display_data"
    },
    {
     "data": {
      "image/png": "[encoded data removed]",
      "text/plain": [
       "<Figure size 640x480 with 1 Axes>"
      ]
     },
     "metadata": {},
     "output_type": "display_data"
    }
   ],
   "source": [
    "fig, ax = plt.subplots()\n",
    "ax.plot(epochx1, lossy1, epochx2, lossy2, epochx3, lossy3)\n",
    "ax.set(xlabel=\"epochs\",ylabel=\"loss\", title=\"Model loss\")\n",
    "ax.legend(labels=['nmist1','nmist2','nmist3'])\n",
    "\n",
    "fig2, ax2 = plt.subplots()\n",
    "x = torch.linspace(-math.pi, math.pi, 5000, dtype=dtype)\n",
    "y = torch.cos(x)\n",
    "\n",
    "ax2.plot(epochx1, accy1, epochx2, accy2, epochx3, accy3)\n",
    "ax2.set(xlabel='epochs',ylabel='Accuracy', title='Model accuracy')\n",
    "ax2.legend(labels=['nmist1', 'nmist2','nmist3'])\n"
   ]
  },
  {
   "cell_type": "code",
   "execution_count": null,
   "metadata": {},
   "outputs": [],
   "source": []
  }
 ],
 "metadata": {
  "kernelspec": {
   "display_name": ".venv",
   "language": "python",
   "name": "python3"
  },
  "language_info": {
   "codemirror_mode": {
    "name": "ipython",
    "version": 3
   },
   "file_extension": ".py",
   "mimetype": "text/x-python",
   "name": "python",
   "nbconvert_exporter": "python",
   "pygments_lexer": "ipython3",
   "version": "3.12.4"
  }
 },
 "nbformat": 4,
 "nbformat_minor": 2
}
