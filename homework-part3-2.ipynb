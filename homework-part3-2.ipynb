{
 "cells": [
  {
   "cell_type": "markdown",
   "id": "b8171833-67ad-4b81-bbef-195b18524b6d",
   "metadata": {
    "tags": []
   },
   "source": [
    "# Homework 1. Part 3.2"
   ]
  },
  {
   "cell_type": "code",
   "execution_count": 1,
   "id": "7958fe00-5a97-430e-b0fa-6816c4834ef5",
   "metadata": {},
   "outputs": [],
   "source": [
    "import matplotlib.pyplot as plt\n",
    "import torch\n",
    "from torch import nn\n",
    "from torchvision import datasets\n",
    "from torchvision.transforms import ToTensor\n",
    "import pandas as pd\n",
    "from torch.utils.data import DataLoader"
   ]
  },
  {
   "cell_type": "code",
   "execution_count": 2,
   "id": "fabd7e9f-bd81-4fa3-a1c6-24bb3ebd6dcd",
   "metadata": {
    "tags": []
   },
   "outputs": [
    {
     "data": {
      "text/plain": [
       "'cuda is available'"
      ]
     },
     "metadata": {},
     "output_type": "display_data"
    }
   ],
   "source": [
    "# Setting default device\n",
    "\n",
    "if torch.cuda.is_available():\n",
    "    device = 'cuda'\n",
    "elif torch.backends.mps.is_available():\n",
    "    device = 'mps'\n",
    "else:\n",
    "    device = 'cpu'\n",
    "\n",
    "display(f'{device} is available')\n",
    "\n",
    "dtype = torch.float\n",
    "torch.set_default_device(device)"
   ]
  },
  {
   "cell_type": "markdown",
   "id": "5a4e0328-0c09-4d24-a146-1deb2d788829",
   "metadata": {
    "tags": []
   },
   "source": [
    "### Modifiable model"
   ]
  },
  {
   "cell_type": "code",
   "execution_count": 3,
   "id": "6e8d0be4-3023-4b72-ba29-5ba7eb9bb34b",
   "metadata": {},
   "outputs": [],
   "source": [
    "class ChangeableNetwork(nn.Module):\n",
    "    def __init__(self, modification=512):\n",
    "        super().__init__()\n",
    "        self.linear_relu = nn.Sequential(\n",
    "            nn.Linear(28*28, modification),\n",
    "            nn.ReLU(),\n",
    "            nn.Linear(modification,modification),\n",
    "            nn.ReLU(),\n",
    "            nn.Linear(modification, 10),\n",
    "        )\n",
    "\n",
    "    def forward(self, x):\n",
    "        flat = nn.Flatten()\n",
    "        x = flat(x)\n",
    "        logits = self.linear_relu(x)\n",
    "        return logits"
   ]
  },
  {
   "cell_type": "markdown",
   "id": "2eb5302c-160f-4c43-b099-edbc128f683c",
   "metadata": {},
   "source": [
    "### Utility Functions"
   ]
  },
  {
   "cell_type": "code",
   "execution_count": 4,
   "id": "071cb222-1a1e-4282-8274-0b0751397c3e",
   "metadata": {},
   "outputs": [],
   "source": [
    "def cnt_model_params(model):\n",
    "    \"\"\"Count model parameters\"\"\"\n",
    "    count = 0\n",
    "    with torch.no_grad():\n",
    "        for param in model.parameters():\n",
    "            count+=param.numel()\n",
    "    return count\n",
    "\n",
    "def display_model_info(model_name, model):\n",
    "    \"\"\" Display model information\"\"\"\n",
    "    count = 0\n",
    "    for module in model.modules():\n",
    "        if isinstance(module, nn.Module):\n",
    "            count+=1\n",
    "    display(model)\n",
    "    display(f\"{model_name}. parameters: {cnt_model_params(model)}\")"
   ]
  },
  {
   "cell_type": "code",
   "execution_count": 5,
   "id": "2e34cccf-454c-42d5-ba5e-d5910b00d1ee",
   "metadata": {},
   "outputs": [],
   "source": [
    "# Randomly changed the lavels on the training dataset. Kept labels the same on test dataset.\n",
    "training_ds = datasets.MNIST(root=\"data\", train=True, download=True, transform=ToTensor())\n",
    "test_ds = datasets.MNIST(root='data', train=False, download=True, transform=ToTensor())\n"
   ]
  },
  {
   "cell_type": "markdown",
   "id": "0266835a-8218-4437-bd72-3525e970fc26",
   "metadata": {
    "tags": []
   },
   "source": [
    "### Training & eval loops"
   ]
  },
  {
   "cell_type": "code",
   "execution_count": 6,
   "id": "cc93fa03-3f1b-4fec-bb18-dd56e212842c",
   "metadata": {},
   "outputs": [],
   "source": [
    "def nmist_train_loop(dataloader, model, loss_fn, optimize):\n",
    "    model.train()\n",
    "    num_batches = len(dataloader)\n",
    "    train_loss, correct = 0,0\n",
    "    size = len(dataloader.dataset)\n",
    "\n",
    "    for batch, (X, y) in enumerate(dataloader):\n",
    "        X = X.to(device)\n",
    "        optimize.zero_grad()\n",
    "        y_pred = model(X)\n",
    "        loss = loss_fn(y_pred, y)\n",
    "        train_loss += loss.item()\n",
    "        correct += (y_pred.argmax(dim=1) == y).type(torch.float).sum().item()\n",
    "\n",
    "        loss.backward()\n",
    "        optimize.step()\n",
    "    \n",
    "    train_loss /= num_batches\n",
    "    correct /=size\n",
    "    return train_loss, correct\n",
    "        \n",
    "def nmist_val_loop(dataloader, model, loss_fn):\n",
    "    model.eval()\n",
    "    size= len(dataloader.dataset)\n",
    "    num_batches = len(dataloader)\n",
    "    test_loss, correct = 0,0\n",
    "\n",
    "    with torch.no_grad():\n",
    "        for X,y in dataloader:\n",
    "            X = X.to(device)\n",
    "            y_pred = model(X)\n",
    "            test_loss += loss_fn(y_pred, y).item()\n",
    "            correct += (y_pred.argmax(dim=1) == y).type(torch.float).sum().item()\n",
    "    \n",
    "    test_loss /= num_batches\n",
    "    correct /=size\n",
    "    return test_loss, correct"
   ]
  },
  {
   "cell_type": "markdown",
   "id": "5a9cb8ef-eda9-4193-9758-417f7fab8aa4",
   "metadata": {},
   "source": [
    "## Number of parameters vs generalization"
   ]
  },
  {
   "cell_type": "code",
   "execution_count": 7,
   "id": "fbea0c2e-ffad-4cd5-ab3f-52a05953c114",
   "metadata": {
    "tags": []
   },
   "outputs": [
    {
     "data": {
      "text/plain": [
       "ChangeableNetwork(\n",
       "  (linear_relu): Sequential(\n",
       "    (0): Linear(in_features=784, out_features=5, bias=True)\n",
       "    (1): ReLU()\n",
       "    (2): Linear(in_features=5, out_features=5, bias=True)\n",
       "    (3): ReLU()\n",
       "    (4): Linear(in_features=5, out_features=10, bias=True)\n",
       "  )\n",
       ")"
      ]
     },
     "metadata": {},
     "output_type": "display_data"
    },
    {
     "data": {
      "text/plain": [
       "'0. parameters: 4015'"
      ]
     },
     "metadata": {},
     "output_type": "display_data"
    },
    {
     "data": {
      "text/plain": [
       "ChangeableNetwork(\n",
       "  (linear_relu): Sequential(\n",
       "    (0): Linear(in_features=784, out_features=1029, bias=True)\n",
       "    (1): ReLU()\n",
       "    (2): Linear(in_features=1029, out_features=1029, bias=True)\n",
       "    (3): ReLU()\n",
       "    (4): Linear(in_features=1029, out_features=10, bias=True)\n",
       "  )\n",
       ")"
      ]
     },
     "metadata": {},
     "output_type": "display_data"
    },
    {
     "data": {
      "text/plain": [
       "'1. parameters: 1877935'"
      ]
     },
     "metadata": {},
     "output_type": "display_data"
    },
    {
     "data": {
      "text/plain": [
       "ChangeableNetwork(\n",
       "  (linear_relu): Sequential(\n",
       "    (0): Linear(in_features=784, out_features=2053, bias=True)\n",
       "    (1): ReLU()\n",
       "    (2): Linear(in_features=2053, out_features=2053, bias=True)\n",
       "    (3): ReLU()\n",
       "    (4): Linear(in_features=2053, out_features=10, bias=True)\n",
       "  )\n",
       ")"
      ]
     },
     "metadata": {},
     "output_type": "display_data"
    },
    {
     "data": {
      "text/plain": [
       "'2. parameters: 5849007'"
      ]
     },
     "metadata": {},
     "output_type": "display_data"
    },
    {
     "data": {
      "text/plain": [
       "ChangeableNetwork(\n",
       "  (linear_relu): Sequential(\n",
       "    (0): Linear(in_features=784, out_features=3077, bias=True)\n",
       "    (1): ReLU()\n",
       "    (2): Linear(in_features=3077, out_features=3077, bias=True)\n",
       "    (3): ReLU()\n",
       "    (4): Linear(in_features=3077, out_features=10, bias=True)\n",
       "  )\n",
       ")"
      ]
     },
     "metadata": {},
     "output_type": "display_data"
    },
    {
     "data": {
      "text/plain": [
       "'3. parameters: 11917231'"
      ]
     },
     "metadata": {},
     "output_type": "display_data"
    },
    {
     "data": {
      "text/plain": [
       "ChangeableNetwork(\n",
       "  (linear_relu): Sequential(\n",
       "    (0): Linear(in_features=784, out_features=4101, bias=True)\n",
       "    (1): ReLU()\n",
       "    (2): Linear(in_features=4101, out_features=4101, bias=True)\n",
       "    (3): ReLU()\n",
       "    (4): Linear(in_features=4101, out_features=10, bias=True)\n",
       "  )\n",
       ")"
      ]
     },
     "metadata": {},
     "output_type": "display_data"
    },
    {
     "data": {
      "text/plain": [
       "'4. parameters: 20082607'"
      ]
     },
     "metadata": {},
     "output_type": "display_data"
    },
    {
     "data": {
      "text/plain": [
       "ChangeableNetwork(\n",
       "  (linear_relu): Sequential(\n",
       "    (0): Linear(in_features=784, out_features=5125, bias=True)\n",
       "    (1): ReLU()\n",
       "    (2): Linear(in_features=5125, out_features=5125, bias=True)\n",
       "    (3): ReLU()\n",
       "    (4): Linear(in_features=5125, out_features=10, bias=True)\n",
       "  )\n",
       ")"
      ]
     },
     "metadata": {},
     "output_type": "display_data"
    },
    {
     "data": {
      "text/plain": [
       "'5. parameters: 30345135'"
      ]
     },
     "metadata": {},
     "output_type": "display_data"
    },
    {
     "data": {
      "text/plain": [
       "ChangeableNetwork(\n",
       "  (linear_relu): Sequential(\n",
       "    (0): Linear(in_features=784, out_features=6149, bias=True)\n",
       "    (1): ReLU()\n",
       "    (2): Linear(in_features=6149, out_features=6149, bias=True)\n",
       "    (3): ReLU()\n",
       "    (4): Linear(in_features=6149, out_features=10, bias=True)\n",
       "  )\n",
       ")"
      ]
     },
     "metadata": {},
     "output_type": "display_data"
    },
    {
     "data": {
      "text/plain": [
       "'6. parameters: 42704815'"
      ]
     },
     "metadata": {},
     "output_type": "display_data"
    },
    {
     "data": {
      "text/plain": [
       "ChangeableNetwork(\n",
       "  (linear_relu): Sequential(\n",
       "    (0): Linear(in_features=784, out_features=7173, bias=True)\n",
       "    (1): ReLU()\n",
       "    (2): Linear(in_features=7173, out_features=7173, bias=True)\n",
       "    (3): ReLU()\n",
       "    (4): Linear(in_features=7173, out_features=10, bias=True)\n",
       "  )\n",
       ")"
      ]
     },
     "metadata": {},
     "output_type": "display_data"
    },
    {
     "data": {
      "text/plain": [
       "'7. parameters: 57161647'"
      ]
     },
     "metadata": {},
     "output_type": "display_data"
    },
    {
     "data": {
      "text/plain": [
       "ChangeableNetwork(\n",
       "  (linear_relu): Sequential(\n",
       "    (0): Linear(in_features=784, out_features=8197, bias=True)\n",
       "    (1): ReLU()\n",
       "    (2): Linear(in_features=8197, out_features=8197, bias=True)\n",
       "    (3): ReLU()\n",
       "    (4): Linear(in_features=8197, out_features=10, bias=True)\n",
       "  )\n",
       ")"
      ]
     },
     "metadata": {},
     "output_type": "display_data"
    },
    {
     "data": {
      "text/plain": [
       "'8. parameters: 73715631'"
      ]
     },
     "metadata": {},
     "output_type": "display_data"
    },
    {
     "data": {
      "text/plain": [
       "ChangeableNetwork(\n",
       "  (linear_relu): Sequential(\n",
       "    (0): Linear(in_features=784, out_features=9221, bias=True)\n",
       "    (1): ReLU()\n",
       "    (2): Linear(in_features=9221, out_features=9221, bias=True)\n",
       "    (3): ReLU()\n",
       "    (4): Linear(in_features=9221, out_features=10, bias=True)\n",
       "  )\n",
       ")"
      ]
     },
     "metadata": {},
     "output_type": "display_data"
    },
    {
     "data": {
      "text/plain": [
       "'9. parameters: 92366767'"
      ]
     },
     "metadata": {},
     "output_type": "display_data"
    }
   ],
   "source": [
    "# create models and with different Hidden values\n",
    "models = [ChangeableNetwork(hidden*1024 + 5) for hidden in range(0,10)]\n",
    "for idx, model in enumerate(models):\n",
    "    display_model_info(idx, model)"
   ]
  },
  {
   "cell_type": "code",
   "execution_count": 8,
   "id": "3345fd57-4bc1-4b69-b9db-280382b3f8c6",
   "metadata": {
    "tags": []
   },
   "outputs": [
    {
     "data": {
      "text/plain": [
       "'Training & eval: Model with random labels'"
      ]
     },
     "metadata": {},
     "output_type": "display_data"
    },
    {
     "data": {
      "text/plain": [
       "'Epoch 0. Training_loss: 2.3201843416258723. Val_loss: 2.3037536037955313. Training_accuracy: 0.11753333333333334. Val_accuracy: 0.1244'"
      ]
     },
     "metadata": {},
     "output_type": "display_data"
    },
    {
     "data": {
      "text/plain": [
       "'Epoch 10. Training_loss: 1.689005731900872. Val_loss: 1.6306966702649548. Training_accuracy: 0.3947. Val_accuracy: 0.4112'"
      ]
     },
     "metadata": {},
     "output_type": "display_data"
    },
    {
     "data": {
      "text/plain": [
       "'Epoch 20. Training_loss: 1.016351541921274. Val_loss: 0.9798135966252369. Training_accuracy: 0.6908166666666666. Val_accuracy: 0.6982'"
      ]
     },
     "metadata": {},
     "output_type": "display_data"
    },
    {
     "data": {
      "text/plain": [
       "'Epoch 30. Training_loss: 0.7784674839297338. Val_loss: 0.7577686772984304. Training_accuracy: 0.75675. Val_accuracy: 0.7671'"
      ]
     },
     "metadata": {},
     "output_type": "display_data"
    },
    {
     "data": {
      "text/plain": [
       "'Epoch 40. Training_loss: 0.6577204586918166. Val_loss: 0.6398670156100753. Training_accuracy: 0.8034. Val_accuracy: 0.8083'"
      ]
     },
     "metadata": {},
     "output_type": "display_data"
    },
    {
     "data": {
      "text/plain": [
       "'Epoch 50. Training_loss: 0.5976034931695537. Val_loss: 0.5836642587640483. Training_accuracy: 0.8241333333333334. Val_accuracy: 0.8275'"
      ]
     },
     "metadata": {},
     "output_type": "display_data"
    },
    {
     "data": {
      "text/plain": [
       "'Epoch 60. Training_loss: 0.564276040347019. Val_loss: 0.5529033380329229. Training_accuracy: 0.8349666666666666. Val_accuracy: 0.8375'"
      ]
     },
     "metadata": {},
     "output_type": "display_data"
    },
    {
     "data": {
      "text/plain": [
       "'Epoch 70. Training_loss: 0.5426847235496237. Val_loss: 0.5335030206449473. Training_accuracy: 0.84315. Val_accuracy: 0.8433'"
      ]
     },
     "metadata": {},
     "output_type": "display_data"
    },
    {
     "data": {
      "text/plain": [
       "'Epoch 80. Training_loss: 0.5276172668663169. Val_loss: 0.5202312733337378. Training_accuracy: 0.8477166666666667. Val_accuracy: 0.8492'"
      ]
     },
     "metadata": {},
     "output_type": "display_data"
    },
    {
     "data": {
      "text/plain": [
       "'Epoch 90. Training_loss: 0.5161549185813744. Val_loss: 0.5105989792259635. Training_accuracy: 0.8505833333333334. Val_accuracy: 0.8534'"
      ]
     },
     "metadata": {},
     "output_type": "display_data"
    },
    {
     "data": {
      "text/plain": [
       "'Epoch 100. Training_loss: 0.5071834015296594. Val_loss: 0.5031241688189233. Training_accuracy: 0.8533166666666666. Val_accuracy: 0.8546'"
      ]
     },
     "metadata": {},
     "output_type": "display_data"
    },
    {
     "data": {
      "text/plain": [
       "'Epoch 110. Training_loss: 0.4999211054684511. Val_loss: 0.49718049225533845. Training_accuracy: 0.8556166666666667. Val_accuracy: 0.8554'"
      ]
     },
     "metadata": {},
     "output_type": "display_data"
    },
    {
     "data": {
      "text/plain": [
       "'Epoch 120. Training_loss: 0.4939443305103001. Val_loss: 0.49241730044032356. Training_accuracy: 0.8575333333333334. Val_accuracy: 0.8569'"
      ]
     },
     "metadata": {},
     "output_type": "display_data"
    },
    {
     "data": {
      "text/plain": [
       "'Epoch 130. Training_loss: 0.4889385398628234. Val_loss: 0.4883272159061614. Training_accuracy: 0.85935. Val_accuracy: 0.8575'"
      ]
     },
     "metadata": {},
     "output_type": "display_data"
    },
    {
     "data": {
      "text/plain": [
       "'Epoch 140. Training_loss: 0.484535776555284. Val_loss: 0.4849183495826782. Training_accuracy: 0.8607333333333334. Val_accuracy: 0.8589'"
      ]
     },
     "metadata": {},
     "output_type": "display_data"
    },
    {
     "data": {
      "text/plain": [
       "'Done'"
      ]
     },
     "metadata": {},
     "output_type": "display_data"
    },
    {
     "data": {
      "text/plain": [
       "'Training & eval: Model with random labels'"
      ]
     },
     "metadata": {},
     "output_type": "display_data"
    },
    {
     "data": {
      "text/plain": [
       "'Epoch 0. Training_loss: 2.269655281292604. Val_loss: 2.233527557105775. Training_accuracy: 0.37011666666666665. Val_accuracy: 0.5622'"
      ]
     },
     "metadata": {},
     "output_type": "display_data"
    },
    {
     "data": {
      "text/plain": [
       "'Epoch 10. Training_loss: 0.5733773960614763. Val_loss: 0.5304839270319909. Training_accuracy: 0.8572833333333333. Val_accuracy: 0.8686'"
      ]
     },
     "metadata": {},
     "output_type": "display_data"
    },
    {
     "data": {
      "text/plain": [
       "'Epoch 20. Training_loss: 0.3801069425534147. Val_loss: 0.358282117588315. Training_accuracy: 0.8955166666666666. Val_accuracy: 0.9009'"
      ]
     },
     "metadata": {},
     "output_type": "display_data"
    },
    {
     "data": {
      "text/plain": [
       "'Epoch 30. Training_loss: 0.3268257181392486. Val_loss: 0.31026917481261074. Training_accuracy: 0.9076333333333333. Val_accuracy: 0.9107'"
      ]
     },
     "metadata": {},
     "output_type": "display_data"
    },
    {
     "data": {
      "text/plain": [
       "'Epoch 40. Training_loss: 0.29586120628948404. Val_loss: 0.28269929827968027. Training_accuracy: 0.9156333333333333. Val_accuracy: 0.9201'"
      ]
     },
     "metadata": {},
     "output_type": "display_data"
    },
    {
     "data": {
      "text/plain": [
       "'Epoch 50. Training_loss: 0.2724297037785019. Val_loss: 0.26200569876629837. Training_accuracy: 0.9222833333333333. Val_accuracy: 0.9262'"
      ]
     },
     "metadata": {},
     "output_type": "display_data"
    },
    {
     "data": {
      "text/plain": [
       "'Epoch 60. Training_loss: 0.2527412591831707. Val_loss: 0.24461748657427776. Training_accuracy: 0.9281333333333334. Val_accuracy: 0.931'"
      ]
     },
     "metadata": {},
     "output_type": "display_data"
    },
    {
     "data": {
      "text/plain": [
       "'Epoch 70. Training_loss: 0.23532951129540833. Val_loss: 0.22914407923105795. Training_accuracy: 0.9331166666666667. Val_accuracy: 0.9355'"
      ]
     },
     "metadata": {},
     "output_type": "display_data"
    },
    {
     "data": {
      "text/plain": [
       "'Epoch 80. Training_loss: 0.21965879522788245. Val_loss: 0.2151804678082751. Training_accuracy: 0.9377833333333333. Val_accuracy: 0.9388'"
      ]
     },
     "metadata": {},
     "output_type": "display_data"
    },
    {
     "data": {
      "text/plain": [
       "'Epoch 90. Training_loss: 0.20548258319016555. Val_loss: 0.2025114752880185. Training_accuracy: 0.94235. Val_accuracy: 0.9426'"
      ]
     },
     "metadata": {},
     "output_type": "display_data"
    },
    {
     "data": {
      "text/plain": [
       "'Epoch 100. Training_loss: 0.19263770699755214. Val_loss: 0.1910391660187702. Training_accuracy: 0.9457666666666666. Val_accuracy: 0.9442'"
      ]
     },
     "metadata": {},
     "output_type": "display_data"
    },
    {
     "data": {
      "text/plain": [
       "'Epoch 110. Training_loss: 0.18096410397336934. Val_loss: 0.18063134919840154. Training_accuracy: 0.9490666666666666. Val_accuracy: 0.9473'"
      ]
     },
     "metadata": {},
     "output_type": "display_data"
    },
    {
     "data": {
      "text/plain": [
       "'Epoch 120. Training_loss: 0.17033666651199525. Val_loss: 0.17116545358150723. Training_accuracy: 0.95195. Val_accuracy: 0.9496'"
      ]
     },
     "metadata": {},
     "output_type": "display_data"
    },
    {
     "data": {
      "text/plain": [
       "'Epoch 130. Training_loss: 0.16062422568149276. Val_loss: 0.16256571616117316. Training_accuracy: 0.9547666666666667. Val_accuracy: 0.9521'"
      ]
     },
     "metadata": {},
     "output_type": "display_data"
    },
    {
     "data": {
      "text/plain": [
       "'Epoch 140. Training_loss: 0.1517410527066842. Val_loss: 0.15476464102293847. Training_accuracy: 0.9575. Val_accuracy: 0.9543'"
      ]
     },
     "metadata": {},
     "output_type": "display_data"
    },
    {
     "data": {
      "text/plain": [
       "'Done'"
      ]
     },
     "metadata": {},
     "output_type": "display_data"
    },
    {
     "data": {
      "text/plain": [
       "'Training & eval: Model with random labels'"
      ]
     },
     "metadata": {},
     "output_type": "display_data"
    },
    {
     "data": {
      "text/plain": [
       "'Epoch 0. Training_loss: 2.2494014687121298. Val_loss: 2.187073265670971. Training_accuracy: 0.45763333333333334. Val_accuracy: 0.6267'"
      ]
     },
     "metadata": {},
     "output_type": "display_data"
    },
    {
     "data": {
      "text/plain": [
       "'Epoch 10. Training_loss: 0.5181741142736823. Val_loss: 0.48132834512336997. Training_accuracy: 0.8689. Val_accuracy: 0.8793'"
      ]
     },
     "metadata": {},
     "output_type": "display_data"
    },
    {
     "data": {
      "text/plain": [
       "'Epoch 20. Training_loss: 0.35988558575050283. Val_loss: 0.3411771638947687. Training_accuracy: 0.9001166666666667. Val_accuracy: 0.9039'"
      ]
     },
     "metadata": {},
     "output_type": "display_data"
    },
    {
     "data": {
      "text/plain": [
       "'Epoch 30. Training_loss: 0.309831104906542. Val_loss: 0.2962092436422968. Training_accuracy: 0.9117666666666666. Val_accuracy: 0.915'"
      ]
     },
     "metadata": {},
     "output_type": "display_data"
    },
    {
     "data": {
      "text/plain": [
       "'Epoch 40. Training_loss: 0.27938017283262473. Val_loss: 0.26893699966418516. Training_accuracy: 0.9207166666666666. Val_accuracy: 0.9235'"
      ]
     },
     "metadata": {},
     "output_type": "display_data"
    },
    {
     "data": {
      "text/plain": [
       "'Epoch 50. Training_loss: 0.2561326397161907. Val_loss: 0.24818840828148803. Training_accuracy: 0.92715. Val_accuracy: 0.9288'"
      ]
     },
     "metadata": {},
     "output_type": "display_data"
    },
    {
     "data": {
      "text/plain": [
       "'Epoch 60. Training_loss: 0.2366521039020532. Val_loss: 0.23079845455184483. Training_accuracy: 0.9327. Val_accuracy: 0.9348'"
      ]
     },
     "metadata": {},
     "output_type": "display_data"
    },
    {
     "data": {
      "text/plain": [
       "'Epoch 70. Training_loss: 0.21966255549738592. Val_loss: 0.21553861354566684. Training_accuracy: 0.9380333333333334. Val_accuracy: 0.9388'"
      ]
     },
     "metadata": {},
     "output_type": "display_data"
    },
    {
     "data": {
      "text/plain": [
       "'Epoch 80. Training_loss: 0.20451536413226554. Val_loss: 0.20185976842964057. Training_accuracy: 0.9420833333333334. Val_accuracy: 0.9422'"
      ]
     },
     "metadata": {},
     "output_type": "display_data"
    },
    {
     "data": {
      "text/plain": [
       "'Epoch 90. Training_loss: 0.1909469653651722. Val_loss: 0.1896064695783529. Training_accuracy: 0.94625. Val_accuracy: 0.9448'"
      ]
     },
     "metadata": {},
     "output_type": "display_data"
    },
    {
     "data": {
      "text/plain": [
       "'Epoch 100. Training_loss: 0.1787553122694066. Val_loss: 0.1786331132700916. Training_accuracy: 0.9496. Val_accuracy: 0.9479'"
      ]
     },
     "metadata": {},
     "output_type": "display_data"
    },
    {
     "data": {
      "text/plain": [
       "'Epoch 110. Training_loss: 0.16774719963267223. Val_loss: 0.16875242299524842. Training_accuracy: 0.9526666666666667. Val_accuracy: 0.9506'"
      ]
     },
     "metadata": {},
     "output_type": "display_data"
    },
    {
     "data": {
      "text/plain": [
       "'Epoch 120. Training_loss: 0.15776522366055992. Val_loss: 0.1598729068297703. Training_accuracy: 0.9555166666666667. Val_accuracy: 0.9534'"
      ]
     },
     "metadata": {},
     "output_type": "display_data"
    },
    {
     "data": {
      "text/plain": [
       "'Epoch 130. Training_loss: 0.1486842186599255. Val_loss: 0.15187967742591574. Training_accuracy: 0.9581. Val_accuracy: 0.9549'"
      ]
     },
     "metadata": {},
     "output_type": "display_data"
    },
    {
     "data": {
      "text/plain": [
       "'Epoch 140. Training_loss: 0.14039237079853967. Val_loss: 0.1446522266105719. Training_accuracy: 0.9602833333333334. Val_accuracy: 0.9567'"
      ]
     },
     "metadata": {},
     "output_type": "display_data"
    },
    {
     "data": {
      "text/plain": [
       "'Done'"
      ]
     },
     "metadata": {},
     "output_type": "display_data"
    },
    {
     "data": {
      "text/plain": [
       "'Training & eval: Model with random labels'"
      ]
     },
     "metadata": {},
     "output_type": "display_data"
    },
    {
     "data": {
      "text/plain": [
       "'Epoch 0. Training_loss: 2.224242266561431. Val_loss: 2.1373165731976744. Training_accuracy: 0.5082166666666666. Val_accuracy: 0.6963'"
      ]
     },
     "metadata": {},
     "output_type": "display_data"
    },
    {
     "data": {
      "text/plain": [
       "'Epoch 10. Training_loss: 0.47899282282031674. Val_loss: 0.44564167936896065. Training_accuracy: 0.87875. Val_accuracy: 0.8872'"
      ]
     },
     "metadata": {},
     "output_type": "display_data"
    },
    {
     "data": {
      "text/plain": [
       "'Epoch 20. Training_loss: 0.3466010182095108. Val_loss: 0.32809069107292566. Training_accuracy: 0.9035666666666666. Val_accuracy: 0.908'"
      ]
     },
     "metadata": {},
     "output_type": "display_data"
    },
    {
     "data": {
      "text/plain": [
       "'Epoch 30. Training_loss: 0.30098319601323176. Val_loss: 0.2873715090856051. Training_accuracy: 0.9146833333333333. Val_accuracy: 0.9186'"
      ]
     },
     "metadata": {},
     "output_type": "display_data"
    },
    {
     "data": {
      "text/plain": [
       "'Epoch 40. Training_loss: 0.27221311259665276. Val_loss: 0.2620163034576519. Training_accuracy: 0.9229333333333334. Val_accuracy: 0.926'"
      ]
     },
     "metadata": {},
     "output_type": "display_data"
    },
    {
     "data": {
      "text/plain": [
       "'Epoch 50. Training_loss: 0.2498572104548944. Val_loss: 0.24244713448699873. Training_accuracy: 0.9290666666666667. Val_accuracy: 0.9312'"
      ]
     },
     "metadata": {},
     "output_type": "display_data"
    },
    {
     "data": {
      "text/plain": [
       "'Epoch 60. Training_loss: 0.23091782056398866. Val_loss: 0.2258152869488498. Training_accuracy: 0.9344666666666667. Val_accuracy: 0.9356'"
      ]
     },
     "metadata": {},
     "output_type": "display_data"
    },
    {
     "data": {
      "text/plain": [
       "'Epoch 70. Training_loss: 0.21428584237533338. Val_loss: 0.21110990832138593. Training_accuracy: 0.9398166666666666. Val_accuracy: 0.9404'"
      ]
     },
     "metadata": {},
     "output_type": "display_data"
    },
    {
     "data": {
      "text/plain": [
       "'Epoch 80. Training_loss: 0.19945121447998546. Val_loss: 0.19794551865049417. Training_accuracy: 0.9438166666666666. Val_accuracy: 0.9432'"
      ]
     },
     "metadata": {},
     "output_type": "display_data"
    },
    {
     "data": {
      "text/plain": [
       "'Epoch 90. Training_loss: 0.186102496879076. Val_loss: 0.18608602681820086. Training_accuracy: 0.94785. Val_accuracy: 0.9455'"
      ]
     },
     "metadata": {},
     "output_type": "display_data"
    },
    {
     "data": {
      "text/plain": [
       "'Epoch 100. Training_loss: 0.17404482126343193. Val_loss: 0.17538078141452115. Training_accuracy: 0.9510666666666666. Val_accuracy: 0.9482'"
      ]
     },
     "metadata": {},
     "output_type": "display_data"
    },
    {
     "data": {
      "text/plain": [
       "'Epoch 110. Training_loss: 0.1631237115732817. Val_loss: 0.16574937187930106. Training_accuracy: 0.9542833333333334. Val_accuracy: 0.9517'"
      ]
     },
     "metadata": {},
     "output_type": "display_data"
    },
    {
     "data": {
      "text/plain": [
       "'Epoch 120. Training_loss: 0.1532034976328455. Val_loss: 0.1570737542121843. Training_accuracy: 0.95675. Val_accuracy: 0.9534'"
      ]
     },
     "metadata": {},
     "output_type": "display_data"
    },
    {
     "data": {
      "text/plain": [
       "'Epoch 130. Training_loss: 0.14417651696686648. Val_loss: 0.14925884954322866. Training_accuracy: 0.95945. Val_accuracy: 0.9561'"
      ]
     },
     "metadata": {},
     "output_type": "display_data"
    },
    {
     "data": {
      "text/plain": [
       "'Epoch 140. Training_loss: 0.13594278402185675. Val_loss: 0.14220621471981382. Training_accuracy: 0.9621666666666666. Val_accuracy: 0.9579'"
      ]
     },
     "metadata": {},
     "output_type": "display_data"
    },
    {
     "data": {
      "text/plain": [
       "'Done'"
      ]
     },
     "metadata": {},
     "output_type": "display_data"
    },
    {
     "data": {
      "text/plain": [
       "'Training & eval: Model with random labels'"
      ]
     },
     "metadata": {},
     "output_type": "display_data"
    },
    {
     "data": {
      "text/plain": [
       "'Epoch 0. Training_loss: 2.205673166683742. Val_loss: 2.0943722474347255. Training_accuracy: 0.5288666666666667. Val_accuracy: 0.7058'"
      ]
     },
     "metadata": {},
     "output_type": "display_data"
    },
    {
     "data": {
      "text/plain": [
       "'Epoch 10. Training_loss: 0.460767019142919. Val_loss: 0.42807651192519314. Training_accuracy: 0.8809333333333333. Val_accuracy: 0.8901'"
      ]
     },
     "metadata": {},
     "output_type": "display_data"
    },
    {
     "data": {
      "text/plain": [
       "'Epoch 20. Training_loss: 0.3380984204974192. Val_loss: 0.31953407701840447. Training_accuracy: 0.9045. Val_accuracy: 0.9112'"
      ]
     },
     "metadata": {},
     "output_type": "display_data"
    },
    {
     "data": {
      "text/plain": [
       "'Epoch 30. Training_loss: 0.29359740271830737. Val_loss: 0.2801092232274971. Training_accuracy: 0.9162666666666667. Val_accuracy: 0.9212'"
      ]
     },
     "metadata": {},
     "output_type": "display_data"
    },
    {
     "data": {
      "text/plain": [
       "'Epoch 40. Training_loss: 0.26521444284934986. Val_loss: 0.25530530879523156. Training_accuracy: 0.9252. Val_accuracy: 0.9277'"
      ]
     },
     "metadata": {},
     "output_type": "display_data"
    },
    {
     "data": {
      "text/plain": [
       "'Epoch 50. Training_loss: 0.24306831732074588. Val_loss: 0.23604170356396656. Training_accuracy: 0.9316666666666666. Val_accuracy: 0.9322'"
      ]
     },
     "metadata": {},
     "output_type": "display_data"
    },
    {
     "data": {
      "text/plain": [
       "'Epoch 60. Training_loss: 0.22429659445164427. Val_loss: 0.2196704047097332. Training_accuracy: 0.9369. Val_accuracy: 0.9379'"
      ]
     },
     "metadata": {},
     "output_type": "display_data"
    },
    {
     "data": {
      "text/plain": [
       "'Epoch 70. Training_loss: 0.2078095538430472. Val_loss: 0.20518279076215756. Training_accuracy: 0.9414666666666667. Val_accuracy: 0.9411'"
      ]
     },
     "metadata": {},
     "output_type": "display_data"
    },
    {
     "data": {
      "text/plain": [
       "'Epoch 80. Training_loss: 0.19309464702382684. Val_loss: 0.1921948337583405. Training_accuracy: 0.9457. Val_accuracy: 0.9443'"
      ]
     },
     "metadata": {},
     "output_type": "display_data"
    },
    {
     "data": {
      "text/plain": [
       "'Epoch 90. Training_loss: 0.17985650417464438. Val_loss: 0.18049455229726852. Training_accuracy: 0.9493333333333334. Val_accuracy: 0.9479'"
      ]
     },
     "metadata": {},
     "output_type": "display_data"
    },
    {
     "data": {
      "text/plain": [
       "'Epoch 100. Training_loss: 0.16793597319216996. Val_loss: 0.1699899544073328. Training_accuracy: 0.9527. Val_accuracy: 0.9502'"
      ]
     },
     "metadata": {},
     "output_type": "display_data"
    },
    {
     "data": {
      "text/plain": [
       "'Epoch 110. Training_loss: 0.15717203820199727. Val_loss: 0.16056789529575094. Training_accuracy: 0.9557333333333333. Val_accuracy: 0.9524'"
      ]
     },
     "metadata": {},
     "output_type": "display_data"
    },
    {
     "data": {
      "text/plain": [
       "'Epoch 120. Training_loss: 0.147429185657343. Val_loss: 0.15210604908799005. Training_accuracy: 0.9584. Val_accuracy: 0.9547'"
      ]
     },
     "metadata": {},
     "output_type": "display_data"
    },
    {
     "data": {
      "text/plain": [
       "'Epoch 130. Training_loss: 0.1385984574201336. Val_loss: 0.14450437494162113. Training_accuracy: 0.9612833333333334. Val_accuracy: 0.9572'"
      ]
     },
     "metadata": {},
     "output_type": "display_data"
    },
    {
     "data": {
      "text/plain": [
       "'Epoch 140. Training_loss: 0.1305605126321435. Val_loss: 0.13766078841813192. Training_accuracy: 0.9639833333333333. Val_accuracy: 0.9594'"
      ]
     },
     "metadata": {},
     "output_type": "display_data"
    },
    {
     "data": {
      "text/plain": [
       "'Done'"
      ]
     },
     "metadata": {},
     "output_type": "display_data"
    },
    {
     "data": {
      "text/plain": [
       "'Training & eval: Model with random labels'"
      ]
     },
     "metadata": {},
     "output_type": "display_data"
    },
    {
     "data": {
      "text/plain": [
       "'Epoch 0. Training_loss: 2.188802136668264. Val_loss: 2.054000918272954. Training_accuracy: 0.5491. Val_accuracy: 0.7185'"
      ]
     },
     "metadata": {},
     "output_type": "display_data"
    },
    {
     "data": {
      "text/plain": [
       "'Epoch 10. Training_loss: 0.4425069861241114. Val_loss: 0.4113038071686295. Training_accuracy: 0.8859. Val_accuracy: 0.8931'"
      ]
     },
     "metadata": {},
     "output_type": "display_data"
    },
    {
     "data": {
      "text/plain": [
       "'Epoch 20. Training_loss: 0.32959794821833244. Val_loss: 0.31166158866872834. Training_accuracy: 0.9075333333333333. Val_accuracy: 0.9118'"
      ]
     },
     "metadata": {},
     "output_type": "display_data"
    },
    {
     "data": {
      "text/plain": [
       "'Epoch 30. Training_loss: 0.286318605743857. Val_loss: 0.2735152400935152. Training_accuracy: 0.9192333333333333. Val_accuracy: 0.9231'"
      ]
     },
     "metadata": {},
     "output_type": "display_data"
    },
    {
     "data": {
      "text/plain": [
       "'Epoch 40. Training_loss: 0.25812722540605487. Val_loss: 0.24897439261767895. Training_accuracy: 0.9273166666666667. Val_accuracy: 0.9292'"
      ]
     },
     "metadata": {},
     "output_type": "display_data"
    },
    {
     "data": {
      "text/plain": [
       "'Epoch 50. Training_loss: 0.23601303822092856. Val_loss: 0.229762204056665. Training_accuracy: 0.93395. Val_accuracy: 0.9342'"
      ]
     },
     "metadata": {},
     "output_type": "display_data"
    },
    {
     "data": {
      "text/plain": [
       "'Epoch 60. Training_loss: 0.2173145632765917. Val_loss: 0.21343120808007232. Training_accuracy: 0.9391. Val_accuracy: 0.9393'"
      ]
     },
     "metadata": {},
     "output_type": "display_data"
    },
    {
     "data": {
      "text/plain": [
       "'Epoch 70. Training_loss: 0.2009918307170653. Val_loss: 0.19905740654119736. Training_accuracy: 0.9439833333333333. Val_accuracy: 0.9435'"
      ]
     },
     "metadata": {},
     "output_type": "display_data"
    },
    {
     "data": {
      "text/plain": [
       "'Epoch 80. Training_loss: 0.18651848169230323. Val_loss: 0.1862490763353884. Training_accuracy: 0.94805. Val_accuracy: 0.9463'"
      ]
     },
     "metadata": {},
     "output_type": "display_data"
    },
    {
     "data": {
      "text/plain": [
       "'Epoch 90. Training_loss: 0.17358525306768796. Val_loss: 0.17480998829149516. Training_accuracy: 0.9512166666666667. Val_accuracy: 0.9492'"
      ]
     },
     "metadata": {},
     "output_type": "display_data"
    },
    {
     "data": {
      "text/plain": [
       "'Epoch 100. Training_loss: 0.16197865597927558. Val_loss: 0.1645738772371677. Training_accuracy: 0.95435. Val_accuracy: 0.9521'"
      ]
     },
     "metadata": {},
     "output_type": "display_data"
    },
    {
     "data": {
      "text/plain": [
       "'Epoch 110. Training_loss: 0.1515286424542779. Val_loss: 0.1554045954520464. Training_accuracy: 0.9574333333333334. Val_accuracy: 0.9552'"
      ]
     },
     "metadata": {},
     "output_type": "display_data"
    },
    {
     "data": {
      "text/plain": [
       "'Epoch 120. Training_loss: 0.14208931493352472. Val_loss: 0.1471922588742273. Training_accuracy: 0.9601833333333334. Val_accuracy: 0.9575'"
      ]
     },
     "metadata": {},
     "output_type": "display_data"
    },
    {
     "data": {
      "text/plain": [
       "'Epoch 130. Training_loss: 0.13353306235127976. Val_loss: 0.13982475500340294. Training_accuracy: 0.9626833333333333. Val_accuracy: 0.9596'"
      ]
     },
     "metadata": {},
     "output_type": "display_data"
    },
    {
     "data": {
      "text/plain": [
       "'Epoch 140. Training_loss: 0.12574651610326648. Val_loss: 0.13319610615385472. Training_accuracy: 0.9649666666666666. Val_accuracy: 0.9613'"
      ]
     },
     "metadata": {},
     "output_type": "display_data"
    },
    {
     "data": {
      "text/plain": [
       "'Done'"
      ]
     },
     "metadata": {},
     "output_type": "display_data"
    },
    {
     "data": {
      "text/plain": [
       "'Training & eval: Model with random labels'"
      ]
     },
     "metadata": {},
     "output_type": "display_data"
    },
    {
     "data": {
      "text/plain": [
       "'Epoch 0. Training_loss: 2.162257185622827. Val_loss: 2.002467811487283. Training_accuracy: 0.5854166666666667. Val_accuracy: 0.7204'"
      ]
     },
     "metadata": {},
     "output_type": "display_data"
    },
    {
     "data": {
      "text/plain": [
       "'Epoch 10. Training_loss: 0.4289615953337155. Val_loss: 0.39929543810475404. Training_accuracy: 0.8881666666666667. Val_accuracy: 0.8947'"
      ]
     },
     "metadata": {},
     "output_type": "display_data"
    },
    {
     "data": {
      "text/plain": [
       "'Epoch 20. Training_loss: 0.32306114874923153. Val_loss: 0.3058113966398178. Training_accuracy: 0.9092333333333333. Val_accuracy: 0.9138'"
      ]
     },
     "metadata": {},
     "output_type": "display_data"
    },
    {
     "data": {
      "text/plain": [
       "'Epoch 30. Training_loss: 0.2810073751431983. Val_loss: 0.26869256572596206. Training_accuracy: 0.9203. Val_accuracy: 0.9242'"
      ]
     },
     "metadata": {},
     "output_type": "display_data"
    },
    {
     "data": {
      "text/plain": [
       "'Epoch 40. Training_loss: 0.253219596296946. Val_loss: 0.2444444787302974. Training_accuracy: 0.9285333333333333. Val_accuracy: 0.9306'"
      ]
     },
     "metadata": {},
     "output_type": "display_data"
    },
    {
     "data": {
      "text/plain": [
       "'Epoch 50. Training_loss: 0.2313690190888576. Val_loss: 0.22543709681837992. Training_accuracy: 0.9349833333333334. Val_accuracy: 0.9366'"
      ]
     },
     "metadata": {},
     "output_type": "display_data"
    },
    {
     "data": {
      "text/plain": [
       "'Epoch 60. Training_loss: 0.21291633662400342. Val_loss: 0.2093104665482025. Training_accuracy: 0.9402333333333334. Val_accuracy: 0.9409'"
      ]
     },
     "metadata": {},
     "output_type": "display_data"
    },
    {
     "data": {
      "text/plain": [
       "'Epoch 70. Training_loss: 0.1968175934861972. Val_loss: 0.19516194631956565. Training_accuracy: 0.9449666666666666. Val_accuracy: 0.9448'"
      ]
     },
     "metadata": {},
     "output_type": "display_data"
    },
    {
     "data": {
      "text/plain": [
       "'Epoch 80. Training_loss: 0.1825468600717689. Val_loss: 0.18261753661842767. Training_accuracy: 0.94895. Val_accuracy: 0.9482'"
      ]
     },
     "metadata": {},
     "output_type": "display_data"
    },
    {
     "data": {
      "text/plain": [
       "'Epoch 90. Training_loss: 0.16980834629561412. Val_loss: 0.1714449646603909. Training_accuracy: 0.95255. Val_accuracy: 0.9504'"
      ]
     },
     "metadata": {},
     "output_type": "display_data"
    },
    {
     "data": {
      "text/plain": [
       "'Epoch 100. Training_loss: 0.15838598952328822. Val_loss: 0.16149456596452813. Training_accuracy: 0.9555666666666667. Val_accuracy: 0.9528'"
      ]
     },
     "metadata": {},
     "output_type": "display_data"
    },
    {
     "data": {
      "text/plain": [
       "'Epoch 110. Training_loss: 0.14811076746254698. Val_loss: 0.15260983834630412. Training_accuracy: 0.9584. Val_accuracy: 0.9555'"
      ]
     },
     "metadata": {},
     "output_type": "display_data"
    },
    {
     "data": {
      "text/plain": [
       "'Epoch 120. Training_loss: 0.13883789594340792. Val_loss: 0.14468016929532976. Training_accuracy: 0.9611666666666666. Val_accuracy: 0.9576'"
      ]
     },
     "metadata": {},
     "output_type": "display_data"
    },
    {
     "data": {
      "text/plain": [
       "'Epoch 130. Training_loss: 0.13043706335310043. Val_loss: 0.13758365083100263. Training_accuracy: 0.9638. Val_accuracy: 0.9593'"
      ]
     },
     "metadata": {},
     "output_type": "display_data"
    },
    {
     "data": {
      "text/plain": [
       "'Epoch 140. Training_loss: 0.12279357071042553. Val_loss: 0.13119919660981674. Training_accuracy: 0.9662833333333334. Val_accuracy: 0.961'"
      ]
     },
     "metadata": {},
     "output_type": "display_data"
    },
    {
     "data": {
      "text/plain": [
       "'Done'"
      ]
     },
     "metadata": {},
     "output_type": "display_data"
    },
    {
     "data": {
      "text/plain": [
       "'Training & eval: Model with random labels'"
      ]
     },
     "metadata": {},
     "output_type": "display_data"
    },
    {
     "data": {
      "text/plain": [
       "'Epoch 0. Training_loss: 2.1446374978846325. Val_loss: 1.9648561227093837. Training_accuracy: 0.5597. Val_accuracy: 0.7442'"
      ]
     },
     "metadata": {},
     "output_type": "display_data"
    },
    {
     "data": {
      "text/plain": [
       "'Epoch 10. Training_loss: 0.41815482184831015. Val_loss: 0.3885001062065553. Training_accuracy: 0.8914166666666666. Val_accuracy: 0.8978'"
      ]
     },
     "metadata": {},
     "output_type": "display_data"
    },
    {
     "data": {
      "text/plain": [
       "'Epoch 20. Training_loss: 0.3173436034542284. Val_loss: 0.29968373370683116. Training_accuracy: 0.9105833333333333. Val_accuracy: 0.9161'"
      ]
     },
     "metadata": {},
     "output_type": "display_data"
    },
    {
     "data": {
      "text/plain": [
       "'Epoch 30. Training_loss: 0.2762720115792586. Val_loss: 0.2636730412472111. Training_accuracy: 0.9224. Val_accuracy: 0.9272'"
      ]
     },
     "metadata": {},
     "output_type": "display_data"
    },
    {
     "data": {
      "text/plain": [
       "'Epoch 40. Training_loss: 0.24883097067658008. Val_loss: 0.23990694910975968. Training_accuracy: 0.9302666666666667. Val_accuracy: 0.9333'"
      ]
     },
     "metadata": {},
     "output_type": "display_data"
    },
    {
     "data": {
      "text/plain": [
       "'Epoch 50. Training_loss: 0.2271768128288898. Val_loss: 0.22118414838199213. Training_accuracy: 0.93645. Val_accuracy: 0.9376'"
      ]
     },
     "metadata": {},
     "output_type": "display_data"
    },
    {
     "data": {
      "text/plain": [
       "'Epoch 60. Training_loss: 0.2088693227968427. Val_loss: 0.2052785305567323. Training_accuracy: 0.9418666666666666. Val_accuracy: 0.9416'"
      ]
     },
     "metadata": {},
     "output_type": "display_data"
    },
    {
     "data": {
      "text/plain": [
       "'Epoch 70. Training_loss: 0.1929076361898849. Val_loss: 0.19133844629677524. Training_accuracy: 0.9466333333333333. Val_accuracy: 0.9453'"
      ]
     },
     "metadata": {},
     "output_type": "display_data"
    },
    {
     "data": {
      "text/plain": [
       "'Epoch 80. Training_loss: 0.17877044606366074. Val_loss: 0.17897730701822478. Training_accuracy: 0.9499. Val_accuracy: 0.9487'"
      ]
     },
     "metadata": {},
     "output_type": "display_data"
    },
    {
     "data": {
      "text/plain": [
       "'Epoch 90. Training_loss: 0.16616578545790714. Val_loss: 0.16798599201675718. Training_accuracy: 0.9538833333333333. Val_accuracy: 0.9517'"
      ]
     },
     "metadata": {},
     "output_type": "display_data"
    },
    {
     "data": {
      "text/plain": [
       "'Epoch 100. Training_loss: 0.15487348092700054. Val_loss: 0.15819447807475306. Training_accuracy: 0.9568. Val_accuracy: 0.9535'"
      ]
     },
     "metadata": {},
     "output_type": "display_data"
    },
    {
     "data": {
      "text/plain": [
       "'Epoch 110. Training_loss: 0.14471116268149475. Val_loss: 0.1494563336745142. Training_accuracy: 0.9597333333333333. Val_accuracy: 0.9565'"
      ]
     },
     "metadata": {},
     "output_type": "display_data"
    },
    {
     "data": {
      "text/plain": [
       "'Epoch 120. Training_loss: 0.13553893703447062. Val_loss: 0.1416591722147456. Training_accuracy: 0.96275. Val_accuracy: 0.9585'"
      ]
     },
     "metadata": {},
     "output_type": "display_data"
    },
    {
     "data": {
      "text/plain": [
       "'Epoch 130. Training_loss: 0.12723192185320373. Val_loss: 0.13467944623860917. Training_accuracy: 0.9649833333333333. Val_accuracy: 0.9603'"
      ]
     },
     "metadata": {},
     "output_type": "display_data"
    },
    {
     "data": {
      "text/plain": [
       "'Epoch 140. Training_loss: 0.1196801664738624. Val_loss: 0.12841528324279816. Training_accuracy: 0.9673833333333334. Val_accuracy: 0.9624'"
      ]
     },
     "metadata": {},
     "output_type": "display_data"
    },
    {
     "data": {
      "text/plain": [
       "'Done'"
      ]
     },
     "metadata": {},
     "output_type": "display_data"
    },
    {
     "data": {
      "text/plain": [
       "'Training & eval: Model with random labels'"
      ]
     },
     "metadata": {},
     "output_type": "display_data"
    },
    {
     "data": {
      "text/plain": [
       "'Epoch 0. Training_loss: 2.120668170167439. Val_loss: 1.912616013721296. Training_accuracy: 0.5761166666666667. Val_accuracy: 0.7491'"
      ]
     },
     "metadata": {},
     "output_type": "display_data"
    },
    {
     "data": {
      "text/plain": [
       "'Epoch 10. Training_loss: 0.4104341613188354. Val_loss: 0.38183740554911316. Training_accuracy: 0.8917. Val_accuracy: 0.8998'"
      ]
     },
     "metadata": {},
     "output_type": "display_data"
    },
    {
     "data": {
      "text/plain": [
       "'Epoch 20. Training_loss: 0.3130263244427407. Val_loss: 0.2961961811254169. Training_accuracy: 0.9118666666666667. Val_accuracy: 0.918'"
      ]
     },
     "metadata": {},
     "output_type": "display_data"
    },
    {
     "data": {
      "text/plain": [
       "'Epoch 30. Training_loss: 0.2719208571587258. Val_loss: 0.26041433584111134. Training_accuracy: 0.92285. Val_accuracy: 0.9276'"
      ]
     },
     "metadata": {},
     "output_type": "display_data"
    },
    {
     "data": {
      "text/plain": [
       "'Epoch 40. Training_loss: 0.2443131675034253. Val_loss: 0.23668184998640968. Training_accuracy: 0.9313833333333333. Val_accuracy: 0.9338'"
      ]
     },
     "metadata": {},
     "output_type": "display_data"
    },
    {
     "data": {
      "text/plain": [
       "'Epoch 50. Training_loss: 0.2225919389632592. Val_loss: 0.21799159278369443. Training_accuracy: 0.9378666666666666. Val_accuracy: 0.9382'"
      ]
     },
     "metadata": {},
     "output_type": "display_data"
    },
    {
     "data": {
      "text/plain": [
       "'Epoch 60. Training_loss: 0.20431848207929496. Val_loss: 0.20216900431758658. Training_accuracy: 0.9430833333333334. Val_accuracy: 0.9422'"
      ]
     },
     "metadata": {},
     "output_type": "display_data"
    },
    {
     "data": {
      "text/plain": [
       "'Epoch 70. Training_loss: 0.1884735341219585. Val_loss: 0.18838366188678393. Training_accuracy: 0.9472833333333334. Val_accuracy: 0.9456'"
      ]
     },
     "metadata": {},
     "output_type": "display_data"
    },
    {
     "data": {
      "text/plain": [
       "'Epoch 80. Training_loss: 0.17451579195421452. Val_loss: 0.17622040665061894. Training_accuracy: 0.9512. Val_accuracy: 0.9491'"
      ]
     },
     "metadata": {},
     "output_type": "display_data"
    },
    {
     "data": {
      "text/plain": [
       "'Epoch 90. Training_loss: 0.16212647945097863. Val_loss: 0.16544349822008117. Training_accuracy: 0.9550166666666666. Val_accuracy: 0.952'"
      ]
     },
     "metadata": {},
     "output_type": "display_data"
    },
    {
     "data": {
      "text/plain": [
       "'Epoch 100. Training_loss: 0.1510692745395529. Val_loss: 0.15587806977201135. Training_accuracy: 0.9580166666666666. Val_accuracy: 0.9546'"
      ]
     },
     "metadata": {},
     "output_type": "display_data"
    },
    {
     "data": {
      "text/plain": [
       "'Epoch 110. Training_loss: 0.14116955018475222. Val_loss: 0.14739028850991492. Training_accuracy: 0.9605166666666667. Val_accuracy: 0.9567'"
      ]
     },
     "metadata": {},
     "output_type": "display_data"
    },
    {
     "data": {
      "text/plain": [
       "'Epoch 120. Training_loss: 0.13225918118236288. Val_loss: 0.13982526274030185. Training_accuracy: 0.9633166666666667. Val_accuracy: 0.9586'"
      ]
     },
     "metadata": {},
     "output_type": "display_data"
    },
    {
     "data": {
      "text/plain": [
       "'Epoch 130. Training_loss: 0.12420039763972004. Val_loss: 0.1330618587467867. Training_accuracy: 0.96595. Val_accuracy: 0.9603'"
      ]
     },
     "metadata": {},
     "output_type": "display_data"
    },
    {
     "data": {
      "text/plain": [
       "'Epoch 140. Training_loss: 0.11687569777572603. Val_loss: 0.12699425216782007. Training_accuracy: 0.9679666666666666. Val_accuracy: 0.9623'"
      ]
     },
     "metadata": {},
     "output_type": "display_data"
    },
    {
     "data": {
      "text/plain": [
       "'Done'"
      ]
     },
     "metadata": {},
     "output_type": "display_data"
    },
    {
     "data": {
      "text/plain": [
       "'Training & eval: Model with random labels'"
      ]
     },
     "metadata": {},
     "output_type": "display_data"
    },
    {
     "data": {
      "text/plain": [
       "'Epoch 0. Training_loss: 2.098057612554351. Val_loss: 1.8700352345302607. Training_accuracy: 0.65565. Val_accuracy: 0.7623'"
      ]
     },
     "metadata": {},
     "output_type": "display_data"
    },
    {
     "data": {
      "text/plain": [
       "'Epoch 10. Training_loss: 0.4013090990801483. Val_loss: 0.3728301970015286. Training_accuracy: 0.89375. Val_accuracy: 0.8995'"
      ]
     },
     "metadata": {},
     "output_type": "display_data"
    },
    {
     "data": {
      "text/plain": [
       "'Epoch 20. Training_loss: 0.3078759370693393. Val_loss: 0.29107597355202885. Training_accuracy: 0.9133833333333333. Val_accuracy: 0.9192'"
      ]
     },
     "metadata": {},
     "output_type": "display_data"
    },
    {
     "data": {
      "text/plain": [
       "'Epoch 30. Training_loss: 0.26770872532971884. Val_loss: 0.25627931394276154. Training_accuracy: 0.9243833333333333. Val_accuracy: 0.9284'"
      ]
     },
     "metadata": {},
     "output_type": "display_data"
    },
    {
     "data": {
      "text/plain": [
       "'Epoch 40. Training_loss: 0.2405299699819609. Val_loss: 0.23299811228184372. Training_accuracy: 0.9326833333333333. Val_accuracy: 0.9341'"
      ]
     },
     "metadata": {},
     "output_type": "display_data"
    },
    {
     "data": {
      "text/plain": [
       "'Epoch 50. Training_loss: 0.21902807681624697. Val_loss: 0.21454397115595403. Training_accuracy: 0.9389666666666666. Val_accuracy: 0.9397'"
      ]
     },
     "metadata": {},
     "output_type": "display_data"
    },
    {
     "data": {
      "text/plain": [
       "'Epoch 60. Training_loss: 0.20088449494440608. Val_loss: 0.19886134688855167. Training_accuracy: 0.9438666666666666. Val_accuracy: 0.944'"
      ]
     },
     "metadata": {},
     "output_type": "display_data"
    },
    {
     "data": {
      "text/plain": [
       "'Epoch 70. Training_loss: 0.18512661771169667. Val_loss: 0.18515719573019415. Training_accuracy: 0.9483333333333334. Val_accuracy: 0.9475'"
      ]
     },
     "metadata": {},
     "output_type": "display_data"
    },
    {
     "data": {
      "text/plain": [
       "'Epoch 80. Training_loss: 0.17124039550492567. Val_loss: 0.17306166182266206. Training_accuracy: 0.9524166666666667. Val_accuracy: 0.9501'"
      ]
     },
     "metadata": {},
     "output_type": "display_data"
    },
    {
     "data": {
      "text/plain": [
       "'Epoch 90. Training_loss: 0.15892185066649908. Val_loss: 0.162356141563149. Training_accuracy: 0.95575. Val_accuracy: 0.9522'"
      ]
     },
     "metadata": {},
     "output_type": "display_data"
    },
    {
     "data": {
      "text/plain": [
       "'Epoch 100. Training_loss: 0.14793759548633512. Val_loss: 0.15286736940419313. Training_accuracy: 0.9584833333333334. Val_accuracy: 0.9549'"
      ]
     },
     "metadata": {},
     "output_type": "display_data"
    },
    {
     "data": {
      "text/plain": [
       "'Epoch 110. Training_loss: 0.13809903385216937. Val_loss: 0.1444428578140748. Training_accuracy: 0.9617666666666667. Val_accuracy: 0.9576'"
      ]
     },
     "metadata": {},
     "output_type": "display_data"
    },
    {
     "data": {
      "text/plain": [
       "'Epoch 120. Training_loss: 0.12925357006784124. Val_loss: 0.13694716573271687. Training_accuracy: 0.9642666666666667. Val_accuracy: 0.9596'"
      ]
     },
     "metadata": {},
     "output_type": "display_data"
    },
    {
     "data": {
      "text/plain": [
       "'Epoch 130. Training_loss: 0.12126409277709117. Val_loss: 0.1302636336834781. Training_accuracy: 0.9667. Val_accuracy: 0.9617'"
      ]
     },
     "metadata": {},
     "output_type": "display_data"
    },
    {
     "data": {
      "text/plain": [
       "'Epoch 140. Training_loss: 0.11401335976229532. Val_loss: 0.12428685298758992. Training_accuracy: 0.9688833333333333. Val_accuracy: 0.9633'"
      ]
     },
     "metadata": {},
     "output_type": "display_data"
    },
    {
     "data": {
      "text/plain": [
       "'Done'"
      ]
     },
     "metadata": {},
     "output_type": "display_data"
    }
   ],
   "source": [
    "# hyperparameters\n",
    "loss_fn = torch.nn.CrossEntropyLoss()\n",
    "epochs = 150\n",
    "lr = 1e-3\n",
    "batch_size=64\n",
    "\n",
    "fit_df = pd.DataFrame()\n",
    "\n",
    "# Dataloader\n",
    "training_dl = DataLoader(training_ds, batch_size=batch_size)\n",
    "test_dl = DataLoader(test_ds, batch_size=64)\n",
    "\n",
    "for idx, model in enumerate(models):\n",
    "    optimizer1 = torch.optim.SGD(model.parameters(), lr=lr)\n",
    "    display(\"Training & eval: Model with random labels\")\n",
    "    for epoch in range(epochs):\n",
    "        train_loss, t_correct = nmist_train_loop(training_dl, model, loss_fn, optimizer1)\n",
    "        val_loss, v_correct = nmist_val_loop(test_dl, model, loss_fn)\n",
    "        if epoch%10==0:\n",
    "            display(f'Epoch {epoch}. Training_loss: {train_loss}. Val_loss: {val_loss}. Training_accuracy: {t_correct}. Val_accuracy: {v_correct}')\n",
    "    display(\"Done\")\n",
    "    \n",
    "    if fit_df.empty:\n",
    "        fit_df = pd.DataFrame([[epoch, train_loss, val_loss, t_correct, v_correct, cnt_model_params(model)]], columns=['epoch','train_loss','val_loss', 'train_acc', 'v_acc','parameters'])\n",
    "    else:\n",
    "        columns=['epoch','train_loss','val_loss', 'train_acc', 'v_acc','parameters']\n",
    "        fit_df = pd.concat([fit_df, pd.DataFrame([[epoch, train_loss, val_loss, t_correct, v_correct, cnt_model_params(model)]], columns=columns )])"
   ]
  },
  {
   "cell_type": "code",
   "execution_count": 9,
   "id": "45955831-92b1-4194-b8d2-d695c11ba5a1",
   "metadata": {
    "tags": []
   },
   "outputs": [
    {
     "data": {
      "text/plain": [
       "Text(0.5, 1.0, 'accuracy')"
      ]
     },
     "execution_count": 9,
     "metadata": {},
     "output_type": "execute_result"
    },
    {
     "data": {
      "image/png": "[encoded data removed]",
      "text/plain": [
       "<Figure size 640x480 with 1 Axes>"
      ]
     },
     "metadata": {},
     "output_type": "display_data"
    },
    {
     "data": {
      "image/png": "[encoded data removed]",
      "text/plain": [
       "<Figure size 640x480 with 1 Axes>"
      ]
     },
     "metadata": {},
     "output_type": "display_data"
    }
   ],
   "source": [
    "# 'train_loss','val_loss', 'train_acc', 'v_acc','parameters\n",
    "\n",
    "fig, ax = plt.subplots()\n",
    "ax.scatter(fit_df.parameters, fit_df.train_loss, label='train_loss')\n",
    "ax.scatter(fit_df.parameters, fit_df.val_loss, label='val_loss')\n",
    "ax.legend()\n",
    "ax.set_xlabel('number of parameters')\n",
    "ax.set_ylabel('loss')\n",
    "ax.grid(True)\n",
    "plt.title('loss')\n",
    "\n",
    "fig2, ax2 = plt.subplots()\n",
    "ax2.scatter(fit_df.parameters, fit_df.train_acc, label='training_acc')\n",
    "ax2.scatter(fit_df.parameters, fit_df.v_acc, label='testing_acc')\n",
    "ax2.legend()\n",
    "ax2.set_xlabel('number of parameters')\n",
    "ax2.set_ylabel('accuracy')\n",
    "ax2.grid(True)\n",
    "plt.title('accuracy')\n"
   ]
  },
  {
   "cell_type": "code",
   "execution_count": null,
   "id": "c8791286-5295-42cf-ad12-b8fee6b11d63",
   "metadata": {},
   "outputs": [],
   "source": []
  }
 ],
 "metadata": {
  "kernelspec": {
   "display_name": "myenv",
   "language": "python",
   "name": "myenv"
  },
  "language_info": {
   "codemirror_mode": {
    "name": "ipython",
    "version": 3
   },
   "file_extension": ".py",
   "mimetype": "text/x-python",
   "name": "python",
   "nbconvert_exporter": "python",
   "pygments_lexer": "ipython3",
   "version": "3.11.5"
  }
 },
 "nbformat": 4,
 "nbformat_minor": 5
}
