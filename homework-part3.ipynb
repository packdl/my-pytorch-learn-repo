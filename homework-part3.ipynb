{
 "cells": [
  {
   "cell_type": "markdown",
   "id": "aeca10d0-0133-4671-bcce-d04103e9d73e",
   "metadata": {
    "tags": []
   },
   "source": [
    "# Homework 1. Part 3"
   ]
  },
  {
   "cell_type": "code",
   "execution_count": 8,
   "id": "95fad14a-89d4-4802-8e47-2d639e87cb3e",
   "metadata": {},
   "outputs": [],
   "source": [
    "import matplotlib.pyplot as plt\n",
    "import torch\n",
    "from torch import nn\n",
    "from torchvision import datasets\n",
    "from torchvision.transforms import ToTensor\n",
    "import pandas as pd\n",
    "from torch.utils.data import DataLoader"
   ]
  },
  {
   "cell_type": "code",
   "execution_count": 9,
   "id": "4984f5c4-ea1e-4403-9c2c-1117080db255",
   "metadata": {
    "tags": []
   },
   "outputs": [
    {
     "data": {
      "text/plain": [
       "'cuda is available'"
      ]
     },
     "metadata": {},
     "output_type": "display_data"
    }
   ],
   "source": [
    "# Setting default device\n",
    "\n",
    "if torch.cuda.is_available():\n",
    "    device = 'cuda'\n",
    "elif torch.backends.mps.is_available():\n",
    "    device = 'mps'\n",
    "else:\n",
    "    device = 'cpu'\n",
    "\n",
    "display(f'{device} is available')\n",
    "\n",
    "dtype = torch.float\n",
    "torch.set_default_device(device)"
   ]
  },
  {
   "cell_type": "markdown",
   "id": "86331f46-f1cb-476f-9902-ca1be156c134",
   "metadata": {
    "tags": []
   },
   "source": [
    "### Modifiable model"
   ]
  },
  {
   "cell_type": "code",
   "execution_count": 10,
   "id": "c7268b9a-7881-46a3-b056-07c9c93e04b0",
   "metadata": {},
   "outputs": [],
   "source": [
    "class ChangeableNetwork(nn.Module):\n",
    "    def __init__(self, modification=512):\n",
    "        super().__init__()\n",
    "        self.linear_relu = nn.Sequential(\n",
    "            nn.Linear(28*28, modification),\n",
    "            nn.ReLU(),\n",
    "            nn.Linear(modification, modification),\n",
    "            nn.ReLU(),\n",
    "            nn.Linear(modification, 10),\n",
    "        )\n",
    "\n",
    "    def forward(self, x):\n",
    "        flat = nn.Flatten()\n",
    "        x = flat(x)\n",
    "        logits = self.linear_relu(x)\n",
    "        return logits"
   ]
  },
  {
   "cell_type": "markdown",
   "id": "08e07fd0-8848-407a-993d-e51211fc821e",
   "metadata": {},
   "source": [
    "### Utility Functions"
   ]
  },
  {
   "cell_type": "code",
   "execution_count": 11,
   "id": "0f93937a-a793-443e-ad03-8503f52992d4",
   "metadata": {},
   "outputs": [],
   "source": [
    "def cnt_model_params(model):\n",
    "    \"\"\"Count model parameters\"\"\"\n",
    "    count = 0\n",
    "    with torch.no_grad():\n",
    "        for param in model.parameters():\n",
    "            count+=param.numel()\n",
    "    return count\n",
    "\n",
    "def display_model_info(model_name, model):\n",
    "    \"\"\" Display model information\"\"\"\n",
    "    count = 0\n",
    "    for module in model.modules():\n",
    "        if isinstance(module, nn.Module):\n",
    "            count+=1\n",
    "    display(model)\n",
    "    display(f\"{model_name}. parameters: {cnt_model_params(model)}\")"
   ]
  },
  {
   "cell_type": "code",
   "execution_count": 12,
   "id": "ee65919b-d6eb-4572-a448-af6e60104ac9",
   "metadata": {},
   "outputs": [],
   "source": [
    "# Randomly changed the lavels on the training dataset. Kept labels the same on test dataset.\n",
    "training_ds = datasets.MNIST(root=\"data\", train=True, download=True, transform=ToTensor(), target_transform=lambda label: torch.randint(0, 10, (1,)).item())\n",
    "test_ds = datasets.MNIST(root='data', train=False, download=True, transform=ToTensor())\n"
   ]
  },
  {
   "cell_type": "markdown",
   "id": "95670bce-9c7e-4726-87a3-fb6c5b65d551",
   "metadata": {
    "tags": []
   },
   "source": [
    "### Training & eval loops"
   ]
  },
  {
   "cell_type": "code",
   "execution_count": 13,
   "id": "ccea6fb5-c36f-453b-97e7-b3580c24a859",
   "metadata": {},
   "outputs": [],
   "source": [
    "def nmist_train_loop(dataloader, model, loss_fn, optimize):\n",
    "    \"\"\"Training loop funciton for non-linear function\"\"\"\n",
    "    model.train()\n",
    "    num_batches = len(dataloader)\n",
    "    train_loss, correct = 0,0\n",
    "    size = len(dataloader.dataset)\n",
    "\n",
    "    for batch, (X, y) in enumerate(dataloader):\n",
    "        X = X.to(device)\n",
    "        optimize.zero_grad()\n",
    "        y_pred = model(X)\n",
    "        loss = loss_fn(y_pred, y)\n",
    "        train_loss += loss.item()\n",
    "        correct += (y_pred.argmax(dim=1) == y).type(torch.float).sum().item()\n",
    "\n",
    "        loss.backward()\n",
    "        optimize.step()\n",
    "    \n",
    "    train_loss /= num_batches\n",
    "    correct /=size\n",
    "    return train_loss, correct\n",
    "        \n",
    "def nmist_val_loop(dataloader, model, loss_fn):\n",
    "    \"\"\"Eval loop function for non-linear function\"\"\"\n",
    "    model.eval()\n",
    "    size= len(dataloader.dataset)\n",
    "    num_batches = len(dataloader)\n",
    "    test_loss, correct = 0,0\n",
    "\n",
    "    with torch.no_grad():\n",
    "        for X,y in dataloader:\n",
    "            X = X.to(device)\n",
    "            y_pred = model(X)\n",
    "            test_loss += loss_fn(y_pred, y).item()\n",
    "            correct += (y_pred.argmax(dim=1) == y).type(torch.float).sum().item()\n",
    "    \n",
    "    test_loss /= num_batches\n",
    "    correct /=size\n",
    "    return test_loss, correct"
   ]
  },
  {
   "cell_type": "markdown",
   "id": "4223b729-1abf-4298-821a-a92e3f0f1249",
   "metadata": {},
   "source": [
    "## Can network fit random labels?"
   ]
  },
  {
   "cell_type": "code",
   "execution_count": 14,
   "id": "14923eba-6e84-4ba3-9050-3056869166ac",
   "metadata": {
    "tags": []
   },
   "outputs": [
    {
     "data": {
      "text/plain": [
       "'Training & eval: Model with random labels'"
      ]
     },
     "metadata": {},
     "output_type": "display_data"
    },
    {
     "data": {
      "text/plain": [
       "'Epoch 0. Training_loss: 2.303004229500858. Val_loss: 2.301761929396611. Training_correct:0.0994. Eval_correct:0.1078'"
      ]
     },
     "metadata": {},
     "output_type": "display_data"
    },
    {
     "data": {
      "text/plain": [
       "'Epoch 10. Training_loss: 2.3028774955379427. Val_loss: 2.3009860500408585. Training_correct:0.10028333333333334. Eval_correct:0.1106'"
      ]
     },
     "metadata": {},
     "output_type": "display_data"
    },
    {
     "data": {
      "text/plain": [
       "'Epoch 20. Training_loss: 2.3026854780945443. Val_loss: 2.301092378652779. Training_correct:0.09831666666666666. Eval_correct:0.1317'"
      ]
     },
     "metadata": {},
     "output_type": "display_data"
    },
    {
     "data": {
      "text/plain": [
       "'Epoch 30. Training_loss: 2.3028459889548167. Val_loss: 2.3011404389788392. Training_correct:0.09736666666666667. Eval_correct:0.1139'"
      ]
     },
     "metadata": {},
     "output_type": "display_data"
    },
    {
     "data": {
      "text/plain": [
       "'Epoch 40. Training_loss: 2.3027767982564247. Val_loss: 2.3018232075272094. Training_correct:0.1008. Eval_correct:0.0999'"
      ]
     },
     "metadata": {},
     "output_type": "display_data"
    },
    {
     "data": {
      "text/plain": [
       "'Epoch 50. Training_loss: 2.3027051351726184. Val_loss: 2.3016752665209923. Training_correct:0.1022. Eval_correct:0.1035'"
      ]
     },
     "metadata": {},
     "output_type": "display_data"
    },
    {
     "data": {
      "text/plain": [
       "'Epoch 60. Training_loss: 2.3027056206518144. Val_loss: 2.3023818177022752. Training_correct:0.09993333333333333. Eval_correct:0.0924'"
      ]
     },
     "metadata": {},
     "output_type": "display_data"
    },
    {
     "data": {
      "text/plain": [
       "'Epoch 70. Training_loss: 2.302716553338301. Val_loss: 2.3015160484678425. Training_correct:0.10031666666666667. Eval_correct:0.1061'"
      ]
     },
     "metadata": {},
     "output_type": "display_data"
    },
    {
     "data": {
      "text/plain": [
       "'Epoch 80. Training_loss: 2.302682647572906. Val_loss: 2.301581376677106. Training_correct:0.10041666666666667. Eval_correct:0.1121'"
      ]
     },
     "metadata": {},
     "output_type": "display_data"
    },
    {
     "data": {
      "text/plain": [
       "'Epoch 90. Training_loss: 2.30272244720825. Val_loss: 2.301134513441924. Training_correct:0.09956666666666666. Eval_correct:0.1066'"
      ]
     },
     "metadata": {},
     "output_type": "display_data"
    },
    {
     "data": {
      "text/plain": [
       "'Epoch 100. Training_loss: 2.302712402109907. Val_loss: 2.301253520759048. Training_correct:0.0996. Eval_correct:0.1051'"
      ]
     },
     "metadata": {},
     "output_type": "display_data"
    },
    {
     "data": {
      "text/plain": [
       "'Epoch 110. Training_loss: 2.302763200517911. Val_loss: 2.3018867620237313. Training_correct:0.09691666666666666. Eval_correct:0.1069'"
      ]
     },
     "metadata": {},
     "output_type": "display_data"
    },
    {
     "data": {
      "text/plain": [
       "'Epoch 120. Training_loss: 2.302562261441115. Val_loss: 2.302020376654947. Training_correct:0.1007. Eval_correct:0.0927'"
      ]
     },
     "metadata": {},
     "output_type": "display_data"
    },
    {
     "data": {
      "text/plain": [
       "'Epoch 130. Training_loss: 2.3027337019377425. Val_loss: 2.3014780381682574. Training_correct:0.09836666666666667. Eval_correct:0.0997'"
      ]
     },
     "metadata": {},
     "output_type": "display_data"
    },
    {
     "data": {
      "text/plain": [
       "'Epoch 140. Training_loss: 2.3026153637147915. Val_loss: 2.301288338983135. Training_correct:0.09945. Eval_correct:0.1095'"
      ]
     },
     "metadata": {},
     "output_type": "display_data"
    },
    {
     "data": {
      "text/plain": [
       "'Epoch 150. Training_loss: 2.302704929797126. Val_loss: 2.3015587223563223. Training_correct:0.09756666666666666. Eval_correct:0.1183'"
      ]
     },
     "metadata": {},
     "output_type": "display_data"
    },
    {
     "data": {
      "text/plain": [
       "'Epoch 160. Training_loss: 2.3026409749029035. Val_loss: 2.3013493817323334. Training_correct:0.09831666666666666. Eval_correct:0.1178'"
      ]
     },
     "metadata": {},
     "output_type": "display_data"
    },
    {
     "data": {
      "text/plain": [
       "'Epoch 170. Training_loss: 2.302652016631576. Val_loss: 2.301945526888416. Training_correct:0.10256666666666667. Eval_correct:0.1059'"
      ]
     },
     "metadata": {},
     "output_type": "display_data"
    },
    {
     "data": {
      "text/plain": [
       "'Epoch 180. Training_loss: 2.3026271036693027. Val_loss: 2.301476284197182. Training_correct:0.10216666666666667. Eval_correct:0.1024'"
      ]
     },
     "metadata": {},
     "output_type": "display_data"
    },
    {
     "data": {
      "text/plain": [
       "'Epoch 190. Training_loss: 2.30267098717598. Val_loss: 2.301491324309331. Training_correct:0.10043333333333333. Eval_correct:0.1073'"
      ]
     },
     "metadata": {},
     "output_type": "display_data"
    },
    {
     "data": {
      "text/plain": [
       "'Epoch 200. Training_loss: 2.3026469928115163. Val_loss: 2.3018265544988545. Training_correct:0.10026666666666667. Eval_correct:0.1124'"
      ]
     },
     "metadata": {},
     "output_type": "display_data"
    },
    {
     "data": {
      "text/plain": [
       "'Epoch 210. Training_loss: 2.30274043433956. Val_loss: 2.3018626802286524. Training_correct:0.09893333333333333. Eval_correct:0.1138'"
      ]
     },
     "metadata": {},
     "output_type": "display_data"
    },
    {
     "data": {
      "text/plain": [
       "'Epoch 220. Training_loss: 2.3026288427523713. Val_loss: 2.301273601070331. Training_correct:0.10041666666666667. Eval_correct:0.1149'"
      ]
     },
     "metadata": {},
     "output_type": "display_data"
    },
    {
     "data": {
      "text/plain": [
       "'Epoch 230. Training_loss: 2.302712863950587. Val_loss: 2.301925700181609. Training_correct:0.09913333333333334. Eval_correct:0.1068'"
      ]
     },
     "metadata": {},
     "output_type": "display_data"
    },
    {
     "data": {
      "text/plain": [
       "'Epoch 240. Training_loss: 2.3026720076990026. Val_loss: 2.3023794881857125. Training_correct:0.0998. Eval_correct:0.1177'"
      ]
     },
     "metadata": {},
     "output_type": "display_data"
    },
    {
     "data": {
      "text/plain": [
       "'Epoch 250. Training_loss: 2.3026261357610416. Val_loss: 2.302297848804741. Training_correct:0.10185. Eval_correct:0.1037'"
      ]
     },
     "metadata": {},
     "output_type": "display_data"
    },
    {
     "data": {
      "text/plain": [
       "'Epoch 260. Training_loss: 2.3026505108835345. Val_loss: 2.3024392765798387. Training_correct:0.09993333333333333. Eval_correct:0.1018'"
      ]
     },
     "metadata": {},
     "output_type": "display_data"
    },
    {
     "data": {
      "text/plain": [
       "'Epoch 270. Training_loss: 2.3025766725479158. Val_loss: 2.3022565188681243. Training_correct:0.10255. Eval_correct:0.0975'"
      ]
     },
     "metadata": {},
     "output_type": "display_data"
    },
    {
     "data": {
      "text/plain": [
       "'Epoch 280. Training_loss: 2.30264523136082. Val_loss: 2.3026449984046304. Training_correct:0.09986666666666667. Eval_correct:0.1042'"
      ]
     },
     "metadata": {},
     "output_type": "display_data"
    },
    {
     "data": {
      "text/plain": [
       "'Epoch 290. Training_loss: 2.3027208265719383. Val_loss: 2.302309958038816. Training_correct:0.09876666666666667. Eval_correct:0.0925'"
      ]
     },
     "metadata": {},
     "output_type": "display_data"
    },
    {
     "data": {
      "text/plain": [
       "'Epoch 300. Training_loss: 2.3027167060990323. Val_loss: 2.3022381211542022. Training_correct:0.10005. Eval_correct:0.1062'"
      ]
     },
     "metadata": {},
     "output_type": "display_data"
    },
    {
     "data": {
      "text/plain": [
       "'Epoch 310. Training_loss: 2.302590336372603. Val_loss: 2.3021189012345236. Training_correct:0.09946666666666666. Eval_correct:0.1082'"
      ]
     },
     "metadata": {},
     "output_type": "display_data"
    },
    {
     "data": {
      "text/plain": [
       "'Epoch 320. Training_loss: 2.3025912089642686. Val_loss: 2.3025008189450404. Training_correct:0.09968333333333333. Eval_correct:0.1059'"
      ]
     },
     "metadata": {},
     "output_type": "display_data"
    },
    {
     "data": {
      "text/plain": [
       "'Epoch 330. Training_loss: 2.302653278114953. Val_loss: 2.302476444062154. Training_correct:0.10061666666666666. Eval_correct:0.0954'"
      ]
     },
     "metadata": {},
     "output_type": "display_data"
    },
    {
     "data": {
      "text/plain": [
       "'Epoch 340. Training_loss: 2.3026707634997012. Val_loss: 2.302173508200676. Training_correct:0.09963333333333334. Eval_correct:0.1018'"
      ]
     },
     "metadata": {},
     "output_type": "display_data"
    },
    {
     "data": {
      "text/plain": [
       "'Epoch 350. Training_loss: 2.3026207187282504. Val_loss: 2.302416265390481. Training_correct:0.10241666666666667. Eval_correct:0.109'"
      ]
     },
     "metadata": {},
     "output_type": "display_data"
    },
    {
     "data": {
      "text/plain": [
       "'Epoch 360. Training_loss: 2.3026937205654217. Val_loss: 2.3018792070400944. Training_correct:0.10038333333333334. Eval_correct:0.1064'"
      ]
     },
     "metadata": {},
     "output_type": "display_data"
    },
    {
     "data": {
      "text/plain": [
       "'Epoch 370. Training_loss: 2.3027084074549076. Val_loss: 2.302298925484821. Training_correct:0.0992. Eval_correct:0.108'"
      ]
     },
     "metadata": {},
     "output_type": "display_data"
    },
    {
     "data": {
      "text/plain": [
       "'Epoch 380. Training_loss: 2.3026363966561583. Val_loss: 2.302218668020455. Training_correct:0.10028333333333334. Eval_correct:0.0959'"
      ]
     },
     "metadata": {},
     "output_type": "display_data"
    },
    {
     "data": {
      "text/plain": [
       "'Epoch 390. Training_loss: 2.302642316960577. Val_loss: 2.303105960226363. Training_correct:0.09911666666666667. Eval_correct:0.0874'"
      ]
     },
     "metadata": {},
     "output_type": "display_data"
    },
    {
     "data": {
      "text/plain": [
       "'Epoch 400. Training_loss: 2.3026680651504092. Val_loss: 2.3024984803169395. Training_correct:0.09976666666666667. Eval_correct:0.1025'"
      ]
     },
     "metadata": {},
     "output_type": "display_data"
    },
    {
     "data": {
      "text/plain": [
       "'Epoch 410. Training_loss: 2.302673376445323. Val_loss: 2.3023979906823224. Training_correct:0.09943333333333333. Eval_correct:0.1032'"
      ]
     },
     "metadata": {},
     "output_type": "display_data"
    },
    {
     "data": {
      "text/plain": [
       "'Epoch 420. Training_loss: 2.3026767811541364. Val_loss: 2.302407645875481. Training_correct:0.1007. Eval_correct:0.1096'"
      ]
     },
     "metadata": {},
     "output_type": "display_data"
    },
    {
     "data": {
      "text/plain": [
       "'Epoch 430. Training_loss: 2.302660165819278. Val_loss: 2.3021190075358007. Training_correct:0.10101666666666667. Eval_correct:0.1005'"
      ]
     },
     "metadata": {},
     "output_type": "display_data"
    },
    {
     "data": {
      "text/plain": [
       "'Epoch 440. Training_loss: 2.302713012644477. Val_loss: 2.30179908017444. Training_correct:0.10046666666666666. Eval_correct:0.1199'"
      ]
     },
     "metadata": {},
     "output_type": "display_data"
    },
    {
     "data": {
      "text/plain": [
       "'Epoch 450. Training_loss: 2.3027309176764255. Val_loss: 2.301823359386177. Training_correct:0.0994. Eval_correct:0.1043'"
      ]
     },
     "metadata": {},
     "output_type": "display_data"
    },
    {
     "data": {
      "text/plain": [
       "'Epoch 460. Training_loss: 2.302624560876696. Val_loss: 2.302147944262073. Training_correct:0.10151666666666667. Eval_correct:0.1062'"
      ]
     },
     "metadata": {},
     "output_type": "display_data"
    },
    {
     "data": {
      "text/plain": [
       "'Epoch 470. Training_loss: 2.302662470193306. Val_loss: 2.3020887951942006. Training_correct:0.10033333333333333. Eval_correct:0.098'"
      ]
     },
     "metadata": {},
     "output_type": "display_data"
    },
    {
     "data": {
      "text/plain": [
       "'Epoch 480. Training_loss: 2.3026201038726613. Val_loss: 2.302072140821226. Training_correct:0.09973333333333333. Eval_correct:0.1158'"
      ]
     },
     "metadata": {},
     "output_type": "display_data"
    },
    {
     "data": {
      "text/plain": [
       "'Epoch 490. Training_loss: 2.302633883093974. Val_loss: 2.3019199629498135. Training_correct:0.10013333333333334. Eval_correct:0.1018'"
      ]
     },
     "metadata": {},
     "output_type": "display_data"
    },
    {
     "data": {
      "text/plain": [
       "'Done'"
      ]
     },
     "metadata": {},
     "output_type": "display_data"
    }
   ],
   "source": [
    "# model\n",
    "random_model = ChangeableNetwork(1024)\n",
    "\n",
    "# hyperparameters\n",
    "loss_fn = torch.nn.CrossEntropyLoss()\n",
    "epochs = 500\n",
    "lr = 1e-3\n",
    "batch_size=64\n",
    "\n",
    "random_label_df = pd.DataFrame()\n",
    "\n",
    "# Dataloader\n",
    "training_dl = DataLoader(training_ds, batch_size=batch_size)\n",
    "test_dl = DataLoader(test_ds, batch_size=64)\n",
    "\n",
    "optimizer1 = torch.optim.SGD(random_model.parameters(), lr=lr)\n",
    "display(\"Training & eval: Model with random labels\")\n",
    "for epoch in range(epochs):\n",
    "    train_loss, train_correct = nmist_train_loop(training_dl, random_model, loss_fn, optimizer1)\n",
    "    val_loss, val_correct = nmist_val_loop(test_dl, random_model, loss_fn)\n",
    "\n",
    "    if random_label_df.empty:\n",
    "        random_label_df = pd.DataFrame([[epoch, train_loss, val_loss]], columns=['epoch','train_loss','val_loss'])\n",
    "    else:\n",
    "        random_label_df = pd.concat([random_label_df, pd.DataFrame([[epoch, train_loss, val_loss]], columns=['epoch','train_loss','val_loss'])])\n",
    "\n",
    "    \n",
    "    if epoch%10 == 0:\n",
    "        display(f'Epoch {epoch}. Training_loss: {train_loss}. Val_loss: {val_loss}. Training_correct:{train_correct}. Eval_correct:{val_correct}')\n",
    "display(\"Done\")\n",
    "\n"
   ]
  },
  {
   "cell_type": "code",
   "execution_count": 15,
   "id": "083e7e1d-203d-4295-9601-cf0a7491d44d",
   "metadata": {
    "tags": []
   },
   "outputs": [
    {
     "data": {
      "text/html": [
       "<div>\n",
       "<style scoped>\n",
       "    .dataframe tbody tr th:only-of-type {\n",
       "        vertical-align: middle;\n",
       "    }\n",
       "\n",
       "    .dataframe tbody tr th {\n",
       "        vertical-align: top;\n",
       "    }\n",
       "\n",
       "    .dataframe thead th {\n",
       "        text-align: right;\n",
       "    }\n",
       "</style>\n",
       "<table border=\"1\" class=\"dataframe\">\n",
       "  <thead>\n",
       "    <tr style=\"text-align: right;\">\n",
       "      <th></th>\n",
       "      <th>epoch</th>\n",
       "      <th>train_loss</th>\n",
       "      <th>val_loss</th>\n",
       "    </tr>\n",
       "  </thead>\n",
       "  <tbody>\n",
       "    <tr>\n",
       "      <th>0</th>\n",
       "      <td>0</td>\n",
       "      <td>2.303004</td>\n",
       "      <td>2.301762</td>\n",
       "    </tr>\n",
       "    <tr>\n",
       "      <th>0</th>\n",
       "      <td>1</td>\n",
       "      <td>2.302671</td>\n",
       "      <td>2.301660</td>\n",
       "    </tr>\n",
       "    <tr>\n",
       "      <th>0</th>\n",
       "      <td>2</td>\n",
       "      <td>2.302849</td>\n",
       "      <td>2.301251</td>\n",
       "    </tr>\n",
       "    <tr>\n",
       "      <th>0</th>\n",
       "      <td>3</td>\n",
       "      <td>2.302878</td>\n",
       "      <td>2.300979</td>\n",
       "    </tr>\n",
       "    <tr>\n",
       "      <th>0</th>\n",
       "      <td>4</td>\n",
       "      <td>2.302731</td>\n",
       "      <td>2.300934</td>\n",
       "    </tr>\n",
       "    <tr>\n",
       "      <th>...</th>\n",
       "      <td>...</td>\n",
       "      <td>...</td>\n",
       "      <td>...</td>\n",
       "    </tr>\n",
       "    <tr>\n",
       "      <th>0</th>\n",
       "      <td>495</td>\n",
       "      <td>2.302631</td>\n",
       "      <td>2.301863</td>\n",
       "    </tr>\n",
       "    <tr>\n",
       "      <th>0</th>\n",
       "      <td>496</td>\n",
       "      <td>2.302635</td>\n",
       "      <td>2.301970</td>\n",
       "    </tr>\n",
       "    <tr>\n",
       "      <th>0</th>\n",
       "      <td>497</td>\n",
       "      <td>2.302657</td>\n",
       "      <td>2.301793</td>\n",
       "    </tr>\n",
       "    <tr>\n",
       "      <th>0</th>\n",
       "      <td>498</td>\n",
       "      <td>2.302649</td>\n",
       "      <td>2.301736</td>\n",
       "    </tr>\n",
       "    <tr>\n",
       "      <th>0</th>\n",
       "      <td>499</td>\n",
       "      <td>2.302637</td>\n",
       "      <td>2.301554</td>\n",
       "    </tr>\n",
       "  </tbody>\n",
       "</table>\n",
       "<p>500 rows × 3 columns</p>\n",
       "</div>"
      ],
      "text/plain": [
       "    epoch  train_loss  val_loss\n",
       "0       0    2.303004  2.301762\n",
       "0       1    2.302671  2.301660\n",
       "0       2    2.302849  2.301251\n",
       "0       3    2.302878  2.300979\n",
       "0       4    2.302731  2.300934\n",
       "..    ...         ...       ...\n",
       "0     495    2.302631  2.301863\n",
       "0     496    2.302635  2.301970\n",
       "0     497    2.302657  2.301793\n",
       "0     498    2.302649  2.301736\n",
       "0     499    2.302637  2.301554\n",
       "\n",
       "[500 rows x 3 columns]"
      ]
     },
     "execution_count": 15,
     "metadata": {},
     "output_type": "execute_result"
    }
   ],
   "source": [
    "random_label_df"
   ]
  },
  {
   "cell_type": "code",
   "execution_count": 16,
   "id": "8eaf53e7-0ebd-494b-b8a2-b4a381e5c712",
   "metadata": {},
   "outputs": [
    {
     "data": {
      "text/plain": [
       "<Axes: xlabel='epoch'>"
      ]
     },
     "execution_count": 16,
     "metadata": {},
     "output_type": "execute_result"
    },
    {
     "data": {
      "image/png": "[encoded data removed]",
      "text/plain": [
       "<Figure size 640x480 with 1 Axes>"
      ]
     },
     "metadata": {},
     "output_type": "display_data"
    }
   ],
   "source": [
    "random_label_df.plot(x='epoch', y=['train_loss', 'val_loss'])"
   ]
  },
  {
   "cell_type": "code",
   "execution_count": null,
   "id": "11257bad-8d23-4747-b2c3-8e202fa42158",
   "metadata": {},
   "outputs": [],
   "source": []
  }
 ],
 "metadata": {
  "kernelspec": {
   "display_name": "myenv",
   "language": "python",
   "name": "myenv"
  },
  "language_info": {
   "codemirror_mode": {
    "name": "ipython",
    "version": 3
   },
   "file_extension": ".py",
   "mimetype": "text/x-python",
   "name": "python",
   "nbconvert_exporter": "python",
   "pygments_lexer": "ipython3",
   "version": "3.11.5"
  }
 },
 "nbformat": 4,
 "nbformat_minor": 5
}
