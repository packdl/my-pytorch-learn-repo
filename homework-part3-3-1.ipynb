{
 "cells": [
  {
   "cell_type": "markdown",
   "id": "b8171833-67ad-4b81-bbef-195b18524b6d",
   "metadata": {
    "tags": []
   },
   "source": [
    "# Homework 1. Part 3.3"
   ]
  },
  {
   "cell_type": "code",
   "execution_count": 1,
   "id": "7958fe00-5a97-430e-b0fa-6816c4834ef5",
   "metadata": {},
   "outputs": [],
   "source": [
    "import matplotlib.pyplot as plt\n",
    "import torch\n",
    "from torch import nn\n",
    "from torchvision import datasets\n",
    "from torchvision.transforms import ToTensor\n",
    "import pandas as pd\n",
    "from torch.utils.data import DataLoader"
   ]
  },
  {
   "cell_type": "code",
   "execution_count": 2,
   "id": "fabd7e9f-bd81-4fa3-a1c6-24bb3ebd6dcd",
   "metadata": {
    "tags": []
   },
   "outputs": [
    {
     "data": {
      "text/plain": [
       "'cuda is available'"
      ]
     },
     "metadata": {},
     "output_type": "display_data"
    }
   ],
   "source": [
    "# Setting default device\n",
    "\n",
    "if torch.cuda.is_available():\n",
    "    device = 'cuda'\n",
    "elif torch.backends.mps.is_available():\n",
    "    device = 'mps'\n",
    "else:\n",
    "    device = 'cpu'\n",
    "\n",
    "display(f'{device} is available')\n",
    "\n",
    "dtype = torch.float\n",
    "torch.set_default_device(device)"
   ]
  },
  {
   "cell_type": "markdown",
   "id": "5a4e0328-0c09-4d24-a146-1deb2d788829",
   "metadata": {
    "tags": []
   },
   "source": [
    "### Modifiable model"
   ]
  },
  {
   "cell_type": "code",
   "execution_count": 3,
   "id": "6e8d0be4-3023-4b72-ba29-5ba7eb9bb34b",
   "metadata": {},
   "outputs": [],
   "source": [
    "class ChangeableNetwork(nn.Module):\n",
    "    def __init__(self, modification=512):\n",
    "        super().__init__()\n",
    "        self.linear_relu = nn.Sequential(\n",
    "            nn.Linear(28*28, modification),\n",
    "            nn.ReLU(),\n",
    "            nn.Linear(modification,modification),\n",
    "            nn.ReLU(),\n",
    "            nn.Linear(modification, 10),\n",
    "        )\n",
    "\n",
    "    def forward(self, x):\n",
    "        flat = nn.Flatten()\n",
    "        x = flat(x)\n",
    "        logits = self.linear_relu(x)\n",
    "        return logits"
   ]
  },
  {
   "cell_type": "markdown",
   "id": "2eb5302c-160f-4c43-b099-edbc128f683c",
   "metadata": {},
   "source": [
    "### Utility Functions"
   ]
  },
  {
   "cell_type": "code",
   "execution_count": 4,
   "id": "071cb222-1a1e-4282-8274-0b0751397c3e",
   "metadata": {},
   "outputs": [],
   "source": [
    "def cnt_model_params(model):\n",
    "    \"\"\"Count model parameters\"\"\"\n",
    "    count = 0\n",
    "    with torch.no_grad():\n",
    "        for param in model.parameters():\n",
    "            count+=param.numel()\n",
    "    return count\n",
    "\n",
    "def display_model_info(model_name, model):\n",
    "    \"\"\" Display model information\"\"\"\n",
    "    count = 0\n",
    "    for module in model.modules():\n",
    "        if isinstance(module, nn.Module):\n",
    "            count+=1\n",
    "    display(model)\n",
    "    display(f\"{model_name}. parameters: {cnt_model_params(model)}\")"
   ]
  },
  {
   "cell_type": "code",
   "execution_count": 5,
   "id": "2e34cccf-454c-42d5-ba5e-d5910b00d1ee",
   "metadata": {},
   "outputs": [],
   "source": [
    "# Randomly changed the lavels on the training dataset. Kept labels the same on test dataset.\n",
    "training_ds = datasets.MNIST(root=\"data\", train=True, download=True, transform=ToTensor())\n",
    "test_ds = datasets.MNIST(root='data', train=False, download=True, transform=ToTensor())\n"
   ]
  },
  {
   "cell_type": "markdown",
   "id": "0266835a-8218-4437-bd72-3525e970fc26",
   "metadata": {
    "tags": []
   },
   "source": [
    "### Training & eval loops"
   ]
  },
  {
   "cell_type": "code",
   "execution_count": 6,
   "id": "cc93fa03-3f1b-4fec-bb18-dd56e212842c",
   "metadata": {},
   "outputs": [],
   "source": [
    "def nmist_train_loop(dataloader, model, loss_fn, optimize):\n",
    "    model.train()\n",
    "    num_batches = len(dataloader)\n",
    "    train_loss, correct = 0,0\n",
    "    size = len(dataloader.dataset)\n",
    "\n",
    "    for batch, (X, y) in enumerate(dataloader):\n",
    "        X = X.to(device)\n",
    "        optimize.zero_grad()\n",
    "        y_pred = model(X)\n",
    "        loss = loss_fn(y_pred, y)\n",
    "        train_loss += loss.item()\n",
    "        correct += (y_pred.argmax(dim=1) == y).type(torch.float).sum().item()\n",
    "\n",
    "        loss.backward()\n",
    "        optimize.step()\n",
    "    \n",
    "    train_loss /= num_batches\n",
    "    correct /=size\n",
    "    return train_loss, correct\n",
    "        \n",
    "def nmist_val_loop(dataloader, model, loss_fn):\n",
    "    model.eval()\n",
    "    size= len(dataloader.dataset)\n",
    "    num_batches = len(dataloader)\n",
    "    test_loss, correct = 0,0\n",
    "\n",
    "    with torch.no_grad():\n",
    "        for X,y in dataloader:\n",
    "            X = X.to(device)\n",
    "            y_pred = model(X)\n",
    "            test_loss += loss_fn(y_pred, y).item()\n",
    "            correct += (y_pred.argmax(dim=1) == y).type(torch.float).sum().item()\n",
    "    \n",
    "    test_loss /= num_batches\n",
    "    correct /=size\n",
    "    return test_loss, correct"
   ]
  },
  {
   "cell_type": "markdown",
   "id": "5a9cb8ef-eda9-4193-9758-417f7fab8aa4",
   "metadata": {},
   "source": [
    "## Flatness v.s. Generalization part1"
   ]
  },
  {
   "cell_type": "code",
   "execution_count": 7,
   "id": "fbea0c2e-ffad-4cd5-ab3f-52a05953c114",
   "metadata": {
    "tags": []
   },
   "outputs": [
    {
     "data": {
      "text/plain": [
       "ChangeableNetwork(\n",
       "  (linear_relu): Sequential(\n",
       "    (0): Linear(in_features=784, out_features=512, bias=True)\n",
       "    (1): ReLU()\n",
       "    (2): Linear(in_features=512, out_features=512, bias=True)\n",
       "    (3): ReLU()\n",
       "    (4): Linear(in_features=512, out_features=10, bias=True)\n",
       "  )\n",
       ")"
      ]
     },
     "metadata": {},
     "output_type": "display_data"
    },
    {
     "data": {
      "text/plain": [
       "'1. parameters: 669706'"
      ]
     },
     "metadata": {},
     "output_type": "display_data"
    },
    {
     "data": {
      "text/plain": [
       "ChangeableNetwork(\n",
       "  (linear_relu): Sequential(\n",
       "    (0): Linear(in_features=784, out_features=512, bias=True)\n",
       "    (1): ReLU()\n",
       "    (2): Linear(in_features=512, out_features=512, bias=True)\n",
       "    (3): ReLU()\n",
       "    (4): Linear(in_features=512, out_features=10, bias=True)\n",
       "  )\n",
       ")"
      ]
     },
     "metadata": {},
     "output_type": "display_data"
    },
    {
     "data": {
      "text/plain": [
       "'2. parameters: 669706'"
      ]
     },
     "metadata": {},
     "output_type": "display_data"
    }
   ],
   "source": [
    "# create models and with different Hidden values\n",
    "m1, m2 = ChangeableNetwork(512), ChangeableNetwork(512)\n",
    "display_model_info(1, m1)\n",
    "display_model_info(2, m2)"
   ]
  },
  {
   "cell_type": "code",
   "execution_count": 8,
   "id": "3345fd57-4bc1-4b69-b9db-280382b3f8c6",
   "metadata": {
    "tags": []
   },
   "outputs": [
    {
     "data": {
      "text/plain": [
       "'Training & eval: Models with batch size: 64'"
      ]
     },
     "metadata": {},
     "output_type": "display_data"
    },
    {
     "data": {
      "text/plain": [
       "'Epoch 0. Training_loss: 2.2790911700933982. Val_loss: 2.252909317138089. Training_accuracy: 0.24923333333333333. Val_accuracy: 0.377'"
      ]
     },
     "metadata": {},
     "output_type": "display_data"
    },
    {
     "data": {
      "text/plain": [
       "'Epoch 1. Training_loss: 2.221677227569287. Val_loss: 2.1817465739645017. Training_accuracy: 0.4402333333333333. Val_accuracy: 0.5086'"
      ]
     },
     "metadata": {},
     "output_type": "display_data"
    },
    {
     "data": {
      "text/plain": [
       "'Epoch 2. Training_loss: 2.130654209204066. Val_loss: 2.062831356267261. Training_accuracy: 0.5467666666666666. Val_accuracy: 0.5931'"
      ]
     },
     "metadata": {},
     "output_type": "display_data"
    },
    {
     "data": {
      "text/plain": [
       "'Epoch 3. Training_loss: 1.9783730880538029. Val_loss: 1.8672760671870723. Training_accuracy: 0.6297666666666667. Val_accuracy: 0.6653'"
      ]
     },
     "metadata": {},
     "output_type": "display_data"
    },
    {
     "data": {
      "text/plain": [
       "'Epoch 4. Training_loss: 1.7426248609638417. Val_loss: 1.584347860069032. Training_accuracy: 0.6902166666666667. Val_accuracy: 0.7184'"
      ]
     },
     "metadata": {},
     "output_type": "display_data"
    },
    {
     "data": {
      "text/plain": [
       "'Epoch 5. Training_loss: 1.4409362099318108. Val_loss: 1.2707231458584973. Training_accuracy: 0.7324666666666667. Val_accuracy: 0.7596'"
      ]
     },
     "metadata": {},
     "output_type": "display_data"
    },
    {
     "data": {
      "text/plain": [
       "'Epoch 6. Training_loss: 1.1567084097277636. Val_loss: 1.021027564622794. Training_accuracy: 0.7680833333333333. Val_accuracy: 0.7876'"
      ]
     },
     "metadata": {},
     "output_type": "display_data"
    },
    {
     "data": {
      "text/plain": [
       "'Epoch 7. Training_loss: 0.9495860786834506. Val_loss: 0.8518794144794439. Training_accuracy: 0.79465. Val_accuracy: 0.8088'"
      ]
     },
     "metadata": {},
     "output_type": "display_data"
    },
    {
     "data": {
      "text/plain": [
       "'Epoch 8. Training_loss: 0.8097716704932357. Val_loss: 0.7372857110135874. Training_accuracy: 0.81315. Val_accuracy: 0.8232'"
      ]
     },
     "metadata": {},
     "output_type": "display_data"
    },
    {
     "data": {
      "text/plain": [
       "'Epoch 9. Training_loss: 0.7128398672604104. Val_loss: 0.6560560415504845. Training_accuracy: 0.8273666666666667. Val_accuracy: 0.8382'"
      ]
     },
     "metadata": {},
     "output_type": "display_data"
    },
    {
     "data": {
      "text/plain": [
       "'Epoch 10. Training_loss: 0.6425936025088784. Val_loss: 0.5959137171317058. Training_accuracy: 0.8387. Val_accuracy: 0.8474'"
      ]
     },
     "metadata": {},
     "output_type": "display_data"
    },
    {
     "data": {
      "text/plain": [
       "'Epoch 11. Training_loss: 0.5896838517712631. Val_loss: 0.5497835574636034. Training_accuracy: 0.8490333333333333. Val_accuracy: 0.8592'"
      ]
     },
     "metadata": {},
     "output_type": "display_data"
    },
    {
     "data": {
      "text/plain": [
       "'Epoch 12. Training_loss: 0.5485891457369079. Val_loss: 0.5134386823625322. Training_accuracy: 0.8575166666666667. Val_accuracy: 0.8673'"
      ]
     },
     "metadata": {},
     "output_type": "display_data"
    },
    {
     "data": {
      "text/plain": [
       "'Epoch 13. Training_loss: 0.5158851284430479. Val_loss: 0.48418433622569795. Training_accuracy: 0.86505. Val_accuracy: 0.8721'"
      ]
     },
     "metadata": {},
     "output_type": "display_data"
    },
    {
     "data": {
      "text/plain": [
       "'Epoch 14. Training_loss: 0.48932771883539555. Val_loss: 0.4602294615499533. Training_accuracy: 0.8704666666666667. Val_accuracy: 0.8771'"
      ]
     },
     "metadata": {},
     "output_type": "display_data"
    },
    {
     "data": {
      "text/plain": [
       "'Epoch 15. Training_loss: 0.4673995143378467. Val_loss: 0.4403385310700745. Training_accuracy: 0.8753833333333333. Val_accuracy: 0.882'"
      ]
     },
     "metadata": {},
     "output_type": "display_data"
    },
    {
     "data": {
      "text/plain": [
       "'Epoch 16. Training_loss: 0.4490300439663533. Val_loss: 0.4236136015243591. Training_accuracy: 0.8792666666666666. Val_accuracy: 0.8855'"
      ]
     },
     "metadata": {},
     "output_type": "display_data"
    },
    {
     "data": {
      "text/plain": [
       "'Epoch 17. Training_loss: 0.4334437117171186. Val_loss: 0.40938930351073577. Training_accuracy: 0.8824833333333333. Val_accuracy: 0.8877'"
      ]
     },
     "metadata": {},
     "output_type": "display_data"
    },
    {
     "data": {
      "text/plain": [
       "'Epoch 18. Training_loss: 0.42006390220098405. Val_loss: 0.3971633780154453. Training_accuracy: 0.88505. Val_accuracy: 0.8902'"
      ]
     },
     "metadata": {},
     "output_type": "display_data"
    },
    {
     "data": {
      "text/plain": [
       "'Epoch 19. Training_loss: 0.4084549311365781. Val_loss: 0.3865493216142533. Training_accuracy: 0.88795. Val_accuracy: 0.8925'"
      ]
     },
     "metadata": {},
     "output_type": "display_data"
    },
    {
     "data": {
      "text/plain": [
       "'Done'"
      ]
     },
     "metadata": {},
     "output_type": "display_data"
    },
    {
     "data": {
      "text/plain": [
       "'Training & eval: Models with batch size: 2048'"
      ]
     },
     "metadata": {},
     "output_type": "display_data"
    },
    {
     "data": {
      "text/plain": [
       "'Epoch 0. Training_loss: 2.302166549364726. Val_loss: 2.301596260070801. Training_accuracy: 0.12015. Val_accuracy: 0.1284'"
      ]
     },
     "metadata": {},
     "output_type": "display_data"
    },
    {
     "data": {
      "text/plain": [
       "'Epoch 1. Training_loss: 2.300552185376485. Val_loss: 2.2999430179595945. Training_accuracy: 0.12828333333333333. Val_accuracy: 0.1368'"
      ]
     },
     "metadata": {},
     "output_type": "display_data"
    },
    {
     "data": {
      "text/plain": [
       "'Epoch 2. Training_loss: 2.2989449501037598. Val_loss: 2.298296308517456. Training_accuracy: 0.13555. Val_accuracy: 0.1432'"
      ]
     },
     "metadata": {},
     "output_type": "display_data"
    },
    {
     "data": {
      "text/plain": [
       "'Epoch 3. Training_loss: 2.2973435084025065. Val_loss: 2.296655607223511. Training_accuracy: 0.14248333333333332. Val_accuracy: 0.1489'"
      ]
     },
     "metadata": {},
     "output_type": "display_data"
    },
    {
     "data": {
      "text/plain": [
       "'Epoch 4. Training_loss: 2.295746922492981. Val_loss: 2.2950190544128417. Training_accuracy: 0.14963333333333334. Val_accuracy: 0.1569'"
      ]
     },
     "metadata": {},
     "output_type": "display_data"
    },
    {
     "data": {
      "text/plain": [
       "'Epoch 5. Training_loss: 2.2941543658574424. Val_loss: 2.2933859825134277. Training_accuracy: 0.15578333333333333. Val_accuracy: 0.1627'"
      ]
     },
     "metadata": {},
     "output_type": "display_data"
    },
    {
     "data": {
      "text/plain": [
       "'Epoch 6. Training_loss: 2.2925644715627036. Val_loss: 2.2917550086975096. Training_accuracy: 0.16251666666666667. Val_accuracy: 0.1675'"
      ]
     },
     "metadata": {},
     "output_type": "display_data"
    },
    {
     "data": {
      "text/plain": [
       "'Epoch 7. Training_loss: 2.2909759124120077. Val_loss: 2.2901257038116456. Training_accuracy: 0.1689. Val_accuracy: 0.1746'"
      ]
     },
     "metadata": {},
     "output_type": "display_data"
    },
    {
     "data": {
      "text/plain": [
       "'Epoch 8. Training_loss: 2.2893879493077596. Val_loss: 2.28849720954895. Training_accuracy: 0.17568333333333333. Val_accuracy: 0.181'"
      ]
     },
     "metadata": {},
     "output_type": "display_data"
    },
    {
     "data": {
      "text/plain": [
       "'Epoch 9. Training_loss: 2.2877997080485026. Val_loss: 2.2868677139282227. Training_accuracy: 0.18355. Val_accuracy: 0.188'"
      ]
     },
     "metadata": {},
     "output_type": "display_data"
    },
    {
     "data": {
      "text/plain": [
       "'Epoch 10. Training_loss: 2.2862098534901936. Val_loss: 2.2852359771728517. Training_accuracy: 0.19121666666666667. Val_accuracy: 0.1963'"
      ]
     },
     "metadata": {},
     "output_type": "display_data"
    },
    {
     "data": {
      "text/plain": [
       "'Epoch 11. Training_loss: 2.2846174955368044. Val_loss: 2.2836016178131104. Training_accuracy: 0.19991666666666666. Val_accuracy: 0.2047'"
      ]
     },
     "metadata": {},
     "output_type": "display_data"
    },
    {
     "data": {
      "text/plain": [
       "'Epoch 12. Training_loss: 2.283022141456604. Val_loss: 2.281963920593262. Training_accuracy: 0.20948333333333333. Val_accuracy: 0.2148'"
      ]
     },
     "metadata": {},
     "output_type": "display_data"
    },
    {
     "data": {
      "text/plain": [
       "'Epoch 13. Training_loss: 2.2814228693644205. Val_loss: 2.280320930480957. Training_accuracy: 0.21986666666666665. Val_accuracy: 0.2271'"
      ]
     },
     "metadata": {},
     "output_type": "display_data"
    },
    {
     "data": {
      "text/plain": [
       "'Epoch 14. Training_loss: 2.2798186699549357. Val_loss: 2.278672218322754. Training_accuracy: 0.23103333333333334. Val_accuracy: 0.2388'"
      ]
     },
     "metadata": {},
     "output_type": "display_data"
    },
    {
     "data": {
      "text/plain": [
       "'Epoch 15. Training_loss: 2.278208621342977. Val_loss: 2.277017593383789. Training_accuracy: 0.24331666666666665. Val_accuracy: 0.2516'"
      ]
     },
     "metadata": {},
     "output_type": "display_data"
    },
    {
     "data": {
      "text/plain": [
       "'Epoch 16. Training_loss: 2.2765920162200928. Val_loss: 2.275355815887451. Training_accuracy: 0.2561. Val_accuracy: 0.2628'"
      ]
     },
     "metadata": {},
     "output_type": "display_data"
    },
    {
     "data": {
      "text/plain": [
       "'Epoch 17. Training_loss: 2.274968457221985. Val_loss: 2.2736863136291503. Training_accuracy: 0.26945. Val_accuracy: 0.2754'"
      ]
     },
     "metadata": {},
     "output_type": "display_data"
    },
    {
     "data": {
      "text/plain": [
       "'Epoch 18. Training_loss: 2.2733364582061766. Val_loss: 2.2720077991485597. Training_accuracy: 0.28303333333333336. Val_accuracy: 0.2878'"
      ]
     },
     "metadata": {},
     "output_type": "display_data"
    },
    {
     "data": {
      "text/plain": [
       "'Epoch 19. Training_loss: 2.2716951449712117. Val_loss: 2.2703189849853516. Training_accuracy: 0.2960833333333333. Val_accuracy: 0.3019'"
      ]
     },
     "metadata": {},
     "output_type": "display_data"
    },
    {
     "data": {
      "text/plain": [
       "'Done'"
      ]
     },
     "metadata": {},
     "output_type": "display_data"
    }
   ],
   "source": [
    "# hyperparameters\n",
    "loss_fn = torch.nn.CrossEntropyLoss()\n",
    "epochs = 20\n",
    "lr = 1e-3\n",
    "\n",
    "models = (m1,m2)\n",
    "\n",
    "batch_sizes = (64, 2048)\n",
    "\n",
    "fit_df = pd.DataFrame()\n",
    "\n",
    "for batch_size, model in zip(batch_sizes, models):\n",
    "    optimizer1 = torch.optim.SGD(model.parameters(), lr=lr)\n",
    "    display(f\"Training & eval: Models with batch size: {batch_size}\")\n",
    "\n",
    "    # Dataloader\n",
    "    training_dl = DataLoader(training_ds, batch_size=batch_size)\n",
    "    test_dl = DataLoader(test_ds, batch_size=batch_size)\n",
    "   \n",
    "    for epoch in range(epochs):\n",
    "        train_loss, t_correct = nmist_train_loop(training_dl, model, loss_fn, optimizer1)\n",
    "        val_loss, v_correct = nmist_val_loop(test_dl, model, loss_fn)\n",
    "        display(f'Epoch {epoch}. Training_loss: {train_loss}. Val_loss: {val_loss}. Training_accuracy: {t_correct}. Val_accuracy: {v_correct}')\n",
    "    display(\"Done\")\n",
    "    \n",
    "    #if fit_df.empty:\n",
    "    #    fit_df = pd.DataFrame([[epoch, train_loss, val_loss, t_correct, v_correct, cnt_model_params(model)]], columns=['epoch','train_loss','val_loss', 'train_acc', 'v_acc','parameters'])\n",
    "    #else:\n",
    "    #    columns=['epoch','train_loss','val_loss', 'train_acc', 'v_acc','parameters']\n",
    "    #    fit_df = pd.concat([fit_df, pd.DataFrame([[epoch, train_loss, val_loss, t_correct, v_correct, cnt_model_params(model)]], columns=columns )])"
   ]
  },
  {
   "cell_type": "code",
   "execution_count": 9,
   "id": "d3ccfceb-6cd6-4f35-90f0-6136c363e8b1",
   "metadata": {
    "tags": []
   },
   "outputs": [],
   "source": [
    "# Saving weights for later\n",
    "torch.save(m1.state_dict(), 'm1.pth')\n",
    "torch.save(m2.state_dict(), 'm2.pth')"
   ]
  },
  {
   "cell_type": "code",
   "execution_count": 10,
   "id": "a4a6cb88-f4d2-44bc-8c38-2ce8a723110c",
   "metadata": {
    "tags": []
   },
   "outputs": [
    {
     "data": {
      "text/plain": [
       "[(tensor(-2., device='cuda:0'),\n",
       "  tensor([-0.1388,  0.0166,  0.0937,  ...,  0.2048, -0.5163,  0.0553],\n",
       "         device='cuda:0', grad_fn=<AddBackward0>)),\n",
       " (tensor(-1.7895, device='cuda:0'),\n",
       "  tensor([-0.1277,  0.0140,  0.0876,  ...,  0.1910, -0.4787,  0.0526],\n",
       "         device='cuda:0', grad_fn=<AddBackward0>)),\n",
       " (tensor(-1.5789, device='cuda:0'),\n",
       "  tensor([-0.1167,  0.0114,  0.0814,  ...,  0.1771, -0.4411,  0.0500],\n",
       "         device='cuda:0', grad_fn=<AddBackward0>)),\n",
       " (tensor(-1.3684, device='cuda:0'),\n",
       "  tensor([-0.1056,  0.0088,  0.0752,  ...,  0.1633, -0.4034,  0.0473],\n",
       "         device='cuda:0', grad_fn=<AddBackward0>)),\n",
       " (tensor(-1.1579, device='cuda:0'),\n",
       "  tensor([-0.0945,  0.0062,  0.0691,  ...,  0.1495, -0.3658,  0.0446],\n",
       "         device='cuda:0', grad_fn=<AddBackward0>)),\n",
       " (tensor(-0.9474, device='cuda:0'),\n",
       "  tensor([-0.0834,  0.0036,  0.0629,  ...,  0.1356, -0.3282,  0.0419],\n",
       "         device='cuda:0', grad_fn=<AddBackward0>)),\n",
       " (tensor(-0.7368, device='cuda:0'),\n",
       "  tensor([-0.0723,  0.0009,  0.0567,  ...,  0.1218, -0.2905,  0.0393],\n",
       "         device='cuda:0', grad_fn=<AddBackward0>)),\n",
       " (tensor(-0.5263, device='cuda:0'),\n",
       "  tensor([-0.0612, -0.0017,  0.0506,  ...,  0.1079, -0.2529,  0.0366],\n",
       "         device='cuda:0', grad_fn=<AddBackward0>)),\n",
       " (tensor(-0.3158, device='cuda:0'),\n",
       "  tensor([-0.0501, -0.0043,  0.0444,  ...,  0.0941, -0.2153,  0.0339],\n",
       "         device='cuda:0', grad_fn=<AddBackward0>)),\n",
       " (tensor(-0.1053, device='cuda:0'),\n",
       "  tensor([-0.0390, -0.0069,  0.0382,  ...,  0.0802, -0.1776,  0.0312],\n",
       "         device='cuda:0', grad_fn=<AddBackward0>)),\n",
       " (tensor(0.1053, device='cuda:0'),\n",
       "  tensor([-0.0279, -0.0095,  0.0321,  ...,  0.0664, -0.1400,  0.0285],\n",
       "         device='cuda:0', grad_fn=<AddBackward0>)),\n",
       " (tensor(0.3158, device='cuda:0'),\n",
       "  tensor([-0.0168, -0.0121,  0.0259,  ...,  0.0525, -0.1024,  0.0259],\n",
       "         device='cuda:0', grad_fn=<AddBackward0>)),\n",
       " (tensor(0.5263, device='cuda:0'),\n",
       "  tensor([-0.0058, -0.0147,  0.0197,  ...,  0.0387, -0.0647,  0.0232],\n",
       "         device='cuda:0', grad_fn=<AddBackward0>)),\n",
       " (tensor(0.7368, device='cuda:0'),\n",
       "  tensor([ 0.0053, -0.0174,  0.0136,  ...,  0.0249, -0.0271,  0.0205],\n",
       "         device='cuda:0', grad_fn=<AddBackward0>)),\n",
       " (tensor(0.9474, device='cuda:0'),\n",
       "  tensor([ 0.0164, -0.0200,  0.0074,  ...,  0.0110,  0.0105,  0.0178],\n",
       "         device='cuda:0', grad_fn=<AddBackward0>)),\n",
       " (tensor(1.1579, device='cuda:0'),\n",
       "  tensor([ 0.0275, -0.0226,  0.0012,  ..., -0.0028,  0.0481,  0.0152],\n",
       "         device='cuda:0', grad_fn=<AddBackward0>)),\n",
       " (tensor(1.3684, device='cuda:0'),\n",
       "  tensor([ 0.0386, -0.0252, -0.0049,  ..., -0.0167,  0.0858,  0.0125],\n",
       "         device='cuda:0', grad_fn=<AddBackward0>)),\n",
       " (tensor(1.5789, device='cuda:0'),\n",
       "  tensor([ 0.0497, -0.0278, -0.0111,  ..., -0.0305,  0.1234,  0.0098],\n",
       "         device='cuda:0', grad_fn=<AddBackward0>)),\n",
       " (tensor(1.7895, device='cuda:0'),\n",
       "  tensor([ 0.0608, -0.0304, -0.0173,  ..., -0.0444,  0.1610,  0.0071],\n",
       "         device='cuda:0', grad_fn=<AddBackward0>)),\n",
       " (tensor(2., device='cuda:0'),\n",
       "  tensor([ 0.0719, -0.0330, -0.0234,  ..., -0.0582,  0.1987,  0.0044],\n",
       "         device='cuda:0', grad_fn=<AddBackward0>))]"
      ]
     },
     "execution_count": 10,
     "metadata": {},
     "output_type": "execute_result"
    }
   ],
   "source": [
    "m1_params = torch.nn.utils.parameters_to_vector(m1.parameters())\n",
    "m2_params = torch.nn.utils.parameters_to_vector(m2.parameters())\n",
    "alphas = torch.linspace(-2,2, 20)\n",
    "\n",
    "theta_params_list = [(alpha, (1-alpha) * m1_params + alpha * m2_params) for alpha in alphas]\n",
    "theta_params_list"
   ]
  },
  {
   "cell_type": "code",
   "execution_count": 11,
   "id": "f6b50cd6-8bd7-4e5b-af53-5d0a8406fc94",
   "metadata": {
    "tags": []
   },
   "outputs": [],
   "source": [
    "#theta_model = ChangeableNetwork(512)\n",
    "#torch.nn.utils.vector_to_parameters(theta_params, theta_model.parameters())"
   ]
  },
  {
   "cell_type": "code",
   "execution_count": 12,
   "id": "d2b72cb1-6cb9-4c46-b397-de1c7e0c1f7a",
   "metadata": {
    "tags": []
   },
   "outputs": [
    {
     "data": {
      "text/plain": [
       "'Training & eval: Model with alpha: -2.0'"
      ]
     },
     "metadata": {},
     "output_type": "display_data"
    },
    {
     "data": {
      "text/plain": [
       "'Epoch 0. Training_loss: 3.7624476005309324. Val_loss: 3.080464652798418. Training_accuracy: 0.8903833333333333. Val_accuracy: 0.8967'"
      ]
     },
     "metadata": {},
     "output_type": "display_data"
    },
    {
     "data": {
      "text/plain": [
       "'Epoch 1. Training_loss: 2.8725766055719415. Val_loss: 2.4283237783217047. Training_accuracy: 0.8982833333333333. Val_accuracy: 0.9054'"
      ]
     },
     "metadata": {},
     "output_type": "display_data"
    },
    {
     "data": {
      "text/plain": [
       "'Epoch 2. Training_loss: 2.289540332159959. Val_loss: 1.9870654126386693. Training_accuracy: 0.9027666666666667. Val_accuracy: 0.9086'"
      ]
     },
     "metadata": {},
     "output_type": "display_data"
    },
    {
     "data": {
      "text/plain": [
       "'Epoch 3. Training_loss: 1.8798918167026395. Val_loss: 1.6581094688275535. Training_accuracy: 0.9062833333333333. Val_accuracy: 0.9118'"
      ]
     },
     "metadata": {},
     "output_type": "display_data"
    },
    {
     "data": {
      "text/plain": [
       "'Epoch 4. Training_loss: 1.5758698383413343. Val_loss: 1.4075638672582345. Training_accuracy: 0.9096666666666666. Val_accuracy: 0.9151'"
      ]
     },
     "metadata": {},
     "output_type": "display_data"
    },
    {
     "data": {
      "text/plain": [
       "'Done'"
      ]
     },
     "metadata": {},
     "output_type": "display_data"
    },
    {
     "data": {
      "text/plain": [
       "'Training & eval: Model with alpha: -1.7894736528396606'"
      ]
     },
     "metadata": {},
     "output_type": "display_data"
    },
    {
     "data": {
      "text/plain": [
       "'Epoch 0. Training_loss: 3.064155436887414. Val_loss: 2.536000980364577. Training_accuracy: 0.8904166666666666. Val_accuracy: 0.8969'"
      ]
     },
     "metadata": {},
     "output_type": "display_data"
    },
    {
     "data": {
      "text/plain": [
       "'Epoch 1. Training_loss: 2.386995241853343. Val_loss: 2.030575214234565. Training_accuracy: 0.89755. Val_accuracy: 0.9047'"
      ]
     },
     "metadata": {},
     "output_type": "display_data"
    },
    {
     "data": {
      "text/plain": [
       "'Epoch 2. Training_loss: 1.9293686586809702. Val_loss: 1.6802122832404667. Training_accuracy: 0.9022666666666667. Val_accuracy: 0.9084'"
      ]
     },
     "metadata": {},
     "output_type": "display_data"
    },
    {
     "data": {
      "text/plain": [
       "'Epoch 3. Training_loss: 1.60275404913344. Val_loss: 1.4178823553266684. Training_accuracy: 0.9055333333333333. Val_accuracy: 0.9115'"
      ]
     },
     "metadata": {},
     "output_type": "display_data"
    },
    {
     "data": {
      "text/plain": [
       "'Epoch 4. Training_loss: 1.3576272268786278. Val_loss: 1.216444377896105. Training_accuracy: 0.90875. Val_accuracy: 0.914'"
      ]
     },
     "metadata": {},
     "output_type": "display_data"
    },
    {
     "data": {
      "text/plain": [
       "'Done'"
      ]
     },
     "metadata": {},
     "output_type": "display_data"
    },
    {
     "data": {
      "text/plain": [
       "'Training & eval: Model with alpha: -1.5789473056793213'"
      ]
     },
     "metadata": {},
     "output_type": "display_data"
    },
    {
     "data": {
      "text/plain": [
       "'Epoch 0. Training_loss: 2.455179301231601. Val_loss: 2.0550465435617102. Training_accuracy: 0.89015. Val_accuracy: 0.8971'"
      ]
     },
     "metadata": {},
     "output_type": "display_data"
    },
    {
     "data": {
      "text/plain": [
       "'Epoch 1. Training_loss: 1.953765648643575. Val_loss: 1.6751545350080703. Training_accuracy: 0.8971166666666667. Val_accuracy: 0.9035'"
      ]
     },
     "metadata": {},
     "output_type": "display_data"
    },
    {
     "data": {
      "text/plain": [
       "'Epoch 2. Training_loss: 1.6041210445844176. Val_loss: 1.4020298059880656. Training_accuracy: 0.90155. Val_accuracy: 0.9084'"
      ]
     },
     "metadata": {},
     "output_type": "display_data"
    },
    {
     "data": {
      "text/plain": [
       "'Epoch 3. Training_loss: 1.3494877478431488. Val_loss: 1.1979583849622881. Training_accuracy: 0.90475. Val_accuracy: 0.9109'"
      ]
     },
     "metadata": {},
     "output_type": "display_data"
    },
    {
     "data": {
      "text/plain": [
       "'Epoch 4. Training_loss: 1.1556442239471196. Val_loss: 1.0382765984439593. Training_accuracy: 0.9078833333333334. Val_accuracy: 0.9133'"
      ]
     },
     "metadata": {},
     "output_type": "display_data"
    },
    {
     "data": {
      "text/plain": [
       "'Done'"
      ]
     },
     "metadata": {},
     "output_type": "display_data"
    },
    {
     "data": {
      "text/plain": [
       "'Training & eval: Model with alpha: -1.3684210777282715'"
      ]
     },
     "metadata": {},
     "output_type": "display_data"
    },
    {
     "data": {
      "text/plain": [
       "'Epoch 0. Training_loss: 1.93069495176435. Val_loss: 1.6343959910677. Training_accuracy: 0.8901. Val_accuracy: 0.8967'"
      ]
     },
     "metadata": {},
     "output_type": "display_data"
    },
    {
     "data": {
      "text/plain": [
       "'Epoch 1. Training_loss: 1.569965072566251. Val_loss: 1.357896879433978. Training_accuracy: 0.8964833333333333. Val_accuracy: 0.9021'"
      ]
     },
     "metadata": {},
     "output_type": "display_data"
    },
    {
     "data": {
      "text/plain": [
       "'Epoch 2. Training_loss: 1.3115476542509281. Val_loss: 1.1523538881154636. Training_accuracy: 0.9010666666666667. Val_accuracy: 0.9077'"
      ]
     },
     "metadata": {},
     "output_type": "display_data"
    },
    {
     "data": {
      "text/plain": [
       "'Epoch 3. Training_loss: 1.1177237891245322. Val_loss: 0.9958678958717799. Training_accuracy: 0.9041666666666667. Val_accuracy: 0.9108'"
      ]
     },
     "metadata": {},
     "output_type": "display_data"
    },
    {
     "data": {
      "text/plain": [
       "'Epoch 4. Training_loss: 0.9688927794408018. Val_loss: 0.8730978578026277. Training_accuracy: 0.9068333333333334. Val_accuracy: 0.9121'"
      ]
     },
     "metadata": {},
     "output_type": "display_data"
    },
    {
     "data": {
      "text/plain": [
       "'Done'"
      ]
     },
     "metadata": {},
     "output_type": "display_data"
    },
    {
     "data": {
      "text/plain": [
       "'Training & eval: Model with alpha: -1.1578947305679321'"
      ]
     },
     "metadata": {},
     "output_type": "display_data"
    },
    {
     "data": {
      "text/plain": [
       "'Epoch 0. Training_loss: 1.4863017784195116. Val_loss: 1.2731424312559918. Training_accuracy: 0.8902333333333333. Val_accuracy: 0.8959'"
      ]
     },
     "metadata": {},
     "output_type": "display_data"
    },
    {
     "data": {
      "text/plain": [
       "'Epoch 1. Training_loss: 1.2362905158662858. Val_loss: 1.0805625761551108. Training_accuracy: 0.8961166666666667. Val_accuracy: 0.9015'"
      ]
     },
     "metadata": {},
     "output_type": "display_data"
    },
    {
     "data": {
      "text/plain": [
       "'Epoch 2. Training_loss: 1.0536741125260862. Val_loss: 0.9323402185561759. Training_accuracy: 0.9005. Val_accuracy: 0.907'"
      ]
     },
     "metadata": {},
     "output_type": "display_data"
    },
    {
     "data": {
      "text/plain": [
       "'Epoch 3. Training_loss: 0.9117017918264371. Val_loss: 0.8162291817893588. Training_accuracy: 0.9034333333333333. Val_accuracy: 0.91'"
      ]
     },
     "metadata": {},
     "output_type": "display_data"
    },
    {
     "data": {
      "text/plain": [
       "'Epoch 4. Training_loss: 0.8005085585302294. Val_loss: 0.7242779766253821. Training_accuracy: 0.90615. Val_accuracy: 0.9114'"
      ]
     },
     "metadata": {},
     "output_type": "display_data"
    },
    {
     "data": {
      "text/plain": [
       "'Done'"
      ]
     },
     "metadata": {},
     "output_type": "display_data"
    },
    {
     "data": {
      "text/plain": [
       "'Training & eval: Model with alpha: -0.9473683834075928'"
      ]
     },
     "metadata": {},
     "output_type": "display_data"
    },
    {
     "data": {
      "text/plain": [
       "'Epoch 0. Training_loss: 1.117432920789996. Val_loss: 0.9697301864671085. Training_accuracy: 0.8904166666666666. Val_accuracy: 0.8957'"
      ]
     },
     "metadata": {},
     "output_type": "display_data"
    },
    {
     "data": {
      "text/plain": [
       "'Epoch 1. Training_loss: 0.9515026711671651. Val_loss: 0.8411351712620324. Training_accuracy: 0.8955833333333333. Val_accuracy: 0.8997'"
      ]
     },
     "metadata": {},
     "output_type": "display_data"
    },
    {
     "data": {
      "text/plain": [
       "'Epoch 2. Training_loss: 0.8290358842164377. Val_loss: 0.7409236690805852. Training_accuracy: 0.8998. Val_accuracy: 0.9056'"
      ]
     },
     "metadata": {},
     "output_type": "display_data"
    },
    {
     "data": {
      "text/plain": [
       "'Epoch 3. Training_loss: 0.7316056040457206. Val_loss: 0.6601440906014414. Training_accuracy: 0.9028333333333334. Val_accuracy: 0.9094'"
      ]
     },
     "metadata": {},
     "output_type": "display_data"
    },
    {
     "data": {
      "text/plain": [
       "'Epoch 4. Training_loss: 0.6527994007447055. Val_loss: 0.5941405510236056. Training_accuracy: 0.9052333333333333. Val_accuracy: 0.9112'"
      ]
     },
     "metadata": {},
     "output_type": "display_data"
    },
    {
     "data": {
      "text/plain": [
       "'Done'"
      ]
     },
     "metadata": {},
     "output_type": "display_data"
    },
    {
     "data": {
      "text/plain": [
       "'Training & eval: Model with alpha: -0.7368420958518982'"
      ]
     },
     "metadata": {},
     "output_type": "display_data"
    },
    {
     "data": {
      "text/plain": [
       "'Epoch 0. Training_loss: 0.8203124699973638. Val_loss: 0.7227178617565193. Training_accuracy: 0.8903166666666666. Val_accuracy: 0.8952'"
      ]
     },
     "metadata": {},
     "output_type": "display_data"
    },
    {
     "data": {
      "text/plain": [
       "'Epoch 1. Training_loss: 0.7165238823292892. Val_loss: 0.6416506451201643. Training_accuracy: 0.8951666666666667. Val_accuracy: 0.8994'"
      ]
     },
     "metadata": {},
     "output_type": "display_data"
    },
    {
     "data": {
      "text/plain": [
       "'Epoch 2. Training_loss: 0.6393205252637876. Val_loss: 0.578371963456494. Training_accuracy: 0.8990833333333333. Val_accuracy: 0.9042'"
      ]
     },
     "metadata": {},
     "output_type": "display_data"
    },
    {
     "data": {
      "text/plain": [
       "'Epoch 3. Training_loss: 0.5777659275547178. Val_loss: 0.5270813583241772. Training_accuracy: 0.9021833333333333. Val_accuracy: 0.9081'"
      ]
     },
     "metadata": {},
     "output_type": "display_data"
    },
    {
     "data": {
      "text/plain": [
       "'Epoch 4. Training_loss: 0.5270410307498374. Val_loss: 0.48427510964142895. Training_accuracy: 0.90435. Val_accuracy: 0.911'"
      ]
     },
     "metadata": {},
     "output_type": "display_data"
    },
    {
     "data": {
      "text/plain": [
       "'Done'"
      ]
     },
     "metadata": {},
     "output_type": "display_data"
    },
    {
     "data": {
      "text/plain": [
       "'Training & eval: Model with alpha: -0.5263158082962036'"
      ]
     },
     "metadata": {},
     "output_type": "display_data"
    },
    {
     "data": {
      "text/plain": [
       "'Epoch 0. Training_loss: 0.5928675285783777. Val_loss: 0.5322884851829357. Training_accuracy: 0.8906666666666667. Val_accuracy: 0.8958'"
      ]
     },
     "metadata": {},
     "output_type": "display_data"
    },
    {
     "data": {
      "text/plain": [
       "'Epoch 1. Training_loss: 0.5338961242674304. Val_loss: 0.4858332123128389. Training_accuracy: 0.8950833333333333. Val_accuracy: 0.899'"
      ]
     },
     "metadata": {},
     "output_type": "display_data"
    },
    {
     "data": {
      "text/plain": [
       "'Epoch 2. Training_loss: 0.48961902696833903. Val_loss: 0.44950944931353115. Training_accuracy: 0.8984333333333333. Val_accuracy: 0.9029'"
      ]
     },
     "metadata": {},
     "output_type": "display_data"
    },
    {
     "data": {
      "text/plain": [
       "'Epoch 3. Training_loss: 0.45439977015156163. Val_loss: 0.4200998185688903. Training_accuracy: 0.9012666666666667. Val_accuracy: 0.9059'"
      ]
     },
     "metadata": {},
     "output_type": "display_data"
    },
    {
     "data": {
      "text/plain": [
       "'Epoch 4. Training_loss: 0.42559978965499096. Val_loss: 0.3957786857770388. Training_accuracy: 0.9036. Val_accuracy: 0.9091'"
      ]
     },
     "metadata": {},
     "output_type": "display_data"
    },
    {
     "data": {
      "text/plain": [
       "'Done'"
      ]
     },
     "metadata": {},
     "output_type": "display_data"
    },
    {
     "data": {
      "text/plain": [
       "'Training & eval: Model with alpha: -0.31578946113586426'"
      ]
     },
     "metadata": {},
     "output_type": "display_data"
    },
    {
     "data": {
      "text/plain": [
       "'Epoch 0. Training_loss: 0.43822819398227597. Val_loss: 0.40331774295432266. Training_accuracy: 0.8907166666666667. Val_accuracy: 0.8955'"
      ]
     },
     "metadata": {},
     "output_type": "display_data"
    },
    {
     "data": {
      "text/plain": [
       "'Epoch 1. Training_loss: 0.410723308665253. Val_loss: 0.38148657630856153. Training_accuracy: 0.8947666666666667. Val_accuracy: 0.899'"
      ]
     },
     "metadata": {},
     "output_type": "display_data"
    },
    {
     "data": {
      "text/plain": [
       "'Epoch 2. Training_loss: 0.38997373391371737. Val_loss: 0.36445619318349537. Training_accuracy: 0.8979. Val_accuracy: 0.9014'"
      ]
     },
     "metadata": {},
     "output_type": "display_data"
    },
    {
     "data": {
      "text/plain": [
       "'Epoch 3. Training_loss: 0.3734517416565308. Val_loss: 0.3507113418227453. Training_accuracy: 0.9. Val_accuracy: 0.9043'"
      ]
     },
     "metadata": {},
     "output_type": "display_data"
    },
    {
     "data": {
      "text/plain": [
       "'Epoch 4. Training_loss: 0.35995330568403006. Val_loss: 0.3393839814101055. Training_accuracy: 0.90225. Val_accuracy: 0.9056'"
      ]
     },
     "metadata": {},
     "output_type": "display_data"
    },
    {
     "data": {
      "text/plain": [
       "'Done'"
      ]
     },
     "metadata": {},
     "output_type": "display_data"
    },
    {
     "data": {
      "text/plain": [
       "'Training & eval: Model with alpha: -0.10526314377784729'"
      ]
     },
     "metadata": {},
     "output_type": "display_data"
    },
    {
     "data": {
      "text/plain": [
       "'Epoch 0. Training_loss: 0.37634834996275685. Val_loss: 0.3554822754257234. Training_accuracy: 0.8909333333333334. Val_accuracy: 0.8949'"
      ]
     },
     "metadata": {},
     "output_type": "display_data"
    },
    {
     "data": {
      "text/plain": [
       "'Epoch 1. Training_loss: 0.3676786128796939. Val_loss: 0.3481085105045776. Training_accuracy: 0.8938833333333334. Val_accuracy: 0.8977'"
      ]
     },
     "metadata": {},
     "output_type": "display_data"
    },
    {
     "data": {
      "text/plain": [
       "'Epoch 2. Training_loss: 0.3604704270016219. Val_loss: 0.34186347977370973. Training_accuracy: 0.8959833333333334. Val_accuracy: 0.8996'"
      ]
     },
     "metadata": {},
     "output_type": "display_data"
    },
    {
     "data": {
      "text/plain": [
       "'Epoch 3. Training_loss: 0.3542321036373184. Val_loss: 0.3364115282655901. Training_accuracy: 0.8976833333333334. Val_accuracy: 0.9016'"
      ]
     },
     "metadata": {},
     "output_type": "display_data"
    },
    {
     "data": {
      "text/plain": [
       "'Epoch 4. Training_loss: 0.3487098754913822. Val_loss: 0.3315523940191907. Training_accuracy: 0.8994666666666666. Val_accuracy: 0.9037'"
      ]
     },
     "metadata": {},
     "output_type": "display_data"
    },
    {
     "data": {
      "text/plain": [
       "'Done'"
      ]
     },
     "metadata": {},
     "output_type": "display_data"
    },
    {
     "data": {
      "text/plain": [
       "'Training & eval: Model with alpha: 0.10526314377784729'"
      ]
     },
     "metadata": {},
     "output_type": "display_data"
    },
    {
     "data": {
      "text/plain": [
       "'Epoch 0. Training_loss: 0.47432371039888754. Val_loss: 0.4419884991114307. Training_accuracy: 0.8882. Val_accuracy: 0.8928'"
      ]
     },
     "metadata": {},
     "output_type": "display_data"
    },
    {
     "data": {
      "text/plain": [
       "'Epoch 1. Training_loss: 0.44774811744276904. Val_loss: 0.4198211407300773. Training_accuracy: 0.8893833333333333. Val_accuracy: 0.8944'"
      ]
     },
     "metadata": {},
     "output_type": "display_data"
    },
    {
     "data": {
      "text/plain": [
       "'Epoch 2. Training_loss: 0.42804236942008617. Val_loss: 0.40287746788020345. Training_accuracy: 0.8912333333333333. Val_accuracy: 0.8953'"
      ]
     },
     "metadata": {},
     "output_type": "display_data"
    },
    {
     "data": {
      "text/plain": [
       "'Epoch 3. Training_loss: 0.4126233005050276. Val_loss: 0.38938381522893906. Training_accuracy: 0.8928333333333334. Val_accuracy: 0.8966'"
      ]
     },
     "metadata": {},
     "output_type": "display_data"
    },
    {
     "data": {
      "text/plain": [
       "'Epoch 4. Training_loss: 0.40010888360615476. Val_loss: 0.37829415310340325. Training_accuracy: 0.8943333333333333. Val_accuracy: 0.8982'"
      ]
     },
     "metadata": {},
     "output_type": "display_data"
    },
    {
     "data": {
      "text/plain": [
       "'Done'"
      ]
     },
     "metadata": {},
     "output_type": "display_data"
    },
    {
     "data": {
      "text/plain": [
       "'Training & eval: Model with alpha: 0.31578946113586426'"
      ]
     },
     "metadata": {},
     "output_type": "display_data"
    },
    {
     "data": {
      "text/plain": [
       "'Epoch 0. Training_loss: 0.8563422727813599. Val_loss: 0.7331726216966179. Training_accuracy: 0.8771. Val_accuracy: 0.8828'"
      ]
     },
     "metadata": {},
     "output_type": "display_data"
    },
    {
     "data": {
      "text/plain": [
       "'Epoch 1. Training_loss: 0.6867114616546042. Val_loss: 0.6108026208391615. Training_accuracy: 0.8777333333333334. Val_accuracy: 0.8861'"
      ]
     },
     "metadata": {},
     "output_type": "display_data"
    },
    {
     "data": {
      "text/plain": [
       "'Epoch 2. Training_loss: 0.5914612264553113. Val_loss: 0.5382939077866306. Training_accuracy: 0.8799666666666667. Val_accuracy: 0.8878'"
      ]
     },
     "metadata": {},
     "output_type": "display_data"
    },
    {
     "data": {
      "text/plain": [
       "'Epoch 3. Training_loss: 0.5323895257927461. Val_loss: 0.49140396438966133. Training_accuracy: 0.8819833333333333. Val_accuracy: 0.8876'"
      ]
     },
     "metadata": {},
     "output_type": "display_data"
    },
    {
     "data": {
      "text/plain": [
       "'Epoch 4. Training_loss: 0.4927345058048712. Val_loss: 0.45883969995816043. Training_accuracy: 0.8838. Val_accuracy: 0.8895'"
      ]
     },
     "metadata": {},
     "output_type": "display_data"
    },
    {
     "data": {
      "text/plain": [
       "'Done'"
      ]
     },
     "metadata": {},
     "output_type": "display_data"
    },
    {
     "data": {
      "text/plain": [
       "'Training & eval: Model with alpha: 0.5263158082962036'"
      ]
     },
     "metadata": {},
     "output_type": "display_data"
    },
    {
     "data": {
      "text/plain": [
       "'Epoch 0. Training_loss: 1.5637304681196396. Val_loss: 1.3439604560281062. Training_accuracy: 0.8453333333333334. Val_accuracy: 0.8471'"
      ]
     },
     "metadata": {},
     "output_type": "display_data"
    },
    {
     "data": {
      "text/plain": [
       "'Epoch 1. Training_loss: 1.186205197562541. Val_loss: 1.0097556668482008. Training_accuracy: 0.84035. Val_accuracy: 0.854'"
      ]
     },
     "metadata": {},
     "output_type": "display_data"
    },
    {
     "data": {
      "text/plain": [
       "'Epoch 2. Training_loss: 0.9159436188717641. Val_loss: 0.7976759649386072. Training_accuracy: 0.8507333333333333. Val_accuracy: 0.8596'"
      ]
     },
     "metadata": {},
     "output_type": "display_data"
    },
    {
     "data": {
      "text/plain": [
       "'Epoch 3. Training_loss: 0.7499887790125824. Val_loss: 0.6705410647544132. Training_accuracy: 0.85855. Val_accuracy: 0.8663'"
      ]
     },
     "metadata": {},
     "output_type": "display_data"
    },
    {
     "data": {
      "text/plain": [
       "'Epoch 4. Training_loss: 0.6481628454506778. Val_loss: 0.590756072455151. Training_accuracy: 0.8638833333333333. Val_accuracy: 0.8704'"
      ]
     },
     "metadata": {},
     "output_type": "display_data"
    },
    {
     "data": {
      "text/plain": [
       "'Done'"
      ]
     },
     "metadata": {},
     "output_type": "display_data"
    },
    {
     "data": {
      "text/plain": [
       "'Training & eval: Model with alpha: 0.7368420958518982'"
      ]
     },
     "metadata": {},
     "output_type": "display_data"
    },
    {
     "data": {
      "text/plain": [
       "'Epoch 0. Training_loss: 2.1533602971766297. Val_loss: 2.0755734929613245. Training_accuracy: 0.6662. Val_accuracy: 0.7199'"
      ]
     },
     "metadata": {},
     "output_type": "display_data"
    },
    {
     "data": {
      "text/plain": [
       "'Epoch 1. Training_loss: 1.9815485462196853. Val_loss: 1.8567797241696886. Training_accuracy: 0.7472833333333333. Val_accuracy: 0.7609'"
      ]
     },
     "metadata": {},
     "output_type": "display_data"
    },
    {
     "data": {
      "text/plain": [
       "'Epoch 2. Training_loss: 1.7178521424468391. Val_loss: 1.542224795195707. Training_accuracy: 0.7646166666666666. Val_accuracy: 0.7736'"
      ]
     },
     "metadata": {},
     "output_type": "display_data"
    },
    {
     "data": {
      "text/plain": [
       "'Epoch 3. Training_loss: 1.3920072057226827. Val_loss: 1.2150327969508565. Training_accuracy: 0.7748166666666667. Val_accuracy: 0.7964'"
      ]
     },
     "metadata": {},
     "output_type": "display_data"
    },
    {
     "data": {
      "text/plain": [
       "'Epoch 4. Training_loss: 1.1038730995995658. Val_loss: 0.9674334461521951. Training_accuracy: 0.8010166666666667. Val_accuracy: 0.8205'"
      ]
     },
     "metadata": {},
     "output_type": "display_data"
    },
    {
     "data": {
      "text/plain": [
       "'Done'"
      ]
     },
     "metadata": {},
     "output_type": "display_data"
    },
    {
     "data": {
      "text/plain": [
       "'Training & eval: Model with alpha: 0.9473683834075928'"
      ]
     },
     "metadata": {},
     "output_type": "display_data"
    },
    {
     "data": {
      "text/plain": [
       "'Epoch 0. Training_loss: 2.2467721057599035. Val_loss: 2.2147777900574313. Training_accuracy: 0.4520166666666667. Val_accuracy: 0.5783'"
      ]
     },
     "metadata": {},
     "output_type": "display_data"
    },
    {
     "data": {
      "text/plain": [
       "'Epoch 1. Training_loss: 2.175684233972513. Val_loss: 2.1227501152427335. Training_accuracy: 0.6377166666666667. Val_accuracy: 0.6777'"
      ]
     },
     "metadata": {},
     "output_type": "display_data"
    },
    {
     "data": {
      "text/plain": [
       "'Epoch 2. Training_loss: 2.056219427061996. Val_loss: 1.9646524426284109. Training_accuracy: 0.7007666666666666. Val_accuracy: 0.7251'"
      ]
     },
     "metadata": {},
     "output_type": "display_data"
    },
    {
     "data": {
      "text/plain": [
       "'Epoch 3. Training_loss: 1.8549010205878886. Val_loss: 1.7092464068892654. Training_accuracy: 0.7317166666666667. Val_accuracy: 0.7467'"
      ]
     },
     "metadata": {},
     "output_type": "display_data"
    },
    {
     "data": {
      "text/plain": [
       "'Epoch 4. Training_loss: 1.5643125550070804. Val_loss: 1.3863473515601674. Training_accuracy: 0.7456833333333334. Val_accuracy: 0.7636'"
      ]
     },
     "metadata": {},
     "output_type": "display_data"
    },
    {
     "data": {
      "text/plain": [
       "'Done'"
      ]
     },
     "metadata": {},
     "output_type": "display_data"
    },
    {
     "data": {
      "text/plain": [
       "'Training & eval: Model with alpha: 1.1578947305679321'"
      ]
     },
     "metadata": {},
     "output_type": "display_data"
    },
    {
     "data": {
      "text/plain": [
       "'Epoch 0. Training_loss: 2.22351875030664. Val_loss: 2.1697523442043622. Training_accuracy: 0.4438. Val_accuracy: 0.6209'"
      ]
     },
     "metadata": {},
     "output_type": "display_data"
    },
    {
     "data": {
      "text/plain": [
       "'Epoch 1. Training_loss: 2.1016177128372924. Val_loss: 2.0071899192348406. Training_accuracy: 0.68535. Val_accuracy: 0.727'"
      ]
     },
     "metadata": {},
     "output_type": "display_data"
    },
    {
     "data": {
      "text/plain": [
       "'Epoch 2. Training_loss: 1.887939613002704. Val_loss: 1.7277155841232106. Training_accuracy: 0.7304666666666667. Val_accuracy: 0.7464'"
      ]
     },
     "metadata": {},
     "output_type": "display_data"
    },
    {
     "data": {
      "text/plain": [
       "'Epoch 3. Training_loss: 1.564482075319107. Val_loss: 1.3662467800128233. Training_accuracy: 0.7454333333333333. Val_accuracy: 0.7665'"
      ]
     },
     "metadata": {},
     "output_type": "display_data"
    },
    {
     "data": {
      "text/plain": [
       "'Epoch 4. Training_loss: 1.2236116759812654. Val_loss: 1.0570730267056994. Training_accuracy: 0.7756333333333333. Val_accuracy: 0.8016'"
      ]
     },
     "metadata": {},
     "output_type": "display_data"
    },
    {
     "data": {
      "text/plain": [
       "'Done'"
      ]
     },
     "metadata": {},
     "output_type": "display_data"
    },
    {
     "data": {
      "text/plain": [
       "'Training & eval: Model with alpha: 1.3684210777282715'"
      ]
     },
     "metadata": {},
     "output_type": "display_data"
    },
    {
     "data": {
      "text/plain": [
       "'Epoch 0. Training_loss: 2.1952289716521305. Val_loss: 2.0899731809166586. Training_accuracy: 0.41225. Val_accuracy: 0.6489'"
      ]
     },
     "metadata": {},
     "output_type": "display_data"
    },
    {
     "data": {
      "text/plain": [
       "'Epoch 1. Training_loss: 1.9582897587371533. Val_loss: 1.7820734188055536. Training_accuracy: 0.69855. Val_accuracy: 0.7331'"
      ]
     },
     "metadata": {},
     "output_type": "display_data"
    },
    {
     "data": {
      "text/plain": [
       "'Epoch 2. Training_loss: 1.5921576948308234. Val_loss: 1.3657134338548989. Training_accuracy: 0.7350166666666667. Val_accuracy: 0.7626'"
      ]
     },
     "metadata": {},
     "output_type": "display_data"
    },
    {
     "data": {
      "text/plain": [
       "'Epoch 3. Training_loss: 1.2025634434177424. Val_loss: 1.0208884568730736. Training_accuracy: 0.7790833333333333. Val_accuracy: 0.8086'"
      ]
     },
     "metadata": {},
     "output_type": "display_data"
    },
    {
     "data": {
      "text/plain": [
       "'Epoch 4. Training_loss: 0.9272317831386635. Val_loss: 0.8080807183958163. Training_accuracy: 0.8158166666666666. Val_accuracy: 0.8346'"
      ]
     },
     "metadata": {},
     "output_type": "display_data"
    },
    {
     "data": {
      "text/plain": [
       "'Done'"
      ]
     },
     "metadata": {},
     "output_type": "display_data"
    },
    {
     "data": {
      "text/plain": [
       "'Training & eval: Model with alpha: 1.5789473056793213'"
      ]
     },
     "metadata": {},
     "output_type": "display_data"
    },
    {
     "data": {
      "text/plain": [
       "'Epoch 0. Training_loss: 2.1566768433493593. Val_loss: 1.9617543622946283. Training_accuracy: 0.39766666666666667. Val_accuracy: 0.6644'"
      ]
     },
     "metadata": {},
     "output_type": "display_data"
    },
    {
     "data": {
      "text/plain": [
       "'Epoch 1. Training_loss: 1.7443853475645916. Val_loss: 1.480520992522027. Training_accuracy: 0.7046833333333333. Val_accuracy: 0.7464'"
      ]
     },
     "metadata": {},
     "output_type": "display_data"
    },
    {
     "data": {
      "text/plain": [
       "'Epoch 2. Training_loss: 1.274011686857321. Val_loss: 1.0524007397092832. Training_accuracy: 0.76725. Val_accuracy: 0.8043'"
      ]
     },
     "metadata": {},
     "output_type": "display_data"
    },
    {
     "data": {
      "text/plain": [
       "'Epoch 3. Training_loss: 0.9383040627500395. Val_loss: 0.8026891500706885. Training_accuracy: 0.8129666666666666. Val_accuracy: 0.8361'"
      ]
     },
     "metadata": {},
     "output_type": "display_data"
    },
    {
     "data": {
      "text/plain": [
       "'Epoch 4. Training_loss: 0.7486256039790762. Val_loss: 0.6626971386800147. Training_accuracy: 0.8371166666666666. Val_accuracy: 0.8527'"
      ]
     },
     "metadata": {},
     "output_type": "display_data"
    },
    {
     "data": {
      "text/plain": [
       "'Done'"
      ]
     },
     "metadata": {},
     "output_type": "display_data"
    },
    {
     "data": {
      "text/plain": [
       "'Training & eval: Model with alpha: 1.7894736528396606'"
      ]
     },
     "metadata": {},
     "output_type": "display_data"
    },
    {
     "data": {
      "text/plain": [
       "'Epoch 0. Training_loss: 2.0981203476503207. Val_loss: 1.7734650206413998. Training_accuracy: 0.39668333333333333. Val_accuracy: 0.6722'"
      ]
     },
     "metadata": {},
     "output_type": "display_data"
    },
    {
     "data": {
      "text/plain": [
       "'Epoch 1. Training_loss: 1.4897103523775967. Val_loss: 1.1899496829433807. Training_accuracy: 0.7233. Val_accuracy: 0.781'"
      ]
     },
     "metadata": {},
     "output_type": "display_data"
    },
    {
     "data": {
      "text/plain": [
       "'Epoch 2. Training_loss: 1.022186227825913. Val_loss: 0.8432669658569774. Training_accuracy: 0.7981333333333334. Val_accuracy: 0.8295'"
      ]
     },
     "metadata": {},
     "output_type": "display_data"
    },
    {
     "data": {
      "text/plain": [
       "'Epoch 3. Training_loss: 0.7708585387163325. Val_loss: 0.6681770340652223. Training_accuracy: 0.8334166666666667. Val_accuracy: 0.8517'"
      ]
     },
     "metadata": {},
     "output_type": "display_data"
    },
    {
     "data": {
      "text/plain": [
       "'Epoch 4. Training_loss: 0.6373617559639629. Val_loss: 0.5696787531398664. Training_accuracy: 0.8520166666666666. Val_accuracy: 0.8657'"
      ]
     },
     "metadata": {},
     "output_type": "display_data"
    },
    {
     "data": {
      "text/plain": [
       "'Done'"
      ]
     },
     "metadata": {},
     "output_type": "display_data"
    },
    {
     "data": {
      "text/plain": [
       "'Training & eval: Model with alpha: 2.0'"
      ]
     },
     "metadata": {},
     "output_type": "display_data"
    },
    {
     "data": {
      "text/plain": [
       "'Epoch 0. Training_loss: 2.0162376114554497. Val_loss: 1.54188421729264. Training_accuracy: 0.4072. Val_accuracy: 0.6898'"
      ]
     },
     "metadata": {},
     "output_type": "display_data"
    },
    {
     "data": {
      "text/plain": [
       "'Epoch 1. Training_loss: 1.2470007094620132. Val_loss: 0.9691281303478654. Training_accuracy: 0.7500833333333333. Val_accuracy: 0.8047'"
      ]
     },
     "metadata": {},
     "output_type": "display_data"
    },
    {
     "data": {
      "text/plain": [
       "'Epoch 2. Training_loss: 0.8485925371395245. Val_loss: 0.7094450196263137. Training_accuracy: 0.8185166666666667. Val_accuracy: 0.8434'"
      ]
     },
     "metadata": {},
     "output_type": "display_data"
    },
    {
     "data": {
      "text/plain": [
       "'Epoch 3. Training_loss: 0.6628704665820482. Val_loss: 0.5809905510988964. Training_accuracy: 0.84695. Val_accuracy: 0.8617'"
      ]
     },
     "metadata": {},
     "output_type": "display_data"
    },
    {
     "data": {
      "text/plain": [
       "'Epoch 4. Training_loss: 0.5631211726967968. Val_loss: 0.506314824436121. Training_accuracy: 0.8622833333333333. Val_accuracy: 0.8746'"
      ]
     },
     "metadata": {},
     "output_type": "display_data"
    },
    {
     "data": {
      "text/plain": [
       "'Done'"
      ]
     },
     "metadata": {},
     "output_type": "display_data"
    }
   ],
   "source": [
    "# Training on theta_models\n",
    "\n",
    "loss_fn = torch.nn.CrossEntropyLoss()\n",
    "epochs = 5\n",
    "lr = 1e-3\n",
    "batch_size=64\n",
    "\n",
    "theta_df = pd.DataFrame()\n",
    "\n",
    "for cur_alpha, theta_params in theta_params_list:\n",
    "    \n",
    "    model = ChangeableNetwork(512)\n",
    "    torch.nn.utils.vector_to_parameters(theta_params, model.parameters())\n",
    "    \n",
    "    optimizer1 = torch.optim.SGD(model.parameters(), lr=lr)\n",
    "    display(f\"Training & eval: Model with alpha: {cur_alpha}\")\n",
    "\n",
    "    # Dataloader\n",
    "    training_dl = DataLoader(training_ds, batch_size=batch_size)\n",
    "    test_dl = DataLoader(test_ds, batch_size=batch_size)\n",
    "   \n",
    "    for epoch in range(epochs):\n",
    "        train_loss, t_correct = nmist_train_loop(training_dl, model, loss_fn, optimizer1)\n",
    "        val_loss, v_correct = nmist_val_loop(test_dl, model, loss_fn)\n",
    "        display(f'Epoch {epoch}. Training_loss: {train_loss}. Val_loss: {val_loss}. Training_accuracy: {t_correct}. Val_accuracy: {v_correct}')\n",
    "    display(\"Done\")\n",
    "    if theta_df.empty:\n",
    "        theta_df = pd.DataFrame([[cur_alpha.item(), train_loss, val_loss, t_correct, v_correct]], columns=['alpha', 'train_loss', 'val_loss','t_acc','v_acc'])\n",
    "    else:\n",
    "        theta_df = pd.concat([theta_df, pd.DataFrame([[cur_alpha.item(), train_loss, val_loss, t_correct, v_correct]], columns=['alpha', 'train_loss', 'val_loss','t_acc','v_acc'])])\n"
   ]
  },
  {
   "cell_type": "code",
   "execution_count": 13,
   "id": "6dcd272b-bd5a-4f14-a321-a099757e91ec",
   "metadata": {
    "tags": []
   },
   "outputs": [
    {
     "data": {
      "text/html": [
       "<div>\n",
       "<style scoped>\n",
       "    .dataframe tbody tr th:only-of-type {\n",
       "        vertical-align: middle;\n",
       "    }\n",
       "\n",
       "    .dataframe tbody tr th {\n",
       "        vertical-align: top;\n",
       "    }\n",
       "\n",
       "    .dataframe thead th {\n",
       "        text-align: right;\n",
       "    }\n",
       "</style>\n",
       "<table border=\"1\" class=\"dataframe\">\n",
       "  <thead>\n",
       "    <tr style=\"text-align: right;\">\n",
       "      <th></th>\n",
       "      <th>alpha</th>\n",
       "      <th>train_loss</th>\n",
       "      <th>val_loss</th>\n",
       "      <th>t_acc</th>\n",
       "      <th>v_acc</th>\n",
       "    </tr>\n",
       "  </thead>\n",
       "  <tbody>\n",
       "    <tr>\n",
       "      <th>0</th>\n",
       "      <td>-2.000000</td>\n",
       "      <td>1.575870</td>\n",
       "      <td>1.407564</td>\n",
       "      <td>0.909667</td>\n",
       "      <td>0.9151</td>\n",
       "    </tr>\n",
       "    <tr>\n",
       "      <th>0</th>\n",
       "      <td>-1.789474</td>\n",
       "      <td>1.357627</td>\n",
       "      <td>1.216444</td>\n",
       "      <td>0.908750</td>\n",
       "      <td>0.9140</td>\n",
       "    </tr>\n",
       "    <tr>\n",
       "      <th>0</th>\n",
       "      <td>-1.578947</td>\n",
       "      <td>1.155644</td>\n",
       "      <td>1.038277</td>\n",
       "      <td>0.907883</td>\n",
       "      <td>0.9133</td>\n",
       "    </tr>\n",
       "    <tr>\n",
       "      <th>0</th>\n",
       "      <td>-1.368421</td>\n",
       "      <td>0.968893</td>\n",
       "      <td>0.873098</td>\n",
       "      <td>0.906833</td>\n",
       "      <td>0.9121</td>\n",
       "    </tr>\n",
       "    <tr>\n",
       "      <th>0</th>\n",
       "      <td>-1.157895</td>\n",
       "      <td>0.800509</td>\n",
       "      <td>0.724278</td>\n",
       "      <td>0.906150</td>\n",
       "      <td>0.9114</td>\n",
       "    </tr>\n",
       "    <tr>\n",
       "      <th>0</th>\n",
       "      <td>-0.947368</td>\n",
       "      <td>0.652799</td>\n",
       "      <td>0.594141</td>\n",
       "      <td>0.905233</td>\n",
       "      <td>0.9112</td>\n",
       "    </tr>\n",
       "    <tr>\n",
       "      <th>0</th>\n",
       "      <td>-0.736842</td>\n",
       "      <td>0.527041</td>\n",
       "      <td>0.484275</td>\n",
       "      <td>0.904350</td>\n",
       "      <td>0.9110</td>\n",
       "    </tr>\n",
       "    <tr>\n",
       "      <th>0</th>\n",
       "      <td>-0.526316</td>\n",
       "      <td>0.425600</td>\n",
       "      <td>0.395779</td>\n",
       "      <td>0.903600</td>\n",
       "      <td>0.9091</td>\n",
       "    </tr>\n",
       "    <tr>\n",
       "      <th>0</th>\n",
       "      <td>-0.315789</td>\n",
       "      <td>0.359953</td>\n",
       "      <td>0.339384</td>\n",
       "      <td>0.902250</td>\n",
       "      <td>0.9056</td>\n",
       "    </tr>\n",
       "    <tr>\n",
       "      <th>0</th>\n",
       "      <td>-0.105263</td>\n",
       "      <td>0.348710</td>\n",
       "      <td>0.331552</td>\n",
       "      <td>0.899467</td>\n",
       "      <td>0.9037</td>\n",
       "    </tr>\n",
       "    <tr>\n",
       "      <th>0</th>\n",
       "      <td>0.105263</td>\n",
       "      <td>0.400109</td>\n",
       "      <td>0.378294</td>\n",
       "      <td>0.894333</td>\n",
       "      <td>0.8982</td>\n",
       "    </tr>\n",
       "    <tr>\n",
       "      <th>0</th>\n",
       "      <td>0.315789</td>\n",
       "      <td>0.492735</td>\n",
       "      <td>0.458840</td>\n",
       "      <td>0.883800</td>\n",
       "      <td>0.8895</td>\n",
       "    </tr>\n",
       "    <tr>\n",
       "      <th>0</th>\n",
       "      <td>0.526316</td>\n",
       "      <td>0.648163</td>\n",
       "      <td>0.590756</td>\n",
       "      <td>0.863883</td>\n",
       "      <td>0.8704</td>\n",
       "    </tr>\n",
       "    <tr>\n",
       "      <th>0</th>\n",
       "      <td>0.736842</td>\n",
       "      <td>1.103873</td>\n",
       "      <td>0.967433</td>\n",
       "      <td>0.801017</td>\n",
       "      <td>0.8205</td>\n",
       "    </tr>\n",
       "    <tr>\n",
       "      <th>0</th>\n",
       "      <td>0.947368</td>\n",
       "      <td>1.564313</td>\n",
       "      <td>1.386347</td>\n",
       "      <td>0.745683</td>\n",
       "      <td>0.7636</td>\n",
       "    </tr>\n",
       "    <tr>\n",
       "      <th>0</th>\n",
       "      <td>1.157895</td>\n",
       "      <td>1.223612</td>\n",
       "      <td>1.057073</td>\n",
       "      <td>0.775633</td>\n",
       "      <td>0.8016</td>\n",
       "    </tr>\n",
       "    <tr>\n",
       "      <th>0</th>\n",
       "      <td>1.368421</td>\n",
       "      <td>0.927232</td>\n",
       "      <td>0.808081</td>\n",
       "      <td>0.815817</td>\n",
       "      <td>0.8346</td>\n",
       "    </tr>\n",
       "    <tr>\n",
       "      <th>0</th>\n",
       "      <td>1.578947</td>\n",
       "      <td>0.748626</td>\n",
       "      <td>0.662697</td>\n",
       "      <td>0.837117</td>\n",
       "      <td>0.8527</td>\n",
       "    </tr>\n",
       "    <tr>\n",
       "      <th>0</th>\n",
       "      <td>1.789474</td>\n",
       "      <td>0.637362</td>\n",
       "      <td>0.569679</td>\n",
       "      <td>0.852017</td>\n",
       "      <td>0.8657</td>\n",
       "    </tr>\n",
       "    <tr>\n",
       "      <th>0</th>\n",
       "      <td>2.000000</td>\n",
       "      <td>0.563121</td>\n",
       "      <td>0.506315</td>\n",
       "      <td>0.862283</td>\n",
       "      <td>0.8746</td>\n",
       "    </tr>\n",
       "  </tbody>\n",
       "</table>\n",
       "</div>"
      ],
      "text/plain": [
       "      alpha  train_loss  val_loss     t_acc   v_acc\n",
       "0 -2.000000    1.575870  1.407564  0.909667  0.9151\n",
       "0 -1.789474    1.357627  1.216444  0.908750  0.9140\n",
       "0 -1.578947    1.155644  1.038277  0.907883  0.9133\n",
       "0 -1.368421    0.968893  0.873098  0.906833  0.9121\n",
       "0 -1.157895    0.800509  0.724278  0.906150  0.9114\n",
       "0 -0.947368    0.652799  0.594141  0.905233  0.9112\n",
       "0 -0.736842    0.527041  0.484275  0.904350  0.9110\n",
       "0 -0.526316    0.425600  0.395779  0.903600  0.9091\n",
       "0 -0.315789    0.359953  0.339384  0.902250  0.9056\n",
       "0 -0.105263    0.348710  0.331552  0.899467  0.9037\n",
       "0  0.105263    0.400109  0.378294  0.894333  0.8982\n",
       "0  0.315789    0.492735  0.458840  0.883800  0.8895\n",
       "0  0.526316    0.648163  0.590756  0.863883  0.8704\n",
       "0  0.736842    1.103873  0.967433  0.801017  0.8205\n",
       "0  0.947368    1.564313  1.386347  0.745683  0.7636\n",
       "0  1.157895    1.223612  1.057073  0.775633  0.8016\n",
       "0  1.368421    0.927232  0.808081  0.815817  0.8346\n",
       "0  1.578947    0.748626  0.662697  0.837117  0.8527\n",
       "0  1.789474    0.637362  0.569679  0.852017  0.8657\n",
       "0  2.000000    0.563121  0.506315  0.862283  0.8746"
      ]
     },
     "execution_count": 13,
     "metadata": {},
     "output_type": "execute_result"
    }
   ],
   "source": [
    "theta_df"
   ]
  },
  {
   "cell_type": "code",
   "execution_count": 21,
   "id": "e15a8498-f558-4c12-9f9b-e56f9e13aabc",
   "metadata": {
    "tags": []
   },
   "outputs": [
    {
     "data": {
      "text/plain": [
       "<matplotlib.legend.Legend at 0x7f373b4a82d0>"
      ]
     },
     "execution_count": 21,
     "metadata": {},
     "output_type": "execute_result"
    },
    {
     "data": {
      "image/png": "[encoded data removed]",
      "text/plain": [
       "<Figure size 640x480 with 2 Axes>"
      ]
     },
     "metadata": {},
     "output_type": "display_data"
    }
   ],
   "source": [
    "# 'train_loss','val_loss', 'train_acc', 'v_acc','parameters\n",
    "\n",
    "fig, ax = plt.subplots()\n",
    "ax.plot(theta_df.alpha, theta_df.train_loss, color = 'tab:red', marker='v', label='train_loss')\n",
    "ax.plot(theta_df.alpha, theta_df.val_loss, color= 'tab:red', marker='x', linestyle='dashed', label='val_loss')\n",
    "ax.set_xlabel('alpha')\n",
    "ax.set_ylabel('loss', color='tab:red')\n",
    "\n",
    "ax2 = ax.twinx()\n",
    "ax2.plot(theta_df.alpha, theta_df.t_acc, color='tab:blue', marker = 'v', label='train_loss')\n",
    "ax2.plot(theta_df.alpha, theta_df.v_acc, color='tab:blue', marker = 'x', linestyle='dashed', label='val_loss')\n",
    "ax2.set_ylabel('accuracy', color='tab:blue')\n",
    "fig.legend(loc='upper center', ncols = 4)\n",
    "\n",
    "\n",
    "\n"
   ]
  },
  {
   "cell_type": "code",
   "execution_count": null,
   "id": "acc2cf57-5dd1-4b71-86cb-98a5764469cb",
   "metadata": {},
   "outputs": [],
   "source": []
  }
 ],
 "metadata": {
  "kernelspec": {
   "display_name": "myenv",
   "language": "python",
   "name": "myenv"
  },
  "language_info": {
   "codemirror_mode": {
    "name": "ipython",
    "version": 3
   },
   "file_extension": ".py",
   "mimetype": "text/x-python",
   "name": "python",
   "nbconvert_exporter": "python",
   "pygments_lexer": "ipython3",
   "version": "3.11.5"
  }
 },
 "nbformat": 4,
 "nbformat_minor": 5
}
