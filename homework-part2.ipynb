{
 "cells": [
  {
   "cell_type": "markdown",
   "id": "584cd50e-bdf8-4528-a453-2ff1f3fb08bd",
   "metadata": {
    "tags": []
   },
   "source": [
    "# HW 1 Part 2"
   ]
  },
  {
   "cell_type": "markdown",
   "id": "8bc9a6ed-5a5c-42d2-a391-83278737a05a",
   "metadata": {
    "tags": []
   },
   "source": [
    "## Visualize the optimization process"
   ]
  },
  {
   "cell_type": "code",
   "execution_count": 1,
   "id": "376aa734-7d1f-4701-9db6-56e2fb1eb3ce",
   "metadata": {
    "tags": []
   },
   "outputs": [],
   "source": [
    "import matplotlib.pyplot as plt\n",
    "import torch\n",
    "from torch import nn\n",
    "from torch.utils.data import TensorDataset, DataLoader\n",
    "from torchvision import datasets\n",
    "from torchvision.transforms import ToTensor\n",
    "training_ds = datasets.MNIST(root=\"data\", train=True, download=True, transform=ToTensor())\n",
    "test_ds = datasets.MNIST(root='data', train=False, download=True, transform=ToTensor())\n",
    "import pandas"
   ]
  },
  {
   "cell_type": "code",
   "execution_count": 2,
   "id": "8fad2d57-dabb-43e3-8cca-60725e9b0474",
   "metadata": {},
   "outputs": [
    {
     "data": {
      "text/plain": [
       "'cuda is available'"
      ]
     },
     "metadata": {},
     "output_type": "display_data"
    }
   ],
   "source": [
    "# Setting default device\n",
    "\n",
    "if torch.cuda.is_available():\n",
    "    device = 'cuda'\n",
    "elif torch.backends.mps.is_available():\n",
    "    device = 'mps'\n",
    "else:\n",
    "    device = 'cpu'\n",
    "\n",
    "display(f'{device} is available')\n",
    "\n",
    "dtype = torch.float\n",
    "torch.set_default_device(device)"
   ]
  },
  {
   "cell_type": "code",
   "execution_count": 3,
   "id": "7de99912-231a-4f08-86e3-2b938e977939",
   "metadata": {
    "tags": []
   },
   "outputs": [],
   "source": [
    "class NMISTNetwork3(nn.Module):\n",
    "        \"\"\"Third CNN for NMIST\"\"\"\n",
    "        def __init__(self):\n",
    "            super().__init__()\n",
    "            self.seq = nn.Sequential(\n",
    "            nn.Conv2d(1, 32, 5), \n",
    "            nn.ReLU(),\n",
    "            nn.Conv2d(32, 64, 5),\n",
    "            nn.Dropout(.25),\n",
    "            nn.ReLU(),\n",
    "            nn.Conv2d(64, 64, 5),\n",
    "            nn.Flatten(1), \n",
    "            nn.Linear(16384, 128),\n",
    "            nn.ReLU(),\n",
    "            nn.Linear(128, 10),\n",
    "            )\n",
    "        \n",
    "        def forward(self, x):\n",
    "              output = self.seq(x)\n",
    "              return output"
   ]
  },
  {
   "cell_type": "code",
   "execution_count": 4,
   "id": "5e969700-3a7d-44a8-8297-4fc904ea0a30",
   "metadata": {
    "tags": []
   },
   "outputs": [],
   "source": [
    "def nmist_train_loop(dataloader, model, loss_fn, optimize, epoch):\n",
    "    \"\"\"Training loop funciton for non-linear function\"\"\"\n",
    "    model.train()\n",
    "    num_batches = len(dataloader)\n",
    "    train_loss, correct = 0,0\n",
    "    size = len(dataloader.dataset)\n",
    "        \n",
    "    for batch, (X, y) in enumerate(dataloader):\n",
    "        X = X.to(device)\n",
    "        optimize.zero_grad()\n",
    "        y_pred = model(X)\n",
    "        loss = loss_fn(y_pred, y)\n",
    "        train_loss += loss.item()\n",
    "        correct += (y_pred.argmax(dim=1) == y).type(torch.float).sum().item()\n",
    "\n",
    "        loss.backward()\n",
    "        optimize.step()\n",
    "    train_loss /= num_batches\n",
    "    correct /=size\n",
    "    \n",
    "    grad_all = 0\n",
    "    \n",
    "    for params in model.parameters():\n",
    "        grad = 0.0\n",
    "        if params.grad is not None:\n",
    "            grad = (params.grad.cpu().data.numpy() ** 2).sum()\n",
    "        grad_all +=grad\n",
    "    \n",
    "    grad_norm = grad_all ** 0.5\n",
    "    \n",
    "    weights = torch.Tensor().to(device)\n",
    "    last_layer_wht = torch.Tensor().to(device)\n",
    "    for name, params in model.named_parameters():\n",
    "        if 'weight' in name:\n",
    "            #print(name, len(params), params.shape)\n",
    "            weights = torch.concat((weights, torch.nn.utils.parameters_to_vector(params).to(device)))\n",
    "            last_layer_wht = torch.nn.utils.parameters_to_vector(params).to(device)\n",
    "\n",
    "    return train_loss, correct, grad_all, weights, last_layer_wht\n",
    "        \n",
    "def nmist_val_loop(dataloader, model, loss_fn, epoch):\n",
    "    \"\"\"Eval loop function for non-linear function\"\"\"\n",
    "    model.eval()\n",
    "    size= len(dataloader.dataset)\n",
    "    num_batches = len(dataloader)\n",
    "    test_loss, correct = 0,0\n",
    "\n",
    "    with torch.no_grad():\n",
    "        for X,y in dataloader:\n",
    "            X = X.to(device)\n",
    "            y_pred = model(X)\n",
    "            test_loss += loss_fn(y_pred, y).item()\n",
    "            correct += (y_pred.argmax(dim=1) == y).type(torch.float).sum().item()\n",
    "    \n",
    "    test_loss /= num_batches\n",
    "    correct /=size\n",
    "    return test_loss, correct"
   ]
  },
  {
   "cell_type": "code",
   "execution_count": 5,
   "id": "4e84dee3-c17b-446e-bd7a-dbee3803175c",
   "metadata": {
    "tags": []
   },
   "outputs": [],
   "source": [
    "# nmist3 = NMISTNetwork3()\n",
    "# nmist3.load_state_dict(torch.load('nmist3_weights.pth', weights_only=True))\n",
    "df = pandas.DataFrame(columns=['epoch', 'training_event', 'weights'])"
   ]
  },
  {
   "cell_type": "code",
   "execution_count": 6,
   "id": "03fc6dff-c80f-4269-b9d7-2edb95741fbd",
   "metadata": {},
   "outputs": [
    {
     "data": {
      "text/plain": [
       "'Training event 0 Epoch 0. Train loss: 0.7419928534701467. Accuracy: 0.7759. Grad_Norm: 4.93206262588501.'"
      ]
     },
     "metadata": {},
     "output_type": "display_data"
    },
    {
     "data": {
      "text/plain": [
       "'Training event 0 Epoch 1. Train loss: 0.20712201203219593. Accuracy: 0.9380333333333334. Grad_Norm: 5.9803876876831055.'"
      ]
     },
     "metadata": {},
     "output_type": "display_data"
    },
    {
     "data": {
      "text/plain": [
       "'Training event 1 Epoch 0. Train loss: 0.7143623260501772. Accuracy: 0.7861. Grad_Norm: 5.887648105621338.'"
      ]
     },
     "metadata": {},
     "output_type": "display_data"
    },
    {
     "data": {
      "text/plain": [
       "'Training event 1 Epoch 1. Train loss: 0.20152538392692804. Accuracy: 0.9406833333333333. Grad_Norm: 5.9297356605529785.'"
      ]
     },
     "metadata": {},
     "output_type": "display_data"
    },
    {
     "data": {
      "text/plain": [
       "'Training event 2 Epoch 0. Train loss: 0.7887015289813281. Accuracy: 0.7499666666666667. Grad_Norm: 4.7480034828186035.'"
      ]
     },
     "metadata": {},
     "output_type": "display_data"
    },
    {
     "data": {
      "text/plain": [
       "'Training event 2 Epoch 1. Train loss: 0.2207901593763381. Accuracy: 0.93425. Grad_Norm: 4.217598915100098.'"
      ]
     },
     "metadata": {},
     "output_type": "display_data"
    },
    {
     "data": {
      "text/plain": [
       "'Training event 3 Epoch 0. Train loss: 0.7646597308665514. Accuracy: 0.78275. Grad_Norm: 5.581964015960693.'"
      ]
     },
     "metadata": {},
     "output_type": "display_data"
    },
    {
     "data": {
      "text/plain": [
       "'Training event 3 Epoch 1. Train loss: 0.21277328902389855. Accuracy: 0.9367166666666666. Grad_Norm: 4.467418193817139.'"
      ]
     },
     "metadata": {},
     "output_type": "display_data"
    },
    {
     "data": {
      "text/plain": [
       "'Training event 4 Epoch 0. Train loss: 0.7059597304649651. Accuracy: 0.7842333333333333. Grad_Norm: 6.060452461242676.'"
      ]
     },
     "metadata": {},
     "output_type": "display_data"
    },
    {
     "data": {
      "text/plain": [
       "'Training event 4 Epoch 1. Train loss: 0.20700914616696536. Accuracy: 0.93835. Grad_Norm: 5.451572895050049.'"
      ]
     },
     "metadata": {},
     "output_type": "display_data"
    },
    {
     "data": {
      "text/plain": [
       "'Training event 5 Epoch 0. Train loss: 0.6709614240750671. Accuracy: 0.7994333333333333. Grad_Norm: 6.920401096343994.'"
      ]
     },
     "metadata": {},
     "output_type": "display_data"
    },
    {
     "data": {
      "text/plain": [
       "'Training event 5 Epoch 1. Train loss: 0.2030413673305884. Accuracy: 0.9395833333333333. Grad_Norm: 4.960534572601318.'"
      ]
     },
     "metadata": {},
     "output_type": "display_data"
    },
    {
     "data": {
      "text/plain": [
       "'Training event 6 Epoch 0. Train loss: 0.7453202074952423. Accuracy: 0.7902833333333333. Grad_Norm: 6.395322799682617.'"
      ]
     },
     "metadata": {},
     "output_type": "display_data"
    },
    {
     "data": {
      "text/plain": [
       "'Training event 6 Epoch 1. Train loss: 0.19840901545248926. Accuracy: 0.9410333333333334. Grad_Norm: 5.618244171142578.'"
      ]
     },
     "metadata": {},
     "output_type": "display_data"
    },
    {
     "data": {
      "text/plain": [
       "'Training event 7 Epoch 0. Train loss: 0.6253696630429476. Accuracy: 0.8224833333333333. Grad_Norm: 6.615678787231445.'"
      ]
     },
     "metadata": {},
     "output_type": "display_data"
    },
    {
     "data": {
      "text/plain": [
       "'Training event 7 Epoch 1. Train loss: 0.20428129441570492. Accuracy: 0.9389333333333333. Grad_Norm: 9.80148696899414.'"
      ]
     },
     "metadata": {},
     "output_type": "display_data"
    }
   ],
   "source": [
    "df = pandas.DataFrame(columns=['epoch', 'loss', 'accuracy', 'grad_norm'])\n",
    "\n",
    "epoch_tracker = dict()\n",
    "last_weight = dict()\n",
    "\n",
    "for training_event in range(8):\n",
    "    nmist3 = NMISTNetwork3()\n",
    "    \n",
    "    loss_fn = torch.nn.CrossEntropyLoss()\n",
    "    \n",
    "    lr = 1.5e-2\n",
    "    batch_size=150\n",
    "    max_epochs = 25\n",
    "    \n",
    "    training_dl = DataLoader(training_ds, batch_size=batch_size)\n",
    "    test_dl = DataLoader(test_ds, batch_size=batch_size)\n",
    "    optimizer = torch.optim.SGD(nmist3.parameters(), lr=lr)\n",
    "\n",
    "    \n",
    "    for epoch in range(max_epochs):\n",
    "        loss, accuracy, grad_norm, weights, last_layer_wht = nmist_train_loop(training_dl, nmist3, loss_fn, optimizer, epoch)\n",
    "        if training_event ==0:\n",
    "            row = pandas.DataFrame([[epoch, loss, accuracy, grad_norm]], columns=['epoch','loss','accuracy', 'grad_norm'])\n",
    "            if df.empty:\n",
    "                df = row\n",
    "            else:\n",
    "                df = pandas.concat([df, row], ignore_index=True)\n",
    "        \n",
    "        with torch.no_grad():\n",
    "            if epoch%3==0:\n",
    "                if epoch in epoch_tracker:\n",
    "                    epoch_tracker[epoch] = torch.concat((epoch_tracker[epoch], weights.unsqueeze(-1).T))\n",
    "                else:\n",
    "                    epoch_tracker[epoch] = weights.unsqueeze(-1).T\n",
    "                    \n",
    "                if epoch in last_weight:\n",
    "                    last_weight[epoch] = torch.concat((last_weight[epoch], last_layer_wht.unsqueeze(-1).T))\n",
    "                else:\n",
    "                    last_weight[epoch] = last_layer_wht.unsqueeze(-1).T\n",
    "                \n",
    "            display(f\"Training event {training_event} Epoch {epoch}. Train loss: {loss}. Accuracy: {accuracy}. Grad_Norm: {grad_norm}.\")\n",
    "                                                   \n",
    "        \n",
    "    "
   ]
  },
  {
   "cell_type": "code",
   "execution_count": 7,
   "id": "0ed9659e-a520-4aa6-b922-91248343b31b",
   "metadata": {
    "tags": []
   },
   "outputs": [
    {
     "data": {
      "text/plain": [
       "tensor([[ 0.0751,  0.0699, -0.1225,  ..., -0.0774, -0.0310,  0.0450],\n",
       "        [-0.1891, -0.1198,  0.0129,  ...,  0.0383,  0.0274,  0.0352],\n",
       "        [ 0.0957,  0.2056, -0.0303,  ...,  0.0251,  0.0515, -0.0596],\n",
       "        ...,\n",
       "        [ 0.0781,  0.0882, -0.0245,  ...,  0.0785, -0.0561,  0.0671],\n",
       "        [ 0.0264, -0.0935,  0.0029,  ...,  0.0122,  0.0321,  0.0715],\n",
       "        [ 0.1505, -0.0990, -0.0110,  ..., -0.0729,  0.0517,  0.0879]],\n",
       "       device='cuda:0')"
      ]
     },
     "execution_count": 7,
     "metadata": {},
     "output_type": "execute_result"
    }
   ],
   "source": [
    "epoch_tracker[0]"
   ]
  },
  {
   "cell_type": "code",
   "execution_count": 9,
   "id": "deeca378-75ac-4b2a-82d1-d5bc8639f717",
   "metadata": {
    "tags": []
   },
   "outputs": [
    {
     "data": {
      "image/png": "[encoded data removed]",
      "text/plain": [
       "<Figure size 640x480 with 1 Axes>"
      ]
     },
     "metadata": {},
     "output_type": "display_data"
    },
    {
     "data": {
      "image/png": "[encoded data removed]",
      "text/plain": [
       "<Figure size 640x480 with 1 Axes>"
      ]
     },
     "metadata": {},
     "output_type": "display_data"
    }
   ],
   "source": [
    "#torch.concat( (torch.stack((weights, weights)), weights.unsqueeze(-1).T))\n",
    "#with torch.no_grad():\n",
    "#    display(weights.unsqueeze(-1).T.shape)\n",
    "fig, ax = plt.subplots()\n",
    "for key in epoch_tracker:\n",
    "    with torch.no_grad():\n",
    "        U,S,V = torch.pca_lowrank(epoch_tracker[key], center=True, q=2)\n",
    "        U=U.detach().cpu().numpy()\n",
    "        ax.scatter(U.T[0], U.T[1], label=key)\n",
    "ax.legend()\n",
    "ax.grid(True)\n",
    "plt.show()\n",
    "\n",
    "fig2, ax2 = plt.subplots()\n",
    "for key in last_weight:\n",
    "    with torch.no_grad():\n",
    "        U,S,V = torch.pca_lowrank(last_weight[key], center=True, q=2)\n",
    "        U=U.detach().cpu().numpy()\n",
    "        ax2.scatter(U.T[0], U.T[1], label=key)\n",
    "ax2.legend()\n",
    "ax2.grid(True)\n",
    "plt.show()"
   ]
  },
  {
   "cell_type": "code",
   "execution_count": 12,
   "id": "a92f8671-645b-4144-b4bc-7e045099a790",
   "metadata": {
    "tags": []
   },
   "outputs": [
    {
     "data": {
      "text/plain": [
       "array([<Axes: xlabel='epoch'>, <Axes: xlabel='epoch'>], dtype=object)"
      ]
     },
     "execution_count": 12,
     "metadata": {},
     "output_type": "execute_result"
    },
    {
     "data": {
      "image/png": "[encoded data removed]",
      "text/plain": [
       "<Figure size 640x480 with 2 Axes>"
      ]
     },
     "metadata": {},
     "output_type": "display_data"
    }
   ],
   "source": [
    "df.plot(x='epoch', y=['loss','grad_norm'], subplots=True)"
   ]
  }
 ],
 "metadata": {
  "kernelspec": {
   "display_name": "myenv",
   "language": "python",
   "name": "myenv"
  },
  "language_info": {
   "codemirror_mode": {
    "name": "ipython",
    "version": 3
   },
   "file_extension": ".py",
   "mimetype": "text/x-python",
   "name": "python",
   "nbconvert_exporter": "python",
   "pygments_lexer": "ipython3",
   "version": "3.11.5"
  }
 },
 "nbformat": 4,
 "nbformat_minor": 5
}
