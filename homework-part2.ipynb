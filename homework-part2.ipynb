{
 "cells": [
  {
   "cell_type": "markdown",
   "id": "584cd50e-bdf8-4528-a453-2ff1f3fb08bd",
   "metadata": {
    "tags": []
   },
   "source": [
    "# HW 1 Part 2"
   ]
  },
  {
   "cell_type": "markdown",
   "id": "8bc9a6ed-5a5c-42d2-a391-83278737a05a",
   "metadata": {
    "tags": []
   },
   "source": [
    "## Visualize the optimization process"
   ]
  },
  {
   "cell_type": "code",
   "execution_count": 1,
   "id": "376aa734-7d1f-4701-9db6-56e2fb1eb3ce",
   "metadata": {
    "tags": []
   },
   "outputs": [],
   "source": [
    "import matplotlib.pyplot as plt\n",
    "import torch\n",
    "from torch import nn\n",
    "from torch.utils.data import TensorDataset, DataLoader\n",
    "from torchvision import datasets\n",
    "from torchvision.transforms import ToTensor\n",
    "training_ds = datasets.MNIST(root=\"data\", train=True, download=True, transform=ToTensor())\n",
    "test_ds = datasets.MNIST(root='data', train=False, download=True, transform=ToTensor())\n",
    "import pandas"
   ]
  },
  {
   "cell_type": "code",
   "execution_count": 2,
   "id": "8fad2d57-dabb-43e3-8cca-60725e9b0474",
   "metadata": {},
   "outputs": [
    {
     "data": {
      "text/plain": [
       "'cuda is available'"
      ]
     },
     "metadata": {},
     "output_type": "display_data"
    }
   ],
   "source": [
    "# Setting default device\n",
    "\n",
    "if torch.cuda.is_available():\n",
    "    device = 'cuda'\n",
    "elif torch.backends.mps.is_available():\n",
    "    device = 'mps'\n",
    "else:\n",
    "    device = 'cpu'\n",
    "\n",
    "display(f'{device} is available')\n",
    "\n",
    "dtype = torch.float\n",
    "torch.set_default_device(device)"
   ]
  },
  {
   "cell_type": "code",
   "execution_count": 3,
   "id": "7de99912-231a-4f08-86e3-2b938e977939",
   "metadata": {
    "tags": []
   },
   "outputs": [],
   "source": [
    "class NMISTNetwork1(nn.Module):\n",
    "        \"\"\"First CNN for NMIST\"\"\"\n",
    "        def __init__(self):\n",
    "            super().__init__()\n",
    "            self.seq = nn.Sequential(\n",
    "            nn.Conv2d(1, 32, 5), \n",
    "            nn.ReLU(),\n",
    "            nn.Flatten(1), \n",
    "            nn.Linear(18432, 128),\n",
    "            nn.Linear(128, 10),\n",
    "            )\n",
    "        \n",
    "        def forward(self, x):\n",
    "              output = self.seq(x)\n",
    "              return output"
   ]
  },
  {
   "cell_type": "code",
   "execution_count": 4,
   "id": "5e969700-3a7d-44a8-8297-4fc904ea0a30",
   "metadata": {
    "tags": []
   },
   "outputs": [],
   "source": [
    "def nmist_train_loop(dataloader, model, loss_fn, optimize, epoch):\n",
    "    \"\"\"Training loop funciton for non-linear function\"\"\"\n",
    "    model.train()\n",
    "    num_batches = len(dataloader)\n",
    "    train_loss, correct = 0,0\n",
    "    size = len(dataloader.dataset)\n",
    "        \n",
    "    for batch, (X, y) in enumerate(dataloader):\n",
    "        X = X.to(device)\n",
    "        optimize.zero_grad()\n",
    "        y_pred = model(X)\n",
    "        loss = loss_fn(y_pred, y)\n",
    "        train_loss += loss.item()\n",
    "        correct += (y_pred.argmax(dim=1) == y).type(torch.float).sum().item()\n",
    "        loss.backward()\n",
    "\n",
    "        grad_all = 0\n",
    "        for params in model.parameters():\n",
    "            grad = 0.0\n",
    "            if params.grad is not None:\n",
    "                grad = params.grad.detach().cpu().data.norm(2)\n",
    "                grad_all += grad.item() ** 2\n",
    "                #grad = (params.grad.cpu().data.numpy() ** 2).sum()\n",
    "            #grad_all +=grad\n",
    "        grad_norm = grad_all ** 0.5\n",
    "        optimize.step()\n",
    "    train_loss /= num_batches\n",
    "    correct /=size\n",
    "        \n",
    "    weights = torch.Tensor().to(device)\n",
    "    last_layer_wht = torch.Tensor().to(device)\n",
    "    for name, params in model.named_parameters():\n",
    "        if 'weight' in name:\n",
    "            #print(name, len(params), params.shape)\n",
    "            weights = torch.concat((weights, torch.nn.utils.parameters_to_vector(params).to(device)))\n",
    "            last_layer_wht = torch.nn.utils.parameters_to_vector(params).to(device)\n",
    "\n",
    "    return train_loss, correct, grad_norm, weights, last_layer_wht\n",
    "        \n",
    "def nmist_val_loop(dataloader, model, loss_fn, epoch):\n",
    "    \"\"\"Eval loop function for non-linear function\"\"\"\n",
    "    model.eval()\n",
    "    size= len(dataloader.dataset)\n",
    "    num_batches = len(dataloader)\n",
    "    test_loss, correct = 0,0\n",
    "\n",
    "    with torch.no_grad():\n",
    "        for X,y in dataloader:\n",
    "            X = X.to(device)\n",
    "            y_pred = model(X)\n",
    "            test_loss += loss_fn(y_pred, y).item()\n",
    "            correct += (y_pred.argmax(dim=1) == y).type(torch.float).sum().item()\n",
    "    \n",
    "    test_loss /= num_batches\n",
    "    correct /=size\n",
    "    return test_loss, correct"
   ]
  },
  {
   "cell_type": "code",
   "execution_count": 5,
   "id": "4e84dee3-c17b-446e-bd7a-dbee3803175c",
   "metadata": {
    "tags": []
   },
   "outputs": [],
   "source": [
    "# nmist3 = NMISTNetwork3()\n",
    "# nmist3.load_state_dict(torch.load('nmist3_weights.pth', weights_only=True))\n",
    "df = pandas.DataFrame(columns=['epoch', 'training_event', 'weights'])"
   ]
  },
  {
   "cell_type": "code",
   "execution_count": 6,
   "id": "03fc6dff-c80f-4269-b9d7-2edb95741fbd",
   "metadata": {},
   "outputs": [
    {
     "data": {
      "text/plain": [
       "'Training event 0 Epoch 0. Train loss: 0.6196342055127024. Accuracy: 0.8499833333333333. Grad_Norm: 2.009154821600593.'"
      ]
     },
     "metadata": {},
     "output_type": "display_data"
    },
    {
     "data": {
      "text/plain": [
       "'Training event 0 Epoch 1. Train loss: 0.32667160818353297. Accuracy: 0.9051166666666667. Grad_Norm: 1.999734685302314.'"
      ]
     },
     "metadata": {},
     "output_type": "display_data"
    },
    {
     "data": {
      "text/plain": [
       "'Training event 0 Epoch 2. Train loss: 0.2950356697104871. Accuracy: 0.9145333333333333. Grad_Norm: 1.89867054259575.'"
      ]
     },
     "metadata": {},
     "output_type": "display_data"
    },
    {
     "data": {
      "text/plain": [
       "'Training event 0 Epoch 3. Train loss: 0.2700532100815326. Accuracy: 0.92295. Grad_Norm: 1.749964858341028.'"
      ]
     },
     "metadata": {},
     "output_type": "display_data"
    },
    {
     "data": {
      "text/plain": [
       "'Training event 0 Epoch 4. Train loss: 0.245593881290406. Accuracy: 0.9298666666666666. Grad_Norm: 1.570215340516263.'"
      ]
     },
     "metadata": {},
     "output_type": "display_data"
    },
    {
     "data": {
      "text/plain": [
       "'Training event 0 Epoch 5. Train loss: 0.22056145844981073. Accuracy: 0.9377333333333333. Grad_Norm: 1.3887793798745152.'"
      ]
     },
     "metadata": {},
     "output_type": "display_data"
    },
    {
     "data": {
      "text/plain": [
       "'Training event 0 Epoch 6. Train loss: 0.19570406420622022. Accuracy: 0.9444833333333333. Grad_Norm: 1.2354816887360782.'"
      ]
     },
     "metadata": {},
     "output_type": "display_data"
    },
    {
     "data": {
      "text/plain": [
       "'Training event 0 Epoch 7. Train loss: 0.17245503864716738. Accuracy: 0.9510166666666666. Grad_Norm: 1.1251495037160908.'"
      ]
     },
     "metadata": {},
     "output_type": "display_data"
    },
    {
     "data": {
      "text/plain": [
       "'Training event 0 Epoch 8. Train loss: 0.15206688502803445. Accuracy: 0.95765. Grad_Norm: 1.0534831884167386.'"
      ]
     },
     "metadata": {},
     "output_type": "display_data"
    },
    {
     "data": {
      "text/plain": [
       "'Training event 0 Epoch 9. Train loss: 0.13504722378216683. Accuracy: 0.9627333333333333. Grad_Norm: 1.0084687614568906.'"
      ]
     },
     "metadata": {},
     "output_type": "display_data"
    },
    {
     "data": {
      "text/plain": [
       "'Training event 0 Epoch 10. Train loss: 0.12119553440250456. Accuracy: 0.9664833333333334. Grad_Norm: 0.9818023341259157.'"
      ]
     },
     "metadata": {},
     "output_type": "display_data"
    },
    {
     "data": {
      "text/plain": [
       "'Training event 0 Epoch 11. Train loss: 0.10999507867498323. Accuracy: 0.9695333333333334. Grad_Norm: 0.9673497426071761.'"
      ]
     },
     "metadata": {},
     "output_type": "display_data"
    },
    {
     "data": {
      "text/plain": [
       "'Training event 0 Epoch 12. Train loss: 0.10089096121257171. Accuracy: 0.9720833333333333. Grad_Norm: 0.9611073775315067.'"
      ]
     },
     "metadata": {},
     "output_type": "display_data"
    },
    {
     "data": {
      "text/plain": [
       "'Training event 0 Epoch 13. Train loss: 0.0934026269428432. Accuracy: 0.9741166666666666. Grad_Norm: 0.960002463290072.'"
      ]
     },
     "metadata": {},
     "output_type": "display_data"
    },
    {
     "data": {
      "text/plain": [
       "'Training event 0 Epoch 14. Train loss: 0.08714881448308005. Accuracy: 0.9758166666666667. Grad_Norm: 0.9612395034816938.'"
      ]
     },
     "metadata": {},
     "output_type": "display_data"
    },
    {
     "data": {
      "text/plain": [
       "'Training event 0 Epoch 15. Train loss: 0.08184610119555145. Accuracy: 0.9771. Grad_Norm: 0.9642963888036843.'"
      ]
     },
     "metadata": {},
     "output_type": "display_data"
    },
    {
     "data": {
      "text/plain": [
       "'Training event 0 Epoch 16. Train loss: 0.07729080623714253. Accuracy: 0.9784166666666667. Grad_Norm: 0.967236162384129.'"
      ]
     },
     "metadata": {},
     "output_type": "display_data"
    },
    {
     "data": {
      "text/plain": [
       "'Training event 0 Epoch 17. Train loss: 0.07332849367056042. Accuracy: 0.9797166666666667. Grad_Norm: 0.970100997200219.'"
      ]
     },
     "metadata": {},
     "output_type": "display_data"
    },
    {
     "data": {
      "text/plain": [
       "'Training event 0 Epoch 18. Train loss: 0.0698418764269445. Accuracy: 0.98065. Grad_Norm: 0.9727464237135905.'"
      ]
     },
     "metadata": {},
     "output_type": "display_data"
    },
    {
     "data": {
      "text/plain": [
       "'Training event 0 Epoch 19. Train loss: 0.06674366711522453. Accuracy: 0.9815666666666667. Grad_Norm: 0.9742235000737419.'"
      ]
     },
     "metadata": {},
     "output_type": "display_data"
    },
    {
     "data": {
      "text/plain": [
       "'Training event 0 Epoch 20. Train loss: 0.06396557710599154. Accuracy: 0.9821666666666666. Grad_Norm: 0.9759695855791655.'"
      ]
     },
     "metadata": {},
     "output_type": "display_data"
    },
    {
     "data": {
      "text/plain": [
       "'Training event 0 Epoch 21. Train loss: 0.06145427445531823. Accuracy: 0.9829666666666667. Grad_Norm: 0.9764614575376491.'"
      ]
     },
     "metadata": {},
     "output_type": "display_data"
    },
    {
     "data": {
      "text/plain": [
       "'Training event 0 Epoch 22. Train loss: 0.05916941000265069. Accuracy: 0.9832666666666666. Grad_Norm: 0.9773599168155571.'"
      ]
     },
     "metadata": {},
     "output_type": "display_data"
    },
    {
     "data": {
      "text/plain": [
       "'Training event 0 Epoch 23. Train loss: 0.05707711427472532. Accuracy: 0.9839166666666667. Grad_Norm: 0.9774477654419553.'"
      ]
     },
     "metadata": {},
     "output_type": "display_data"
    },
    {
     "data": {
      "text/plain": [
       "'Training event 0 Epoch 24. Train loss: 0.055146649513626474. Accuracy: 0.9844833333333334. Grad_Norm: 0.9766592110633168.'"
      ]
     },
     "metadata": {},
     "output_type": "display_data"
    },
    {
     "data": {
      "text/plain": [
       "'Training event 0 Epoch 25. Train loss: 0.0533570856845472. Accuracy: 0.9849166666666667. Grad_Norm: 0.9768682238655703.'"
      ]
     },
     "metadata": {},
     "output_type": "display_data"
    },
    {
     "data": {
      "text/plain": [
       "'Training event 0 Epoch 26. Train loss: 0.05168935949797742. Accuracy: 0.9853833333333334. Grad_Norm: 0.9769290258703598.'"
      ]
     },
     "metadata": {},
     "output_type": "display_data"
    },
    {
     "data": {
      "text/plain": [
       "'Training event 0 Epoch 27. Train loss: 0.050127906197449196. Accuracy: 0.9857833333333333. Grad_Norm: 0.9664767471688814.'"
      ]
     },
     "metadata": {},
     "output_type": "display_data"
    },
    {
     "data": {
      "text/plain": [
       "'Training event 0 Epoch 28. Train loss: 0.04866370098199695. Accuracy: 0.9862. Grad_Norm: 0.967319773672113.'"
      ]
     },
     "metadata": {},
     "output_type": "display_data"
    },
    {
     "data": {
      "text/plain": [
       "'Training event 0 Epoch 29. Train loss: 0.0472848587599583. Accuracy: 0.9866666666666667. Grad_Norm: 0.9678367305127055.'"
      ]
     },
     "metadata": {},
     "output_type": "display_data"
    },
    {
     "data": {
      "text/plain": [
       "'Training event 1 Epoch 0. Train loss: 0.6030321333184838. Accuracy: 0.8524666666666667. Grad_Norm: 1.9786005783907739.'"
      ]
     },
     "metadata": {},
     "output_type": "display_data"
    },
    {
     "data": {
      "text/plain": [
       "'Training event 1 Epoch 1. Train loss: 0.3269172725081444. Accuracy: 0.90505. Grad_Norm: 2.0485649043179706.'"
      ]
     },
     "metadata": {},
     "output_type": "display_data"
    },
    {
     "data": {
      "text/plain": [
       "'Training event 1 Epoch 2. Train loss: 0.29581555348820987. Accuracy: 0.9144333333333333. Grad_Norm: 1.9928619534403027.'"
      ]
     },
     "metadata": {},
     "output_type": "display_data"
    },
    {
     "data": {
      "text/plain": [
       "'Training event 1 Epoch 3. Train loss: 0.2704907939955592. Accuracy: 0.92255. Grad_Norm: 1.8738150901870423.'"
      ]
     },
     "metadata": {},
     "output_type": "display_data"
    },
    {
     "data": {
      "text/plain": [
       "'Training event 1 Epoch 4. Train loss: 0.24552352040074765. Accuracy: 0.9307333333333333. Grad_Norm: 1.711420599303861.'"
      ]
     },
     "metadata": {},
     "output_type": "display_data"
    },
    {
     "data": {
      "text/plain": [
       "'Training event 1 Epoch 5. Train loss: 0.22054720951244236. Accuracy: 0.9381666666666667. Grad_Norm: 1.530440066555834.'"
      ]
     },
     "metadata": {},
     "output_type": "display_data"
    },
    {
     "data": {
      "text/plain": [
       "'Training event 1 Epoch 6. Train loss: 0.19668047594372184. Accuracy: 0.9448833333333333. Grad_Norm: 1.3731532023269253.'"
      ]
     },
     "metadata": {},
     "output_type": "display_data"
    },
    {
     "data": {
      "text/plain": [
       "'Training event 1 Epoch 7. Train loss: 0.17514716081786902. Accuracy: 0.9509. Grad_Norm: 1.2616373316275158.'"
      ]
     },
     "metadata": {},
     "output_type": "display_data"
    },
    {
     "data": {
      "text/plain": [
       "'Training event 1 Epoch 8. Train loss: 0.15648234044667333. Accuracy: 0.95605. Grad_Norm: 1.1911119618960309.'"
      ]
     },
     "metadata": {},
     "output_type": "display_data"
    },
    {
     "data": {
      "text/plain": [
       "'Training event 1 Epoch 9. Train loss: 0.14071321526076644. Accuracy: 0.9613. Grad_Norm: 1.1420700780455815.'"
      ]
     },
     "metadata": {},
     "output_type": "display_data"
    },
    {
     "data": {
      "text/plain": [
       "'Training event 1 Epoch 10. Train loss: 0.1275614326656796. Accuracy: 0.9647. Grad_Norm: 1.105637923621906.'"
      ]
     },
     "metadata": {},
     "output_type": "display_data"
    },
    {
     "data": {
      "text/plain": [
       "'Training event 1 Epoch 11. Train loss: 0.11657792461337521. Accuracy: 0.9680666666666666. Grad_Norm: 1.0815348276716357.'"
      ]
     },
     "metadata": {},
     "output_type": "display_data"
    },
    {
     "data": {
      "text/plain": [
       "'Training event 1 Epoch 12. Train loss: 0.10732695061946287. Accuracy: 0.9704. Grad_Norm: 1.0620981939551037.'"
      ]
     },
     "metadata": {},
     "output_type": "display_data"
    },
    {
     "data": {
      "text/plain": [
       "'Training event 1 Epoch 13. Train loss: 0.09945946178399026. Accuracy: 0.97265. Grad_Norm: 1.0479988829058766.'"
      ]
     },
     "metadata": {},
     "output_type": "display_data"
    },
    {
     "data": {
      "text/plain": [
       "'Training event 1 Epoch 14. Train loss: 0.0926863473514095. Accuracy: 0.97435. Grad_Norm: 1.0380906988214156.'"
      ]
     },
     "metadata": {},
     "output_type": "display_data"
    },
    {
     "data": {
      "text/plain": [
       "'Training event 1 Epoch 15. Train loss: 0.08680582232540474. Accuracy: 0.9759166666666667. Grad_Norm: 1.0285847323831199.'"
      ]
     },
     "metadata": {},
     "output_type": "display_data"
    },
    {
     "data": {
      "text/plain": [
       "'Training event 1 Epoch 16. Train loss: 0.08166668773395941. Accuracy: 0.9772333333333333. Grad_Norm: 1.0223332672127878.'"
      ]
     },
     "metadata": {},
     "output_type": "display_data"
    },
    {
     "data": {
      "text/plain": [
       "'Training event 1 Epoch 17. Train loss: 0.07714568527298979. Accuracy: 0.9786166666666667. Grad_Norm: 1.0168966711599858.'"
      ]
     },
     "metadata": {},
     "output_type": "display_data"
    },
    {
     "data": {
      "text/plain": [
       "'Training event 1 Epoch 18. Train loss: 0.07314392606727779. Accuracy: 0.9798333333333333. Grad_Norm: 1.012547334331878.'"
      ]
     },
     "metadata": {},
     "output_type": "display_data"
    },
    {
     "data": {
      "text/plain": [
       "'Training event 1 Epoch 19. Train loss: 0.06958015052019619. Accuracy: 0.9807666666666667. Grad_Norm: 1.0090186070167737.'"
      ]
     },
     "metadata": {},
     "output_type": "display_data"
    },
    {
     "data": {
      "text/plain": [
       "'Training event 1 Epoch 20. Train loss: 0.0663861669274047. Accuracy: 0.9817. Grad_Norm: 1.0049100335487209.'"
      ]
     },
     "metadata": {},
     "output_type": "display_data"
    },
    {
     "data": {
      "text/plain": [
       "'Training event 1 Epoch 21. Train loss: 0.06350744527182542. Accuracy: 0.9825666666666667. Grad_Norm: 1.0042416211696819.'"
      ]
     },
     "metadata": {},
     "output_type": "display_data"
    },
    {
     "data": {
      "text/plain": [
       "'Training event 1 Epoch 22. Train loss: 0.0608980524726212. Accuracy: 0.9835. Grad_Norm: 1.0005188077047458.'"
      ]
     },
     "metadata": {},
     "output_type": "display_data"
    },
    {
     "data": {
      "text/plain": [
       "'Training event 1 Epoch 23. Train loss: 0.05851746981614269. Accuracy: 0.9842166666666666. Grad_Norm: 0.9971395479775117.'"
      ]
     },
     "metadata": {},
     "output_type": "display_data"
    },
    {
     "data": {
      "text/plain": [
       "'Training event 1 Epoch 24. Train loss: 0.05633546299301088. Accuracy: 0.9847. Grad_Norm: 0.9939783318948024.'"
      ]
     },
     "metadata": {},
     "output_type": "display_data"
    },
    {
     "data": {
      "text/plain": [
       "'Training event 1 Epoch 25. Train loss: 0.05432387111126445. Accuracy: 0.9852166666666666. Grad_Norm: 0.9903265228621817.'"
      ]
     },
     "metadata": {},
     "output_type": "display_data"
    },
    {
     "data": {
      "text/plain": [
       "'Training event 1 Epoch 26. Train loss: 0.052462012686301025. Accuracy: 0.9858. Grad_Norm: 0.9888736465473191.'"
      ]
     },
     "metadata": {},
     "output_type": "display_data"
    },
    {
     "data": {
      "text/plain": [
       "'Training event 1 Epoch 27. Train loss: 0.05073196286801249. Accuracy: 0.9862166666666666. Grad_Norm: 0.9864860117893096.'"
      ]
     },
     "metadata": {},
     "output_type": "display_data"
    },
    {
     "data": {
      "text/plain": [
       "'Training event 1 Epoch 28. Train loss: 0.04911644173262175. Accuracy: 0.9864666666666667. Grad_Norm: 0.9843842646518296.'"
      ]
     },
     "metadata": {},
     "output_type": "display_data"
    },
    {
     "data": {
      "text/plain": [
       "'Training event 1 Epoch 29. Train loss: 0.047602823033812455. Accuracy: 0.9869. Grad_Norm: 0.982949661175353.'"
      ]
     },
     "metadata": {},
     "output_type": "display_data"
    },
    {
     "data": {
      "text/plain": [
       "'Training event 2 Epoch 0. Train loss: 0.6476744548976421. Accuracy: 0.8429666666666666. Grad_Norm: 1.9260865157993192.'"
      ]
     },
     "metadata": {},
     "output_type": "display_data"
    },
    {
     "data": {
      "text/plain": [
       "'Training event 2 Epoch 1. Train loss: 0.329283832218498. Accuracy: 0.9032333333333333. Grad_Norm: 1.9201410208131453.'"
      ]
     },
     "metadata": {},
     "output_type": "display_data"
    },
    {
     "data": {
      "text/plain": [
       "'Training event 2 Epoch 2. Train loss: 0.2977700558491051. Accuracy: 0.9129833333333334. Grad_Norm: 1.8653572953775985.'"
      ]
     },
     "metadata": {},
     "output_type": "display_data"
    },
    {
     "data": {
      "text/plain": [
       "'Training event 2 Epoch 3. Train loss: 0.2725524568464607. Accuracy: 0.9216666666666666. Grad_Norm: 1.7809479003283266.'"
      ]
     },
     "metadata": {},
     "output_type": "display_data"
    },
    {
     "data": {
      "text/plain": [
       "'Training event 2 Epoch 4. Train loss: 0.24713174687698483. Accuracy: 0.9298666666666666. Grad_Norm: 1.6662781052139701.'"
      ]
     },
     "metadata": {},
     "output_type": "display_data"
    },
    {
     "data": {
      "text/plain": [
       "'Training event 2 Epoch 5. Train loss: 0.22067517654038965. Accuracy: 0.93745. Grad_Norm: 1.5224377126571356.'"
      ]
     },
     "metadata": {},
     "output_type": "display_data"
    },
    {
     "data": {
      "text/plain": [
       "'Training event 2 Epoch 6. Train loss: 0.1945046284236014. Accuracy: 0.94515. Grad_Norm: 1.3741726893447408.'"
      ]
     },
     "metadata": {},
     "output_type": "display_data"
    },
    {
     "data": {
      "text/plain": [
       "'Training event 2 Epoch 7. Train loss: 0.17052215162664652. Accuracy: 0.9516333333333333. Grad_Norm: 1.2573201944833323.'"
      ]
     },
     "metadata": {},
     "output_type": "display_data"
    },
    {
     "data": {
      "text/plain": [
       "'Training event 2 Epoch 8. Train loss: 0.14996624754276128. Accuracy: 0.9582333333333334. Grad_Norm: 1.1789242770337973.'"
      ]
     },
     "metadata": {},
     "output_type": "display_data"
    },
    {
     "data": {
      "text/plain": [
       "'Training event 2 Epoch 9. Train loss: 0.13309656145982443. Accuracy: 0.96255. Grad_Norm: 1.1342483073450862.'"
      ]
     },
     "metadata": {},
     "output_type": "display_data"
    },
    {
     "data": {
      "text/plain": [
       "'Training event 2 Epoch 10. Train loss: 0.11946552994661033. Accuracy: 0.96675. Grad_Norm: 1.1066762433424113.'"
      ]
     },
     "metadata": {},
     "output_type": "display_data"
    },
    {
     "data": {
      "text/plain": [
       "'Training event 2 Epoch 11. Train loss: 0.10845687777269632. Accuracy: 0.97015. Grad_Norm: 1.0903910732014372.'"
      ]
     },
     "metadata": {},
     "output_type": "display_data"
    },
    {
     "data": {
      "text/plain": [
       "'Training event 2 Epoch 12. Train loss: 0.09947965799132362. Accuracy: 0.97255. Grad_Norm: 1.0791783644443755.'"
      ]
     },
     "metadata": {},
     "output_type": "display_data"
    },
    {
     "data": {
      "text/plain": [
       "'Training event 2 Epoch 13. Train loss: 0.09205459692515433. Accuracy: 0.9748666666666667. Grad_Norm: 1.074488064837452.'"
      ]
     },
     "metadata": {},
     "output_type": "display_data"
    },
    {
     "data": {
      "text/plain": [
       "'Training event 2 Epoch 14. Train loss: 0.08581933774985373. Accuracy: 0.9766. Grad_Norm: 1.0720908808664373.'"
      ]
     },
     "metadata": {},
     "output_type": "display_data"
    },
    {
     "data": {
      "text/plain": [
       "'Training event 2 Epoch 15. Train loss: 0.08050647098571062. Accuracy: 0.9781166666666666. Grad_Norm: 1.0683763663000625.'"
      ]
     },
     "metadata": {},
     "output_type": "display_data"
    },
    {
     "data": {
      "text/plain": [
       "'Training event 2 Epoch 16. Train loss: 0.07592577870818787. Accuracy: 0.9791333333333333. Grad_Norm: 1.0633975686545618.'"
      ]
     },
     "metadata": {},
     "output_type": "display_data"
    },
    {
     "data": {
      "text/plain": [
       "'Training event 2 Epoch 17. Train loss: 0.07193007384659722. Accuracy: 0.9802833333333333. Grad_Norm: 1.0615903793721218.'"
      ]
     },
     "metadata": {},
     "output_type": "display_data"
    },
    {
     "data": {
      "text/plain": [
       "'Training event 2 Epoch 18. Train loss: 0.06841075757867657. Accuracy: 0.9810666666666666. Grad_Norm: 1.0577829545028838.'"
      ]
     },
     "metadata": {},
     "output_type": "display_data"
    },
    {
     "data": {
      "text/plain": [
       "'Training event 2 Epoch 19. Train loss: 0.06527877108077519. Accuracy: 0.9819. Grad_Norm: 1.0530807986483788.'"
      ]
     },
     "metadata": {},
     "output_type": "display_data"
    },
    {
     "data": {
      "text/plain": [
       "'Training event 2 Epoch 20. Train loss: 0.06246935548842884. Accuracy: 0.9827. Grad_Norm: 1.0469090183242136.'"
      ]
     },
     "metadata": {},
     "output_type": "display_data"
    },
    {
     "data": {
      "text/plain": [
       "'Training event 2 Epoch 21. Train loss: 0.05993089382187464. Accuracy: 0.9834833333333334. Grad_Norm: 1.043521960974193.'"
      ]
     },
     "metadata": {},
     "output_type": "display_data"
    },
    {
     "data": {
      "text/plain": [
       "'Training event 2 Epoch 22. Train loss: 0.05762512798071839. Accuracy: 0.984. Grad_Norm: 1.0368518662054742.'"
      ]
     },
     "metadata": {},
     "output_type": "display_data"
    },
    {
     "data": {
      "text/plain": [
       "'Training event 2 Epoch 23. Train loss: 0.055516006774269044. Accuracy: 0.98465. Grad_Norm: 1.0318534672260926.'"
      ]
     },
     "metadata": {},
     "output_type": "display_data"
    },
    {
     "data": {
      "text/plain": [
       "'Training event 2 Epoch 24. Train loss: 0.053576776169938965. Accuracy: 0.9852. Grad_Norm: 1.0248521399622474.'"
      ]
     },
     "metadata": {},
     "output_type": "display_data"
    },
    {
     "data": {
      "text/plain": [
       "'Training event 2 Epoch 25. Train loss: 0.051785505816806104. Accuracy: 0.9856833333333334. Grad_Norm: 1.0224000961047615.'"
      ]
     },
     "metadata": {},
     "output_type": "display_data"
    },
    {
     "data": {
      "text/plain": [
       "'Training event 2 Epoch 26. Train loss: 0.05012202582205646. Accuracy: 0.98625. Grad_Norm: 1.0181994926079556.'"
      ]
     },
     "metadata": {},
     "output_type": "display_data"
    },
    {
     "data": {
      "text/plain": [
       "'Training event 2 Epoch 27. Train loss: 0.04857048211502843. Accuracy: 0.98655. Grad_Norm: 1.0141526324329044.'"
      ]
     },
     "metadata": {},
     "output_type": "display_data"
    },
    {
     "data": {
      "text/plain": [
       "'Training event 2 Epoch 28. Train loss: 0.047118831870611756. Accuracy: 0.9868166666666667. Grad_Norm: 1.0087712321378066.'"
      ]
     },
     "metadata": {},
     "output_type": "display_data"
    },
    {
     "data": {
      "text/plain": [
       "'Training event 2 Epoch 29. Train loss: 0.04575397264328785. Accuracy: 0.9870666666666666. Grad_Norm: 1.005173285183489.'"
      ]
     },
     "metadata": {},
     "output_type": "display_data"
    },
    {
     "data": {
      "text/plain": [
       "'Training event 3 Epoch 0. Train loss: 0.6272207187861204. Accuracy: 0.8506. Grad_Norm: 1.8757467530162921.'"
      ]
     },
     "metadata": {},
     "output_type": "display_data"
    },
    {
     "data": {
      "text/plain": [
       "'Training event 3 Epoch 1. Train loss: 0.31780727855861185. Accuracy: 0.9079166666666667. Grad_Norm: 1.8441370852950936.'"
      ]
     },
     "metadata": {},
     "output_type": "display_data"
    },
    {
     "data": {
      "text/plain": [
       "'Training event 3 Epoch 2. Train loss: 0.27969624402001503. Accuracy: 0.9193. Grad_Norm: 1.728300225783229.'"
      ]
     },
     "metadata": {},
     "output_type": "display_data"
    },
    {
     "data": {
      "text/plain": [
       "'Training event 3 Epoch 3. Train loss: 0.24822983365505935. Accuracy: 0.9291166666666667. Grad_Norm: 1.56936521449779.'"
      ]
     },
     "metadata": {},
     "output_type": "display_data"
    },
    {
     "data": {
      "text/plain": [
       "'Training event 3 Epoch 4. Train loss: 0.21820244445465506. Accuracy: 0.93865. Grad_Norm: 1.3997060837772939.'"
      ]
     },
     "metadata": {},
     "output_type": "display_data"
    },
    {
     "data": {
      "text/plain": [
       "'Training event 3 Epoch 5. Train loss: 0.1902760365884751. Accuracy: 0.94615. Grad_Norm: 1.2629810571990772.'"
      ]
     },
     "metadata": {},
     "output_type": "display_data"
    },
    {
     "data": {
      "text/plain": [
       "'Training event 3 Epoch 6. Train loss: 0.16591982244513928. Accuracy: 0.9531833333333334. Grad_Norm: 1.1677157972444763.'"
      ]
     },
     "metadata": {},
     "output_type": "display_data"
    },
    {
     "data": {
      "text/plain": [
       "'Training event 3 Epoch 7. Train loss: 0.14578093339689077. Accuracy: 0.95905. Grad_Norm: 1.103812529372797.'"
      ]
     },
     "metadata": {},
     "output_type": "display_data"
    },
    {
     "data": {
      "text/plain": [
       "'Training event 3 Epoch 8. Train loss: 0.1296602228679694. Accuracy: 0.9638833333333333. Grad_Norm: 1.0644236720542095.'"
      ]
     },
     "metadata": {},
     "output_type": "display_data"
    },
    {
     "data": {
      "text/plain": [
       "'Training event 3 Epoch 9. Train loss: 0.1168774852878414. Accuracy: 0.9674666666666667. Grad_Norm: 1.0412590447350727.'"
      ]
     },
     "metadata": {},
     "output_type": "display_data"
    },
    {
     "data": {
      "text/plain": [
       "'Training event 3 Epoch 10. Train loss: 0.10660487907705829. Accuracy: 0.9705. Grad_Norm: 1.0287077243649003.'"
      ]
     },
     "metadata": {},
     "output_type": "display_data"
    },
    {
     "data": {
      "text/plain": [
       "'Training event 3 Epoch 11. Train loss: 0.0982193029508926. Accuracy: 0.9729666666666666. Grad_Norm: 1.0221557703781667.'"
      ]
     },
     "metadata": {},
     "output_type": "display_data"
    },
    {
     "data": {
      "text/plain": [
       "'Training event 3 Epoch 12. Train loss: 0.09124571724329143. Accuracy: 0.97475. Grad_Norm: 1.0181235042819898.'"
      ]
     },
     "metadata": {},
     "output_type": "display_data"
    },
    {
     "data": {
      "text/plain": [
       "'Training event 3 Epoch 13. Train loss: 0.08534288591006771. Accuracy: 0.9764166666666667. Grad_Norm: 1.0156630028486386.'"
      ]
     },
     "metadata": {},
     "output_type": "display_data"
    },
    {
     "data": {
      "text/plain": [
       "'Training event 3 Epoch 14. Train loss: 0.08027241634204983. Accuracy: 0.9775166666666667. Grad_Norm: 1.0139221009993402.'"
      ]
     },
     "metadata": {},
     "output_type": "display_data"
    },
    {
     "data": {
      "text/plain": [
       "'Training event 3 Epoch 15. Train loss: 0.07586016402463429. Accuracy: 0.9787166666666667. Grad_Norm: 1.0124111463536698.'"
      ]
     },
     "metadata": {},
     "output_type": "display_data"
    },
    {
     "data": {
      "text/plain": [
       "'Training event 3 Epoch 16. Train loss: 0.07197413634043187. Accuracy: 0.9798833333333333. Grad_Norm: 1.0108023842521043.'"
      ]
     },
     "metadata": {},
     "output_type": "display_data"
    },
    {
     "data": {
      "text/plain": [
       "'Training event 3 Epoch 17. Train loss: 0.06851814099936746. Accuracy: 0.9807833333333333. Grad_Norm: 1.0089647593396398.'"
      ]
     },
     "metadata": {},
     "output_type": "display_data"
    },
    {
     "data": {
      "text/plain": [
       "'Training event 3 Epoch 18. Train loss: 0.06542063363129273. Accuracy: 0.9816666666666667. Grad_Norm: 1.0068573551060063.'"
      ]
     },
     "metadata": {},
     "output_type": "display_data"
    },
    {
     "data": {
      "text/plain": [
       "'Training event 3 Epoch 19. Train loss: 0.06262596846790984. Accuracy: 0.9825166666666667. Grad_Norm: 1.0044742825010946.'"
      ]
     },
     "metadata": {},
     "output_type": "display_data"
    },
    {
     "data": {
      "text/plain": [
       "'Training event 3 Epoch 20. Train loss: 0.0600827870273497. Accuracy: 0.9831833333333333. Grad_Norm: 1.002101765572156.'"
      ]
     },
     "metadata": {},
     "output_type": "display_data"
    },
    {
     "data": {
      "text/plain": [
       "'Training event 3 Epoch 21. Train loss: 0.05775714784162119. Accuracy: 0.9838166666666667. Grad_Norm: 0.9998343053931222.'"
      ]
     },
     "metadata": {},
     "output_type": "display_data"
    },
    {
     "data": {
      "text/plain": [
       "'Training event 3 Epoch 22. Train loss: 0.05561764705576934. Accuracy: 0.9844666666666667. Grad_Norm: 0.9974428106024984.'"
      ]
     },
     "metadata": {},
     "output_type": "display_data"
    },
    {
     "data": {
      "text/plain": [
       "'Training event 3 Epoch 23. Train loss: 0.05364003594615497. Accuracy: 0.9851. Grad_Norm: 0.9952805473743381.'"
      ]
     },
     "metadata": {},
     "output_type": "display_data"
    },
    {
     "data": {
      "text/plain": [
       "'Training event 3 Epoch 24. Train loss: 0.051806315483991054. Accuracy: 0.9857. Grad_Norm: 0.9932361116697622.'"
      ]
     },
     "metadata": {},
     "output_type": "display_data"
    },
    {
     "data": {
      "text/plain": [
       "'Training event 3 Epoch 25. Train loss: 0.050099538384820334. Accuracy: 0.9862333333333333. Grad_Norm: 0.9914775136746744.'"
      ]
     },
     "metadata": {},
     "output_type": "display_data"
    },
    {
     "data": {
      "text/plain": [
       "'Training event 3 Epoch 26. Train loss: 0.04850222471693996. Accuracy: 0.9866166666666667. Grad_Norm: 0.9894956858444681.'"
      ]
     },
     "metadata": {},
     "output_type": "display_data"
    },
    {
     "data": {
      "text/plain": [
       "'Training event 3 Epoch 27. Train loss: 0.046999951220932416. Accuracy: 0.98695. Grad_Norm: 0.9877560772559013.'"
      ]
     },
     "metadata": {},
     "output_type": "display_data"
    },
    {
     "data": {
      "text/plain": [
       "'Training event 3 Epoch 28. Train loss: 0.045581663376651704. Accuracy: 0.9873. Grad_Norm: 0.9861355420746095.'"
      ]
     },
     "metadata": {},
     "output_type": "display_data"
    },
    {
     "data": {
      "text/plain": [
       "'Training event 3 Epoch 29. Train loss: 0.04424574786971789. Accuracy: 0.9876166666666667. Grad_Norm: 0.9851375205720768.'"
      ]
     },
     "metadata": {},
     "output_type": "display_data"
    },
    {
     "data": {
      "text/plain": [
       "'Training event 4 Epoch 0. Train loss: 0.6290319177508354. Accuracy: 0.8549666666666667. Grad_Norm: 1.908196003802876.'"
      ]
     },
     "metadata": {},
     "output_type": "display_data"
    },
    {
     "data": {
      "text/plain": [
       "'Training event 4 Epoch 1. Train loss: 0.32743437089025973. Accuracy: 0.90465. Grad_Norm: 1.9433478185096278.'"
      ]
     },
     "metadata": {},
     "output_type": "display_data"
    },
    {
     "data": {
      "text/plain": [
       "'Training event 4 Epoch 2. Train loss: 0.2971170849725604. Accuracy: 0.9139833333333334. Grad_Norm: 1.865336451279441.'"
      ]
     },
     "metadata": {},
     "output_type": "display_data"
    },
    {
     "data": {
      "text/plain": [
       "'Training event 4 Epoch 3. Train loss: 0.2726887221168727. Accuracy: 0.9225666666666666. Grad_Norm: 1.7385761545126288.'"
      ]
     },
     "metadata": {},
     "output_type": "display_data"
    },
    {
     "data": {
      "text/plain": [
       "'Training event 4 Epoch 4. Train loss: 0.24741046328097582. Accuracy: 0.9302833333333334. Grad_Norm: 1.5799847518422823.'"
      ]
     },
     "metadata": {},
     "output_type": "display_data"
    },
    {
     "data": {
      "text/plain": [
       "'Training event 4 Epoch 5. Train loss: 0.22025771827436982. Accuracy: 0.9382833333333334. Grad_Norm: 1.4099685826106647.'"
      ]
     },
     "metadata": {},
     "output_type": "display_data"
    },
    {
     "data": {
      "text/plain": [
       "'Training event 4 Epoch 6. Train loss: 0.1928974686609581. Accuracy: 0.9461. Grad_Norm: 1.2692804944963876.'"
      ]
     },
     "metadata": {},
     "output_type": "display_data"
    },
    {
     "data": {
      "text/plain": [
       "'Training event 4 Epoch 7. Train loss: 0.16794221498072148. Accuracy: 0.9530333333333333. Grad_Norm: 1.1733656414709752.'"
      ]
     },
     "metadata": {},
     "output_type": "display_data"
    },
    {
     "data": {
      "text/plain": [
       "'Training event 4 Epoch 8. Train loss: 0.1467500993050635. Accuracy: 0.9593. Grad_Norm: 1.1111908141376672.'"
      ]
     },
     "metadata": {},
     "output_type": "display_data"
    },
    {
     "data": {
      "text/plain": [
       "'Training event 4 Epoch 9. Train loss: 0.12951414976967499. Accuracy: 0.9643. Grad_Norm: 1.0736743303301894.'"
      ]
     },
     "metadata": {},
     "output_type": "display_data"
    },
    {
     "data": {
      "text/plain": [
       "'Training event 4 Epoch 10. Train loss: 0.11574201573617757. Accuracy: 0.9685333333333334. Grad_Norm: 1.0434500888053893.'"
      ]
     },
     "metadata": {},
     "output_type": "display_data"
    },
    {
     "data": {
      "text/plain": [
       "'Training event 4 Epoch 11. Train loss: 0.10470879631116986. Accuracy: 0.9715833333333334. Grad_Norm: 1.0211152372989485.'"
      ]
     },
     "metadata": {},
     "output_type": "display_data"
    },
    {
     "data": {
      "text/plain": [
       "'Training event 4 Epoch 12. Train loss: 0.09579113250365481. Accuracy: 0.9738833333333333. Grad_Norm: 1.0019632920420467.'"
      ]
     },
     "metadata": {},
     "output_type": "display_data"
    },
    {
     "data": {
      "text/plain": [
       "'Training event 4 Epoch 13. Train loss: 0.08847195815760642. Accuracy: 0.9759166666666667. Grad_Norm: 0.9868049903438622.'"
      ]
     },
     "metadata": {},
     "output_type": "display_data"
    },
    {
     "data": {
      "text/plain": [
       "'Training event 4 Epoch 14. Train loss: 0.08236648772377521. Accuracy: 0.9772833333333333. Grad_Norm: 0.9746049587006165.'"
      ]
     },
     "metadata": {},
     "output_type": "display_data"
    },
    {
     "data": {
      "text/plain": [
       "'Training event 4 Epoch 15. Train loss: 0.07718731435132213. Accuracy: 0.9786166666666667. Grad_Norm: 0.9644383102277777.'"
      ]
     },
     "metadata": {},
     "output_type": "display_data"
    },
    {
     "data": {
      "text/plain": [
       "'Training event 4 Epoch 16. Train loss: 0.07273805332835764. Accuracy: 0.9801333333333333. Grad_Norm: 0.9561611661817804.'"
      ]
     },
     "metadata": {},
     "output_type": "display_data"
    },
    {
     "data": {
      "text/plain": [
       "'Training event 4 Epoch 17. Train loss: 0.06886933853034861. Accuracy: 0.9811833333333333. Grad_Norm: 0.9489503528917468.'"
      ]
     },
     "metadata": {},
     "output_type": "display_data"
    },
    {
     "data": {
      "text/plain": [
       "'Training event 4 Epoch 18. Train loss: 0.06546672956552356. Accuracy: 0.98205. Grad_Norm: 0.942525763628213.'"
      ]
     },
     "metadata": {},
     "output_type": "display_data"
    },
    {
     "data": {
      "text/plain": [
       "'Training event 4 Epoch 19. Train loss: 0.062441459613619375. Accuracy: 0.9827833333333333. Grad_Norm: 0.9371243082361289.'"
      ]
     },
     "metadata": {},
     "output_type": "display_data"
    },
    {
     "data": {
      "text/plain": [
       "'Training event 4 Epoch 20. Train loss: 0.05973013655981049. Accuracy: 0.9835833333333334. Grad_Norm: 0.9333656858391521.'"
      ]
     },
     "metadata": {},
     "output_type": "display_data"
    },
    {
     "data": {
      "text/plain": [
       "'Training event 4 Epoch 21. Train loss: 0.05728296359418891. Accuracy: 0.9842833333333333. Grad_Norm: 0.9298705138602766.'"
      ]
     },
     "metadata": {},
     "output_type": "display_data"
    },
    {
     "data": {
      "text/plain": [
       "'Training event 4 Epoch 22. Train loss: 0.05505648647202179. Accuracy: 0.9849. Grad_Norm: 0.9278744779024587.'"
      ]
     },
     "metadata": {},
     "output_type": "display_data"
    },
    {
     "data": {
      "text/plain": [
       "'Training event 4 Epoch 23. Train loss: 0.05302042353898287. Accuracy: 0.9852333333333333. Grad_Norm: 0.9263913361468638.'"
      ]
     },
     "metadata": {},
     "output_type": "display_data"
    },
    {
     "data": {
      "text/plain": [
       "'Training event 4 Epoch 24. Train loss: 0.05114739562908653. Accuracy: 0.9858666666666667. Grad_Norm: 0.9260669143765101.'"
      ]
     },
     "metadata": {},
     "output_type": "display_data"
    },
    {
     "data": {
      "text/plain": [
       "'Training event 4 Epoch 25. Train loss: 0.04941532059398014. Accuracy: 0.9861666666666666. Grad_Norm: 0.9267779873491537.'"
      ]
     },
     "metadata": {},
     "output_type": "display_data"
    },
    {
     "data": {
      "text/plain": [
       "'Training event 4 Epoch 26. Train loss: 0.04780712424078956. Accuracy: 0.9865666666666667. Grad_Norm: 0.9276104019972333.'"
      ]
     },
     "metadata": {},
     "output_type": "display_data"
    },
    {
     "data": {
      "text/plain": [
       "'Training event 4 Epoch 27. Train loss: 0.04630725730385166. Accuracy: 0.9869166666666667. Grad_Norm: 0.9283164105950055.'"
      ]
     },
     "metadata": {},
     "output_type": "display_data"
    },
    {
     "data": {
      "text/plain": [
       "'Training event 4 Epoch 28. Train loss: 0.04490350551728625. Accuracy: 0.9873833333333333. Grad_Norm: 0.9297936525524457.'"
      ]
     },
     "metadata": {},
     "output_type": "display_data"
    },
    {
     "data": {
      "text/plain": [
       "'Training event 4 Epoch 29. Train loss: 0.04358599465689622. Accuracy: 0.9878333333333333. Grad_Norm: 0.9320792462703469.'"
      ]
     },
     "metadata": {},
     "output_type": "display_data"
    },
    {
     "data": {
      "text/plain": [
       "'Training event 5 Epoch 0. Train loss: 0.6015682923048735. Accuracy: 0.8526666666666667. Grad_Norm: 1.8446880038300357.'"
      ]
     },
     "metadata": {},
     "output_type": "display_data"
    },
    {
     "data": {
      "text/plain": [
       "'Training event 5 Epoch 1. Train loss: 0.32603259524330497. Accuracy: 0.90505. Grad_Norm: 1.926733195927652.'"
      ]
     },
     "metadata": {},
     "output_type": "display_data"
    },
    {
     "data": {
      "text/plain": [
       "'Training event 5 Epoch 2. Train loss: 0.29323720751330257. Accuracy: 0.9146833333333333. Grad_Norm: 1.8802255034928521.'"
      ]
     },
     "metadata": {},
     "output_type": "display_data"
    },
    {
     "data": {
      "text/plain": [
       "'Training event 5 Epoch 3. Train loss: 0.2657551505044103. Accuracy: 0.9238666666666666. Grad_Norm: 1.7702928111991119.'"
      ]
     },
     "metadata": {},
     "output_type": "display_data"
    },
    {
     "data": {
      "text/plain": [
       "'Training event 5 Epoch 4. Train loss: 0.23825913545675576. Accuracy: 0.9324833333333333. Grad_Norm: 1.6178105522034572.'"
      ]
     },
     "metadata": {},
     "output_type": "display_data"
    },
    {
     "data": {
      "text/plain": [
       "'Training event 5 Epoch 5. Train loss: 0.21083216913044453. Accuracy: 0.9403333333333334. Grad_Norm: 1.4524797380149823.'"
      ]
     },
     "metadata": {},
     "output_type": "display_data"
    },
    {
     "data": {
      "text/plain": [
       "'Training event 5 Epoch 6. Train loss: 0.18521538712084293. Accuracy: 0.9471833333333334. Grad_Norm: 1.3145362072847249.'"
      ]
     },
     "metadata": {},
     "output_type": "display_data"
    },
    {
     "data": {
      "text/plain": [
       "'Training event 5 Epoch 7. Train loss: 0.16289809407200664. Accuracy: 0.9541. Grad_Norm: 1.2206547267828118.'"
      ]
     },
     "metadata": {},
     "output_type": "display_data"
    },
    {
     "data": {
      "text/plain": [
       "'Training event 5 Epoch 8. Train loss: 0.14437125745695084. Accuracy: 0.9595. Grad_Norm: 1.160656320312836.'"
      ]
     },
     "metadata": {},
     "output_type": "display_data"
    },
    {
     "data": {
      "text/plain": [
       "'Training event 5 Epoch 9. Train loss: 0.1293376417737454. Accuracy: 0.9637666666666667. Grad_Norm: 1.1228106812558873.'"
      ]
     },
     "metadata": {},
     "output_type": "display_data"
    },
    {
     "data": {
      "text/plain": [
       "'Training event 5 Epoch 10. Train loss: 0.11718523061135784. Accuracy: 0.9675166666666667. Grad_Norm: 1.1008944822758053.'"
      ]
     },
     "metadata": {},
     "output_type": "display_data"
    },
    {
     "data": {
      "text/plain": [
       "'Training event 5 Epoch 11. Train loss: 0.10726984303444624. Accuracy: 0.97055. Grad_Norm: 1.0882727139219128.'"
      ]
     },
     "metadata": {},
     "output_type": "display_data"
    },
    {
     "data": {
      "text/plain": [
       "'Training event 5 Epoch 12. Train loss: 0.0990618439950049. Accuracy: 0.9727166666666667. Grad_Norm: 1.0812136310923837.'"
      ]
     },
     "metadata": {},
     "output_type": "display_data"
    },
    {
     "data": {
      "text/plain": [
       "'Training event 5 Epoch 13. Train loss: 0.09215795380994678. Accuracy: 0.9750166666666666. Grad_Norm: 1.0768749479468978.'"
      ]
     },
     "metadata": {},
     "output_type": "display_data"
    },
    {
     "data": {
      "text/plain": [
       "'Training event 5 Epoch 14. Train loss: 0.08626047694124281. Accuracy: 0.9766. Grad_Norm: 1.0740565533552495.'"
      ]
     },
     "metadata": {},
     "output_type": "display_data"
    },
    {
     "data": {
      "text/plain": [
       "'Training event 5 Epoch 15. Train loss: 0.08115608782507479. Accuracy: 0.97795. Grad_Norm: 1.070917996743059.'"
      ]
     },
     "metadata": {},
     "output_type": "display_data"
    },
    {
     "data": {
      "text/plain": [
       "'Training event 5 Epoch 16. Train loss: 0.07668982344912365. Accuracy: 0.9792. Grad_Norm: 1.0691790468490558.'"
      ]
     },
     "metadata": {},
     "output_type": "display_data"
    },
    {
     "data": {
      "text/plain": [
       "'Training event 5 Epoch 17. Train loss: 0.07274847535649315. Accuracy: 0.9801. Grad_Norm: 1.065973269815465.'"
      ]
     },
     "metadata": {},
     "output_type": "display_data"
    },
    {
     "data": {
      "text/plain": [
       "'Training event 5 Epoch 18. Train loss: 0.06924029939109459. Accuracy: 0.9808166666666667. Grad_Norm: 1.0641176236781282.'"
      ]
     },
     "metadata": {},
     "output_type": "display_data"
    },
    {
     "data": {
      "text/plain": [
       "'Training event 5 Epoch 19. Train loss: 0.0660986404272262. Accuracy: 0.9815833333333334. Grad_Norm: 1.0617962415788598.'"
      ]
     },
     "metadata": {},
     "output_type": "display_data"
    },
    {
     "data": {
      "text/plain": [
       "'Training event 5 Epoch 20. Train loss: 0.0632636456633918. Accuracy: 0.9822333333333333. Grad_Norm: 1.0590935428822774.'"
      ]
     },
     "metadata": {},
     "output_type": "display_data"
    },
    {
     "data": {
      "text/plain": [
       "'Training event 5 Epoch 21. Train loss: 0.060686254889005795. Accuracy: 0.98295. Grad_Norm: 1.053392239190293.'"
      ]
     },
     "metadata": {},
     "output_type": "display_data"
    },
    {
     "data": {
      "text/plain": [
       "'Training event 5 Epoch 22. Train loss: 0.05833243219414726. Accuracy: 0.9836666666666667. Grad_Norm: 1.0510519387677926.'"
      ]
     },
     "metadata": {},
     "output_type": "display_data"
    },
    {
     "data": {
      "text/plain": [
       "'Training event 5 Epoch 23. Train loss: 0.05617110502207652. Accuracy: 0.9842166666666666. Grad_Norm: 1.0475836907414564.'"
      ]
     },
     "metadata": {},
     "output_type": "display_data"
    },
    {
     "data": {
      "text/plain": [
       "'Training event 5 Epoch 24. Train loss: 0.05417886570212431. Accuracy: 0.98495. Grad_Norm: 1.0443356516330344.'"
      ]
     },
     "metadata": {},
     "output_type": "display_data"
    },
    {
     "data": {
      "text/plain": [
       "'Training event 5 Epoch 25. Train loss: 0.05233426718274131. Accuracy: 0.9854666666666667. Grad_Norm: 1.0414334174753512.'"
      ]
     },
     "metadata": {},
     "output_type": "display_data"
    },
    {
     "data": {
      "text/plain": [
       "'Training event 5 Epoch 26. Train loss: 0.050619319850811736. Accuracy: 0.9858333333333333. Grad_Norm: 1.038937365268948.'"
      ]
     },
     "metadata": {},
     "output_type": "display_data"
    },
    {
     "data": {
      "text/plain": [
       "'Training event 5 Epoch 27. Train loss: 0.049017933290451766. Accuracy: 0.9862. Grad_Norm: 1.036228119975707.'"
      ]
     },
     "metadata": {},
     "output_type": "display_data"
    },
    {
     "data": {
      "text/plain": [
       "'Training event 5 Epoch 28. Train loss: 0.047516483264043924. Accuracy: 0.9866. Grad_Norm: 1.0334453599986948.'"
      ]
     },
     "metadata": {},
     "output_type": "display_data"
    },
    {
     "data": {
      "text/plain": [
       "'Training event 5 Epoch 29. Train loss: 0.046102590914815667. Accuracy: 0.9870333333333333. Grad_Norm: 1.0311607983283455.'"
      ]
     },
     "metadata": {},
     "output_type": "display_data"
    },
    {
     "data": {
      "text/plain": [
       "'Training event 6 Epoch 0. Train loss: 0.6014973458275199. Accuracy: 0.8548833333333333. Grad_Norm: 1.990539582973781.'"
      ]
     },
     "metadata": {},
     "output_type": "display_data"
    },
    {
     "data": {
      "text/plain": [
       "'Training event 6 Epoch 1. Train loss: 0.3205824063718319. Accuracy: 0.9065833333333333. Grad_Norm: 1.9845472713522887.'"
      ]
     },
     "metadata": {},
     "output_type": "display_data"
    },
    {
     "data": {
      "text/plain": [
       "'Training event 6 Epoch 2. Train loss: 0.2866764933709055. Accuracy: 0.9171166666666667. Grad_Norm: 1.8707476830715473.'"
      ]
     },
     "metadata": {},
     "output_type": "display_data"
    },
    {
     "data": {
      "text/plain": [
       "'Training event 6 Epoch 3. Train loss: 0.2588231280539185. Accuracy: 0.9266. Grad_Norm: 1.7192299162842957.'"
      ]
     },
     "metadata": {},
     "output_type": "display_data"
    },
    {
     "data": {
      "text/plain": [
       "'Training event 6 Epoch 4. Train loss: 0.23192390909418464. Accuracy: 0.9346833333333333. Grad_Norm: 1.5512091790827436.'"
      ]
     },
     "metadata": {},
     "output_type": "display_data"
    },
    {
     "data": {
      "text/plain": [
       "'Training event 6 Epoch 5. Train loss: 0.2057026385050267. Accuracy: 0.9417833333333333. Grad_Norm: 1.3881630811003343.'"
      ]
     },
     "metadata": {},
     "output_type": "display_data"
    },
    {
     "data": {
      "text/plain": [
       "'Training event 6 Epoch 6. Train loss: 0.18133686777669936. Accuracy: 0.9489333333333333. Grad_Norm: 1.2630441591311232.'"
      ]
     },
     "metadata": {},
     "output_type": "display_data"
    },
    {
     "data": {
      "text/plain": [
       "'Training event 6 Epoch 7. Train loss: 0.1599179122550413. Accuracy: 0.9552666666666667. Grad_Norm: 1.1818453193265703.'"
      ]
     },
     "metadata": {},
     "output_type": "display_data"
    },
    {
     "data": {
      "text/plain": [
       "'Training event 6 Epoch 8. Train loss: 0.1418907136982307. Accuracy: 0.9602333333333334. Grad_Norm: 1.1327872072723304.'"
      ]
     },
     "metadata": {},
     "output_type": "display_data"
    },
    {
     "data": {
      "text/plain": [
       "'Training event 6 Epoch 9. Train loss: 0.1271137369866483. Accuracy: 0.9645166666666667. Grad_Norm: 1.1010123818380375.'"
      ]
     },
     "metadata": {},
     "output_type": "display_data"
    },
    {
     "data": {
      "text/plain": [
       "'Training event 6 Epoch 10. Train loss: 0.11512265474302694. Accuracy: 0.9684833333333334. Grad_Norm: 1.084049600854351.'"
      ]
     },
     "metadata": {},
     "output_type": "display_data"
    },
    {
     "data": {
      "text/plain": [
       "'Training event 6 Epoch 11. Train loss: 0.1053663805150427. Accuracy: 0.9713333333333334. Grad_Norm: 1.0743982657767541.'"
      ]
     },
     "metadata": {},
     "output_type": "display_data"
    },
    {
     "data": {
      "text/plain": [
       "'Training event 6 Epoch 12. Train loss: 0.09735208318335936. Accuracy: 0.9733333333333334. Grad_Norm: 1.0691625646405463.'"
      ]
     },
     "metadata": {},
     "output_type": "display_data"
    },
    {
     "data": {
      "text/plain": [
       "'Training event 6 Epoch 13. Train loss: 0.0906862543313764. Accuracy: 0.9749. Grad_Norm: 1.0646435225245414.'"
      ]
     },
     "metadata": {},
     "output_type": "display_data"
    },
    {
     "data": {
      "text/plain": [
       "'Training event 6 Epoch 14. Train loss: 0.085066842304077. Accuracy: 0.9765833333333334. Grad_Norm: 1.067108179129162.'"
      ]
     },
     "metadata": {},
     "output_type": "display_data"
    },
    {
     "data": {
      "text/plain": [
       "'Training event 6 Epoch 15. Train loss: 0.08026049035368488. Accuracy: 0.9779333333333333. Grad_Norm: 1.0635946234683995.'"
      ]
     },
     "metadata": {},
     "output_type": "display_data"
    },
    {
     "data": {
      "text/plain": [
       "'Training event 6 Epoch 16. Train loss: 0.07609828571323306. Accuracy: 0.9788666666666667. Grad_Norm: 1.064794220297678.'"
      ]
     },
     "metadata": {},
     "output_type": "display_data"
    },
    {
     "data": {
      "text/plain": [
       "'Training event 6 Epoch 17. Train loss: 0.07245008939527907. Accuracy: 0.9800166666666666. Grad_Norm: 1.0652644076992543.'"
      ]
     },
     "metadata": {},
     "output_type": "display_data"
    },
    {
     "data": {
      "text/plain": [
       "'Training event 6 Epoch 18. Train loss: 0.06921819782932288. Accuracy: 0.98075. Grad_Norm: 1.064761633107748.'"
      ]
     },
     "metadata": {},
     "output_type": "display_data"
    },
    {
     "data": {
      "text/plain": [
       "'Training event 6 Epoch 19. Train loss: 0.06632641509408131. Accuracy: 0.98155. Grad_Norm: 1.0655525628222862.'"
      ]
     },
     "metadata": {},
     "output_type": "display_data"
    },
    {
     "data": {
      "text/plain": [
       "'Training event 6 Epoch 20. Train loss: 0.06371573477634229. Accuracy: 0.9823166666666666. Grad_Norm: 1.0642555772531894.'"
      ]
     },
     "metadata": {},
     "output_type": "display_data"
    },
    {
     "data": {
      "text/plain": [
       "'Training event 6 Epoch 21. Train loss: 0.061339735480723905. Accuracy: 0.9830333333333333. Grad_Norm: 1.062753615298804.'"
      ]
     },
     "metadata": {},
     "output_type": "display_data"
    },
    {
     "data": {
      "text/plain": [
       "'Training event 6 Epoch 22. Train loss: 0.05916386571712792. Accuracy: 0.9836666666666667. Grad_Norm: 1.0605967283384332.'"
      ]
     },
     "metadata": {},
     "output_type": "display_data"
    },
    {
     "data": {
      "text/plain": [
       "'Training event 6 Epoch 23. Train loss: 0.05715852205292322. Accuracy: 0.9842166666666666. Grad_Norm: 1.0577464780776518.'"
      ]
     },
     "metadata": {},
     "output_type": "display_data"
    },
    {
     "data": {
      "text/plain": [
       "'Training event 6 Epoch 24. Train loss: 0.055303348822053525. Accuracy: 0.9848833333333333. Grad_Norm: 1.0562839763634306.'"
      ]
     },
     "metadata": {},
     "output_type": "display_data"
    },
    {
     "data": {
      "text/plain": [
       "'Training event 6 Epoch 25. Train loss: 0.05357625879580155. Accuracy: 0.9852. Grad_Norm: 1.0540761690919183.'"
      ]
     },
     "metadata": {},
     "output_type": "display_data"
    },
    {
     "data": {
      "text/plain": [
       "'Training event 6 Epoch 26. Train loss: 0.05196271594963037. Accuracy: 0.9857666666666667. Grad_Norm: 1.0514083021430947.'"
      ]
     },
     "metadata": {},
     "output_type": "display_data"
    },
    {
     "data": {
      "text/plain": [
       "'Training event 6 Epoch 27. Train loss: 0.05044811956293415. Accuracy: 0.98625. Grad_Norm: 1.0491315832789105.'"
      ]
     },
     "metadata": {},
     "output_type": "display_data"
    },
    {
     "data": {
      "text/plain": [
       "'Training event 6 Epoch 28. Train loss: 0.04902165646781213. Accuracy: 0.9866166666666667. Grad_Norm: 1.0465493136060868.'"
      ]
     },
     "metadata": {},
     "output_type": "display_data"
    },
    {
     "data": {
      "text/plain": [
       "'Training event 6 Epoch 29. Train loss: 0.04767376099422108. Accuracy: 0.9868833333333333. Grad_Norm: 1.0440615178471309.'"
      ]
     },
     "metadata": {},
     "output_type": "display_data"
    },
    {
     "data": {
      "text/plain": [
       "'Training event 7 Epoch 0. Train loss: 0.6877191464789212. Accuracy: 0.83635. Grad_Norm: 1.9882461530107114.'"
      ]
     },
     "metadata": {},
     "output_type": "display_data"
    },
    {
     "data": {
      "text/plain": [
       "'Training event 7 Epoch 1. Train loss: 0.3290954978018999. Accuracy: 0.90405. Grad_Norm: 2.0041374474309053.'"
      ]
     },
     "metadata": {},
     "output_type": "display_data"
    },
    {
     "data": {
      "text/plain": [
       "'Training event 7 Epoch 2. Train loss: 0.29554181337356566. Accuracy: 0.9141833333333333. Grad_Norm: 1.9301241327431156.'"
      ]
     },
     "metadata": {},
     "output_type": "display_data"
    },
    {
     "data": {
      "text/plain": [
       "'Training event 7 Epoch 3. Train loss: 0.2685689236223698. Accuracy: 0.9230833333333334. Grad_Norm: 1.8061199111799409.'"
      ]
     },
     "metadata": {},
     "output_type": "display_data"
    },
    {
     "data": {
      "text/plain": [
       "'Training event 7 Epoch 4. Train loss: 0.24155810399912298. Accuracy: 0.9312833333333334. Grad_Norm: 1.643150227336494.'"
      ]
     },
     "metadata": {},
     "output_type": "display_data"
    },
    {
     "data": {
      "text/plain": [
       "'Training event 7 Epoch 5. Train loss: 0.21420125694014133. Accuracy: 0.9393833333333333. Grad_Norm: 1.4682466502958877.'"
      ]
     },
     "metadata": {},
     "output_type": "display_data"
    },
    {
     "data": {
      "text/plain": [
       "'Training event 7 Epoch 6. Train loss: 0.18823067730292678. Accuracy: 0.9464166666666667. Grad_Norm: 1.321330237188937.'"
      ]
     },
     "metadata": {},
     "output_type": "display_data"
    },
    {
     "data": {
      "text/plain": [
       "'Training event 7 Epoch 7. Train loss: 0.1652780665596947. Accuracy: 0.9529333333333333. Grad_Norm: 1.22363188691068.'"
      ]
     },
     "metadata": {},
     "output_type": "display_data"
    },
    {
     "data": {
      "text/plain": [
       "'Training event 7 Epoch 8. Train loss: 0.14598629588726908. Accuracy: 0.9588166666666667. Grad_Norm: 1.1656345083772088.'"
      ]
     },
     "metadata": {},
     "output_type": "display_data"
    },
    {
     "data": {
      "text/plain": [
       "'Training event 7 Epoch 9. Train loss: 0.13024667986668648. Accuracy: 0.9636666666666667. Grad_Norm: 1.1322856604938119.'"
      ]
     },
     "metadata": {},
     "output_type": "display_data"
    },
    {
     "data": {
      "text/plain": [
       "'Training event 7 Epoch 10. Train loss: 0.11752285411814228. Accuracy: 0.96725. Grad_Norm: 1.1164126375212071.'"
      ]
     },
     "metadata": {},
     "output_type": "display_data"
    },
    {
     "data": {
      "text/plain": [
       "'Training event 7 Epoch 11. Train loss: 0.10718938361620531. Accuracy: 0.9701166666666666. Grad_Norm: 1.1117152921524347.'"
      ]
     },
     "metadata": {},
     "output_type": "display_data"
    },
    {
     "data": {
      "text/plain": [
       "'Training event 7 Epoch 12. Train loss: 0.09870061559835448. Accuracy: 0.9723166666666667. Grad_Norm: 1.112506209612936.'"
      ]
     },
     "metadata": {},
     "output_type": "display_data"
    },
    {
     "data": {
      "text/plain": [
       "'Training event 7 Epoch 13. Train loss: 0.09162995451362804. Accuracy: 0.97435. Grad_Norm: 1.1163044486737608.'"
      ]
     },
     "metadata": {},
     "output_type": "display_data"
    },
    {
     "data": {
      "text/plain": [
       "'Training event 7 Epoch 14. Train loss: 0.08565591276157647. Accuracy: 0.9763833333333334. Grad_Norm: 1.121020422554041.'"
      ]
     },
     "metadata": {},
     "output_type": "display_data"
    },
    {
     "data": {
      "text/plain": [
       "'Training event 7 Epoch 15. Train loss: 0.08054299285169692. Accuracy: 0.97775. Grad_Norm: 1.1251083584080808.'"
      ]
     },
     "metadata": {},
     "output_type": "display_data"
    },
    {
     "data": {
      "text/plain": [
       "'Training event 7 Epoch 16. Train loss: 0.07610770285129548. Accuracy: 0.97895. Grad_Norm: 1.1284131675147004.'"
      ]
     },
     "metadata": {},
     "output_type": "display_data"
    },
    {
     "data": {
      "text/plain": [
       "'Training event 7 Epoch 17. Train loss: 0.07221361490432172. Accuracy: 0.97995. Grad_Norm: 1.130041556797288.'"
      ]
     },
     "metadata": {},
     "output_type": "display_data"
    },
    {
     "data": {
      "text/plain": [
       "'Training event 7 Epoch 18. Train loss: 0.06876108885626309. Accuracy: 0.9808333333333333. Grad_Norm: 1.1341701752457456.'"
      ]
     },
     "metadata": {},
     "output_type": "display_data"
    },
    {
     "data": {
      "text/plain": [
       "'Training event 7 Epoch 19. Train loss: 0.06567175404750741. Accuracy: 0.9815666666666667. Grad_Norm: 1.134093150026902.'"
      ]
     },
     "metadata": {},
     "output_type": "display_data"
    },
    {
     "data": {
      "text/plain": [
       "'Training event 7 Epoch 20. Train loss: 0.0628833527979441. Accuracy: 0.9824666666666667. Grad_Norm: 1.133193358517743.'"
      ]
     },
     "metadata": {},
     "output_type": "display_data"
    },
    {
     "data": {
      "text/plain": [
       "'Training event 7 Epoch 21. Train loss: 0.060353306949837135. Accuracy: 0.9832666666666666. Grad_Norm: 1.1312159699544773.'"
      ]
     },
     "metadata": {},
     "output_type": "display_data"
    },
    {
     "data": {
      "text/plain": [
       "'Training event 7 Epoch 22. Train loss: 0.05804267523577437. Accuracy: 0.984. Grad_Norm: 1.1297861909626858.'"
      ]
     },
     "metadata": {},
     "output_type": "display_data"
    },
    {
     "data": {
      "text/plain": [
       "'Training event 7 Epoch 23. Train loss: 0.05591986832907423. Accuracy: 0.9845333333333334. Grad_Norm: 1.1276200320117218.'"
      ]
     },
     "metadata": {},
     "output_type": "display_data"
    },
    {
     "data": {
      "text/plain": [
       "'Training event 7 Epoch 24. Train loss: 0.05395977872773074. Accuracy: 0.9851333333333333. Grad_Norm: 1.1261864369003678.'"
      ]
     },
     "metadata": {},
     "output_type": "display_data"
    },
    {
     "data": {
      "text/plain": [
       "'Training event 7 Epoch 25. Train loss: 0.05214334277785383. Accuracy: 0.9857. Grad_Norm: 1.124406554459776.'"
      ]
     },
     "metadata": {},
     "output_type": "display_data"
    },
    {
     "data": {
      "text/plain": [
       "'Training event 7 Epoch 26. Train loss: 0.05045253038755618. Accuracy: 0.9859833333333333. Grad_Norm: 1.1226586065954238.'"
      ]
     },
     "metadata": {},
     "output_type": "display_data"
    },
    {
     "data": {
      "text/plain": [
       "'Training event 7 Epoch 27. Train loss: 0.04887613542261533. Accuracy: 0.9865166666666667. Grad_Norm: 1.118243492008034.'"
      ]
     },
     "metadata": {},
     "output_type": "display_data"
    },
    {
     "data": {
      "text/plain": [
       "'Training event 7 Epoch 28. Train loss: 0.04739080499042757. Accuracy: 0.9868833333333333. Grad_Norm: 1.1195467851756182.'"
      ]
     },
     "metadata": {},
     "output_type": "display_data"
    },
    {
     "data": {
      "text/plain": [
       "'Training event 7 Epoch 29. Train loss: 0.04600098904746119. Accuracy: 0.9872833333333333. Grad_Norm: 1.1184391736500403.'"
      ]
     },
     "metadata": {},
     "output_type": "display_data"
    }
   ],
   "source": [
    "df = pandas.DataFrame(columns=['epoch', 'loss', 'accuracy', 'grad_norm'])\n",
    "\n",
    "epoch_tracker = dict()\n",
    "last_weight = dict()\n",
    "\n",
    "weight_df = pandas.DataFrame()\n",
    "layer_weight_df = pandas.DataFrame()\n",
    "eight = 8\n",
    "\n",
    "for training_event in range(eight):\n",
    "    nmist1 = NMISTNetwork1()\n",
    "    \n",
    "    loss_fn = torch.nn.CrossEntropyLoss()\n",
    "    \n",
    "    lr = 1.5e-2\n",
    "    batch_size=150\n",
    "    max_epochs = 30\n",
    "    #max_epochs = 5\n",
    "    \n",
    "    training_dl = DataLoader(training_ds, batch_size=batch_size)\n",
    "    test_dl = DataLoader(test_ds, batch_size=batch_size)\n",
    "    optimizer = torch.optim.SGD(nmist1.parameters(), lr=lr)\n",
    "    \n",
    "    epoch_df=pandas.DataFrame()\n",
    "    layer_df = pandas.DataFrame()\n",
    "    \n",
    "    for epoch in range(max_epochs):\n",
    "        loss, accuracy, grad_norm, weights, last_layer_wht = nmist_train_loop(training_dl, nmist1, loss_fn, optimizer, epoch)\n",
    "        if training_event ==0:\n",
    "            row = pandas.DataFrame([[epoch, loss, accuracy, grad_norm]], columns=['epoch','loss','accuracy', 'grad_norm'])\n",
    "            if df.empty:\n",
    "                df = row\n",
    "            else:\n",
    "                df = pandas.concat([df, row], ignore_index=True)\n",
    "        \n",
    "        with torch.no_grad():\n",
    "            if epoch%3==0:\n",
    "                epoch_df = pandas.concat((epoch_df, pandas.DataFrame(weights.detach().cpu().numpy()).T))\n",
    "                layer_df = pandas.concat((layer_df, pandas.DataFrame(last_layer_wht.detach().cpu().numpy()).T))\n",
    "                \n",
    "                \"\"\"if epoch in epoch_tracker:\n",
    "                    epoch_tracker[epoch] = torch.concat((epoch_tracker[epoch], weights.unsqueeze(-1).T))\n",
    "                else:\n",
    "                    epoch_tracker[epoch] = weights.unsqueeze(-1).T\n",
    "                    \n",
    "                if epoch in last_weight:\n",
    "                    last_weight[epoch] = torch.concat((last_weight[epoch], last_layer_wht.unsqueeze(-1).T))\n",
    "                else:\n",
    "                    last_weight[epoch] = last_layer_wht.unsqueeze(-1).T\"\"\"\n",
    "                \n",
    "            display(f\"Training event {training_event} Epoch {epoch}. Train loss: {loss}. Accuracy: {accuracy}. Grad_Norm: {grad_norm}.\")\n",
    "    weight_df = pandas.concat((weight_df, epoch_df))\n",
    "    layer_weight_df = pandas.concat((layer_weight_df, layer_df))\n",
    "                                                   \n",
    "        \n",
    "    "
   ]
  },
  {
   "cell_type": "code",
   "execution_count": 7,
   "id": "34acc1fe-fbad-4375-85eb-d6c4f7fbaf59",
   "metadata": {
    "tags": []
   },
   "outputs": [
    {
     "data": {
      "text/plain": [
       "(           x         y  epoch  iteration\n",
       " 0  -0.318119  0.456390      0          0\n",
       " 1  -0.364998  0.497525      3          0\n",
       " 2  -0.410951  0.538137      6          0\n",
       " 3  -0.459227  0.578600      9          0\n",
       " 4  -0.498865  0.612469     12          0\n",
       " ..       ...       ...    ...        ...\n",
       " 75 -2.130494 -0.644679     15          7\n",
       " 76 -2.218007 -0.675248     18          7\n",
       " 77 -2.291676 -0.699614     21          7\n",
       " 78 -2.355535 -0.719881     24          7\n",
       " 79 -2.412187 -0.737316     27          7\n",
       " \n",
       " [80 rows x 4 columns],\n",
       "            x         y  epoch  iteration\n",
       " 0   1.078545  1.281306      0          0\n",
       " 1   1.169169  1.374613      3          0\n",
       " 2   1.254438  1.467205      6          0\n",
       " 3   1.319402  1.547379      9          0\n",
       " 4   1.363364  1.605947     12          0\n",
       " ..       ...       ...    ...        ...\n",
       " 75  0.096941 -4.742828     15          7\n",
       " 76  0.099498 -4.837626     18          7\n",
       " 77  0.101827 -4.914970     21          7\n",
       " 78  0.103878 -4.980137     24          7\n",
       " 79  0.105549 -5.036551     27          7\n",
       " \n",
       " [80 rows x 4 columns])"
      ]
     },
     "execution_count": 7,
     "metadata": {},
     "output_type": "execute_result"
    }
   ],
   "source": [
    "from sklearn.decomposition import PCA\n",
    "pca = PCA(n_components=2) \n",
    "reduced_dimension = pandas.DataFrame(pca.fit_transform(weight_df.to_numpy()), columns = ['x','y'] )\n",
    "reduced_dimension\n",
    "\n",
    "epoch_num = [x for x in range(max_epochs) if x%3 == 0] * eight\n",
    "reduced_dimension['epoch'] = epoch_num\n",
    "reduced_dimension['iteration'] = [y for y in range(eight) for x in [e for e in range(max_epochs) if e%3==0]]\n",
    "\n",
    "reduced_dimension\n",
    "\n",
    "layer_reduced_dimension = pandas.DataFrame(pca.fit_transform(layer_weight_df.to_numpy()), columns = ['x','y'] )\n",
    "layer_reduced_dimension['epoch'] = epoch_num\n",
    "layer_reduced_dimension['iteration'] = [y for y in range(eight) for x in [e for e in range(max_epochs) if e%3==0]]\n",
    "layer_reduced_dimension, reduced_dimension"
   ]
  },
  {
   "cell_type": "code",
   "execution_count": 8,
   "id": "3a7084d4-8155-4a88-89bc-c8d3dbe68307",
   "metadata": {
    "tags": []
   },
   "outputs": [
    {
     "data": {
      "image/png": "[encoded data removed]",
      "text/plain": [
       "<Figure size 640x480 with 1 Axes>"
      ]
     },
     "metadata": {},
     "output_type": "display_data"
    },
    {
     "data": {
      "image/png": "[encoded data removed]",
      "text/plain": [
       "<Figure size 640x480 with 1 Axes>"
      ]
     },
     "metadata": {},
     "output_type": "display_data"
    }
   ],
   "source": [
    "fig, ax = plt.subplots()\n",
    "for key in reduced_dimension.iteration.unique():\n",
    "    dots = reduced_dimension[reduced_dimension.iteration == key]\n",
    "    ax.scatter(dots.x, dots.y, label=key)\n",
    "ax.legend()\n",
    "ax.grid(True)\n",
    "plt.title('Entire model - Weights PCA')\n",
    "\n",
    "fig2, ax2 = plt.subplots()\n",
    "for key in layer_reduced_dimension.iteration.unique():\n",
    "    dots = layer_reduced_dimension[layer_reduced_dimension.iteration == key]\n",
    "    ax2.scatter(dots.x, dots.y, label=key)\n",
    "ax2.legend()\n",
    "ax2.grid(True)\n",
    "plt.title('One Layer - Weights PCA')\n",
    "plt.show()\n"
   ]
  },
  {
   "cell_type": "code",
   "execution_count": 9,
   "id": "deeca378-75ac-4b2a-82d1-d5bc8639f717",
   "metadata": {
    "tags": []
   },
   "outputs": [
    {
     "name": "stdout",
     "output_type": "stream",
     "text": [
      "\n"
     ]
    }
   ],
   "source": [
    "#torch.concat( (torch.stack((weights, weights)), weights.unsqueeze(-1).T))\n",
    "#with torch.no_grad():\n",
    "#    display(weights.unsqueeze(-1).T.shape)\n",
    "#fig, ax = plt.subplots()\n",
    "#for key in epoch_tracker:\n",
    "#    with torch.no_grad():\n",
    "#        U,S,V = torch.pca_lowrank(epoch_tracker[key], center=True, q=2)\n",
    "#        S=S.detach().cpu().numpy()\n",
    "#        ax.scatter(S[0], S[1], label=key)\n",
    "#ax.legend()\n",
    "#ax.grid(True)\n",
    "#plt.show()\n",
    "\n",
    "\"\"\"fig2, ax2 = plt.subplots()\n",
    "for key in last_weight:\n",
    "    with torch.no_grad():\n",
    "        U,S,V = torch.pca_lowrank(last_weight[key], center=True, q=2)\n",
    "        S=S.detach().cpu().numpy()\n",
    "        ax2.scatter(S[0], S[1], label=key)\n",
    "ax2.legend()\n",
    "ax2.grid(True)\n",
    "plt.show()\"\"\"\n",
    "print()"
   ]
  },
  {
   "cell_type": "code",
   "execution_count": 10,
   "id": "a92f8671-645b-4144-b4bc-7e045099a790",
   "metadata": {
    "tags": []
   },
   "outputs": [
    {
     "data": {
      "text/plain": [
       "array([<Axes: xlabel='epoch'>, <Axes: xlabel='epoch'>], dtype=object)"
      ]
     },
     "execution_count": 10,
     "metadata": {},
     "output_type": "execute_result"
    },
    {
     "data": {
      "image/png": "[encoded data removed]",
      "text/plain": [
       "<Figure size 640x480 with 2 Axes>"
      ]
     },
     "metadata": {},
     "output_type": "display_data"
    }
   ],
   "source": [
    "df.plot(x='epoch', y=['loss','grad_norm'], subplots=True)"
   ]
  },
  {
   "cell_type": "code",
   "execution_count": 11,
   "id": "7a36d260-6c31-4439-9b61-bfafc0ca5a67",
   "metadata": {
    "tags": []
   },
   "outputs": [
    {
     "data": {
      "text/html": [
       "<div>\n",
       "<style scoped>\n",
       "    .dataframe tbody tr th:only-of-type {\n",
       "        vertical-align: middle;\n",
       "    }\n",
       "\n",
       "    .dataframe tbody tr th {\n",
       "        vertical-align: top;\n",
       "    }\n",
       "\n",
       "    .dataframe thead th {\n",
       "        text-align: right;\n",
       "    }\n",
       "</style>\n",
       "<table border=\"1\" class=\"dataframe\">\n",
       "  <thead>\n",
       "    <tr style=\"text-align: right;\">\n",
       "      <th></th>\n",
       "      <th>epoch</th>\n",
       "      <th>loss</th>\n",
       "      <th>accuracy</th>\n",
       "      <th>grad_norm</th>\n",
       "    </tr>\n",
       "  </thead>\n",
       "  <tbody>\n",
       "    <tr>\n",
       "      <th>0</th>\n",
       "      <td>0</td>\n",
       "      <td>0.619634</td>\n",
       "      <td>0.849983</td>\n",
       "      <td>2.009155</td>\n",
       "    </tr>\n",
       "    <tr>\n",
       "      <th>1</th>\n",
       "      <td>1</td>\n",
       "      <td>0.326672</td>\n",
       "      <td>0.905117</td>\n",
       "      <td>1.999735</td>\n",
       "    </tr>\n",
       "    <tr>\n",
       "      <th>2</th>\n",
       "      <td>2</td>\n",
       "      <td>0.295036</td>\n",
       "      <td>0.914533</td>\n",
       "      <td>1.898671</td>\n",
       "    </tr>\n",
       "    <tr>\n",
       "      <th>3</th>\n",
       "      <td>3</td>\n",
       "      <td>0.270053</td>\n",
       "      <td>0.922950</td>\n",
       "      <td>1.749965</td>\n",
       "    </tr>\n",
       "    <tr>\n",
       "      <th>4</th>\n",
       "      <td>4</td>\n",
       "      <td>0.245594</td>\n",
       "      <td>0.929867</td>\n",
       "      <td>1.570215</td>\n",
       "    </tr>\n",
       "    <tr>\n",
       "      <th>5</th>\n",
       "      <td>5</td>\n",
       "      <td>0.220561</td>\n",
       "      <td>0.937733</td>\n",
       "      <td>1.388779</td>\n",
       "    </tr>\n",
       "    <tr>\n",
       "      <th>6</th>\n",
       "      <td>6</td>\n",
       "      <td>0.195704</td>\n",
       "      <td>0.944483</td>\n",
       "      <td>1.235482</td>\n",
       "    </tr>\n",
       "    <tr>\n",
       "      <th>7</th>\n",
       "      <td>7</td>\n",
       "      <td>0.172455</td>\n",
       "      <td>0.951017</td>\n",
       "      <td>1.125150</td>\n",
       "    </tr>\n",
       "    <tr>\n",
       "      <th>8</th>\n",
       "      <td>8</td>\n",
       "      <td>0.152067</td>\n",
       "      <td>0.957650</td>\n",
       "      <td>1.053483</td>\n",
       "    </tr>\n",
       "    <tr>\n",
       "      <th>9</th>\n",
       "      <td>9</td>\n",
       "      <td>0.135047</td>\n",
       "      <td>0.962733</td>\n",
       "      <td>1.008469</td>\n",
       "    </tr>\n",
       "    <tr>\n",
       "      <th>10</th>\n",
       "      <td>10</td>\n",
       "      <td>0.121196</td>\n",
       "      <td>0.966483</td>\n",
       "      <td>0.981802</td>\n",
       "    </tr>\n",
       "    <tr>\n",
       "      <th>11</th>\n",
       "      <td>11</td>\n",
       "      <td>0.109995</td>\n",
       "      <td>0.969533</td>\n",
       "      <td>0.967350</td>\n",
       "    </tr>\n",
       "    <tr>\n",
       "      <th>12</th>\n",
       "      <td>12</td>\n",
       "      <td>0.100891</td>\n",
       "      <td>0.972083</td>\n",
       "      <td>0.961107</td>\n",
       "    </tr>\n",
       "    <tr>\n",
       "      <th>13</th>\n",
       "      <td>13</td>\n",
       "      <td>0.093403</td>\n",
       "      <td>0.974117</td>\n",
       "      <td>0.960002</td>\n",
       "    </tr>\n",
       "    <tr>\n",
       "      <th>14</th>\n",
       "      <td>14</td>\n",
       "      <td>0.087149</td>\n",
       "      <td>0.975817</td>\n",
       "      <td>0.961240</td>\n",
       "    </tr>\n",
       "    <tr>\n",
       "      <th>15</th>\n",
       "      <td>15</td>\n",
       "      <td>0.081846</td>\n",
       "      <td>0.977100</td>\n",
       "      <td>0.964296</td>\n",
       "    </tr>\n",
       "    <tr>\n",
       "      <th>16</th>\n",
       "      <td>16</td>\n",
       "      <td>0.077291</td>\n",
       "      <td>0.978417</td>\n",
       "      <td>0.967236</td>\n",
       "    </tr>\n",
       "    <tr>\n",
       "      <th>17</th>\n",
       "      <td>17</td>\n",
       "      <td>0.073328</td>\n",
       "      <td>0.979717</td>\n",
       "      <td>0.970101</td>\n",
       "    </tr>\n",
       "    <tr>\n",
       "      <th>18</th>\n",
       "      <td>18</td>\n",
       "      <td>0.069842</td>\n",
       "      <td>0.980650</td>\n",
       "      <td>0.972746</td>\n",
       "    </tr>\n",
       "    <tr>\n",
       "      <th>19</th>\n",
       "      <td>19</td>\n",
       "      <td>0.066744</td>\n",
       "      <td>0.981567</td>\n",
       "      <td>0.974224</td>\n",
       "    </tr>\n",
       "    <tr>\n",
       "      <th>20</th>\n",
       "      <td>20</td>\n",
       "      <td>0.063966</td>\n",
       "      <td>0.982167</td>\n",
       "      <td>0.975970</td>\n",
       "    </tr>\n",
       "    <tr>\n",
       "      <th>21</th>\n",
       "      <td>21</td>\n",
       "      <td>0.061454</td>\n",
       "      <td>0.982967</td>\n",
       "      <td>0.976461</td>\n",
       "    </tr>\n",
       "    <tr>\n",
       "      <th>22</th>\n",
       "      <td>22</td>\n",
       "      <td>0.059169</td>\n",
       "      <td>0.983267</td>\n",
       "      <td>0.977360</td>\n",
       "    </tr>\n",
       "    <tr>\n",
       "      <th>23</th>\n",
       "      <td>23</td>\n",
       "      <td>0.057077</td>\n",
       "      <td>0.983917</td>\n",
       "      <td>0.977448</td>\n",
       "    </tr>\n",
       "    <tr>\n",
       "      <th>24</th>\n",
       "      <td>24</td>\n",
       "      <td>0.055147</td>\n",
       "      <td>0.984483</td>\n",
       "      <td>0.976659</td>\n",
       "    </tr>\n",
       "    <tr>\n",
       "      <th>25</th>\n",
       "      <td>25</td>\n",
       "      <td>0.053357</td>\n",
       "      <td>0.984917</td>\n",
       "      <td>0.976868</td>\n",
       "    </tr>\n",
       "    <tr>\n",
       "      <th>26</th>\n",
       "      <td>26</td>\n",
       "      <td>0.051689</td>\n",
       "      <td>0.985383</td>\n",
       "      <td>0.976929</td>\n",
       "    </tr>\n",
       "    <tr>\n",
       "      <th>27</th>\n",
       "      <td>27</td>\n",
       "      <td>0.050128</td>\n",
       "      <td>0.985783</td>\n",
       "      <td>0.966477</td>\n",
       "    </tr>\n",
       "    <tr>\n",
       "      <th>28</th>\n",
       "      <td>28</td>\n",
       "      <td>0.048664</td>\n",
       "      <td>0.986200</td>\n",
       "      <td>0.967320</td>\n",
       "    </tr>\n",
       "    <tr>\n",
       "      <th>29</th>\n",
       "      <td>29</td>\n",
       "      <td>0.047285</td>\n",
       "      <td>0.986667</td>\n",
       "      <td>0.967837</td>\n",
       "    </tr>\n",
       "  </tbody>\n",
       "</table>\n",
       "</div>"
      ],
      "text/plain": [
       "    epoch      loss  accuracy  grad_norm\n",
       "0       0  0.619634  0.849983   2.009155\n",
       "1       1  0.326672  0.905117   1.999735\n",
       "2       2  0.295036  0.914533   1.898671\n",
       "3       3  0.270053  0.922950   1.749965\n",
       "4       4  0.245594  0.929867   1.570215\n",
       "5       5  0.220561  0.937733   1.388779\n",
       "6       6  0.195704  0.944483   1.235482\n",
       "7       7  0.172455  0.951017   1.125150\n",
       "8       8  0.152067  0.957650   1.053483\n",
       "9       9  0.135047  0.962733   1.008469\n",
       "10     10  0.121196  0.966483   0.981802\n",
       "11     11  0.109995  0.969533   0.967350\n",
       "12     12  0.100891  0.972083   0.961107\n",
       "13     13  0.093403  0.974117   0.960002\n",
       "14     14  0.087149  0.975817   0.961240\n",
       "15     15  0.081846  0.977100   0.964296\n",
       "16     16  0.077291  0.978417   0.967236\n",
       "17     17  0.073328  0.979717   0.970101\n",
       "18     18  0.069842  0.980650   0.972746\n",
       "19     19  0.066744  0.981567   0.974224\n",
       "20     20  0.063966  0.982167   0.975970\n",
       "21     21  0.061454  0.982967   0.976461\n",
       "22     22  0.059169  0.983267   0.977360\n",
       "23     23  0.057077  0.983917   0.977448\n",
       "24     24  0.055147  0.984483   0.976659\n",
       "25     25  0.053357  0.984917   0.976868\n",
       "26     26  0.051689  0.985383   0.976929\n",
       "27     27  0.050128  0.985783   0.966477\n",
       "28     28  0.048664  0.986200   0.967320\n",
       "29     29  0.047285  0.986667   0.967837"
      ]
     },
     "execution_count": 11,
     "metadata": {},
     "output_type": "execute_result"
    }
   ],
   "source": [
    "df"
   ]
  },
  {
   "cell_type": "code",
   "execution_count": null,
   "id": "327584b5-acae-45bd-b53a-16b2364b2ff6",
   "metadata": {},
   "outputs": [],
   "source": []
  }
 ],
 "metadata": {
  "kernelspec": {
   "display_name": "myenv",
   "language": "python",
   "name": "myenv"
  },
  "language_info": {
   "codemirror_mode": {
    "name": "ipython",
    "version": 3
   },
   "file_extension": ".py",
   "mimetype": "text/x-python",
   "name": "python",
   "nbconvert_exporter": "python",
   "pygments_lexer": "ipython3",
   "version": "3.11.5"
  }
 },
 "nbformat": 4,
 "nbformat_minor": 5
}
